{
 "cells": [
  {
   "cell_type": "markdown",
   "id": "0",
   "metadata": {},
   "source": [
    "# Third-party models\n"
   ]
  },
  {
   "cell_type": "code",
   "execution_count": null,
   "id": "1",
   "metadata": {},
   "outputs": [],
   "source": [
    "from typing import Literal\n",
    "\n",
    "import numpy as np\n",
    "\n",
    "from pepme.core import compute_metrics, show_table\n",
    "from pepme.metrics.fid import FID\n",
    "from pepme.metrics.id import ID\n",
    "from pepme.third_party import ThirdPartyModel"
   ]
  },
  {
   "cell_type": "markdown",
   "id": "2",
   "metadata": {},
   "source": [
    "Some models of interest are not available through e.g., PyPI or Huggingface - only the git repository may be available. Here we show how to run such models in pepme.\n"
   ]
  },
  {
   "cell_type": "markdown",
   "id": "3",
   "metadata": {},
   "source": [
    "An external model is compatible with pepme if satisfies the following three requirements:\n",
    "\n",
    "- Repository is accessible using `git clone`, e.g. a public repository.\n",
    "- Repository dependencies are installable using `pip install .`, e.g., by setup.py or pyproject.toml.\n",
    "- Contains a function with signature `Callable[[list[str], ...], np.ndarray]` where the first parameter is called `sequences`.\n"
   ]
  },
  {
   "cell_type": "markdown",
   "id": "4",
   "metadata": {},
   "source": [
    "Let's use a toy model in a github repository satisfying all three requirements. To do so, we need to define the function entry point, repository url and save directory.\n"
   ]
  },
  {
   "cell_type": "code",
   "execution_count": null,
   "id": "5",
   "metadata": {},
   "outputs": [],
   "source": [
    "thirdparty_model = ThirdPartyModel(\n",
    "    entry_point=\"pepmem.model:embed\",\n",
    "    repo_url=\"git+https://github.com/RasmusML/pepme-models\",\n",
    "    save_dir=\"../plugins/pepme-models/main\",\n",
    "    # Path to an enviroments python executable.\n",
    "    # If none, a venv is created using the current python executable.\n",
    "    python_bin=None,\n",
    "    # Branch other than 'main'\n",
    "    # branch=\"embed-1\",\n",
    ")"
   ]
  },
  {
   "cell_type": "markdown",
   "id": "6",
   "metadata": {},
   "source": [
    "`ThirdPartyModel` clones the model repository, creates a virtual enviroment (venv) (if `python_bin=None`) and installs the dependencies using `pip install .`.\n",
    "\n",
    "Assuming everything went well, let's now compute a metric using this embedding model.\n"
   ]
  },
  {
   "cell_type": "code",
   "execution_count": null,
   "id": "7",
   "metadata": {},
   "outputs": [
    {
     "data": {
      "text/plain": [
       "array([[44.,  8., 52., 32.],\n",
       "       [55., 10., 65., 40.]])"
      ]
     },
     "execution_count": null,
     "metadata": {},
     "output_type": "execute_result"
    }
   ],
   "source": [
    "def embedder(seq: list[str]) -> np.ndarray:\n",
    "    return thirdparty_model(seq, batch_size=32)\n",
    "\n",
    "\n",
    "embedder([\"MKQW\", \"RKSPL\"])"
   ]
  },
  {
   "cell_type": "code",
   "execution_count": null,
   "id": "8",
   "metadata": {},
   "outputs": [
    {
     "name": "stderr",
     "output_type": "stream",
     "text": [
      "100%|██████████| 3/3 [00:00<00:00, 14.07it/s, data=Random, metric=FID]  \n"
     ]
    },
    {
     "data": {
      "text/html": [
       "<style type=\"text/css\">\n",
       "#T_89a33 th.col_heading {\n",
       "  text-align: center;\n",
       "}\n",
       "#T_89a33 td {\n",
       "  border-right: 1px solid #ccc;\n",
       "}\n",
       "#T_89a33 th.row_heading {\n",
       "  border-right: 1px solid #ccc;\n",
       "}\n",
       "#T_89a33_row1_col0 {\n",
       "  text-decoration: underline;\n",
       "  font-weight: bold;\n",
       "}\n",
       "#T_89a33_row2_col0 {\n",
       "  background-color: #68d6bc;\n",
       "  font-weight: bold;\n",
       "}\n",
       "</style>\n",
       "<table id=\"T_89a33\">\n",
       "  <thead>\n",
       "    <tr>\n",
       "      <th class=\"blank level0\" >&nbsp;</th>\n",
       "      <th id=\"T_89a33_level0_col0\" class=\"col_heading level0 col0\" >FID↓</th>\n",
       "    </tr>\n",
       "  </thead>\n",
       "  <tbody>\n",
       "    <tr>\n",
       "      <th id=\"T_89a33_level0_row0\" class=\"row_heading level0 row0\" >HydrAMP</th>\n",
       "      <td id=\"T_89a33_row0_col0\" class=\"data row0 col0\" >215.60</td>\n",
       "    </tr>\n",
       "    <tr>\n",
       "      <th id=\"T_89a33_level0_row1\" class=\"row_heading level0 row1\" >hyformer</th>\n",
       "      <td id=\"T_89a33_row1_col0\" class=\"data row1 col0\" >81.67</td>\n",
       "    </tr>\n",
       "    <tr>\n",
       "      <th id=\"T_89a33_level0_row2\" class=\"row_heading level0 row2\" >Random</th>\n",
       "      <td id=\"T_89a33_row2_col0\" class=\"data row2 col0\" >0.00</td>\n",
       "    </tr>\n",
       "  </tbody>\n",
       "</table>\n"
      ],
      "text/plain": [
       "<pandas.io.formats.style.Styler at 0x10ea9cb50>"
      ]
     },
     "execution_count": null,
     "metadata": {},
     "output_type": "execute_result"
    }
   ],
   "source": [
    "sequences = {\n",
    "    \"HydrAMP\": [\"MMRK\", \"RKSPL\", \"RRLSK\", \"RRLSK\"],\n",
    "    \"hyformer\": [\"MKQW\", \"RKSPL\"],\n",
    "    \"Random\": [\"KKKKK\", \"PLQ\", \"RKSPL\"],\n",
    "}\n",
    "\n",
    "metrics = [FID(reference=sequences[\"Random\"], embedder=embedder)]\n",
    "df = compute_metrics(sequences, metrics)\n",
    "\n",
    "show_table(df)"
   ]
  },
  {
   "cell_type": "markdown",
   "id": "9",
   "metadata": {},
   "source": [
    "## AMPlify\n"
   ]
  },
  {
   "cell_type": "markdown",
   "id": "10",
   "metadata": {},
   "source": [
    "Let's also use AMPlify which is an AMP classifier.\n"
   ]
  },
  {
   "cell_type": "code",
   "execution_count": null,
   "id": "11",
   "metadata": {},
   "outputs": [],
   "source": [
    "thirdparty_model = ThirdPartyModel(\n",
    "    entry_point=\"predict:predict\",\n",
    "    repo_url=\"git+https://github.com/RasmusML/pepme-models\",\n",
    "    save_dir=\"../plugins/pepme-models/amplify\",\n",
    "    python_bin=\"/opt/anaconda3/envs/amplify/bin/python\",\n",
    "    branch=\"amplify\",\n",
    ")"
   ]
  },
  {
   "cell_type": "markdown",
   "id": "12",
   "metadata": {},
   "source": [
    "Assuming everything went well, let's now compute a metric using this embedding model.\n"
   ]
  },
  {
   "cell_type": "code",
   "execution_count": null,
   "id": "13",
   "metadata": {},
   "outputs": [
    {
     "data": {
      "text/plain": [
       "array([0.01271812, 0.7690338 ], dtype=float32)"
      ]
     },
     "execution_count": null,
     "metadata": {},
     "output_type": "execute_result"
    }
   ],
   "source": [
    "def discriminator(\n",
    "    seq: list[str],\n",
    "    model_type: Literal[\"balanced\", \"imbalanced\"] = \"balanced\",\n",
    "    n_ensembles: int = 5,\n",
    ") -> np.ndarray:\n",
    "    return thirdparty_model(seq, model_type=model_type, n_ensembles=n_ensembles)\n",
    "\n",
    "\n",
    "discriminator([\"MKQW\", \"RKSPL\"], model_type=\"imbalanced\", n_ensembles=1)"
   ]
  },
  {
   "cell_type": "code",
   "execution_count": null,
   "id": "14",
   "metadata": {},
   "outputs": [
    {
     "name": "stderr",
     "output_type": "stream",
     "text": [
      "100%|██████████| 3/3 [00:14<00:00,  4.97s/it, data=Random, metric=p_AMP (AMPlify)]  \n"
     ]
    },
    {
     "data": {
      "text/html": [
       "<style type=\"text/css\">\n",
       "#T_f4b5d th.col_heading {\n",
       "  text-align: center;\n",
       "}\n",
       "#T_f4b5d td {\n",
       "  border-right: 1px solid #ccc;\n",
       "}\n",
       "#T_f4b5d th.row_heading {\n",
       "  border-right: 1px solid #ccc;\n",
       "}\n",
       "#T_f4b5d_row0_col0 {\n",
       "  text-decoration: underline;\n",
       "  font-weight: bold;\n",
       "}\n",
       "#T_f4b5d_row2_col0 {\n",
       "  background-color: #68d6bc;\n",
       "  font-weight: bold;\n",
       "}\n",
       "</style>\n",
       "<table id=\"T_f4b5d\">\n",
       "  <thead>\n",
       "    <tr>\n",
       "      <th class=\"blank level0\" >&nbsp;</th>\n",
       "      <th id=\"T_f4b5d_level0_col0\" class=\"col_heading level0 col0\" >p_AMP (AMPlify)↑</th>\n",
       "    </tr>\n",
       "  </thead>\n",
       "  <tbody>\n",
       "    <tr>\n",
       "      <th id=\"T_f4b5d_level0_row0\" class=\"row_heading level0 row0\" >HydrAMP</th>\n",
       "      <td id=\"T_f4b5d_row0_col0\" class=\"data row0 col0\" >0.26±0.17</td>\n",
       "    </tr>\n",
       "    <tr>\n",
       "      <th id=\"T_f4b5d_level0_row1\" class=\"row_heading level0 row1\" >hyformer</th>\n",
       "      <td id=\"T_f4b5d_row1_col0\" class=\"data row1 col0\" >0.24±0.24</td>\n",
       "    </tr>\n",
       "    <tr>\n",
       "      <th id=\"T_f4b5d_level0_row2\" class=\"row_heading level0 row2\" >Random</th>\n",
       "      <td id=\"T_f4b5d_row2_col0\" class=\"data row2 col0\" >0.40±0.30</td>\n",
       "    </tr>\n",
       "  </tbody>\n",
       "</table>\n"
      ],
      "text/plain": [
       "<pandas.io.formats.style.Styler at 0x10ea4b340>"
      ]
     },
     "execution_count": null,
     "metadata": {},
     "output_type": "execute_result"
    }
   ],
   "source": [
    "sequences = {\n",
    "    \"HydrAMP\": [\"MMRK\", \"RKSPL\", \"RRLSK\", \"RRLSK\"],\n",
    "    \"hyformer\": [\"MKQW\", \"RKSPL\"],\n",
    "    \"Random\": [\"KKKKK\", \"PLQ\", \"RKSPL\"],\n",
    "}\n",
    "\n",
    "metrics = [ID(predictor=discriminator, name=\"p_AMP (AMPlify)\", objective=\"maximize\")]\n",
    "df = compute_metrics(sequences, metrics)\n",
    "\n",
    "show_table(df)"
   ]
  }
 ],
 "metadata": {
  "kernelspec": {
   "display_name": ".venv",
   "language": "python",
   "name": "python3"
  },
  "language_info": {
   "codemirror_mode": {
    "name": "ipython",
    "version": 3
   },
   "file_extension": ".py",
   "mimetype": "text/x-python",
   "name": "python",
   "nbconvert_exporter": "python",
   "pygments_lexer": "ipython3",
   "version": "3.10.18"
  }
 },
 "nbformat": 4,
 "nbformat_minor": 5
}
