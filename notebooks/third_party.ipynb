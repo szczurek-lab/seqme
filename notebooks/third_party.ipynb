{
 "cells": [
  {
   "cell_type": "markdown",
   "id": "0",
   "metadata": {},
   "source": [
    "# Third-party models\n"
   ]
  },
  {
   "cell_type": "code",
   "execution_count": null,
   "id": "1",
   "metadata": {},
   "outputs": [],
   "source": [
    "import numpy as np\n",
    "\n",
    "from pepme.core import (\n",
    "    compute_metrics,\n",
    "    show_table,\n",
    ")\n",
    "from pepme.metrics.fid import FID\n",
    "from pepme.third_party import ThirdPartyModel"
   ]
  },
  {
   "cell_type": "markdown",
   "id": "2",
   "metadata": {},
   "source": [
    "Some models of interest are not available through e.g., PyPI or Huggingface - only the git repository may be available. Here we show how to run such models in pepme.\n"
   ]
  },
  {
   "cell_type": "markdown",
   "id": "3",
   "metadata": {},
   "source": [
    "An external model is compatible with pepme if satisfies the following three criteria:\n",
    "\n",
    "- Git repository is public\n",
    "- Defines a dependency file which `pip install` can detect.\n",
    "- Contains a function with signature `Callable[[list[str], ...], np.ndarray]`\n"
   ]
  },
  {
   "cell_type": "markdown",
   "id": "4",
   "metadata": {},
   "source": [
    "Let's show this through a toy repository which satisfies these three criteria.\n"
   ]
  },
  {
   "cell_type": "code",
   "execution_count": null,
   "id": "5",
   "metadata": {},
   "outputs": [],
   "source": [
    "thirdparty_model = ThirdPartyModel(\n",
    "    entry_point=\"pepmem.model:embed\",\n",
    "    repo_url=\"git+https://github.com/RasmusML/pepme-models\",\n",
    "    save_dir=\"../plugins/pepme-models/embed-1\",\n",
    "    python_bin=None,  # Path to an enviroments python executable. If none, a venv is created.\n",
    "    branch=\"embed-1\",\n",
    ")"
   ]
  },
  {
   "cell_type": "markdown",
   "id": "6",
   "metadata": {},
   "source": [
    "`ThirdPartyModel` clones the model repository, creates a virtual enviroment (venv) (if `python_bin=None`) and installs the dependencies using `pip install .`.\n",
    "\n",
    "Assuming everything went well, let's now compute a metric using this embedding model."
   ]
  },
  {
   "cell_type": "code",
   "execution_count": null,
   "id": "7",
   "metadata": {},
   "outputs": [
    {
     "data": {
      "text/plain": [
       "array([[22.        ,  4.        , 26.        , 16.        ],\n",
       "       [24.59674775,  4.47213595, 29.06888371, 17.88854382]])"
      ]
     },
     "execution_count": null,
     "metadata": {},
     "output_type": "execute_result"
    }
   ],
   "source": [
    "def embedder(seq: list[str]) -> np.ndarray:\n",
    "    return thirdparty_model(seq, batch_size=32)\n",
    "\n",
    "\n",
    "embedder([\"MKQW\", \"RKSPL\"])"
   ]
  },
  {
   "cell_type": "code",
   "execution_count": null,
   "id": "8",
   "metadata": {},
   "outputs": [
    {
     "name": "stderr",
     "output_type": "stream",
     "text": [
      "100%|██████████| 3/3 [00:00<00:00, 16.69it/s, data=Random, metric=FID]  \n"
     ]
    },
    {
     "data": {
      "text/html": [
       "<style type=\"text/css\">\n",
       "#T_96084 th.col_heading {\n",
       "  text-align: center;\n",
       "}\n",
       "#T_96084 td {\n",
       "  border-right: 1px solid #ccc;\n",
       "}\n",
       "#T_96084 th.row_heading {\n",
       "  border-right: 1px solid #ccc;\n",
       "}\n",
       "#T_96084_row1_col0 {\n",
       "  text-decoration: underline;\n",
       "  font-weight: bold;\n",
       "}\n",
       "#T_96084_row2_col0 {\n",
       "  background-color: #68d6bc;\n",
       "  font-weight: bold;\n",
       "}\n",
       "</style>\n",
       "<table id=\"T_96084\">\n",
       "  <thead>\n",
       "    <tr>\n",
       "      <th class=\"blank level0\" >&nbsp;</th>\n",
       "      <th id=\"T_96084_level0_col0\" class=\"col_heading level0 col0\" >FID↓</th>\n",
       "    </tr>\n",
       "  </thead>\n",
       "  <tbody>\n",
       "    <tr>\n",
       "      <th id=\"T_96084_level0_row0\" class=\"row_heading level0 row0\" >HydrAMP</th>\n",
       "      <td id=\"T_96084_row0_col0\" class=\"data row0 col0\" >-</td>\n",
       "    </tr>\n",
       "    <tr>\n",
       "      <th id=\"T_96084_level0_row1\" class=\"row_heading level0 row1\" >hyformer</th>\n",
       "      <td id=\"T_96084_row1_col0\" class=\"data row1 col0\" >6.40</td>\n",
       "    </tr>\n",
       "    <tr>\n",
       "      <th id=\"T_96084_level0_row2\" class=\"row_heading level0 row2\" >Random</th>\n",
       "      <td id=\"T_96084_row2_col0\" class=\"data row2 col0\" >0.00</td>\n",
       "    </tr>\n",
       "  </tbody>\n",
       "</table>\n"
      ],
      "text/plain": [
       "<pandas.io.formats.style.Styler at 0x10bd8e9b0>"
      ]
     },
     "execution_count": null,
     "metadata": {},
     "output_type": "execute_result"
    }
   ],
   "source": [
    "sequences = {\n",
    "    \"HydrAMP\": [\"MMRK\", \"RKSPL\", \"RRLSK\", \"RRLSK\"],\n",
    "    \"hyformer\": [\"MKQW\", \"RKSPL\"],\n",
    "    \"Random\": [\"KKKKK\", \"PLQ\", \"RKSPL\"],\n",
    "}\n",
    "\n",
    "metrics = [FID(reference=sequences[\"Random\"], embedder=embedder)]\n",
    "df = compute_metrics(sequences, metrics)\n",
    "\n",
    "show_table(df, decimals=2)"
   ]
  }
 ],
 "metadata": {
  "kernelspec": {
   "display_name": ".venv",
   "language": "python",
   "name": "python3"
  },
  "language_info": {
   "codemirror_mode": {
    "name": "ipython",
    "version": 3
   },
   "file_extension": ".py",
   "mimetype": "text/x-python",
   "name": "python",
   "nbconvert_exporter": "python",
   "pygments_lexer": "ipython3",
   "version": "3.10.18"
  }
 },
 "nbformat": 4,
 "nbformat_minor": 5
}
