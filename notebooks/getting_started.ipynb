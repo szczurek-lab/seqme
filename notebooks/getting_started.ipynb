{
 "cells": [
  {
   "cell_type": "markdown",
   "metadata": {},
   "source": [
    "# Getting started\n"
   ]
  },
  {
   "cell_type": "markdown",
   "metadata": {},
   "source": [
    "First the imports.\n"
   ]
  },
  {
   "cell_type": "code",
   "execution_count": null,
   "metadata": {},
   "outputs": [],
   "source": [
    "from typing import Literal\n",
    "\n",
    "from pepme.base import (\n",
    "    Metric,\n",
    "    MetricResult,\n",
    "    barplot,\n",
    "    combine_metric_dataframes,\n",
    "    compute_metrics,\n",
    "    random_subset,\n",
    "    read_fasta_file,\n",
    "    show_table,\n",
    "    write_to_fasta_file,\n",
    ")\n",
    "from pepme.gravy import Gravy\n",
    "from pepme.novelty import Novelty"
   ]
  },
  {
   "cell_type": "markdown",
   "metadata": {},
   "source": [
    "## Basics\n"
   ]
  },
  {
   "cell_type": "markdown",
   "metadata": {},
   "source": [
    "Let's define the sequences to use and the metrics to compute. Some sequences will be loaded from fasta files, others are hard-coded.\n"
   ]
  },
  {
   "cell_type": "markdown",
   "metadata": {},
   "source": [
    "First let's write a fasta file with random sequences to disk.\n"
   ]
  },
  {
   "cell_type": "code",
   "execution_count": null,
   "metadata": {},
   "outputs": [],
   "source": [
    "RANDOM_SEQUENCES_PATH = \"../data/random.fasta\""
   ]
  },
  {
   "cell_type": "code",
   "execution_count": null,
   "metadata": {},
   "outputs": [],
   "source": [
    "random_sequences = [\"KKKKK\", \"PLUQ\", \"RKSPL\"]\n",
    "\n",
    "write_to_fasta_file(random_sequences, RANDOM_SEQUENCES_PATH)"
   ]
  },
  {
   "cell_type": "markdown",
   "metadata": {},
   "source": [
    "UniProt contains a lot of sequences. To speed-up the metric computations, we will only use a (random) subset of the UniProt sequences.\n"
   ]
  },
  {
   "cell_type": "code",
   "execution_count": null,
   "metadata": {},
   "outputs": [
    {
     "data": {
      "application/vnd.jupyter.widget-view+json": {
       "model_id": "56c2fccba7d04fe2b09dcf31c4b558b5",
       "version_major": 2,
       "version_minor": 0
      },
      "text/plain": [
       "Output()"
      ]
     },
     "metadata": {},
     "output_type": "display_data"
    },
    {
     "data": {
      "text/html": [
       "<pre style=\"white-space:pre;overflow-x:auto;line-height:normal;font-family:Menlo,'DejaVu Sans Mono',consolas,'Courier New',monospace\"></pre>\n"
      ],
      "text/plain": []
     },
     "metadata": {},
     "output_type": "display_data"
    }
   ],
   "source": [
    "sequences = {\n",
    "    \"Random\": read_fasta_file(RANDOM_SEQUENCES_PATH),\n",
    "    \"UniProt\": random_subset([\"KKWQ\", \"RKSPL\", \"RASD\"], n_samples=2, seed=42),\n",
    "    \"HydrAMP\": [\"MMRK\", \"RKSPL\", \"RRLSK\"],\n",
    "    \"hyformer\": [\"MKQW\", \"RKSPL\"],\n",
    "}\n",
    "\n",
    "metrics = [\n",
    "    Novelty(reference=[\"KKW\", \"RKSPL\"]),\n",
    "    Novelty(reference=sequences[\"Random\"], reference_name=\"Random\"),\n",
    "    Gravy(),\n",
    "]\n",
    "\n",
    "df = compute_metrics(sequences, metrics)"
   ]
  },
  {
   "cell_type": "markdown",
   "metadata": {},
   "source": [
    "Let's look at the results.\n"
   ]
  },
  {
   "cell_type": "code",
   "execution_count": null,
   "metadata": {},
   "outputs": [
    {
     "data": {
      "text/html": [
       "<div>\n",
       "<style scoped>\n",
       "    .dataframe tbody tr th:only-of-type {\n",
       "        vertical-align: middle;\n",
       "    }\n",
       "\n",
       "    .dataframe tbody tr th {\n",
       "        vertical-align: top;\n",
       "    }\n",
       "\n",
       "    .dataframe thead tr th {\n",
       "        text-align: left;\n",
       "    }\n",
       "</style>\n",
       "<table border=\"1\" class=\"dataframe\">\n",
       "  <thead>\n",
       "    <tr>\n",
       "      <th></th>\n",
       "      <th colspan=\"2\" halign=\"left\">Novelty</th>\n",
       "      <th colspan=\"2\" halign=\"left\">Novelty (Random)</th>\n",
       "      <th colspan=\"2\" halign=\"left\">Gravy</th>\n",
       "    </tr>\n",
       "    <tr>\n",
       "      <th></th>\n",
       "      <th>value</th>\n",
       "      <th>deviation</th>\n",
       "      <th>value</th>\n",
       "      <th>deviation</th>\n",
       "      <th>value</th>\n",
       "      <th>deviation</th>\n",
       "    </tr>\n",
       "  </thead>\n",
       "  <tbody>\n",
       "    <tr>\n",
       "      <th>Random</th>\n",
       "      <td>0.666667</td>\n",
       "      <td>NaN</td>\n",
       "      <td>0.000000</td>\n",
       "      <td>NaN</td>\n",
       "      <td>0.466112</td>\n",
       "      <td>0.410875</td>\n",
       "    </tr>\n",
       "    <tr>\n",
       "      <th>UniProt</th>\n",
       "      <td>1.000000</td>\n",
       "      <td>NaN</td>\n",
       "      <td>1.000000</td>\n",
       "      <td>NaN</td>\n",
       "      <td>0.249478</td>\n",
       "      <td>0.249871</td>\n",
       "    </tr>\n",
       "    <tr>\n",
       "      <th>HydrAMP</th>\n",
       "      <td>0.666667</td>\n",
       "      <td>NaN</td>\n",
       "      <td>0.666667</td>\n",
       "      <td>NaN</td>\n",
       "      <td>0.499498</td>\n",
       "      <td>0.081649</td>\n",
       "    </tr>\n",
       "    <tr>\n",
       "      <th>hyformer</th>\n",
       "      <td>0.500000</td>\n",
       "      <td>NaN</td>\n",
       "      <td>0.500000</td>\n",
       "      <td>NaN</td>\n",
       "      <td>0.324480</td>\n",
       "      <td>0.075057</td>\n",
       "    </tr>\n",
       "  </tbody>\n",
       "</table>\n",
       "</div>"
      ],
      "text/plain": [
       "           Novelty           Novelty (Random)               Gravy          \n",
       "             value deviation            value deviation     value deviation\n",
       "Random    0.666667       NaN         0.000000       NaN  0.466112  0.410875\n",
       "UniProt   1.000000       NaN         1.000000       NaN  0.249478  0.249871\n",
       "HydrAMP   0.666667       NaN         0.666667       NaN  0.499498  0.081649\n",
       "hyformer  0.500000       NaN         0.500000       NaN  0.324480  0.075057"
      ]
     },
     "execution_count": null,
     "metadata": {},
     "output_type": "execute_result"
    }
   ],
   "source": [
    "df"
   ]
  },
  {
   "cell_type": "markdown",
   "metadata": {},
   "source": [
    "... let's make it nicer to look at.\n"
   ]
  },
  {
   "cell_type": "code",
   "execution_count": null,
   "metadata": {},
   "outputs": [
    {
     "data": {
      "text/html": [
       "<style type=\"text/css\">\n",
       "#T_aee7d th.col_heading {\n",
       "  text-align: center;\n",
       "}\n",
       "#T_aee7d td {\n",
       "  border-right: 1px solid #ccc;\n",
       "}\n",
       "#T_aee7d th.row_heading {\n",
       "  border-right: 1px solid #ccc;\n",
       "}\n",
       "#T_aee7d_row0_col0, #T_aee7d_row2_col0, #T_aee7d_row2_col1 {\n",
       "  text-decoration: underline;\n",
       "  font-weight: bold;\n",
       "}\n",
       "#T_aee7d_row1_col0, #T_aee7d_row1_col1 {\n",
       "  background-color: #68d6bc;\n",
       "  font-weight: bold;\n",
       "}\n",
       "</style>\n",
       "<table id=\"T_aee7d\">\n",
       "  <thead>\n",
       "    <tr>\n",
       "      <th class=\"blank level0\" >&nbsp;</th>\n",
       "      <th id=\"T_aee7d_level0_col0\" class=\"col_heading level0 col0\" >Novelty↑</th>\n",
       "      <th id=\"T_aee7d_level0_col1\" class=\"col_heading level0 col1\" >Novelty (Random)↑</th>\n",
       "      <th id=\"T_aee7d_level0_col2\" class=\"col_heading level0 col2\" >Gravy</th>\n",
       "    </tr>\n",
       "  </thead>\n",
       "  <tbody>\n",
       "    <tr>\n",
       "      <th id=\"T_aee7d_level0_row0\" class=\"row_heading level0 row0\" >Random</th>\n",
       "      <td id=\"T_aee7d_row0_col0\" class=\"data row0 col0\" >0.67</td>\n",
       "      <td id=\"T_aee7d_row0_col1\" class=\"data row0 col1\" >0.00</td>\n",
       "      <td id=\"T_aee7d_row0_col2\" class=\"data row0 col2\" >0.47±0.41</td>\n",
       "    </tr>\n",
       "    <tr>\n",
       "      <th id=\"T_aee7d_level0_row1\" class=\"row_heading level0 row1\" >UniProt</th>\n",
       "      <td id=\"T_aee7d_row1_col0\" class=\"data row1 col0\" >1.00</td>\n",
       "      <td id=\"T_aee7d_row1_col1\" class=\"data row1 col1\" >1.00</td>\n",
       "      <td id=\"T_aee7d_row1_col2\" class=\"data row1 col2\" >0.25±0.25</td>\n",
       "    </tr>\n",
       "    <tr>\n",
       "      <th id=\"T_aee7d_level0_row2\" class=\"row_heading level0 row2\" >HydrAMP</th>\n",
       "      <td id=\"T_aee7d_row2_col0\" class=\"data row2 col0\" >0.67</td>\n",
       "      <td id=\"T_aee7d_row2_col1\" class=\"data row2 col1\" >0.67</td>\n",
       "      <td id=\"T_aee7d_row2_col2\" class=\"data row2 col2\" >0.50±0.08</td>\n",
       "    </tr>\n",
       "    <tr>\n",
       "      <th id=\"T_aee7d_level0_row3\" class=\"row_heading level0 row3\" >hyformer</th>\n",
       "      <td id=\"T_aee7d_row3_col0\" class=\"data row3 col0\" >0.50</td>\n",
       "      <td id=\"T_aee7d_row3_col1\" class=\"data row3 col1\" >0.50</td>\n",
       "      <td id=\"T_aee7d_row3_col2\" class=\"data row3 col2\" >0.32±0.08</td>\n",
       "    </tr>\n",
       "  </tbody>\n",
       "</table>\n"
      ],
      "text/plain": [
       "<pandas.io.formats.style.Styler at 0x12ace58b0>"
      ]
     },
     "execution_count": null,
     "metadata": {},
     "output_type": "execute_result"
    }
   ],
   "source": [
    "show_table(df, decimals=2)"
   ]
  },
  {
   "cell_type": "markdown",
   "metadata": {},
   "source": [
    "We are particularly interested in the following metric.\n"
   ]
  },
  {
   "cell_type": "code",
   "execution_count": null,
   "metadata": {},
   "outputs": [
    {
     "data": {
      "image/png": "[encoded data removed]",
      "text/plain": [
       "<Figure size 500x400 with 1 Axes>"
      ]
     },
     "metadata": {},
     "output_type": "display_data"
    }
   ],
   "source": [
    "barplot(df, \"Gravy\")"
   ]
  },
  {
   "cell_type": "markdown",
   "metadata": {},
   "source": [
    "That it all for the basic usage of pepme. Let's look at some more advanced features!\n"
   ]
  },
  {
   "cell_type": "markdown",
   "metadata": {},
   "source": [
    "## Advanced\n"
   ]
  },
  {
   "cell_type": "markdown",
   "metadata": {},
   "source": [
    "In the advanced section, we show how to combine multiple metric dataframes into one and how to create your own metric. pepme's `combine_metric_dataframes` can combine metric dataframes with different sequences and/or metrics.\n"
   ]
  },
  {
   "cell_type": "markdown",
   "metadata": {},
   "source": [
    "Let's compute some metrics for the three sets of sequences.\n"
   ]
  },
  {
   "cell_type": "code",
   "execution_count": null,
   "metadata": {},
   "outputs": [],
   "source": [
    "df1 = compute_metrics(\n",
    "    sequences={\n",
    "        \"s1\": [\"KKKKK\", \"PLUQ\", \"RKSPL\"],\n",
    "        \"s2\": random_subset([\"KKWQ\", \"RKSPL\", \"RASD\"], n_samples=2, seed=42),\n",
    "        \"s3\": [\"MMRK\", \"RKSPL\", \"RRLSK\"],\n",
    "        \"s4\": [\"MKQW\", \"RKSPL\"],\n",
    "    },\n",
    "    metrics=[\n",
    "        Novelty(reference=[\"KKW\", \"RKSPL\"]),\n",
    "        Novelty(reference=[\"RASD\", \"KKKQ\", \"LPTUY\"], reference_name=\"Random\"),\n",
    "    ],\n",
    "    verbose=False,\n",
    ")\n",
    "\n",
    "df2 = compute_metrics(\n",
    "    sequences={\"s4\": [\"MKQW\", \"RKSPL\"], \"s5\": [\"MKQW\"]},\n",
    "    metrics=[Gravy()],\n",
    "    verbose=False,\n",
    ")\n",
    "\n",
    "df3 = compute_metrics(\n",
    "    sequences={\"s6\": [\"MKQW\", \"RKSPL\"]},\n",
    "    metrics=[Gravy(), Novelty(reference=[\"KKW\", \"RKSPL\"])],\n",
    "    verbose=False,\n",
    ")"
   ]
  },
  {
   "cell_type": "markdown",
   "metadata": {},
   "source": [
    "Let's combine the dataframes.\n"
   ]
  },
  {
   "cell_type": "code",
   "execution_count": null,
   "metadata": {},
   "outputs": [],
   "source": [
    "df = combine_metric_dataframes([df1, df2, df3])"
   ]
  },
  {
   "cell_type": "code",
   "execution_count": null,
   "metadata": {},
   "outputs": [
    {
     "data": {
      "text/html": [
       "<div>\n",
       "<style scoped>\n",
       "    .dataframe tbody tr th:only-of-type {\n",
       "        vertical-align: middle;\n",
       "    }\n",
       "\n",
       "    .dataframe tbody tr th {\n",
       "        vertical-align: top;\n",
       "    }\n",
       "\n",
       "    .dataframe thead tr th {\n",
       "        text-align: left;\n",
       "    }\n",
       "</style>\n",
       "<table border=\"1\" class=\"dataframe\">\n",
       "  <thead>\n",
       "    <tr>\n",
       "      <th></th>\n",
       "      <th colspan=\"2\" halign=\"left\">Novelty</th>\n",
       "      <th colspan=\"2\" halign=\"left\">Novelty (Random)</th>\n",
       "      <th colspan=\"2\" halign=\"left\">Gravy</th>\n",
       "    </tr>\n",
       "    <tr>\n",
       "      <th></th>\n",
       "      <th>value</th>\n",
       "      <th>deviation</th>\n",
       "      <th>value</th>\n",
       "      <th>deviation</th>\n",
       "      <th>value</th>\n",
       "      <th>deviation</th>\n",
       "    </tr>\n",
       "  </thead>\n",
       "  <tbody>\n",
       "    <tr>\n",
       "      <th>s1</th>\n",
       "      <td>0.666667</td>\n",
       "      <td>NaN</td>\n",
       "      <td>1.0</td>\n",
       "      <td>NaN</td>\n",
       "      <td>NaN</td>\n",
       "      <td>NaN</td>\n",
       "    </tr>\n",
       "    <tr>\n",
       "      <th>s2</th>\n",
       "      <td>1.000000</td>\n",
       "      <td>NaN</td>\n",
       "      <td>0.5</td>\n",
       "      <td>NaN</td>\n",
       "      <td>NaN</td>\n",
       "      <td>NaN</td>\n",
       "    </tr>\n",
       "    <tr>\n",
       "      <th>s3</th>\n",
       "      <td>0.666667</td>\n",
       "      <td>NaN</td>\n",
       "      <td>1.0</td>\n",
       "      <td>NaN</td>\n",
       "      <td>NaN</td>\n",
       "      <td>NaN</td>\n",
       "    </tr>\n",
       "    <tr>\n",
       "      <th>s4</th>\n",
       "      <td>0.500000</td>\n",
       "      <td>NaN</td>\n",
       "      <td>1.0</td>\n",
       "      <td>NaN</td>\n",
       "      <td>0.324480</td>\n",
       "      <td>0.075057</td>\n",
       "    </tr>\n",
       "    <tr>\n",
       "      <th>s5</th>\n",
       "      <td>NaN</td>\n",
       "      <td>NaN</td>\n",
       "      <td>NaN</td>\n",
       "      <td>NaN</td>\n",
       "      <td>0.249422</td>\n",
       "      <td>0.000000</td>\n",
       "    </tr>\n",
       "    <tr>\n",
       "      <th>s6</th>\n",
       "      <td>0.500000</td>\n",
       "      <td>NaN</td>\n",
       "      <td>NaN</td>\n",
       "      <td>NaN</td>\n",
       "      <td>0.324480</td>\n",
       "      <td>0.075057</td>\n",
       "    </tr>\n",
       "  </tbody>\n",
       "</table>\n",
       "</div>"
      ],
      "text/plain": [
       "     Novelty           Novelty (Random)               Gravy          \n",
       "       value deviation            value deviation     value deviation\n",
       "s1  0.666667       NaN              1.0       NaN       NaN       NaN\n",
       "s2  1.000000       NaN              0.5       NaN       NaN       NaN\n",
       "s3  0.666667       NaN              1.0       NaN       NaN       NaN\n",
       "s4  0.500000       NaN              1.0       NaN  0.324480  0.075057\n",
       "s5       NaN       NaN              NaN       NaN  0.249422  0.000000\n",
       "s6  0.500000       NaN              NaN       NaN  0.324480  0.075057"
      ]
     },
     "execution_count": null,
     "metadata": {},
     "output_type": "execute_result"
    }
   ],
   "source": [
    "df"
   ]
  },
  {
   "cell_type": "markdown",
   "metadata": {},
   "source": [
    "... let's make it nicer to look at.\n"
   ]
  },
  {
   "cell_type": "code",
   "execution_count": null,
   "metadata": {},
   "outputs": [
    {
     "data": {
      "text/html": [
       "<style type=\"text/css\">\n",
       "#T_1fd38 th.col_heading {\n",
       "  text-align: center;\n",
       "}\n",
       "#T_1fd38 td {\n",
       "  border-right: 1px solid #ccc;\n",
       "}\n",
       "#T_1fd38 th.row_heading {\n",
       "  border-right: 1px solid #ccc;\n",
       "}\n",
       "#T_1fd38_row0_col0, #T_1fd38_row2_col0 {\n",
       "  text-decoration: underline;\n",
       "  font-weight: bold;\n",
       "}\n",
       "#T_1fd38_row0_col1, #T_1fd38_row1_col0, #T_1fd38_row2_col1, #T_1fd38_row3_col1 {\n",
       "  background-color: #d66868;\n",
       "  font-weight: bold;\n",
       "}\n",
       "</style>\n",
       "<table id=\"T_1fd38\">\n",
       "  <thead>\n",
       "    <tr>\n",
       "      <th class=\"blank level0\" >&nbsp;</th>\n",
       "      <th id=\"T_1fd38_level0_col0\" class=\"col_heading level0 col0\" >Novelty↑</th>\n",
       "      <th id=\"T_1fd38_level0_col1\" class=\"col_heading level0 col1\" >Novelty (Random)↑</th>\n",
       "      <th id=\"T_1fd38_level0_col2\" class=\"col_heading level0 col2\" >Gravy</th>\n",
       "    </tr>\n",
       "  </thead>\n",
       "  <tbody>\n",
       "    <tr>\n",
       "      <th id=\"T_1fd38_level0_row0\" class=\"row_heading level0 row0\" >s1</th>\n",
       "      <td id=\"T_1fd38_row0_col0\" class=\"data row0 col0\" >0.667</td>\n",
       "      <td id=\"T_1fd38_row0_col1\" class=\"data row0 col1\" >1.00</td>\n",
       "      <td id=\"T_1fd38_row0_col2\" class=\"data row0 col2\" >-</td>\n",
       "    </tr>\n",
       "    <tr>\n",
       "      <th id=\"T_1fd38_level0_row1\" class=\"row_heading level0 row1\" >s2</th>\n",
       "      <td id=\"T_1fd38_row1_col0\" class=\"data row1 col0\" >1.000</td>\n",
       "      <td id=\"T_1fd38_row1_col1\" class=\"data row1 col1\" >0.50</td>\n",
       "      <td id=\"T_1fd38_row1_col2\" class=\"data row1 col2\" >-</td>\n",
       "    </tr>\n",
       "    <tr>\n",
       "      <th id=\"T_1fd38_level0_row2\" class=\"row_heading level0 row2\" >s3</th>\n",
       "      <td id=\"T_1fd38_row2_col0\" class=\"data row2 col0\" >0.667</td>\n",
       "      <td id=\"T_1fd38_row2_col1\" class=\"data row2 col1\" >1.00</td>\n",
       "      <td id=\"T_1fd38_row2_col2\" class=\"data row2 col2\" >-</td>\n",
       "    </tr>\n",
       "    <tr>\n",
       "      <th id=\"T_1fd38_level0_row3\" class=\"row_heading level0 row3\" >s4</th>\n",
       "      <td id=\"T_1fd38_row3_col0\" class=\"data row3 col0\" >0.500</td>\n",
       "      <td id=\"T_1fd38_row3_col1\" class=\"data row3 col1\" >1.00</td>\n",
       "      <td id=\"T_1fd38_row3_col2\" class=\"data row3 col2\" >0.3±0.1</td>\n",
       "    </tr>\n",
       "    <tr>\n",
       "      <th id=\"T_1fd38_level0_row4\" class=\"row_heading level0 row4\" >s5</th>\n",
       "      <td id=\"T_1fd38_row4_col0\" class=\"data row4 col0\" >-</td>\n",
       "      <td id=\"T_1fd38_row4_col1\" class=\"data row4 col1\" >-</td>\n",
       "      <td id=\"T_1fd38_row4_col2\" class=\"data row4 col2\" >0.2±0.0</td>\n",
       "    </tr>\n",
       "    <tr>\n",
       "      <th id=\"T_1fd38_level0_row5\" class=\"row_heading level0 row5\" >s6</th>\n",
       "      <td id=\"T_1fd38_row5_col0\" class=\"data row5 col0\" >0.500</td>\n",
       "      <td id=\"T_1fd38_row5_col1\" class=\"data row5 col1\" >-</td>\n",
       "      <td id=\"T_1fd38_row5_col2\" class=\"data row5 col2\" >0.3±0.1</td>\n",
       "    </tr>\n",
       "  </tbody>\n",
       "</table>\n"
      ],
      "text/plain": [
       "<pandas.io.formats.style.Styler at 0x12aec8b80>"
      ]
     },
     "execution_count": null,
     "metadata": {},
     "output_type": "execute_result"
    }
   ],
   "source": [
    "show_table(df, decimals=[3, 2, 1], color=\"#d66868\")"
   ]
  },
  {
   "cell_type": "code",
   "execution_count": null,
   "metadata": {},
   "outputs": [
    {
     "data": {
      "image/png": "[encoded data removed]",
      "text/plain": [
       "<Figure size 500x400 with 1 Axes>"
      ]
     },
     "metadata": {},
     "output_type": "display_data"
    }
   ],
   "source": [
    "barplot(df, \"Novelty\", color=\"#d66868\", ylim=(0.0, 1.1), x_ticks_label_rotation=0.0)"
   ]
  },
  {
   "cell_type": "markdown",
   "metadata": {},
   "source": [
    "Notice missing values (e.g., s5) are not shown in the barplot."
   ]
  },
  {
   "cell_type": "markdown",
   "metadata": {},
   "source": [
    "You can also intergrate your own metrics into pepme through the `Metric` interface as shown below.\n"
   ]
  },
  {
   "cell_type": "code",
   "execution_count": null,
   "metadata": {},
   "outputs": [],
   "source": [
    "class MyMetric(Metric):\n",
    "    def __init__(self, amino_acid: str, minimize: bool = True):\n",
    "        self.amino_acid = amino_acid\n",
    "        self.minimize = minimize\n",
    "\n",
    "    def __call__(self, sequences: list[str]) -> MetricResult:\n",
    "        aa_count = sum([seq.count(self.amino_acid) for seq in sequences])\n",
    "        aa_total = sum([len(sequence) for sequence in sequences])\n",
    "        return MetricResult(aa_count / aa_total)\n",
    "\n",
    "    @property\n",
    "    def name(self) -> str:\n",
    "        return f\"{self.amino_acid}-frequency\"\n",
    "\n",
    "    @property\n",
    "    def objective(self) -> Literal[\"minimize\", \"maximize\", \"ambiguous\"]:\n",
    "        return \"minimize\" if self.minimize else \"maximize\""
   ]
  },
  {
   "cell_type": "markdown",
   "metadata": {},
   "source": [
    "Let's use our new metric."
   ]
  },
  {
   "cell_type": "code",
   "execution_count": null,
   "metadata": {},
   "outputs": [
    {
     "data": {
      "application/vnd.jupyter.widget-view+json": {
       "model_id": "51342faddddf4d4993aa158d243b0712",
       "version_major": 2,
       "version_minor": 0
      },
      "text/plain": [
       "Output()"
      ]
     },
     "metadata": {},
     "output_type": "display_data"
    },
    {
     "data": {
      "text/html": [
       "<pre style=\"white-space:pre;overflow-x:auto;line-height:normal;font-family:Menlo,'DejaVu Sans Mono',consolas,'Courier New',monospace\"></pre>\n"
      ],
      "text/plain": []
     },
     "metadata": {},
     "output_type": "display_data"
    },
    {
     "data": {
      "text/html": [
       "<style type=\"text/css\">\n",
       "#T_aee35 th.col_heading {\n",
       "  text-align: center;\n",
       "}\n",
       "#T_aee35 td {\n",
       "  border-right: 1px solid #ccc;\n",
       "}\n",
       "#T_aee35 th.row_heading {\n",
       "  border-right: 1px solid #ccc;\n",
       "}\n",
       "#T_aee35_row0_col0, #T_aee35_row1_col1 {\n",
       "  text-decoration: underline;\n",
       "  font-weight: bold;\n",
       "}\n",
       "#T_aee35_row1_col0, #T_aee35_row2_col1 {\n",
       "  background-color: #e07fe1;\n",
       "  font-weight: bold;\n",
       "}\n",
       "</style>\n",
       "<table id=\"T_aee35\">\n",
       "  <thead>\n",
       "    <tr>\n",
       "      <th class=\"blank level0\" >&nbsp;</th>\n",
       "      <th id=\"T_aee35_level0_col0\" class=\"col_heading level0 col0\" >K-frequency↑</th>\n",
       "      <th id=\"T_aee35_level0_col1\" class=\"col_heading level0 col1\" >R-frequency↓</th>\n",
       "    </tr>\n",
       "  </thead>\n",
       "  <tbody>\n",
       "    <tr>\n",
       "      <th id=\"T_aee35_level0_row0\" class=\"row_heading level0 row0\" >hyformer</th>\n",
       "      <td id=\"T_aee35_row0_col0\" class=\"data row0 col0\" >0.15</td>\n",
       "      <td id=\"T_aee35_row0_col1\" class=\"data row0 col1\" >0.15</td>\n",
       "    </tr>\n",
       "    <tr>\n",
       "      <th id=\"T_aee35_level0_row1\" class=\"row_heading level0 row1\" >HydrAMP</th>\n",
       "      <td id=\"T_aee35_row1_col0\" class=\"data row1 col0\" >0.22</td>\n",
       "      <td id=\"T_aee35_row1_col1\" class=\"data row1 col1\" >0.11</td>\n",
       "    </tr>\n",
       "    <tr>\n",
       "      <th id=\"T_aee35_level0_row2\" class=\"row_heading level0 row2\" >Random</th>\n",
       "      <td id=\"T_aee35_row2_col0\" class=\"data row2 col0\" >0.00</td>\n",
       "      <td id=\"T_aee35_row2_col1\" class=\"data row2 col1\" >0.00</td>\n",
       "    </tr>\n",
       "  </tbody>\n",
       "</table>\n"
      ],
      "text/plain": [
       "<pandas.io.formats.style.Styler at 0x12af50a30>"
      ]
     },
     "execution_count": null,
     "metadata": {},
     "output_type": "execute_result"
    }
   ],
   "source": [
    "df = compute_metrics(\n",
    "    sequences={\n",
    "        \"hyformer\": [\"MKQW\", \"RKSPL\", \"RASD\"],\n",
    "        \"HydrAMP\": [\"MKQW\", \"RKSPL\"],\n",
    "        \"Random\": [\"AAAA\", \"PPPPP\"],\n",
    "    },\n",
    "    metrics=[\n",
    "        MyMetric(amino_acid=\"K\", minimize=False),\n",
    "        MyMetric(amino_acid=\"R\", minimize=True),\n",
    "    ],\n",
    ")\n",
    "\n",
    "show_table(df, color=\"#e07fe1\")"
   ]
  },
  {
   "cell_type": "markdown",
   "metadata": {},
   "source": [
    "This is all there is to pepme! 🎉\n"
   ]
  }
 ],
 "metadata": {
  "kernelspec": {
   "display_name": ".venv",
   "language": "python",
   "name": "python3"
  },
  "language_info": {
   "codemirror_mode": {
    "name": "ipython",
    "version": 3
   },
   "file_extension": ".py",
   "mimetype": "text/x-python",
   "name": "python",
   "nbconvert_exporter": "python",
   "pygments_lexer": "ipython3",
   "version": "3.9.6"
  }
 },
 "nbformat": 4,
 "nbformat_minor": 2
}
