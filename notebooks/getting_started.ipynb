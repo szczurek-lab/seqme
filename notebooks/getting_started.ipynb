{
 "cells": [
  {
   "cell_type": "markdown",
   "metadata": {},
   "source": [
    "# Getting started\n"
   ]
  },
  {
   "cell_type": "markdown",
   "metadata": {},
   "source": [
    "First the imports.\n"
   ]
  },
  {
   "cell_type": "code",
   "execution_count": null,
   "metadata": {},
   "outputs": [],
   "source": [
    "import pickle\n",
    "from pprint import pprint\n",
    "from typing import Literal\n",
    "\n",
    "import numpy as np\n",
    "import pandas as pd\n",
    "\n",
    "from pepme.core import (\n",
    "    Metric,\n",
    "    MetricResult,\n",
    "    SequenceCache,\n",
    "    barplot,\n",
    "    combine_metric_dataframes,\n",
    "    compute_metrics,\n",
    "    random_subset,\n",
    "    show_table,\n",
    ")\n",
    "from pepme.metrics.fid import FID\n",
    "from pepme.metrics.gravy import Gravy\n",
    "from pepme.metrics.novelty import Novelty\n",
    "from pepme.utils import read_fasta_file, write_to_fasta_file"
   ]
  },
  {
   "cell_type": "markdown",
   "metadata": {},
   "source": [
    "## Basics\n"
   ]
  },
  {
   "cell_type": "markdown",
   "metadata": {},
   "source": [
    "Let's define the sequences to use and the metrics to compute. Some sequences will be loaded from fasta files, others are hard-coded.\n"
   ]
  },
  {
   "cell_type": "markdown",
   "metadata": {},
   "source": [
    "First let's write a fasta file with random sequences to disk.\n"
   ]
  },
  {
   "cell_type": "code",
   "execution_count": null,
   "metadata": {},
   "outputs": [],
   "source": [
    "RANDOM_SEQUENCES_PATH = \"../data/random.fasta\""
   ]
  },
  {
   "cell_type": "code",
   "execution_count": null,
   "metadata": {},
   "outputs": [],
   "source": [
    "random_sequences = [\"KKKKK\", \"PLUQ\", \"RKSPL\"]\n",
    "\n",
    "write_to_fasta_file(random_sequences, RANDOM_SEQUENCES_PATH)"
   ]
  },
  {
   "cell_type": "markdown",
   "metadata": {},
   "source": [
    "UniProt contains a lot of sequences. To speed-up the metric computations, we will only use a (random) subset of the UniProt sequences.\n"
   ]
  },
  {
   "cell_type": "code",
   "execution_count": null,
   "metadata": {},
   "outputs": [
    {
     "data": {
      "application/vnd.jupyter.widget-view+json": {
       "model_id": "5ee6bb3a8a3c49a9bb14196442d235c5",
       "version_major": 2,
       "version_minor": 0
      },
      "text/plain": [
       "Output()"
      ]
     },
     "metadata": {},
     "output_type": "display_data"
    },
    {
     "data": {
      "text/html": [
       "<pre style=\"white-space:pre;overflow-x:auto;line-height:normal;font-family:Menlo,'DejaVu Sans Mono',consolas,'Courier New',monospace\"></pre>\n"
      ],
      "text/plain": []
     },
     "metadata": {},
     "output_type": "display_data"
    }
   ],
   "source": [
    "sequences = {\n",
    "    \"Random\": read_fasta_file(RANDOM_SEQUENCES_PATH),\n",
    "    \"UniProt\": random_subset([\"KKWQ\", \"RKSPL\", \"RASD\"], n_samples=2, seed=42),\n",
    "    \"HydrAMP\": [\"MMRK\", \"RKSPL\", \"RRLSK\"],\n",
    "    \"hyformer\": [\"MKQW\", \"RKSPL\"],\n",
    "}\n",
    "\n",
    "\n",
    "# @TODO: replace with PhysicoChemicalEmbedder when implemented\n",
    "def my_embedder(sequences: list[str]) -> np.ndarray:\n",
    "    lengths = [len(sequence) for sequence in sequences]\n",
    "    counts = [sequence.count(\"K\") for sequence in sequences]\n",
    "    return np.array([lengths, counts]).T\n",
    "\n",
    "\n",
    "metrics = [\n",
    "    Novelty(reference=[\"KKW\", \"RKSPL\"]),\n",
    "    Novelty(reference=sequences[\"Random\"], reference_name=\"Random\"),\n",
    "    FID(reference=sequences[\"Random\"], embedder=my_embedder),\n",
    "    Gravy(),\n",
    "]\n",
    "\n",
    "df = compute_metrics(sequences, metrics)"
   ]
  },
  {
   "cell_type": "markdown",
   "metadata": {},
   "source": [
    "**Tip:** Unsure about which metrics to compute? If you don't define the metrics, pepme will úse its recommended metrics.\n"
   ]
  },
  {
   "cell_type": "markdown",
   "metadata": {},
   "source": [
    "Let's look at the results.\n"
   ]
  },
  {
   "cell_type": "code",
   "execution_count": null,
   "metadata": {},
   "outputs": [
    {
     "data": {
      "text/html": [
       "<div>\n",
       "<style scoped>\n",
       "    .dataframe tbody tr th:only-of-type {\n",
       "        vertical-align: middle;\n",
       "    }\n",
       "\n",
       "    .dataframe tbody tr th {\n",
       "        vertical-align: top;\n",
       "    }\n",
       "\n",
       "    .dataframe thead tr th {\n",
       "        text-align: left;\n",
       "    }\n",
       "</style>\n",
       "<table border=\"1\" class=\"dataframe\">\n",
       "  <thead>\n",
       "    <tr>\n",
       "      <th></th>\n",
       "      <th colspan=\"2\" halign=\"left\">Novelty</th>\n",
       "      <th colspan=\"2\" halign=\"left\">Novelty (Random)</th>\n",
       "      <th colspan=\"2\" halign=\"left\">FID</th>\n",
       "      <th colspan=\"2\" halign=\"left\">Gravy</th>\n",
       "    </tr>\n",
       "    <tr>\n",
       "      <th></th>\n",
       "      <th>value</th>\n",
       "      <th>deviation</th>\n",
       "      <th>value</th>\n",
       "      <th>deviation</th>\n",
       "      <th>value</th>\n",
       "      <th>deviation</th>\n",
       "      <th>value</th>\n",
       "      <th>deviation</th>\n",
       "    </tr>\n",
       "  </thead>\n",
       "  <tbody>\n",
       "    <tr>\n",
       "      <th>Random</th>\n",
       "      <td>0.666667</td>\n",
       "      <td>NaN</td>\n",
       "      <td>0.000000</td>\n",
       "      <td>NaN</td>\n",
       "      <td>0.000000</td>\n",
       "      <td>NaN</td>\n",
       "      <td>-0.380417</td>\n",
       "      <td>0.293968</td>\n",
       "    </tr>\n",
       "    <tr>\n",
       "      <th>UniProt</th>\n",
       "      <td>1.000000</td>\n",
       "      <td>NaN</td>\n",
       "      <td>1.000000</td>\n",
       "      <td>NaN</td>\n",
       "      <td>3.294463</td>\n",
       "      <td>NaN</td>\n",
       "      <td>-0.600000</td>\n",
       "      <td>0.162500</td>\n",
       "    </tr>\n",
       "    <tr>\n",
       "      <th>HydrAMP</th>\n",
       "      <td>0.666667</td>\n",
       "      <td>NaN</td>\n",
       "      <td>0.666667</td>\n",
       "      <td>NaN</td>\n",
       "      <td>8.000000</td>\n",
       "      <td>NaN</td>\n",
       "      <td>-0.321167</td>\n",
       "      <td>0.053004</td>\n",
       "    </tr>\n",
       "    <tr>\n",
       "      <th>hyformer</th>\n",
       "      <td>0.500000</td>\n",
       "      <td>NaN</td>\n",
       "      <td>0.500000</td>\n",
       "      <td>NaN</td>\n",
       "      <td>8.044615</td>\n",
       "      <td>NaN</td>\n",
       "      <td>-0.340000</td>\n",
       "      <td>0.060000</td>\n",
       "    </tr>\n",
       "  </tbody>\n",
       "</table>\n",
       "</div>"
      ],
      "text/plain": [
       "           Novelty           Novelty (Random)                 FID            \\\n",
       "             value deviation            value deviation     value deviation   \n",
       "Random    0.666667       NaN         0.000000       NaN  0.000000       NaN   \n",
       "UniProt   1.000000       NaN         1.000000       NaN  3.294463       NaN   \n",
       "HydrAMP   0.666667       NaN         0.666667       NaN  8.000000       NaN   \n",
       "hyformer  0.500000       NaN         0.500000       NaN  8.044615       NaN   \n",
       "\n",
       "             Gravy            \n",
       "             value deviation  \n",
       "Random   -0.380417  0.293968  \n",
       "UniProt  -0.600000  0.162500  \n",
       "HydrAMP  -0.321167  0.053004  \n",
       "hyformer -0.340000  0.060000  "
      ]
     },
     "execution_count": null,
     "metadata": {},
     "output_type": "execute_result"
    }
   ],
   "source": [
    "df"
   ]
  },
  {
   "cell_type": "markdown",
   "metadata": {},
   "source": [
    "... let's make it nicer to look at.\n"
   ]
  },
  {
   "cell_type": "code",
   "execution_count": null,
   "metadata": {},
   "outputs": [
    {
     "data": {
      "text/html": [
       "<style type=\"text/css\">\n",
       "#T_0cdfa th.col_heading {\n",
       "  text-align: center;\n",
       "}\n",
       "#T_0cdfa td {\n",
       "  border-right: 1px solid #ccc;\n",
       "}\n",
       "#T_0cdfa th.row_heading {\n",
       "  border-right: 1px solid #ccc;\n",
       "}\n",
       "#T_0cdfa_row0_col0, #T_0cdfa_row1_col2, #T_0cdfa_row2_col0, #T_0cdfa_row2_col1 {\n",
       "  text-decoration: underline;\n",
       "  font-weight: bold;\n",
       "}\n",
       "#T_0cdfa_row0_col2, #T_0cdfa_row1_col0, #T_0cdfa_row1_col1 {\n",
       "  background-color: #68d6bc;\n",
       "  font-weight: bold;\n",
       "}\n",
       "</style>\n",
       "<table id=\"T_0cdfa\">\n",
       "  <thead>\n",
       "    <tr>\n",
       "      <th class=\"blank level0\" >&nbsp;</th>\n",
       "      <th id=\"T_0cdfa_level0_col0\" class=\"col_heading level0 col0\" >Novelty↑</th>\n",
       "      <th id=\"T_0cdfa_level0_col1\" class=\"col_heading level0 col1\" >Novelty (Random)↑</th>\n",
       "      <th id=\"T_0cdfa_level0_col2\" class=\"col_heading level0 col2\" >FID↓</th>\n",
       "      <th id=\"T_0cdfa_level0_col3\" class=\"col_heading level0 col3\" >Gravy</th>\n",
       "    </tr>\n",
       "  </thead>\n",
       "  <tbody>\n",
       "    <tr>\n",
       "      <th id=\"T_0cdfa_level0_row0\" class=\"row_heading level0 row0\" >Random</th>\n",
       "      <td id=\"T_0cdfa_row0_col0\" class=\"data row0 col0\" >0.67</td>\n",
       "      <td id=\"T_0cdfa_row0_col1\" class=\"data row0 col1\" >0.00</td>\n",
       "      <td id=\"T_0cdfa_row0_col2\" class=\"data row0 col2\" >0.00</td>\n",
       "      <td id=\"T_0cdfa_row0_col3\" class=\"data row0 col3\" >-0.38±0.29</td>\n",
       "    </tr>\n",
       "    <tr>\n",
       "      <th id=\"T_0cdfa_level0_row1\" class=\"row_heading level0 row1\" >UniProt</th>\n",
       "      <td id=\"T_0cdfa_row1_col0\" class=\"data row1 col0\" >1.00</td>\n",
       "      <td id=\"T_0cdfa_row1_col1\" class=\"data row1 col1\" >1.00</td>\n",
       "      <td id=\"T_0cdfa_row1_col2\" class=\"data row1 col2\" >3.29</td>\n",
       "      <td id=\"T_0cdfa_row1_col3\" class=\"data row1 col3\" >-0.60±0.16</td>\n",
       "    </tr>\n",
       "    <tr>\n",
       "      <th id=\"T_0cdfa_level0_row2\" class=\"row_heading level0 row2\" >HydrAMP</th>\n",
       "      <td id=\"T_0cdfa_row2_col0\" class=\"data row2 col0\" >0.67</td>\n",
       "      <td id=\"T_0cdfa_row2_col1\" class=\"data row2 col1\" >0.67</td>\n",
       "      <td id=\"T_0cdfa_row2_col2\" class=\"data row2 col2\" >8.00</td>\n",
       "      <td id=\"T_0cdfa_row2_col3\" class=\"data row2 col3\" >-0.32±0.05</td>\n",
       "    </tr>\n",
       "    <tr>\n",
       "      <th id=\"T_0cdfa_level0_row3\" class=\"row_heading level0 row3\" >hyformer</th>\n",
       "      <td id=\"T_0cdfa_row3_col0\" class=\"data row3 col0\" >0.50</td>\n",
       "      <td id=\"T_0cdfa_row3_col1\" class=\"data row3 col1\" >0.50</td>\n",
       "      <td id=\"T_0cdfa_row3_col2\" class=\"data row3 col2\" >8.04</td>\n",
       "      <td id=\"T_0cdfa_row3_col3\" class=\"data row3 col3\" >-0.34±0.06</td>\n",
       "    </tr>\n",
       "  </tbody>\n",
       "</table>\n"
      ],
      "text/plain": [
       "<pandas.io.formats.style.Styler at 0x12a3f5190>"
      ]
     },
     "execution_count": null,
     "metadata": {},
     "output_type": "execute_result"
    }
   ],
   "source": [
    "show_table(df, decimals=2)"
   ]
  },
  {
   "cell_type": "markdown",
   "metadata": {},
   "source": [
    "We are particularly interested in the following metric.\n"
   ]
  },
  {
   "cell_type": "code",
   "execution_count": null,
   "metadata": {},
   "outputs": [
    {
     "data": {
      "image/png": "[encoded data removed]",
      "text/plain": [
       "<Figure size 500x400 with 1 Axes>"
      ]
     },
     "metadata": {},
     "output_type": "display_data"
    }
   ],
   "source": [
    "barplot(df, \"Gravy\")"
   ]
  },
  {
   "cell_type": "markdown",
   "metadata": {},
   "source": [
    "To write a metric dataframe to disk, encode the dataframe as a pickle object.\n"
   ]
  },
  {
   "cell_type": "code",
   "execution_count": null,
   "metadata": {},
   "outputs": [
    {
     "data": {
      "text/html": [
       "<style type=\"text/css\">\n",
       "#T_fc3fa th.col_heading {\n",
       "  text-align: center;\n",
       "}\n",
       "#T_fc3fa td {\n",
       "  border-right: 1px solid #ccc;\n",
       "}\n",
       "#T_fc3fa th.row_heading {\n",
       "  border-right: 1px solid #ccc;\n",
       "}\n",
       "#T_fc3fa_row0_col0, #T_fc3fa_row1_col2, #T_fc3fa_row2_col0, #T_fc3fa_row2_col1 {\n",
       "  text-decoration: underline;\n",
       "  font-weight: bold;\n",
       "}\n",
       "#T_fc3fa_row0_col2, #T_fc3fa_row1_col0, #T_fc3fa_row1_col1 {\n",
       "  background-color: #68d6bc;\n",
       "  font-weight: bold;\n",
       "}\n",
       "</style>\n",
       "<table id=\"T_fc3fa\">\n",
       "  <thead>\n",
       "    <tr>\n",
       "      <th class=\"blank level0\" >&nbsp;</th>\n",
       "      <th id=\"T_fc3fa_level0_col0\" class=\"col_heading level0 col0\" >Novelty↑</th>\n",
       "      <th id=\"T_fc3fa_level0_col1\" class=\"col_heading level0 col1\" >Novelty (Random)↑</th>\n",
       "      <th id=\"T_fc3fa_level0_col2\" class=\"col_heading level0 col2\" >FID↓</th>\n",
       "      <th id=\"T_fc3fa_level0_col3\" class=\"col_heading level0 col3\" >Gravy</th>\n",
       "    </tr>\n",
       "  </thead>\n",
       "  <tbody>\n",
       "    <tr>\n",
       "      <th id=\"T_fc3fa_level0_row0\" class=\"row_heading level0 row0\" >Random</th>\n",
       "      <td id=\"T_fc3fa_row0_col0\" class=\"data row0 col0\" >0.67</td>\n",
       "      <td id=\"T_fc3fa_row0_col1\" class=\"data row0 col1\" >0.00</td>\n",
       "      <td id=\"T_fc3fa_row0_col2\" class=\"data row0 col2\" >0.00</td>\n",
       "      <td id=\"T_fc3fa_row0_col3\" class=\"data row0 col3\" >-0.38±0.29</td>\n",
       "    </tr>\n",
       "    <tr>\n",
       "      <th id=\"T_fc3fa_level0_row1\" class=\"row_heading level0 row1\" >UniProt</th>\n",
       "      <td id=\"T_fc3fa_row1_col0\" class=\"data row1 col0\" >1.00</td>\n",
       "      <td id=\"T_fc3fa_row1_col1\" class=\"data row1 col1\" >1.00</td>\n",
       "      <td id=\"T_fc3fa_row1_col2\" class=\"data row1 col2\" >3.29</td>\n",
       "      <td id=\"T_fc3fa_row1_col3\" class=\"data row1 col3\" >-0.60±0.16</td>\n",
       "    </tr>\n",
       "    <tr>\n",
       "      <th id=\"T_fc3fa_level0_row2\" class=\"row_heading level0 row2\" >HydrAMP</th>\n",
       "      <td id=\"T_fc3fa_row2_col0\" class=\"data row2 col0\" >0.67</td>\n",
       "      <td id=\"T_fc3fa_row2_col1\" class=\"data row2 col1\" >0.67</td>\n",
       "      <td id=\"T_fc3fa_row2_col2\" class=\"data row2 col2\" >8.00</td>\n",
       "      <td id=\"T_fc3fa_row2_col3\" class=\"data row2 col3\" >-0.32±0.05</td>\n",
       "    </tr>\n",
       "    <tr>\n",
       "      <th id=\"T_fc3fa_level0_row3\" class=\"row_heading level0 row3\" >hyformer</th>\n",
       "      <td id=\"T_fc3fa_row3_col0\" class=\"data row3 col0\" >0.50</td>\n",
       "      <td id=\"T_fc3fa_row3_col1\" class=\"data row3 col1\" >0.50</td>\n",
       "      <td id=\"T_fc3fa_row3_col2\" class=\"data row3 col2\" >8.04</td>\n",
       "      <td id=\"T_fc3fa_row3_col3\" class=\"data row3 col3\" >-0.34±0.06</td>\n",
       "    </tr>\n",
       "  </tbody>\n",
       "</table>\n"
      ],
      "text/plain": [
       "<pandas.io.formats.style.Styler at 0x12a67ec70>"
      ]
     },
     "execution_count": null,
     "metadata": {},
     "output_type": "execute_result"
    }
   ],
   "source": [
    "PATH = \"./metrics_dataframe.pkl\"\n",
    "\n",
    "df.to_pickle(PATH)\n",
    "show_table(pd.read_pickle(PATH))"
   ]
  },
  {
   "cell_type": "markdown",
   "metadata": {},
   "source": [
    "That it all for the basic usage of pepme. Let's look at some more advanced features!\n"
   ]
  },
  {
   "cell_type": "markdown",
   "metadata": {},
   "source": [
    "## Advanced\n"
   ]
  },
  {
   "cell_type": "markdown",
   "metadata": {},
   "source": [
    "In the advanced section, we show how to\n",
    "\n",
    "- Combine multiple metric dataframes into one.\n",
    "- Improve performance through caching.\n",
    "- Create your own metric.\n"
   ]
  },
  {
   "cell_type": "markdown",
   "metadata": {},
   "source": [
    "### Combining metric dataframes\n",
    "\n",
    "pepme's `combine_metric_dataframes` can combine metric dataframes with different sequences and/or metrics. This can be useful if you want to evaluate the sequences on an additional metric or add an additional set of sequences for evaluation - without needing to recompute the results.\n"
   ]
  },
  {
   "cell_type": "markdown",
   "metadata": {},
   "source": [
    "Let's create three metric dataframes.\n"
   ]
  },
  {
   "cell_type": "code",
   "execution_count": null,
   "metadata": {},
   "outputs": [],
   "source": [
    "df1 = compute_metrics(\n",
    "    sequences={\n",
    "        \"s1\": [\"KKKKK\", \"PLUQ\", \"RKSPL\"],\n",
    "        \"s2\": random_subset([\"KKWQ\", \"RKSPL\", \"RASD\"], n_samples=2, seed=42),\n",
    "        \"s3\": [\"MMRK\", \"RKSPL\", \"RRLSK\"],\n",
    "        \"s4\": [\"MKQW\", \"RKSPL\"],\n",
    "    },\n",
    "    metrics=[\n",
    "        Novelty(reference=[\"KKW\", \"RKSPL\"]),\n",
    "        Novelty(reference=[\"RASD\", \"KKKQ\", \"LPTUY\"], reference_name=\"Random\"),\n",
    "    ],\n",
    "    verbose=False,\n",
    ")\n",
    "\n",
    "df2 = compute_metrics(\n",
    "    sequences={\"s4\": [\"MKQW\", \"RKSPL\"], \"s5\": [\"MKQW\"]},\n",
    "    metrics=[Gravy()],\n",
    "    verbose=False,\n",
    ")\n",
    "\n",
    "df3 = compute_metrics(\n",
    "    sequences={\"s6\": [\"MKQW\", \"RKSPL\"]},\n",
    "    metrics=[Gravy(), Novelty(reference=[\"KKW\", \"RKSPL\"])],\n",
    "    verbose=False,\n",
    ")"
   ]
  },
  {
   "cell_type": "markdown",
   "metadata": {},
   "source": [
    "Let's combine the dataframes.\n"
   ]
  },
  {
   "cell_type": "code",
   "execution_count": null,
   "metadata": {},
   "outputs": [],
   "source": [
    "df = combine_metric_dataframes([df1, df2, df3])"
   ]
  },
  {
   "cell_type": "code",
   "execution_count": null,
   "metadata": {},
   "outputs": [
    {
     "data": {
      "text/html": [
       "<div>\n",
       "<style scoped>\n",
       "    .dataframe tbody tr th:only-of-type {\n",
       "        vertical-align: middle;\n",
       "    }\n",
       "\n",
       "    .dataframe tbody tr th {\n",
       "        vertical-align: top;\n",
       "    }\n",
       "\n",
       "    .dataframe thead tr th {\n",
       "        text-align: left;\n",
       "    }\n",
       "</style>\n",
       "<table border=\"1\" class=\"dataframe\">\n",
       "  <thead>\n",
       "    <tr>\n",
       "      <th></th>\n",
       "      <th colspan=\"2\" halign=\"left\">Novelty</th>\n",
       "      <th colspan=\"2\" halign=\"left\">Novelty (Random)</th>\n",
       "      <th colspan=\"2\" halign=\"left\">Gravy</th>\n",
       "    </tr>\n",
       "    <tr>\n",
       "      <th></th>\n",
       "      <th>value</th>\n",
       "      <th>deviation</th>\n",
       "      <th>value</th>\n",
       "      <th>deviation</th>\n",
       "      <th>value</th>\n",
       "      <th>deviation</th>\n",
       "    </tr>\n",
       "  </thead>\n",
       "  <tbody>\n",
       "    <tr>\n",
       "      <th>s1</th>\n",
       "      <td>0.666667</td>\n",
       "      <td>NaN</td>\n",
       "      <td>1.0</td>\n",
       "      <td>NaN</td>\n",
       "      <td>NaN</td>\n",
       "      <td>NaN</td>\n",
       "    </tr>\n",
       "    <tr>\n",
       "      <th>s2</th>\n",
       "      <td>1.000000</td>\n",
       "      <td>NaN</td>\n",
       "      <td>0.5</td>\n",
       "      <td>NaN</td>\n",
       "      <td>NaN</td>\n",
       "      <td>NaN</td>\n",
       "    </tr>\n",
       "    <tr>\n",
       "      <th>s3</th>\n",
       "      <td>0.666667</td>\n",
       "      <td>NaN</td>\n",
       "      <td>1.0</td>\n",
       "      <td>NaN</td>\n",
       "      <td>NaN</td>\n",
       "      <td>NaN</td>\n",
       "    </tr>\n",
       "    <tr>\n",
       "      <th>s4</th>\n",
       "      <td>0.500000</td>\n",
       "      <td>NaN</td>\n",
       "      <td>1.0</td>\n",
       "      <td>NaN</td>\n",
       "      <td>-0.34</td>\n",
       "      <td>0.06</td>\n",
       "    </tr>\n",
       "    <tr>\n",
       "      <th>s5</th>\n",
       "      <td>NaN</td>\n",
       "      <td>NaN</td>\n",
       "      <td>NaN</td>\n",
       "      <td>NaN</td>\n",
       "      <td>-0.40</td>\n",
       "      <td>0.00</td>\n",
       "    </tr>\n",
       "    <tr>\n",
       "      <th>s6</th>\n",
       "      <td>0.500000</td>\n",
       "      <td>NaN</td>\n",
       "      <td>NaN</td>\n",
       "      <td>NaN</td>\n",
       "      <td>-0.34</td>\n",
       "      <td>0.06</td>\n",
       "    </tr>\n",
       "  </tbody>\n",
       "</table>\n",
       "</div>"
      ],
      "text/plain": [
       "     Novelty           Novelty (Random)           Gravy          \n",
       "       value deviation            value deviation value deviation\n",
       "s1  0.666667       NaN              1.0       NaN   NaN       NaN\n",
       "s2  1.000000       NaN              0.5       NaN   NaN       NaN\n",
       "s3  0.666667       NaN              1.0       NaN   NaN       NaN\n",
       "s4  0.500000       NaN              1.0       NaN -0.34      0.06\n",
       "s5       NaN       NaN              NaN       NaN -0.40      0.00\n",
       "s6  0.500000       NaN              NaN       NaN -0.34      0.06"
      ]
     },
     "execution_count": null,
     "metadata": {},
     "output_type": "execute_result"
    }
   ],
   "source": [
    "df"
   ]
  },
  {
   "cell_type": "markdown",
   "metadata": {},
   "source": [
    "... let's make it nicer to look at.\n"
   ]
  },
  {
   "cell_type": "code",
   "execution_count": null,
   "metadata": {},
   "outputs": [
    {
     "data": {
      "text/html": [
       "<style type=\"text/css\">\n",
       "#T_50e52 th.col_heading {\n",
       "  text-align: center;\n",
       "}\n",
       "#T_50e52 td {\n",
       "  border-right: 1px solid #ccc;\n",
       "}\n",
       "#T_50e52 th.row_heading {\n",
       "  border-right: 1px solid #ccc;\n",
       "}\n",
       "#T_50e52_row0_col0, #T_50e52_row2_col0 {\n",
       "  text-decoration: underline;\n",
       "  font-weight: bold;\n",
       "}\n",
       "#T_50e52_row0_col1, #T_50e52_row1_col0, #T_50e52_row2_col1, #T_50e52_row3_col1 {\n",
       "  background-color: #d66868;\n",
       "  font-weight: bold;\n",
       "}\n",
       "</style>\n",
       "<table id=\"T_50e52\">\n",
       "  <thead>\n",
       "    <tr>\n",
       "      <th class=\"blank level0\" >&nbsp;</th>\n",
       "      <th id=\"T_50e52_level0_col0\" class=\"col_heading level0 col0\" >Novelty↑</th>\n",
       "      <th id=\"T_50e52_level0_col1\" class=\"col_heading level0 col1\" >Novelty (Random)↑</th>\n",
       "      <th id=\"T_50e52_level0_col2\" class=\"col_heading level0 col2\" >Gravy</th>\n",
       "    </tr>\n",
       "  </thead>\n",
       "  <tbody>\n",
       "    <tr>\n",
       "      <th id=\"T_50e52_level0_row0\" class=\"row_heading level0 row0\" >s1</th>\n",
       "      <td id=\"T_50e52_row0_col0\" class=\"data row0 col0\" >0.667</td>\n",
       "      <td id=\"T_50e52_row0_col1\" class=\"data row0 col1\" >1.00</td>\n",
       "      <td id=\"T_50e52_row0_col2\" class=\"data row0 col2\" >-</td>\n",
       "    </tr>\n",
       "    <tr>\n",
       "      <th id=\"T_50e52_level0_row1\" class=\"row_heading level0 row1\" >s2</th>\n",
       "      <td id=\"T_50e52_row1_col0\" class=\"data row1 col0\" >1.000</td>\n",
       "      <td id=\"T_50e52_row1_col1\" class=\"data row1 col1\" >0.50</td>\n",
       "      <td id=\"T_50e52_row1_col2\" class=\"data row1 col2\" >-</td>\n",
       "    </tr>\n",
       "    <tr>\n",
       "      <th id=\"T_50e52_level0_row2\" class=\"row_heading level0 row2\" >s3</th>\n",
       "      <td id=\"T_50e52_row2_col0\" class=\"data row2 col0\" >0.667</td>\n",
       "      <td id=\"T_50e52_row2_col1\" class=\"data row2 col1\" >1.00</td>\n",
       "      <td id=\"T_50e52_row2_col2\" class=\"data row2 col2\" >-</td>\n",
       "    </tr>\n",
       "    <tr>\n",
       "      <th id=\"T_50e52_level0_row3\" class=\"row_heading level0 row3\" >s4</th>\n",
       "      <td id=\"T_50e52_row3_col0\" class=\"data row3 col0\" >0.500</td>\n",
       "      <td id=\"T_50e52_row3_col1\" class=\"data row3 col1\" >1.00</td>\n",
       "      <td id=\"T_50e52_row3_col2\" class=\"data row3 col2\" >-0.3±0.1</td>\n",
       "    </tr>\n",
       "    <tr>\n",
       "      <th id=\"T_50e52_level0_row4\" class=\"row_heading level0 row4\" >s5</th>\n",
       "      <td id=\"T_50e52_row4_col0\" class=\"data row4 col0\" >-</td>\n",
       "      <td id=\"T_50e52_row4_col1\" class=\"data row4 col1\" >-</td>\n",
       "      <td id=\"T_50e52_row4_col2\" class=\"data row4 col2\" >-0.4±0.0</td>\n",
       "    </tr>\n",
       "    <tr>\n",
       "      <th id=\"T_50e52_level0_row5\" class=\"row_heading level0 row5\" >s6</th>\n",
       "      <td id=\"T_50e52_row5_col0\" class=\"data row5 col0\" >0.500</td>\n",
       "      <td id=\"T_50e52_row5_col1\" class=\"data row5 col1\" >-</td>\n",
       "      <td id=\"T_50e52_row5_col2\" class=\"data row5 col2\" >-0.3±0.1</td>\n",
       "    </tr>\n",
       "  </tbody>\n",
       "</table>\n"
      ],
      "text/plain": [
       "<pandas.io.formats.style.Styler at 0x12a69f6d0>"
      ]
     },
     "execution_count": null,
     "metadata": {},
     "output_type": "execute_result"
    }
   ],
   "source": [
    "show_table(df, decimals=[3, 2, 1], color=\"#d66868\")"
   ]
  },
  {
   "cell_type": "code",
   "execution_count": null,
   "metadata": {},
   "outputs": [
    {
     "data": {
      "image/png": "[encoded data removed]",
      "text/plain": [
       "<Figure size 500x400 with 1 Axes>"
      ]
     },
     "metadata": {},
     "output_type": "display_data"
    }
   ],
   "source": [
    "barplot(df, \"Novelty\", color=\"#d66868\", ylim=(0.0, 1.1), x_ticks_label_rotation=0.0)"
   ]
  },
  {
   "cell_type": "markdown",
   "metadata": {},
   "source": [
    "Notice missing values (e.g., \"Novelty\" for \"s5\") are not shown in the barplot.\n"
   ]
  },
  {
   "cell_type": "markdown",
   "metadata": {},
   "source": [
    "### Caching\n"
   ]
  },
  {
   "cell_type": "markdown",
   "metadata": {},
   "source": [
    "Discriminators and embedders can be computational expensive to execute. To reduce the number of function evaluations for these models, we can cache the results of discriminators and embedders.\n",
    "\n",
    "The cache works like this: If a (sequence, embedding)-pair is already stored in the cache then retrieve the embedding. Otherwise compute the embedding, store the pair in the cache and retrieve the embedding.\n",
    "\n",
    "Let's create two toy models and the cache.\n"
   ]
  },
  {
   "cell_type": "code",
   "execution_count": null,
   "metadata": {},
   "outputs": [],
   "source": [
    "def my_embedder(sequences: list[str]) -> np.ndarray:\n",
    "    lengths = [len(sequence) for sequence in sequences]\n",
    "    counts = [sequence.count(\"K\") for sequence in sequences]\n",
    "    return np.array([lengths, counts]).T\n",
    "\n",
    "\n",
    "def my_discriminator(sequences: list[str]) -> np.ndarray:\n",
    "    return np.ones(len(sequences)) * 0.85\n",
    "\n",
    "\n",
    "cache = SequenceCache(\n",
    "    models={\n",
    "        \"embedder\": my_embedder,\n",
    "        \"discriminator\": my_discriminator,\n",
    "    }\n",
    ")"
   ]
  },
  {
   "cell_type": "markdown",
   "metadata": {},
   "source": [
    "Optional: We can manually add model outputs to the cache. This is useful when e.g., (sequence, embedding)-pairs are already pre-computed and stored in a file.\n"
   ]
  },
  {
   "cell_type": "code",
   "execution_count": null,
   "metadata": {},
   "outputs": [],
   "source": [
    "seqs = [\"MKQW\", \"AA\", \"BB\"]\n",
    "reps = my_embedder(seqs)\n",
    "\n",
    "pairs = {seq: rep for seq, rep in zip(seqs, reps)}\n",
    "\n",
    "cache.add(model_name=\"embedder\", pairs=pairs)"
   ]
  },
  {
   "cell_type": "markdown",
   "metadata": {},
   "source": [
    "Let's compute the metrics. Since both `FID` objects use the same embedding model (`embedder`), the embedding is only computed once per sequence in `sequences` (instead of twice)!\n",
    "\n",
    "Notice, we now use `cache.model()` instead of the embedder reference directly.\n"
   ]
  },
  {
   "cell_type": "code",
   "execution_count": null,
   "metadata": {},
   "outputs": [
    {
     "data": {
      "application/vnd.jupyter.widget-view+json": {
       "model_id": "d60c277df4484a9fa4098996bf1cfa15",
       "version_major": 2,
       "version_minor": 0
      },
      "text/plain": [
       "Output()"
      ]
     },
     "metadata": {},
     "output_type": "display_data"
    },
    {
     "data": {
      "text/html": [
       "<pre style=\"white-space:pre;overflow-x:auto;line-height:normal;font-family:Menlo,'DejaVu Sans Mono',consolas,'Courier New',monospace\"></pre>\n"
      ],
      "text/plain": []
     },
     "metadata": {},
     "output_type": "display_data"
    },
    {
     "data": {
      "text/html": [
       "<style type=\"text/css\">\n",
       "#T_a9ea4 th.col_heading {\n",
       "  text-align: center;\n",
       "}\n",
       "#T_a9ea4 td {\n",
       "  border-right: 1px solid #ccc;\n",
       "}\n",
       "#T_a9ea4 th.row_heading {\n",
       "  border-right: 1px solid #ccc;\n",
       "}\n",
       "#T_a9ea4_row0_col0, #T_a9ea4_row1_col1 {\n",
       "  text-decoration: underline;\n",
       "  font-weight: bold;\n",
       "}\n",
       "#T_a9ea4_row0_col1, #T_a9ea4_row2_col0 {\n",
       "  background-color: #68afd6;\n",
       "  font-weight: bold;\n",
       "}\n",
       "</style>\n",
       "<table id=\"T_a9ea4\">\n",
       "  <thead>\n",
       "    <tr>\n",
       "      <th class=\"blank level0\" >&nbsp;</th>\n",
       "      <th id=\"T_a9ea4_level0_col0\" class=\"col_heading level0 col0\" >FID (Random)↓</th>\n",
       "      <th id=\"T_a9ea4_level0_col1\" class=\"col_heading level0 col1\" >FID (UniProt)↓</th>\n",
       "    </tr>\n",
       "  </thead>\n",
       "  <tbody>\n",
       "    <tr>\n",
       "      <th id=\"T_a9ea4_level0_row0\" class=\"row_heading level0 row0\" >hyformer</th>\n",
       "      <td id=\"T_a9ea4_row0_col0\" class=\"data row0 col0\" >0.82</td>\n",
       "      <td id=\"T_a9ea4_row0_col1\" class=\"data row0 col1\" >4.11</td>\n",
       "    </tr>\n",
       "    <tr>\n",
       "      <th id=\"T_a9ea4_level0_row1\" class=\"row_heading level0 row1\" >HydrAMP</th>\n",
       "      <td id=\"T_a9ea4_row1_col0\" class=\"data row1 col0\" >1.00</td>\n",
       "      <td id=\"T_a9ea4_row1_col1\" class=\"data row1 col1\" >5.75</td>\n",
       "    </tr>\n",
       "    <tr>\n",
       "      <th id=\"T_a9ea4_level0_row2\" class=\"row_heading level0 row2\" >Random</th>\n",
       "      <td id=\"T_a9ea4_row2_col0\" class=\"data row2 col0\" >0.00</td>\n",
       "      <td id=\"T_a9ea4_row2_col1\" class=\"data row2 col1\" >7.75</td>\n",
       "    </tr>\n",
       "  </tbody>\n",
       "</table>\n"
      ],
      "text/plain": [
       "<pandas.io.formats.style.Styler at 0x12a6ac0a0>"
      ]
     },
     "execution_count": null,
     "metadata": {},
     "output_type": "execute_result"
    }
   ],
   "source": [
    "df = compute_metrics(\n",
    "    sequences={\n",
    "        \"hyformer\": [\"MKQW\", \"RKSPL\", \"RASD\"],\n",
    "        \"HydrAMP\": [\"MKQW\", \"RKSPL\"],\n",
    "        \"Random\": [\"AAAA\", \"PPPPP\"],\n",
    "    },\n",
    "    metrics=[\n",
    "        FID(\n",
    "            reference=[\"AAAA\", \"PPPPP\"],\n",
    "            reference_name=\"Random\",\n",
    "            embedder=cache.model(\"embedder\"),\n",
    "        ),\n",
    "        FID(\n",
    "            reference=[\"KKRK\", \"QRR\"],\n",
    "            reference_name=\"UniProt\",\n",
    "            embedder=cache.model(\"embedder\"),\n",
    "        ),\n",
    "    ],\n",
    ")\n",
    "\n",
    "show_table(df, color=\"#68afd6\")"
   ]
  },
  {
   "cell_type": "markdown",
   "metadata": {},
   "source": [
    "Let's write the cached (sequence, embedding)-pairs for each model to a file and reinitialize the cache.\n"
   ]
  },
  {
   "cell_type": "code",
   "execution_count": null,
   "metadata": {},
   "outputs": [
    {
     "name": "stdout",
     "output_type": "stream",
     "text": [
      "{'discriminator': {},\n",
      " 'embedder': {'AA': array([2, 0]),\n",
      "              'AAAA': array([4, 0]),\n",
      "              'BB': array([2, 0]),\n",
      "              'KKRK': array([4, 3]),\n",
      "              'MKQW': array([4, 1]),\n",
      "              'PPPPP': array([5, 0]),\n",
      "              'QRR': array([3, 0]),\n",
      "              'RASD': array([4, 0]),\n",
      "              'RKSPL': array([5, 1])}}\n"
     ]
    }
   ],
   "source": [
    "PATH = \"precomputed.pkl\"\n",
    "\n",
    "with open(PATH, \"wb\") as f:\n",
    "    pickle.dump(cache.get(), f)\n",
    "\n",
    "with open(PATH, \"rb\") as f:\n",
    "    precomputed = pickle.load(f)\n",
    "\n",
    "cache = SequenceCache(init_cache=precomputed)\n",
    "pprint(cache.get())"
   ]
  },
  {
   "cell_type": "markdown",
   "metadata": {},
   "source": [
    "### Creating a new metric\n"
   ]
  },
  {
   "cell_type": "markdown",
   "metadata": {},
   "source": [
    "You can also intergrate your own metrics into pepme through the `Metric` interface as shown below.\n"
   ]
  },
  {
   "cell_type": "code",
   "execution_count": null,
   "metadata": {},
   "outputs": [],
   "source": [
    "class MyMetric(Metric):\n",
    "    def __init__(self, amino_acid: str, minimize: bool = True):\n",
    "        self.amino_acid = amino_acid\n",
    "        self.minimize = minimize\n",
    "\n",
    "    def __call__(self, sequences: list[str]) -> MetricResult:\n",
    "        aa_count = sum([seq.count(self.amino_acid) for seq in sequences])\n",
    "        aa_total = sum([len(sequence) for sequence in sequences])\n",
    "        return MetricResult(aa_count / aa_total)\n",
    "\n",
    "    @property\n",
    "    def name(self) -> str:\n",
    "        return f\"{self.amino_acid}-frequency\"\n",
    "\n",
    "    @property\n",
    "    def objective(self) -> Literal[\"minimize\", \"maximize\", \"ambiguous\"]:\n",
    "        return \"minimize\" if self.minimize else \"maximize\""
   ]
  },
  {
   "cell_type": "markdown",
   "metadata": {},
   "source": [
    "Let's use our new metric.\n"
   ]
  },
  {
   "cell_type": "code",
   "execution_count": null,
   "metadata": {},
   "outputs": [
    {
     "data": {
      "application/vnd.jupyter.widget-view+json": {
       "model_id": "d332350be7cf496799d29c709739a15d",
       "version_major": 2,
       "version_minor": 0
      },
      "text/plain": [
       "Output()"
      ]
     },
     "metadata": {},
     "output_type": "display_data"
    },
    {
     "data": {
      "text/html": [
       "<pre style=\"white-space:pre;overflow-x:auto;line-height:normal;font-family:Menlo,'DejaVu Sans Mono',consolas,'Courier New',monospace\"></pre>\n"
      ],
      "text/plain": []
     },
     "metadata": {},
     "output_type": "display_data"
    },
    {
     "data": {
      "text/html": [
       "<style type=\"text/css\">\n",
       "#T_1b854 th.col_heading {\n",
       "  text-align: center;\n",
       "}\n",
       "#T_1b854 td {\n",
       "  border-right: 1px solid #ccc;\n",
       "}\n",
       "#T_1b854 th.row_heading {\n",
       "  border-right: 1px solid #ccc;\n",
       "}\n",
       "#T_1b854_row0_col0, #T_1b854_row1_col1 {\n",
       "  text-decoration: underline;\n",
       "  font-weight: bold;\n",
       "}\n",
       "#T_1b854_row1_col0, #T_1b854_row2_col1 {\n",
       "  background-color: #e07fe1;\n",
       "  font-weight: bold;\n",
       "}\n",
       "</style>\n",
       "<table id=\"T_1b854\">\n",
       "  <thead>\n",
       "    <tr>\n",
       "      <th class=\"blank level0\" >&nbsp;</th>\n",
       "      <th id=\"T_1b854_level0_col0\" class=\"col_heading level0 col0\" >K-frequency↑</th>\n",
       "      <th id=\"T_1b854_level0_col1\" class=\"col_heading level0 col1\" >R-frequency↓</th>\n",
       "    </tr>\n",
       "  </thead>\n",
       "  <tbody>\n",
       "    <tr>\n",
       "      <th id=\"T_1b854_level0_row0\" class=\"row_heading level0 row0\" >hyformer</th>\n",
       "      <td id=\"T_1b854_row0_col0\" class=\"data row0 col0\" >0.15</td>\n",
       "      <td id=\"T_1b854_row0_col1\" class=\"data row0 col1\" >0.15</td>\n",
       "    </tr>\n",
       "    <tr>\n",
       "      <th id=\"T_1b854_level0_row1\" class=\"row_heading level0 row1\" >HydrAMP</th>\n",
       "      <td id=\"T_1b854_row1_col0\" class=\"data row1 col0\" >0.22</td>\n",
       "      <td id=\"T_1b854_row1_col1\" class=\"data row1 col1\" >0.11</td>\n",
       "    </tr>\n",
       "    <tr>\n",
       "      <th id=\"T_1b854_level0_row2\" class=\"row_heading level0 row2\" >Random</th>\n",
       "      <td id=\"T_1b854_row2_col0\" class=\"data row2 col0\" >0.00</td>\n",
       "      <td id=\"T_1b854_row2_col1\" class=\"data row2 col1\" >0.00</td>\n",
       "    </tr>\n",
       "  </tbody>\n",
       "</table>\n"
      ],
      "text/plain": [
       "<pandas.io.formats.style.Styler at 0x12a75ad30>"
      ]
     },
     "execution_count": null,
     "metadata": {},
     "output_type": "execute_result"
    }
   ],
   "source": [
    "df = compute_metrics(\n",
    "    sequences={\n",
    "        \"hyformer\": [\"MKQW\", \"RKSPL\", \"RASD\"],\n",
    "        \"HydrAMP\": [\"MKQW\", \"RKSPL\"],\n",
    "        \"Random\": [\"AAAA\", \"PPPPP\"],\n",
    "    },\n",
    "    metrics=[\n",
    "        MyMetric(amino_acid=\"K\", minimize=False),\n",
    "        MyMetric(amino_acid=\"R\", minimize=True),\n",
    "    ],\n",
    ")\n",
    "\n",
    "show_table(df, color=\"#e07fe1\")"
   ]
  },
  {
   "cell_type": "markdown",
   "metadata": {},
   "source": [
    "This is all there is to pepme! 🎉\n"
   ]
  }
 ],
 "metadata": {
  "kernelspec": {
   "display_name": ".venv",
   "language": "python",
   "name": "python3"
  },
  "language_info": {
   "codemirror_mode": {
    "name": "ipython",
    "version": 3
   },
   "file_extension": ".py",
   "mimetype": "text/x-python",
   "name": "python",
   "nbconvert_exporter": "python",
   "pygments_lexer": "ipython3",
   "version": "3.9.6"
  }
 },
 "nbformat": 4,
 "nbformat_minor": 2
}
