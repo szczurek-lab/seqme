{
 "cells": [
  {
   "cell_type": "markdown",
   "id": "0",
   "metadata": {},
   "source": [
    "# Benchmark\n"
   ]
  },
  {
   "cell_type": "code",
   "execution_count": null,
   "id": "1",
   "metadata": {},
   "outputs": [],
   "source": [
    "import numpy as np\n",
    "\n",
    "from pepme.core import (\n",
    "    SequenceCache,\n",
    "    barplot,\n",
    "    compute_metrics,\n",
    "    random_subset,\n",
    "    show_table,\n",
    ")\n",
    "from pepme.metrics.fid import FID\n",
    "from pepme.metrics.gravy import Gravy\n",
    "from pepme.metrics.novelty import Novelty\n",
    "from pepme.utils import read_fasta_file"
   ]
  },
  {
   "cell_type": "markdown",
   "id": "2",
   "metadata": {},
   "source": [
    "Let's load the datasets.\n"
   ]
  },
  {
   "cell_type": "code",
   "execution_count": null,
   "id": "3",
   "metadata": {},
   "outputs": [],
   "source": [
    "DATASET_PATHS = {\n",
    "    \"AMP-diffusion\": \"../data/amp-diffusion.fasta\",\n",
    "    \"AMP-GAN\": \"../data/amp-gan.fasta\",\n",
    "    \"CPL-Diff\": \"../data/cpl-diff.fasta\",\n",
    "    # \"Diff-AMP\": \"../data/diff-amp.fasta\",\n",
    "    \"HydrAMP\": \"../data/hydramp.fasta\",\n",
    "}"
   ]
  },
  {
   "cell_type": "code",
   "execution_count": null,
   "id": "4",
   "metadata": {},
   "outputs": [],
   "source": [
    "datasets = {name: read_fasta_file(path) for name, path in DATASET_PATHS.items()}"
   ]
  },
  {
   "cell_type": "code",
   "execution_count": null,
   "id": "5",
   "metadata": {},
   "outputs": [
    {
     "name": "stdout",
     "output_type": "stream",
     "text": [
      "AMP-diffusion: 47671 sequences\n",
      "AMP-GAN: 150000 sequences\n",
      "CPL-Diff: 49985 sequences\n",
      "HydrAMP: 50000 sequences\n"
     ]
    }
   ],
   "source": [
    "for model_name, sequences in datasets.items():\n",
    "    print(f\"{model_name}: {len(sequences)} sequences\")"
   ]
  },
  {
   "cell_type": "markdown",
   "id": "6",
   "metadata": {},
   "source": [
    "Let's compute the metrics for these datasets.\n"
   ]
  },
  {
   "cell_type": "code",
   "execution_count": null,
   "id": "7",
   "metadata": {},
   "outputs": [],
   "source": [
    "n_samples = 20_000\n",
    "seed = 42\n",
    "\n",
    "benchmark_datasets = {\n",
    "    name: random_subset(sequences, n_samples=n_samples, seed=seed)\n",
    "    for name, sequences in datasets.items()\n",
    "}\n",
    "\n",
    "\n",
    "# @TODO: replace with ESM2 when implemented\n",
    "def my_embedder(sequences: list[str]) -> np.ndarray:\n",
    "    lengths = [len(sequence) for sequence in sequences]\n",
    "    counts = [sequence.count(\"K\") for sequence in sequences]\n",
    "    return np.array([lengths, counts]).T\n",
    "\n",
    "\n",
    "cache = SequenceCache(models={\"embedder\": my_embedder})\n",
    "\n",
    "metrics = [\n",
    "    Novelty(reference=benchmark_datasets[\"HydrAMP\"], reference_name=\"Random\"),\n",
    "    FID(reference=benchmark_datasets[\"HydrAMP\"], embedder=cache.model(\"embedder\")),\n",
    "    Gravy(),\n",
    "]"
   ]
  },
  {
   "cell_type": "code",
   "execution_count": null,
   "id": "8",
   "metadata": {},
   "outputs": [
    {
     "data": {
      "application/vnd.jupyter.widget-view+json": {
       "model_id": "761c3416d9854eba96356d1240cdb902",
       "version_major": 2,
       "version_minor": 0
      },
      "text/plain": [
       "Output()"
      ]
     },
     "metadata": {},
     "output_type": "display_data"
    },
    {
     "data": {
      "text/html": [
       "<pre style=\"white-space:pre;overflow-x:auto;line-height:normal;font-family:Menlo,'DejaVu Sans Mono',consolas,'Courier New',monospace\"></pre>\n"
      ],
      "text/plain": []
     },
     "metadata": {},
     "output_type": "display_data"
    }
   ],
   "source": [
    "df = compute_metrics(benchmark_datasets, metrics)"
   ]
  },
  {
   "cell_type": "markdown",
   "id": "9",
   "metadata": {},
   "source": [
    "Let's look at the results.\n"
   ]
  },
  {
   "cell_type": "code",
   "execution_count": null,
   "id": "10",
   "metadata": {},
   "outputs": [
    {
     "data": {
      "text/html": [
       "<div>\n",
       "<style scoped>\n",
       "    .dataframe tbody tr th:only-of-type {\n",
       "        vertical-align: middle;\n",
       "    }\n",
       "\n",
       "    .dataframe tbody tr th {\n",
       "        vertical-align: top;\n",
       "    }\n",
       "\n",
       "    .dataframe thead tr th {\n",
       "        text-align: left;\n",
       "    }\n",
       "</style>\n",
       "<table border=\"1\" class=\"dataframe\">\n",
       "  <thead>\n",
       "    <tr>\n",
       "      <th></th>\n",
       "      <th colspan=\"2\" halign=\"left\">Novelty (Random)</th>\n",
       "      <th colspan=\"2\" halign=\"left\">FID</th>\n",
       "      <th colspan=\"2\" halign=\"left\">Gravy</th>\n",
       "    </tr>\n",
       "    <tr>\n",
       "      <th></th>\n",
       "      <th>value</th>\n",
       "      <th>deviation</th>\n",
       "      <th>value</th>\n",
       "      <th>deviation</th>\n",
       "      <th>value</th>\n",
       "      <th>deviation</th>\n",
       "    </tr>\n",
       "  </thead>\n",
       "  <tbody>\n",
       "    <tr>\n",
       "      <th>AMP-diffusion</th>\n",
       "      <td>1.0</td>\n",
       "      <td>NaN</td>\n",
       "      <td>81.468731</td>\n",
       "      <td>NaN</td>\n",
       "      <td>-0.005596</td>\n",
       "      <td>0.037388</td>\n",
       "    </tr>\n",
       "    <tr>\n",
       "      <th>AMP-GAN</th>\n",
       "      <td>1.0</td>\n",
       "      <td>NaN</td>\n",
       "      <td>17.056422</td>\n",
       "      <td>NaN</td>\n",
       "      <td>-0.003131</td>\n",
       "      <td>0.154005</td>\n",
       "    </tr>\n",
       "    <tr>\n",
       "      <th>CPL-Diff</th>\n",
       "      <td>1.0</td>\n",
       "      <td>NaN</td>\n",
       "      <td>46.939194</td>\n",
       "      <td>NaN</td>\n",
       "      <td>-0.010713</td>\n",
       "      <td>0.107596</td>\n",
       "    </tr>\n",
       "    <tr>\n",
       "      <th>HydrAMP</th>\n",
       "      <td>0.0</td>\n",
       "      <td>NaN</td>\n",
       "      <td>0.000000</td>\n",
       "      <td>NaN</td>\n",
       "      <td>-0.021701</td>\n",
       "      <td>0.064610</td>\n",
       "    </tr>\n",
       "  </tbody>\n",
       "</table>\n",
       "</div>"
      ],
      "text/plain": [
       "              Novelty (Random)                  FID               Gravy  \\\n",
       "                         value deviation      value deviation     value   \n",
       "AMP-diffusion              1.0       NaN  81.468731       NaN -0.005596   \n",
       "AMP-GAN                    1.0       NaN  17.056422       NaN -0.003131   \n",
       "CPL-Diff                   1.0       NaN  46.939194       NaN -0.010713   \n",
       "HydrAMP                    0.0       NaN   0.000000       NaN -0.021701   \n",
       "\n",
       "                         \n",
       "              deviation  \n",
       "AMP-diffusion  0.037388  \n",
       "AMP-GAN        0.154005  \n",
       "CPL-Diff       0.107596  \n",
       "HydrAMP        0.064610  "
      ]
     },
     "execution_count": null,
     "metadata": {},
     "output_type": "execute_result"
    }
   ],
   "source": [
    "df"
   ]
  },
  {
   "cell_type": "code",
   "execution_count": null,
   "id": "11",
   "metadata": {},
   "outputs": [
    {
     "data": {
      "text/html": [
       "<style type=\"text/css\">\n",
       "#T_f477b th.col_heading {\n",
       "  text-align: center;\n",
       "}\n",
       "#T_f477b td {\n",
       "  border-right: 1px solid #ccc;\n",
       "}\n",
       "#T_f477b th.row_heading {\n",
       "  border-right: 1px solid #ccc;\n",
       "}\n",
       "#T_f477b_row0_col0, #T_f477b_row1_col0, #T_f477b_row2_col0, #T_f477b_row3_col1 {\n",
       "  background-color: #68d6bc;\n",
       "  font-weight: bold;\n",
       "}\n",
       "#T_f477b_row1_col1 {\n",
       "  text-decoration: underline;\n",
       "  font-weight: bold;\n",
       "}\n",
       "</style>\n",
       "<table id=\"T_f477b\">\n",
       "  <thead>\n",
       "    <tr>\n",
       "      <th class=\"blank level0\" >&nbsp;</th>\n",
       "      <th id=\"T_f477b_level0_col0\" class=\"col_heading level0 col0\" >Novelty (Random)↑</th>\n",
       "      <th id=\"T_f477b_level0_col1\" class=\"col_heading level0 col1\" >FID↓</th>\n",
       "      <th id=\"T_f477b_level0_col2\" class=\"col_heading level0 col2\" >Gravy</th>\n",
       "    </tr>\n",
       "  </thead>\n",
       "  <tbody>\n",
       "    <tr>\n",
       "      <th id=\"T_f477b_level0_row0\" class=\"row_heading level0 row0\" >AMP-diffusion</th>\n",
       "      <td id=\"T_f477b_row0_col0\" class=\"data row0 col0\" >1.00</td>\n",
       "      <td id=\"T_f477b_row0_col1\" class=\"data row0 col1\" >81.47</td>\n",
       "      <td id=\"T_f477b_row0_col2\" class=\"data row0 col2\" >-0.01±0.04</td>\n",
       "    </tr>\n",
       "    <tr>\n",
       "      <th id=\"T_f477b_level0_row1\" class=\"row_heading level0 row1\" >AMP-GAN</th>\n",
       "      <td id=\"T_f477b_row1_col0\" class=\"data row1 col0\" >1.00</td>\n",
       "      <td id=\"T_f477b_row1_col1\" class=\"data row1 col1\" >17.06</td>\n",
       "      <td id=\"T_f477b_row1_col2\" class=\"data row1 col2\" >-0.00±0.15</td>\n",
       "    </tr>\n",
       "    <tr>\n",
       "      <th id=\"T_f477b_level0_row2\" class=\"row_heading level0 row2\" >CPL-Diff</th>\n",
       "      <td id=\"T_f477b_row2_col0\" class=\"data row2 col0\" >1.00</td>\n",
       "      <td id=\"T_f477b_row2_col1\" class=\"data row2 col1\" >46.94</td>\n",
       "      <td id=\"T_f477b_row2_col2\" class=\"data row2 col2\" >-0.01±0.11</td>\n",
       "    </tr>\n",
       "    <tr>\n",
       "      <th id=\"T_f477b_level0_row3\" class=\"row_heading level0 row3\" >HydrAMP</th>\n",
       "      <td id=\"T_f477b_row3_col0\" class=\"data row3 col0\" >0.00</td>\n",
       "      <td id=\"T_f477b_row3_col1\" class=\"data row3 col1\" >0.00</td>\n",
       "      <td id=\"T_f477b_row3_col2\" class=\"data row3 col2\" >-0.02±0.06</td>\n",
       "    </tr>\n",
       "  </tbody>\n",
       "</table>\n"
      ],
      "text/plain": [
       "<pandas.io.formats.style.Styler at 0x14a957e20>"
      ]
     },
     "execution_count": null,
     "metadata": {},
     "output_type": "execute_result"
    }
   ],
   "source": [
    "show_table(df, decimals=2)"
   ]
  },
  {
   "cell_type": "code",
   "execution_count": null,
   "id": "12",
   "metadata": {},
   "outputs": [
    {
     "data": {
      "image/png": "[encoded data removed]",
      "text/plain": [
       "<Figure size 500x400 with 1 Axes>"
      ]
     },
     "metadata": {},
     "output_type": "display_data"
    }
   ],
   "source": [
    "barplot(df, \"Novelty (Random)\")"
   ]
  }
 ],
 "metadata": {
  "kernelspec": {
   "display_name": ".venv",
   "language": "python",
   "name": "python3"
  },
  "language_info": {
   "codemirror_mode": {
    "name": "ipython",
    "version": 3
   },
   "file_extension": ".py",
   "mimetype": "text/x-python",
   "name": "python",
   "nbconvert_exporter": "python",
   "pygments_lexer": "ipython3",
   "version": "3.9.6"
  }
 },
 "nbformat": 4,
 "nbformat_minor": 5
}
