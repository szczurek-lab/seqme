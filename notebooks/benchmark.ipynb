{
 "cells": [
  {
   "cell_type": "markdown",
   "id": "0",
   "metadata": {},
   "source": [
    "# Benchmark\n"
   ]
  },
  {
   "cell_type": "code",
   "execution_count": null,
   "id": "1",
   "metadata": {},
   "outputs": [],
   "source": [
    "import numpy as np\n",
    "\n",
    "from pepme.core import (\n",
    "    FeatureCache,\n",
    "    barplot,\n",
    "    compute_metrics,\n",
    "    random_subset,\n",
    "    show_table,\n",
    ")\n",
    "from pepme.embeddings.property_embedding import PropertyEmbedding\n",
    "from pepme.metrics.fid import FID\n",
    "from pepme.metrics.id import ID\n",
    "from pepme.metrics.novelty import Novelty\n",
    "from pepme.properties.normalizers import MinMaxNorm\n",
    "from pepme.properties.physico_chemical import Gravy, MolecularWeight\n",
    "from pepme.utils import read_fasta_file\n"
   ]
  },
  {
   "cell_type": "markdown",
   "id": "2",
   "metadata": {},
   "source": [
    "Let's load the datasets.\n"
   ]
  },
  {
   "cell_type": "code",
   "execution_count": 21,
   "id": "3",
   "metadata": {},
   "outputs": [],
   "source": [
    "DATASET_PATHS = {\n",
    "    \"AMP-Diffusion\": \"../data/amp-diffusion.fasta\",\n",
    "    \"AMP-GAN\": \"../data/amp-gan.fasta\",\n",
    "    \"CPL-Diff\": \"../data/cpl-diff.fasta\",\n",
    "    \"HydrAMP\": \"../data/hydramp.fasta\",\n",
    "    \"OmegAMP\": \"../data/omegamp.fasta\",\n",
    "    \"DBAASP\": \"../data/dbaasp.fasta\",\n",
    "    \"UniProt\": \"../data/uniprot/uniprot_8_50_100.fasta\",\n",
    "}"
   ]
  },
  {
   "cell_type": "code",
   "execution_count": 22,
   "id": "4",
   "metadata": {},
   "outputs": [],
   "source": [
    "datasets = {name: read_fasta_file(path) for name, path in DATASET_PATHS.items()}"
   ]
  },
  {
   "cell_type": "code",
   "execution_count": 23,
   "id": "5",
   "metadata": {},
   "outputs": [
    {
     "name": "stdout",
     "output_type": "stream",
     "text": [
      "AMP-Diffusion: 47671 sequences\n",
      "AMP-GAN: 150000 sequences\n",
      "CPL-Diff: 49985 sequences\n",
      "HydrAMP: 50000 sequences\n",
      "OmegAMP: 149504 sequences\n",
      "DBAASP: 8967 sequences\n",
      "UniProt: 2933310 sequences\n"
     ]
    }
   ],
   "source": [
    "for model_name, sequences in datasets.items():\n",
    "    print(f\"{model_name}: {len(sequences)} sequences\")"
   ]
  },
  {
   "cell_type": "markdown",
   "id": "6",
   "metadata": {},
   "source": [
    "Let's define the metrics.\n"
   ]
  },
  {
   "cell_type": "code",
   "execution_count": 25,
   "id": "7",
   "metadata": {},
   "outputs": [],
   "source": [
    "n_samples = 50_000\n",
    "seed = 42\n",
    "\n",
    "benchmark_datasets = {\n",
    "    name: random_subset(sequences, n_samples=n_samples, seed=seed)\n",
    "    if len(sequences) > n_samples\n",
    "    else sequences\n",
    "    for name, sequences in datasets.items()\n",
    "}\n",
    "\n",
    "\n",
    "# @TODO: replace with ESM2 when implemented\n",
    "def my_embedder(sequences: list[str]) -> np.ndarray:\n",
    "    lengths = [len(sequence) for sequence in sequences]\n",
    "    counts = [sequence.count(\"K\") for sequence in sequences]\n",
    "    return np.array([lengths, counts]).T\n",
    "\n",
    "\n",
    "physico_chemical_embedder = PropertyEmbedding(\n",
    "    predictors=[\n",
    "        MinMaxNorm(Gravy()),\n",
    "        MinMaxNorm(MolecularWeight()),\n",
    "    ]\n",
    ")\n",
    "\n",
    "cache = FeatureCache(\n",
    "    models={\"embedder\": my_embedder, \"physico-chemical\": physico_chemical_embedder}\n",
    ")\n",
    "\n",
    "\n",
    "metrics = [\n",
    "    Novelty(reference=benchmark_datasets[\"DBAASP\"], reference_name=\"DBAASP\"),\n",
    "    FID(\n",
    "        reference=benchmark_datasets[\"DBAASP\"],\n",
    "        embedder=cache.model(\"physico-chemical\"),\n",
    "        reference_name=\"DBAASP\",\n",
    "    ),\n",
    "    ID(Gravy(), name=\"Gravy\", objective=\"minimize\"),\n",
    "]"
   ]
  },
  {
   "cell_type": "code",
   "execution_count": 26,
   "id": "8",
   "metadata": {},
   "outputs": [
    {
     "name": "stderr",
     "output_type": "stream",
     "text": [
      "100%|██████████| 21/21 [00:01<00:00, 16.30it/s, data=UniProt, metric=Gravy]             \n"
     ]
    }
   ],
   "source": [
    "df = compute_metrics(benchmark_datasets, metrics)"
   ]
  },
  {
   "cell_type": "markdown",
   "id": "9",
   "metadata": {},
   "source": [
    "Let's look at the results.\n"
   ]
  },
  {
   "cell_type": "code",
   "execution_count": 28,
   "id": "10",
   "metadata": {},
   "outputs": [
    {
     "data": {
      "text/html": [
       "<style type=\"text/css\">\n",
       "#T_8e84e th.col_heading {\n",
       "  text-align: center;\n",
       "}\n",
       "#T_8e84e td {\n",
       "  border-right: 1px solid #ccc;\n",
       "}\n",
       "#T_8e84e th.row_heading {\n",
       "  border-right: 1px solid #ccc;\n",
       "}\n",
       "#T_8e84e_row3_col0, #T_8e84e_row3_col2, #T_8e84e_row5_col1 {\n",
       "  background-color: #68d6bc;\n",
       "  font-weight: bold;\n",
       "}\n",
       "#T_8e84e_row4_col1, #T_8e84e_row5_col2, #T_8e84e_row6_col0 {\n",
       "  text-decoration: underline;\n",
       "  font-weight: bold;\n",
       "}\n",
       "</style>\n",
       "<table id=\"T_8e84e\">\n",
       "  <thead>\n",
       "    <tr>\n",
       "      <th class=\"blank level0\" >&nbsp;</th>\n",
       "      <th id=\"T_8e84e_level0_col0\" class=\"col_heading level0 col0\" >Novelty (DBAASP)↑</th>\n",
       "      <th id=\"T_8e84e_level0_col1\" class=\"col_heading level0 col1\" >FID (DBAASP)↓</th>\n",
       "      <th id=\"T_8e84e_level0_col2\" class=\"col_heading level0 col2\" >Gravy↓</th>\n",
       "    </tr>\n",
       "  </thead>\n",
       "  <tbody>\n",
       "    <tr>\n",
       "      <th id=\"T_8e84e_level0_row0\" class=\"row_heading level0 row0\" >AMP-Diffusion</th>\n",
       "      <td id=\"T_8e84e_row0_col0\" class=\"data row0 col0\" >0.9993</td>\n",
       "      <td id=\"T_8e84e_row0_col1\" class=\"data row0 col1\" >0.12</td>\n",
       "      <td id=\"T_8e84e_row0_col2\" class=\"data row0 col2\" >-0.16±0.80</td>\n",
       "    </tr>\n",
       "    <tr>\n",
       "      <th id=\"T_8e84e_level0_row1\" class=\"row_heading level0 row1\" >AMP-GAN</th>\n",
       "      <td id=\"T_8e84e_row1_col0\" class=\"data row1 col0\" >0.9986</td>\n",
       "      <td id=\"T_8e84e_row1_col1\" class=\"data row1 col1\" >0.22</td>\n",
       "      <td id=\"T_8e84e_row1_col2\" class=\"data row1 col2\" >0.02±0.81</td>\n",
       "    </tr>\n",
       "    <tr>\n",
       "      <th id=\"T_8e84e_level0_row2\" class=\"row_heading level0 row2\" >CPL-Diff</th>\n",
       "      <td id=\"T_8e84e_row2_col0\" class=\"data row2 col0\" >0.9970</td>\n",
       "      <td id=\"T_8e84e_row2_col1\" class=\"data row2 col1\" >0.04</td>\n",
       "      <td id=\"T_8e84e_row2_col2\" class=\"data row2 col2\" >-0.15±1.20</td>\n",
       "    </tr>\n",
       "    <tr>\n",
       "      <th id=\"T_8e84e_level0_row3\" class=\"row_heading level0 row3\" >HydrAMP</th>\n",
       "      <td id=\"T_8e84e_row3_col0\" class=\"data row3 col0\" >1.0000</td>\n",
       "      <td id=\"T_8e84e_row3_col1\" class=\"data row3 col1\" >0.13</td>\n",
       "      <td id=\"T_8e84e_row3_col2\" class=\"data row3 col2\" >-0.41±0.99</td>\n",
       "    </tr>\n",
       "    <tr>\n",
       "      <th id=\"T_8e84e_level0_row4\" class=\"row_heading level0 row4\" >OmegAMP</th>\n",
       "      <td id=\"T_8e84e_row4_col0\" class=\"data row4 col0\" >0.9803</td>\n",
       "      <td id=\"T_8e84e_row4_col1\" class=\"data row4 col1\" >0.00</td>\n",
       "      <td id=\"T_8e84e_row4_col2\" class=\"data row4 col2\" >-0.33±1.03</td>\n",
       "    </tr>\n",
       "    <tr>\n",
       "      <th id=\"T_8e84e_level0_row5\" class=\"row_heading level0 row5\" >DBAASP</th>\n",
       "      <td id=\"T_8e84e_row5_col0\" class=\"data row5 col0\" >0.0000</td>\n",
       "      <td id=\"T_8e84e_row5_col1\" class=\"data row5 col1\" >0.00</td>\n",
       "      <td id=\"T_8e84e_row5_col2\" class=\"data row5 col2\" >-0.33±1.00</td>\n",
       "    </tr>\n",
       "    <tr>\n",
       "      <th id=\"T_8e84e_level0_row6\" class=\"row_heading level0 row6\" >UniProt</th>\n",
       "      <td id=\"T_8e84e_row6_col0\" class=\"data row6 col0\" >0.9999</td>\n",
       "      <td id=\"T_8e84e_row6_col1\" class=\"data row6 col1\" >0.24</td>\n",
       "      <td id=\"T_8e84e_row6_col2\" class=\"data row6 col2\" >-0.18±0.73</td>\n",
       "    </tr>\n",
       "  </tbody>\n",
       "</table>\n"
      ],
      "text/plain": [
       "<pandas.io.formats.style.Styler at 0x16433b670>"
      ]
     },
     "execution_count": 28,
     "metadata": {},
     "output_type": "execute_result"
    }
   ],
   "source": [
    "show_table(df, decimals=[4, 2, 2])"
   ]
  },
  {
   "cell_type": "code",
   "execution_count": 8,
   "id": "11",
   "metadata": {},
   "outputs": [
    {
     "data": {
      "image/png": "[encoded data removed]",
      "text/plain": [
       "<Figure size 400x300 with 1 Axes>"
      ]
     },
     "metadata": {},
     "output_type": "display_data"
    }
   ],
   "source": [
    "barplot(df, \"FID (DBAASP)\", x_ticks_label_rotation=90)"
   ]
  }
 ],
 "metadata": {
  "kernelspec": {
   "display_name": ".venv",
   "language": "python",
   "name": "python3"
  },
  "language_info": {
   "codemirror_mode": {
    "name": "ipython",
    "version": 3
   },
   "file_extension": ".py",
   "mimetype": "text/x-python",
   "name": "python",
   "nbconvert_exporter": "python",
   "pygments_lexer": "ipython3",
   "version": "3.10.18"
  }
 },
 "nbformat": 4,
 "nbformat_minor": 5
}
