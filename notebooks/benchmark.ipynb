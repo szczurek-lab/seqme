{
 "cells": [
  {
   "cell_type": "markdown",
   "id": "0",
   "metadata": {},
   "source": [
    "# Benchmark\n"
   ]
  },
  {
   "cell_type": "code",
   "execution_count": null,
   "id": "1",
   "metadata": {},
   "outputs": [],
   "source": [
    "import numpy as np\n",
    "\n",
    "from pepme import FeatureCache, compute_metrics, show_table\n",
    "from pepme.metrics import FID, Novelty, Precision, Recall, Uniqueness\n",
    "from pepme.models.embeddings import ESM2\n",
    "from pepme.utils import random_subset, read_fasta_file, shuffle_sequences"
   ]
  },
  {
   "cell_type": "markdown",
   "id": "2",
   "metadata": {},
   "source": [
    "Let's load the datasets.\n"
   ]
  },
  {
   "cell_type": "code",
   "execution_count": null,
   "id": "3",
   "metadata": {},
   "outputs": [],
   "source": [
    "DATASET_PATHS = {\n",
    "    \"AMP-Diffusion\": \"../data/amp-diffusion.fasta\",\n",
    "    \"AMP-GAN\": \"../data/amp-gan.fasta\",\n",
    "    \"CPL-Diff\": \"../data/cpl-diff.fasta\",\n",
    "    \"HydrAMP\": \"../data/hydramp.fasta\",\n",
    "    \"OmegAMP\": \"../data/omegamp.fasta\",\n",
    "    \"DBAASP\": \"../data/dbaasp.fasta\",\n",
    "    \"UniProt\": \"../data/uniprot/uniprot_8_50_100.fasta\",\n",
    "}"
   ]
  },
  {
   "cell_type": "code",
   "execution_count": null,
   "id": "4",
   "metadata": {},
   "outputs": [],
   "source": [
    "datasets = {name: read_fasta_file(path) for name, path in DATASET_PATHS.items()}"
   ]
  },
  {
   "cell_type": "code",
   "execution_count": null,
   "id": "5",
   "metadata": {},
   "outputs": [
    {
     "name": "stdout",
     "output_type": "stream",
     "text": [
      "AMP-Diffusion: 47671 sequences\n",
      "AMP-GAN: 150000 sequences\n",
      "CPL-Diff: 49985 sequences\n",
      "HydrAMP: 50000 sequences\n",
      "OmegAMP: 149504 sequences\n",
      "DBAASP: 8967 sequences\n",
      "UniProt: 2933310 sequences\n"
     ]
    }
   ],
   "source": [
    "for model_name, sequences in datasets.items():\n",
    "    print(f\"{model_name}: {len(sequences)} sequences\")"
   ]
  },
  {
   "cell_type": "code",
   "execution_count": null,
   "id": "6",
   "metadata": {},
   "outputs": [],
   "source": [
    "n_samples = 3_000\n",
    "seed = 42\n",
    "\n",
    "benchmark_datasets = {\n",
    "    name: random_subset(sequences, n_samples=n_samples, seed=seed)\n",
    "    if len(sequences) > n_samples\n",
    "    else sequences\n",
    "    for name, sequences in datasets.items()\n",
    "}\n",
    "\n",
    "benchmark_datasets[\"DBAASP (shuffled)\"] = shuffle_sequences(\n",
    "    benchmark_datasets[\"DBAASP\"]\n",
    ")\n",
    "\n",
    "\n",
    "def my_embedder(sequences: list[str]) -> np.ndarray:\n",
    "    lengths = [len(sequence) for sequence in sequences]\n",
    "    counts = [sequence.count(\"K\") for sequence in sequences]\n",
    "    return np.array([lengths, counts]).T\n",
    "\n",
    "\n",
    "cache = FeatureCache(\n",
    "    models={\n",
    "        \"embedder\": my_embedder,\n",
    "        \"esm2\": ESM2(\n",
    "            model_name=\"esm2_t6_8M_UR50D\",\n",
    "            batch_size=256,\n",
    "            device=\"cpu\",\n",
    "            verbose=False,\n",
    "        ),\n",
    "    }\n",
    ")"
   ]
  },
  {
   "cell_type": "markdown",
   "id": "7",
   "metadata": {},
   "source": [
    "Let's select the metrics."
   ]
  },
  {
   "cell_type": "code",
   "execution_count": null,
   "id": "8",
   "metadata": {},
   "outputs": [],
   "source": [
    "embedder = \"esm2\"  # \"embedder\"\n",
    "\n",
    "metrics = [\n",
    "    Uniqueness(),\n",
    "    Novelty(reference=benchmark_datasets[\"DBAASP\"], reference_name=\"DBAASP\"),\n",
    "    FID(\n",
    "        reference=benchmark_datasets[\"DBAASP\"],\n",
    "        embedder=cache.model(embedder),\n",
    "    ),\n",
    "    Precision(\n",
    "        neighborhood_size=3,\n",
    "        reference=benchmark_datasets[\"DBAASP\"],\n",
    "        embedder=cache.model(embedder),\n",
    "        strict=False,\n",
    "    ),\n",
    "    Recall(\n",
    "        neighborhood_size=3,\n",
    "        reference=benchmark_datasets[\"DBAASP\"],\n",
    "        embedder=cache.model(embedder),\n",
    "        strict=False,\n",
    "    ),\n",
    "]"
   ]
  },
  {
   "cell_type": "code",
   "execution_count": null,
   "id": "9",
   "metadata": {},
   "outputs": [
    {
     "name": "stderr",
     "output_type": "stream",
     "text": [
      "100%|██████████| 40/40 [01:19<00:00,  1.98s/it, data=DBAASP (shuffled), metric=Recall]          \n"
     ]
    }
   ],
   "source": [
    "df = compute_metrics(benchmark_datasets, metrics)"
   ]
  },
  {
   "cell_type": "markdown",
   "id": "10",
   "metadata": {},
   "source": [
    "Let's look at the results.\n"
   ]
  },
  {
   "cell_type": "code",
   "execution_count": null,
   "id": "11",
   "metadata": {},
   "outputs": [
    {
     "data": {
      "text/html": [
       "<style type=\"text/css\">\n",
       "#T_896d1 th.col_heading {\n",
       "  text-align: center;\n",
       "}\n",
       "#T_896d1 td {\n",
       "  border-right: 1px solid #ccc;\n",
       "}\n",
       "#T_896d1 th.row_heading {\n",
       "  border-right: 1px solid #ccc;\n",
       "}\n",
       "#T_896d1_row0_col1, #T_896d1_row3_col0, #T_896d1_row3_col1, #T_896d1_row5_col2, #T_896d1_row5_col3, #T_896d1_row5_col4, #T_896d1_row6_col0, #T_896d1_row6_col1 {\n",
       "  background-color: #68d6bc;\n",
       "  font-weight: bold;\n",
       "}\n",
       "#T_896d1_row4_col2, #T_896d1_row7_col3, #T_896d1_row7_col4 {\n",
       "  text-decoration: underline;\n",
       "  font-weight: bold;\n",
       "}\n",
       "</style>\n",
       "<table id=\"T_896d1\">\n",
       "  <thead>\n",
       "    <tr>\n",
       "      <th class=\"blank level0\" >&nbsp;</th>\n",
       "      <th id=\"T_896d1_level0_col0\" class=\"col_heading level0 col0\" >Uniqueness↑</th>\n",
       "      <th id=\"T_896d1_level0_col1\" class=\"col_heading level0 col1\" >Novelty (DBAASP)↑</th>\n",
       "      <th id=\"T_896d1_level0_col2\" class=\"col_heading level0 col2\" >FID↓</th>\n",
       "      <th id=\"T_896d1_level0_col3\" class=\"col_heading level0 col3\" >Precision↑</th>\n",
       "      <th id=\"T_896d1_level0_col4\" class=\"col_heading level0 col4\" >Recall↑</th>\n",
       "    </tr>\n",
       "  </thead>\n",
       "  <tbody>\n",
       "    <tr>\n",
       "      <th id=\"T_896d1_level0_row0\" class=\"row_heading level0 row0\" >AMP-Diffusion</th>\n",
       "      <td id=\"T_896d1_row0_col0\" class=\"data row0 col0\" >0.9727</td>\n",
       "      <td id=\"T_896d1_row0_col1\" class=\"data row0 col1\" >1.000</td>\n",
       "      <td id=\"T_896d1_row0_col2\" class=\"data row0 col2\" >1.08</td>\n",
       "      <td id=\"T_896d1_row0_col3\" class=\"data row0 col3\" >0.65</td>\n",
       "      <td id=\"T_896d1_row0_col4\" class=\"data row0 col4\" >0.52</td>\n",
       "    </tr>\n",
       "    <tr>\n",
       "      <th id=\"T_896d1_level0_row1\" class=\"row_heading level0 row1\" >AMP-GAN</th>\n",
       "      <td id=\"T_896d1_row1_col0\" class=\"data row1 col0\" >0.9997</td>\n",
       "      <td id=\"T_896d1_row1_col1\" class=\"data row1 col1\" >1.000</td>\n",
       "      <td id=\"T_896d1_row1_col2\" class=\"data row1 col2\" >3.64</td>\n",
       "      <td id=\"T_896d1_row1_col3\" class=\"data row1 col3\" >0.82</td>\n",
       "      <td id=\"T_896d1_row1_col4\" class=\"data row1 col4\" >0.25</td>\n",
       "    </tr>\n",
       "    <tr>\n",
       "      <th id=\"T_896d1_level0_row2\" class=\"row_heading level0 row2\" >CPL-Diff</th>\n",
       "      <td id=\"T_896d1_row2_col0\" class=\"data row2 col0\" >0.9900</td>\n",
       "      <td id=\"T_896d1_row2_col1\" class=\"data row2 col1\" >0.999</td>\n",
       "      <td id=\"T_896d1_row2_col2\" class=\"data row2 col2\" >1.27</td>\n",
       "      <td id=\"T_896d1_row2_col3\" class=\"data row2 col3\" >0.70</td>\n",
       "      <td id=\"T_896d1_row2_col4\" class=\"data row2 col4\" >0.77</td>\n",
       "    </tr>\n",
       "    <tr>\n",
       "      <th id=\"T_896d1_level0_row3\" class=\"row_heading level0 row3\" >HydrAMP</th>\n",
       "      <td id=\"T_896d1_row3_col0\" class=\"data row3 col0\" >1.0000</td>\n",
       "      <td id=\"T_896d1_row3_col1\" class=\"data row3 col1\" >1.000</td>\n",
       "      <td id=\"T_896d1_row3_col2\" class=\"data row3 col2\" >4.38</td>\n",
       "      <td id=\"T_896d1_row3_col3\" class=\"data row3 col3\" >0.56</td>\n",
       "      <td id=\"T_896d1_row3_col4\" class=\"data row3 col4\" >0.45</td>\n",
       "    </tr>\n",
       "    <tr>\n",
       "      <th id=\"T_896d1_level0_row4\" class=\"row_heading level0 row4\" >OmegAMP</th>\n",
       "      <td id=\"T_896d1_row4_col0\" class=\"data row4 col0\" >0.9823</td>\n",
       "      <td id=\"T_896d1_row4_col1\" class=\"data row4 col1\" >0.996</td>\n",
       "      <td id=\"T_896d1_row4_col2\" class=\"data row4 col2\" >1.00</td>\n",
       "      <td id=\"T_896d1_row4_col3\" class=\"data row4 col3\" >0.81</td>\n",
       "      <td id=\"T_896d1_row4_col4\" class=\"data row4 col4\" >0.75</td>\n",
       "    </tr>\n",
       "    <tr>\n",
       "      <th id=\"T_896d1_level0_row5\" class=\"row_heading level0 row5\" >DBAASP</th>\n",
       "      <td id=\"T_896d1_row5_col0\" class=\"data row5 col0\" >0.9950</td>\n",
       "      <td id=\"T_896d1_row5_col1\" class=\"data row5 col1\" >0.000</td>\n",
       "      <td id=\"T_896d1_row5_col2\" class=\"data row5 col2\" >0.00</td>\n",
       "      <td id=\"T_896d1_row5_col3\" class=\"data row5 col3\" >1.00</td>\n",
       "      <td id=\"T_896d1_row5_col4\" class=\"data row5 col4\" >1.00</td>\n",
       "    </tr>\n",
       "    <tr>\n",
       "      <th id=\"T_896d1_level0_row6\" class=\"row_heading level0 row6\" >UniProt</th>\n",
       "      <td id=\"T_896d1_row6_col0\" class=\"data row6 col0\" >1.0000</td>\n",
       "      <td id=\"T_896d1_row6_col1\" class=\"data row6 col1\" >1.000</td>\n",
       "      <td id=\"T_896d1_row6_col2\" class=\"data row6 col2\" >3.57</td>\n",
       "      <td id=\"T_896d1_row6_col3\" class=\"data row6 col3\" >0.68</td>\n",
       "      <td id=\"T_896d1_row6_col4\" class=\"data row6 col4\" >0.52</td>\n",
       "    </tr>\n",
       "    <tr>\n",
       "      <th id=\"T_896d1_level0_row7\" class=\"row_heading level0 row7\" >DBAASP (shuffled)</th>\n",
       "      <td id=\"T_896d1_row7_col0\" class=\"data row7 col0\" >0.9993</td>\n",
       "      <td id=\"T_896d1_row7_col1\" class=\"data row7 col1\" >0.993</td>\n",
       "      <td id=\"T_896d1_row7_col2\" class=\"data row7 col2\" >1.22</td>\n",
       "      <td id=\"T_896d1_row7_col3\" class=\"data row7 col3\" >0.88</td>\n",
       "      <td id=\"T_896d1_row7_col4\" class=\"data row7 col4\" >0.78</td>\n",
       "    </tr>\n",
       "  </tbody>\n",
       "</table>\n"
      ],
      "text/plain": [
       "<pandas.io.formats.style.Styler at 0x118bd3df0>"
      ]
     },
     "execution_count": null,
     "metadata": {},
     "output_type": "execute_result"
    }
   ],
   "source": [
    "show_table(df, decimals=[4, 3, 2, 2, 2])"
   ]
  }
 ],
 "metadata": {
  "kernelspec": {
   "display_name": ".venv",
   "language": "python",
   "name": "python3"
  },
  "language_info": {
   "codemirror_mode": {
    "name": "ipython",
    "version": 3
   },
   "file_extension": ".py",
   "mimetype": "text/x-python",
   "name": "python",
   "nbconvert_exporter": "python",
   "pygments_lexer": "ipython3",
   "version": "3.10.18"
  }
 },
 "nbformat": 4,
 "nbformat_minor": 5
}
