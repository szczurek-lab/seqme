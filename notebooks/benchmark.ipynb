{
 "cells": [
  {
   "cell_type": "markdown",
   "id": "0",
   "metadata": {},
   "source": [
    "# Benchmark\n"
   ]
  },
  {
   "cell_type": "code",
   "execution_count": null,
   "id": "1",
   "metadata": {},
   "outputs": [],
   "source": [
    "import numpy as np\n",
    "\n",
    "from pepme.core import (\n",
    "    SequenceCache,\n",
    "    barplot,\n",
    "    compute_metrics,\n",
    "    random_subset,\n",
    "    show_table,\n",
    ")\n",
    "from pepme.metrics.fid import FID\n",
    "from pepme.metrics.gravy import Gravy\n",
    "from pepme.metrics.novelty import Novelty\n",
    "from pepme.utils import read_fasta_file"
   ]
  },
  {
   "cell_type": "markdown",
   "id": "2",
   "metadata": {},
   "source": [
    "Let's load the datasets.\n"
   ]
  },
  {
   "cell_type": "code",
   "execution_count": null,
   "id": "3",
   "metadata": {},
   "outputs": [],
   "source": [
    "DATASET_PATHS = {\n",
    "    \"AMP-diffusion\": \"../data/amp-diffusion.fasta\",\n",
    "    \"AMP-GAN\": \"../data/amp-gan.fasta\",\n",
    "    \"CPL-Diff\": \"../data/cpl-diff.fasta\",\n",
    "    \"HydrAMP\": \"../data/hydramp.fasta\",\n",
    "    \"OmegAMP\": \"../data/omegAMP/omegamp.fasta\",\n",
    "    # \"Diff-AMP\": \"../data/diff-amp.fasta\",\n",
    "}"
   ]
  },
  {
   "cell_type": "code",
   "execution_count": null,
   "id": "4",
   "metadata": {},
   "outputs": [],
   "source": [
    "datasets = {name: read_fasta_file(path) for name, path in DATASET_PATHS.items()}"
   ]
  },
  {
   "cell_type": "code",
   "execution_count": null,
   "id": "5",
   "metadata": {},
   "outputs": [
    {
     "name": "stdout",
     "output_type": "stream",
     "text": [
      "AMP-diffusion: 47671 sequences\n",
      "AMP-GAN: 150000 sequences\n",
      "CPL-Diff: 49985 sequences\n",
      "HydrAMP: 50000 sequences\n",
      "OmegAMP: 149504 sequences\n"
     ]
    }
   ],
   "source": [
    "for model_name, sequences in datasets.items():\n",
    "    print(f\"{model_name}: {len(sequences)} sequences\")"
   ]
  },
  {
   "cell_type": "markdown",
   "id": "6",
   "metadata": {},
   "source": [
    "Let's define the metrics.\n"
   ]
  },
  {
   "cell_type": "code",
   "execution_count": null,
   "id": "7",
   "metadata": {},
   "outputs": [],
   "source": [
    "n_samples = 40_000\n",
    "seed = 42\n",
    "\n",
    "benchmark_datasets = {\n",
    "    name: random_subset(sequences, n_samples=n_samples, seed=seed)\n",
    "    for name, sequences in datasets.items()\n",
    "}\n",
    "\n",
    "\n",
    "# @TODO: replace with ESM2 when implemented\n",
    "def my_embedder(sequences: list[str]) -> np.ndarray:\n",
    "    lengths = [len(sequence) for sequence in sequences]\n",
    "    counts = [sequence.count(\"K\") for sequence in sequences]\n",
    "    return np.array([lengths, counts]).T\n",
    "\n",
    "\n",
    "cache = SequenceCache(models={\"embedder\": my_embedder})\n",
    "\n",
    "metrics = [\n",
    "    Novelty(reference=benchmark_datasets[\"HydrAMP\"], reference_name=\"HydrAMP\"),\n",
    "    FID(reference=benchmark_datasets[\"HydrAMP\"], embedder=cache.model(\"embedder\")),\n",
    "    Gravy(),\n",
    "]"
   ]
  },
  {
   "cell_type": "code",
   "execution_count": null,
   "id": "8",
   "metadata": {},
   "outputs": [
    {
     "name": "stderr",
     "output_type": "stream",
     "text": [
      "100%|██████████| 15/15 [00:02<00:00,  6.67it/s, data=OmegAMP, metric=Gravy]            \n"
     ]
    }
   ],
   "source": [
    "df = compute_metrics(benchmark_datasets, metrics)"
   ]
  },
  {
   "cell_type": "markdown",
   "id": "9",
   "metadata": {},
   "source": [
    "Let's look at the results.\n"
   ]
  },
  {
   "cell_type": "code",
   "execution_count": null,
   "id": "10",
   "metadata": {},
   "outputs": [
    {
     "data": {
      "text/html": [
       "<style type=\"text/css\">\n",
       "#T_dca64 th.col_heading {\n",
       "  text-align: center;\n",
       "}\n",
       "#T_dca64 td {\n",
       "  border-right: 1px solid #ccc;\n",
       "}\n",
       "#T_dca64 th.row_heading {\n",
       "  border-right: 1px solid #ccc;\n",
       "}\n",
       "#T_dca64_row0_col0, #T_dca64_row1_col0, #T_dca64_row2_col0, #T_dca64_row3_col1, #T_dca64_row4_col0 {\n",
       "  background-color: #68d6bc;\n",
       "  font-weight: bold;\n",
       "}\n",
       "#T_dca64_row1_col1 {\n",
       "  text-decoration: underline;\n",
       "  font-weight: bold;\n",
       "}\n",
       "</style>\n",
       "<table id=\"T_dca64\">\n",
       "  <thead>\n",
       "    <tr>\n",
       "      <th class=\"blank level0\" >&nbsp;</th>\n",
       "      <th id=\"T_dca64_level0_col0\" class=\"col_heading level0 col0\" >Novelty (HydrAMP)↑</th>\n",
       "      <th id=\"T_dca64_level0_col1\" class=\"col_heading level0 col1\" >FID↓</th>\n",
       "      <th id=\"T_dca64_level0_col2\" class=\"col_heading level0 col2\" >Gravy</th>\n",
       "    </tr>\n",
       "  </thead>\n",
       "  <tbody>\n",
       "    <tr>\n",
       "      <th id=\"T_dca64_level0_row0\" class=\"row_heading level0 row0\" >AMP-diffusion</th>\n",
       "      <td id=\"T_dca64_row0_col0\" class=\"data row0 col0\" >1.00</td>\n",
       "      <td id=\"T_dca64_row0_col1\" class=\"data row0 col1\" >82.15</td>\n",
       "      <td id=\"T_dca64_row0_col2\" class=\"data row0 col2\" >-0.01±0.04</td>\n",
       "    </tr>\n",
       "    <tr>\n",
       "      <th id=\"T_dca64_level0_row1\" class=\"row_heading level0 row1\" >AMP-GAN</th>\n",
       "      <td id=\"T_dca64_row1_col0\" class=\"data row1 col0\" >1.00</td>\n",
       "      <td id=\"T_dca64_row1_col1\" class=\"data row1 col1\" >16.73</td>\n",
       "      <td id=\"T_dca64_row1_col2\" class=\"data row1 col2\" >-0.00±0.17</td>\n",
       "    </tr>\n",
       "    <tr>\n",
       "      <th id=\"T_dca64_level0_row2\" class=\"row_heading level0 row2\" >CPL-Diff</th>\n",
       "      <td id=\"T_dca64_row2_col0\" class=\"data row2 col0\" >1.00</td>\n",
       "      <td id=\"T_dca64_row2_col1\" class=\"data row2 col1\" >46.28</td>\n",
       "      <td id=\"T_dca64_row2_col2\" class=\"data row2 col2\" >-0.01±0.11</td>\n",
       "    </tr>\n",
       "    <tr>\n",
       "      <th id=\"T_dca64_level0_row3\" class=\"row_heading level0 row3\" >HydrAMP</th>\n",
       "      <td id=\"T_dca64_row3_col0\" class=\"data row3 col0\" >0.00</td>\n",
       "      <td id=\"T_dca64_row3_col1\" class=\"data row3 col1\" >0.00</td>\n",
       "      <td id=\"T_dca64_row3_col2\" class=\"data row3 col2\" >-0.02±0.06</td>\n",
       "    </tr>\n",
       "    <tr>\n",
       "      <th id=\"T_dca64_level0_row4\" class=\"row_heading level0 row4\" >OmegAMP</th>\n",
       "      <td id=\"T_dca64_row4_col0\" class=\"data row4 col0\" >1.00</td>\n",
       "      <td id=\"T_dca64_row4_col1\" class=\"data row4 col1\" >62.41</td>\n",
       "      <td id=\"T_dca64_row4_col2\" class=\"data row4 col2\" >-0.03±0.14</td>\n",
       "    </tr>\n",
       "  </tbody>\n",
       "</table>\n"
      ],
      "text/plain": [
       "<pandas.io.formats.style.Styler at 0x122050e80>"
      ]
     },
     "execution_count": null,
     "metadata": {},
     "output_type": "execute_result"
    }
   ],
   "source": [
    "show_table(df, decimals=2)"
   ]
  },
  {
   "cell_type": "code",
   "execution_count": null,
   "id": "11",
   "metadata": {},
   "outputs": [
    {
     "data": {
      "image/png": "[encoded data removed]",
      "text/plain": [
       "<Figure size 400x300 with 1 Axes>"
      ]
     },
     "metadata": {},
     "output_type": "display_data"
    }
   ],
   "source": [
    "barplot(df, \"Novelty (HydrAMP)\")"
   ]
  }
 ],
 "metadata": {
  "kernelspec": {
   "display_name": ".venv",
   "language": "python",
   "name": "python3"
  },
  "language_info": {
   "codemirror_mode": {
    "name": "ipython",
    "version": 3
   },
   "file_extension": ".py",
   "mimetype": "text/x-python",
   "name": "python",
   "nbconvert_exporter": "python",
   "pygments_lexer": "ipython3",
   "version": "3.9.6"
  }
 },
 "nbformat": 4,
 "nbformat_minor": 5
}
