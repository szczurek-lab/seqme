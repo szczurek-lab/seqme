{
 "cells": [
  {
   "cell_type": "markdown",
   "id": "0",
   "metadata": {},
   "source": [
    "# Benchmark\n"
   ]
  },
  {
   "cell_type": "code",
   "execution_count": null,
   "id": "1",
   "metadata": {},
   "outputs": [],
   "source": [
    "import numpy as np\n",
    "\n",
    "from pepme.core import (\n",
    "    FeatureCache,\n",
    "    barplot,\n",
    "    compute_metrics,\n",
    "    show_table,\n",
    ")\n",
    "from pepme.embeddings.esm2 import ESM2\n",
    "from pepme.metrics.fid import FID\n",
    "from pepme.metrics.id import ID\n",
    "from pepme.metrics.novelty import Novelty\n",
    "from pepme.metrics.precision_recall import PrecisionRecall\n",
    "from pepme.metrics.uniqueness import Uniqueness\n",
    "from pepme.properties.gravy import Gravy\n",
    "from pepme.utils import random_subset, read_fasta_file"
   ]
  },
  {
   "cell_type": "markdown",
   "id": "2",
   "metadata": {},
   "source": [
    "Let's load the datasets.\n"
   ]
  },
  {
   "cell_type": "code",
   "execution_count": null,
   "id": "3",
   "metadata": {},
   "outputs": [],
   "source": [
    "DATASET_PATHS = {\n",
    "    \"AMP-Diffusion\": \"../data/amp-diffusion.fasta\",\n",
    "    \"AMP-GAN\": \"../data/amp-gan.fasta\",\n",
    "    \"CPL-Diff\": \"../data/cpl-diff.fasta\",\n",
    "    \"HydrAMP\": \"../data/hydramp.fasta\",\n",
    "    \"OmegAMP\": \"../data/omegamp.fasta\",\n",
    "    \"DBAASP\": \"../data/dbaasp.fasta\",\n",
    "    \"UniProt\": \"../data/uniprot/uniprot_8_50_100.fasta\",\n",
    "}"
   ]
  },
  {
   "cell_type": "code",
   "execution_count": null,
   "id": "4",
   "metadata": {},
   "outputs": [],
   "source": [
    "datasets = {name: read_fasta_file(path) for name, path in DATASET_PATHS.items()}"
   ]
  },
  {
   "cell_type": "code",
   "execution_count": null,
   "id": "5",
   "metadata": {},
   "outputs": [
    {
     "name": "stdout",
     "output_type": "stream",
     "text": [
      "AMP-Diffusion: 47671 sequences\n",
      "AMP-GAN: 150000 sequences\n",
      "CPL-Diff: 49985 sequences\n",
      "HydrAMP: 50000 sequences\n",
      "OmegAMP: 149504 sequences\n",
      "DBAASP: 8967 sequences\n",
      "UniProt: 2933310 sequences\n"
     ]
    }
   ],
   "source": [
    "for model_name, sequences in datasets.items():\n",
    "    print(f\"{model_name}: {len(sequences)} sequences\")"
   ]
  },
  {
   "cell_type": "code",
   "execution_count": null,
   "id": "6",
   "metadata": {},
   "outputs": [],
   "source": [
    "n_samples = 3_000\n",
    "seed = 42\n",
    "\n",
    "benchmark_datasets = {\n",
    "    name: random_subset(sequences, n_samples=n_samples, seed=seed)\n",
    "    if len(sequences) > n_samples\n",
    "    else sequences\n",
    "    for name, sequences in datasets.items()\n",
    "}\n",
    "\n",
    "\n",
    "def my_embedder(sequences: list[str]) -> np.ndarray:\n",
    "    lengths = [len(sequence) for sequence in sequences]\n",
    "    counts = [sequence.count(\"K\") for sequence in sequences]\n",
    "    return np.array([lengths, counts]).T\n",
    "\n",
    "\n",
    "cache = FeatureCache(\n",
    "    models={\n",
    "        \"embedder\": my_embedder,\n",
    "        \"esm2\": ESM2(\n",
    "            model_name=\"esm2_t6_8M_UR50D\",\n",
    "            batch_size=256,\n",
    "            device=\"cpu\",\n",
    "            verbose=False,\n",
    "        ),\n",
    "    }\n",
    ")"
   ]
  },
  {
   "cell_type": "markdown",
   "id": "7",
   "metadata": {},
   "source": [
    "Let's select the metrics."
   ]
  },
  {
   "cell_type": "code",
   "execution_count": null,
   "id": "8",
   "metadata": {},
   "outputs": [],
   "source": [
    "embedder = \"esm2\"  # \"embedder\"\n",
    "\n",
    "metrics = [\n",
    "    Novelty(reference=benchmark_datasets[\"DBAASP\"], reference_name=\"DBAASP\"),\n",
    "    Uniqueness(),\n",
    "    FID(\n",
    "        reference=benchmark_datasets[\"DBAASP\"],\n",
    "        embedder=cache.model(embedder),\n",
    "        reference_name=\"DBAASP\",\n",
    "    ),\n",
    "    ID(Gravy(), name=\"Gravy\", objective=\"minimize\"),\n",
    "    PrecisionRecall(\n",
    "        metric=\"precision\",\n",
    "        neighborhood_size=3,\n",
    "        reference=benchmark_datasets[\"DBAASP\"],\n",
    "        embedder=cache.model(embedder),\n",
    "        strict=False,\n",
    "    ),\n",
    "    PrecisionRecall(\n",
    "        metric=\"recall\",\n",
    "        neighborhood_size=3,\n",
    "        reference=benchmark_datasets[\"DBAASP\"],\n",
    "        embedder=cache.model(embedder),\n",
    "        strict=False,\n",
    "    ),\n",
    "]"
   ]
  },
  {
   "cell_type": "code",
   "execution_count": null,
   "id": "9",
   "metadata": {},
   "outputs": [
    {
     "name": "stderr",
     "output_type": "stream",
     "text": [
      "100%|██████████| 42/42 [01:55<00:00,  2.74s/it, data=UniProt, metric=Recall]            \n"
     ]
    }
   ],
   "source": [
    "df = compute_metrics(benchmark_datasets, metrics)"
   ]
  },
  {
   "cell_type": "markdown",
   "id": "10",
   "metadata": {},
   "source": [
    "Let's look at the results.\n"
   ]
  },
  {
   "cell_type": "code",
   "execution_count": null,
   "id": "11",
   "metadata": {},
   "outputs": [
    {
     "data": {
      "text/html": [
       "<style type=\"text/css\">\n",
       "#T_497d7 th.col_heading {\n",
       "  text-align: center;\n",
       "}\n",
       "#T_497d7 td {\n",
       "  border-right: 1px solid #ccc;\n",
       "}\n",
       "#T_497d7 th.row_heading {\n",
       "  border-right: 1px solid #ccc;\n",
       "}\n",
       "#T_497d7_row0_col0, #T_497d7_row3_col0, #T_497d7_row3_col1, #T_497d7_row3_col3, #T_497d7_row5_col2, #T_497d7_row5_col4, #T_497d7_row5_col5, #T_497d7_row6_col0, #T_497d7_row6_col1 {\n",
       "  background-color: #68d6bc;\n",
       "  font-weight: bold;\n",
       "}\n",
       "#T_497d7_row1_col4, #T_497d7_row2_col5, #T_497d7_row4_col2, #T_497d7_row5_col3 {\n",
       "  text-decoration: underline;\n",
       "  font-weight: bold;\n",
       "}\n",
       "</style>\n",
       "<table id=\"T_497d7\">\n",
       "  <thead>\n",
       "    <tr>\n",
       "      <th class=\"blank level0\" >&nbsp;</th>\n",
       "      <th id=\"T_497d7_level0_col0\" class=\"col_heading level0 col0\" >Novelty (DBAASP)↑</th>\n",
       "      <th id=\"T_497d7_level0_col1\" class=\"col_heading level0 col1\" >Uniqueness↑</th>\n",
       "      <th id=\"T_497d7_level0_col2\" class=\"col_heading level0 col2\" >FID (DBAASP)↓</th>\n",
       "      <th id=\"T_497d7_level0_col3\" class=\"col_heading level0 col3\" >Gravy↓</th>\n",
       "      <th id=\"T_497d7_level0_col4\" class=\"col_heading level0 col4\" >Precision↑</th>\n",
       "      <th id=\"T_497d7_level0_col5\" class=\"col_heading level0 col5\" >Recall↑</th>\n",
       "    </tr>\n",
       "  </thead>\n",
       "  <tbody>\n",
       "    <tr>\n",
       "      <th id=\"T_497d7_level0_row0\" class=\"row_heading level0 row0\" >AMP-Diffusion</th>\n",
       "      <td id=\"T_497d7_row0_col0\" class=\"data row0 col0\" >1.0000</td>\n",
       "      <td id=\"T_497d7_row0_col1\" class=\"data row0 col1\" >0.973</td>\n",
       "      <td id=\"T_497d7_row0_col2\" class=\"data row0 col2\" >1.1</td>\n",
       "      <td id=\"T_497d7_row0_col3\" class=\"data row0 col3\" >-0.16±0.78</td>\n",
       "      <td id=\"T_497d7_row0_col4\" class=\"data row0 col4\" >0.654</td>\n",
       "      <td id=\"T_497d7_row0_col5\" class=\"data row0 col5\" >0.5207</td>\n",
       "    </tr>\n",
       "    <tr>\n",
       "      <th id=\"T_497d7_level0_row1\" class=\"row_heading level0 row1\" >AMP-GAN</th>\n",
       "      <td id=\"T_497d7_row1_col0\" class=\"data row1 col0\" >0.9997</td>\n",
       "      <td id=\"T_497d7_row1_col1\" class=\"data row1 col1\" >1.000</td>\n",
       "      <td id=\"T_497d7_row1_col2\" class=\"data row1 col2\" >3.6</td>\n",
       "      <td id=\"T_497d7_row1_col3\" class=\"data row1 col3\" >0.02±0.78</td>\n",
       "      <td id=\"T_497d7_row1_col4\" class=\"data row1 col4\" >0.816</td>\n",
       "      <td id=\"T_497d7_row1_col5\" class=\"data row1 col5\" >0.2523</td>\n",
       "    </tr>\n",
       "    <tr>\n",
       "      <th id=\"T_497d7_level0_row2\" class=\"row_heading level0 row2\" >CPL-Diff</th>\n",
       "      <td id=\"T_497d7_row2_col0\" class=\"data row2 col0\" >0.9990</td>\n",
       "      <td id=\"T_497d7_row2_col1\" class=\"data row2 col1\" >0.990</td>\n",
       "      <td id=\"T_497d7_row2_col2\" class=\"data row2 col2\" >1.3</td>\n",
       "      <td id=\"T_497d7_row2_col3\" class=\"data row2 col3\" >-0.16±1.20</td>\n",
       "      <td id=\"T_497d7_row2_col4\" class=\"data row2 col4\" >0.697</td>\n",
       "      <td id=\"T_497d7_row2_col5\" class=\"data row2 col5\" >0.7683</td>\n",
       "    </tr>\n",
       "    <tr>\n",
       "      <th id=\"T_497d7_level0_row3\" class=\"row_heading level0 row3\" >HydrAMP</th>\n",
       "      <td id=\"T_497d7_row3_col0\" class=\"data row3 col0\" >1.0000</td>\n",
       "      <td id=\"T_497d7_row3_col1\" class=\"data row3 col1\" >1.000</td>\n",
       "      <td id=\"T_497d7_row3_col2\" class=\"data row3 col2\" >4.4</td>\n",
       "      <td id=\"T_497d7_row3_col3\" class=\"data row3 col3\" >-0.41±1.00</td>\n",
       "      <td id=\"T_497d7_row3_col4\" class=\"data row3 col4\" >0.555</td>\n",
       "      <td id=\"T_497d7_row3_col5\" class=\"data row3 col5\" >0.4503</td>\n",
       "    </tr>\n",
       "    <tr>\n",
       "      <th id=\"T_497d7_level0_row4\" class=\"row_heading level0 row4\" >OmegAMP</th>\n",
       "      <td id=\"T_497d7_row4_col0\" class=\"data row4 col0\" >0.9963</td>\n",
       "      <td id=\"T_497d7_row4_col1\" class=\"data row4 col1\" >0.982</td>\n",
       "      <td id=\"T_497d7_row4_col2\" class=\"data row4 col2\" >1.0</td>\n",
       "      <td id=\"T_497d7_row4_col3\" class=\"data row4 col3\" >-0.30±0.99</td>\n",
       "      <td id=\"T_497d7_row4_col4\" class=\"data row4 col4\" >0.811</td>\n",
       "      <td id=\"T_497d7_row4_col5\" class=\"data row4 col5\" >0.7463</td>\n",
       "    </tr>\n",
       "    <tr>\n",
       "      <th id=\"T_497d7_level0_row5\" class=\"row_heading level0 row5\" >DBAASP</th>\n",
       "      <td id=\"T_497d7_row5_col0\" class=\"data row5 col0\" >0.0000</td>\n",
       "      <td id=\"T_497d7_row5_col1\" class=\"data row5 col1\" >0.995</td>\n",
       "      <td id=\"T_497d7_row5_col2\" class=\"data row5 col2\" >0.0</td>\n",
       "      <td id=\"T_497d7_row5_col3\" class=\"data row5 col3\" >-0.31±1.00</td>\n",
       "      <td id=\"T_497d7_row5_col4\" class=\"data row5 col4\" >1.000</td>\n",
       "      <td id=\"T_497d7_row5_col5\" class=\"data row5 col5\" >1.0000</td>\n",
       "    </tr>\n",
       "    <tr>\n",
       "      <th id=\"T_497d7_level0_row6\" class=\"row_heading level0 row6\" >UniProt</th>\n",
       "      <td id=\"T_497d7_row6_col0\" class=\"data row6 col0\" >1.0000</td>\n",
       "      <td id=\"T_497d7_row6_col1\" class=\"data row6 col1\" >1.000</td>\n",
       "      <td id=\"T_497d7_row6_col2\" class=\"data row6 col2\" >3.6</td>\n",
       "      <td id=\"T_497d7_row6_col3\" class=\"data row6 col3\" >-0.18±0.74</td>\n",
       "      <td id=\"T_497d7_row6_col4\" class=\"data row6 col4\" >0.675</td>\n",
       "      <td id=\"T_497d7_row6_col5\" class=\"data row6 col5\" >0.5210</td>\n",
       "    </tr>\n",
       "  </tbody>\n",
       "</table>\n"
      ],
      "text/plain": [
       "<pandas.io.formats.style.Styler at 0x162ffec20>"
      ]
     },
     "execution_count": null,
     "metadata": {},
     "output_type": "execute_result"
    }
   ],
   "source": [
    "show_table(df, decimals=[4, 3, 1, 2, 3, 4])"
   ]
  },
  {
   "cell_type": "code",
   "execution_count": null,
   "id": "12",
   "metadata": {},
   "outputs": [
    {
     "data": {
      "image/png": "[encoded data removed]",
      "text/plain": [
       "<Figure size 400x300 with 1 Axes>"
      ]
     },
     "metadata": {},
     "output_type": "display_data"
    }
   ],
   "source": [
    "barplot(df, \"FID (DBAASP)\", x_ticks_label_rotation=90)"
   ]
  }
 ],
 "metadata": {
  "kernelspec": {
   "display_name": ".venv",
   "language": "python",
   "name": "python3"
  },
  "language_info": {
   "codemirror_mode": {
    "name": "ipython",
    "version": 3
   },
   "file_extension": ".py",
   "mimetype": "text/x-python",
   "name": "python",
   "nbconvert_exporter": "python",
   "pygments_lexer": "ipython3",
   "version": "3.10.18"
  }
 },
 "nbformat": 4,
 "nbformat_minor": 5
}
