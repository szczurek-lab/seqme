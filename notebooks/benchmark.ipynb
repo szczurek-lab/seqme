{
 "cells": [
  {
   "cell_type": "markdown",
   "id": "0",
   "metadata": {},
   "source": [
    "# Benchmark\n"
   ]
  },
  {
   "cell_type": "code",
   "execution_count": null,
   "id": "1",
   "metadata": {},
   "outputs": [],
   "source": [
    "import numpy as np\n",
    "\n",
    "from pepme.core import (\n",
    "    FeatureCache,\n",
    "    barplot,\n",
    "    compute_metrics,\n",
    "    show_table,\n",
    ")\n",
    "from pepme.metrics.fid import FID\n",
    "from pepme.metrics.id import ID\n",
    "from pepme.metrics.novelty import Novelty\n",
    "from pepme.metrics.precision_recall import ImprovedPrecisionRecall\n",
    "from pepme.metrics.precision_recall import ImprovedPrecisionRecall\n",
    "from pepme.properties.gravy import Gravy\n",
    "from pepme.utils.fasta_io import read_fasta_file"
   ]
  },
  {
   "cell_type": "markdown",
   "id": "2",
   "metadata": {},
   "source": [
    "Let's load the datasets.\n"
   ]
  },
  {
   "cell_type": "code",
   "execution_count": null,
   "id": "3",
   "metadata": {},
   "outputs": [],
   "source": [
    "DATASET_PATHS = {\n",
    "    \"AMP-Diffusion\": \"../data/amp-diffusion.fasta\",\n",
    "    \"AMP-GAN\": \"../data/amp-gan.fasta\",\n",
    "    \"CPL-Diff\": \"../data/cpl-diff.fasta\",\n",
    "    \"HydrAMP\": \"../data/hydramp.fasta\",\n",
    "    \"OmegAMP\": \"../data/omegamp.fasta\",\n",
    "    \"DBAASP\": \"../data/dbaasp.fasta\",\n",
    "    \"UniProt\": \"../data/uniprot/uniprot_8_50_100.fasta\",\n",
    "}"
   ]
  },
  {
   "cell_type": "code",
   "execution_count": null,
   "id": "4",
   "metadata": {},
   "outputs": [],
   "source": [
    "datasets = {name: read_fasta_file(path) for name, path in DATASET_PATHS.items()}"
   ]
  },
  {
   "cell_type": "code",
   "execution_count": null,
   "id": "5",
   "metadata": {},
   "outputs": [
    {
     "name": "stdout",
     "output_type": "stream",
     "text": [
      "AMP-Diffusion: 47671 sequences\n",
      "AMP-GAN: 150000 sequences\n",
      "CPL-Diff: 49985 sequences\n",
      "HydrAMP: 50000 sequences\n",
      "OmegAMP: 149504 sequences\n",
      "DBAASP: 8967 sequences\n",
      "UniProt: 2933310 sequences\n"
     ]
    }
   ],
   "source": [
    "for model_name, sequences in datasets.items():\n",
    "    print(f\"{model_name}: {len(sequences)} sequences\")"
   ]
  },
  {
   "cell_type": "markdown",
   "id": "6",
   "metadata": {},
   "source": [
    "Let's define the metrics.\n"
   ]
  },
  {
   "cell_type": "code",
   "execution_count": null,
   "id": "7",
   "metadata": {},
   "outputs": [],
   "source": [
    "n_samples = 50000\n",
    "n_samples = 50000\n",
    "seed = 42\n",
    "\n",
    "benchmark_datasets = {\n",
    "    name: random_subset(sequences, n_samples=n_samples, seed=seed)\n",
    "    if len(sequences) > n_samples\n",
    "    else sequences\n",
    "    for name, sequences in datasets.items()\n",
    "}\n",
    "\n",
    "uniprot_subset = random_subset(benchmark_datasets[\"UniProt\"], n_samples=20_000)\n",
    "\n",
    "uniprot_subset = random_subset(benchmark_datasets[\"UniProt\"], n_samples=20_000)\n",
    "\n",
    "\n",
    "# @TODO: replace with ESM2 when implemented\n",
    "def my_embedder(sequences: list[str]) -> np.ndarray:\n",
    "    lengths = [len(sequence) for sequence in sequences]\n",
    "    counts = [sequence.count(\"K\") for sequence in sequences]\n",
    "    return np.array([lengths, counts]).T\n",
    "\n",
    "\n",
    "cache = FeatureCache(models={\"embedder\": my_embedder})\n",
    "\n",
    "metrics = [\n",
    "    Novelty(reference=benchmark_datasets[\"DBAASP\"], reference_name=\"DBAASP\"),\n",
    "    FID(\n",
    "        reference=benchmark_datasets[\"DBAASP\"],\n",
    "        embedder=cache.model(\"embedder\"),\n",
    "        reference_name=\"DBAASP\",\n",
    "    ),\n",
    "    ID(Gravy(), name=\"Gravy\", objective=\"minimize\"),\n",
    "    ImprovedPrecisionRecall(\n",
    "        metric=\"precision\",\n",
    "        neighborhood_size=3,\n",
    "        reference=uniprot_subset,\n",
    "        embedder=cache.model(\"embedder\"),\n",
    "        strict=False,\n",
    "    ),\n",
    "    ImprovedPrecisionRecall(\n",
    "        metric=\"recall\",\n",
    "        neighborhood_size=3,\n",
    "        reference=uniprot_subset,\n",
    "        embedder=cache.model(\"embedder\"),\n",
    "        strict=False,\n",
    "    ),\n",
    "    ImprovedPrecisionRecall(\n",
    "        metric=\"precision\",\n",
    "        neighborhood_size=3,\n",
    "        reference=uniprot_subset,\n",
    "        embedder=cache.model(\"embedder\"),\n",
    "        strict=False,\n",
    "    ),\n",
    "    ImprovedPrecisionRecall(\n",
    "        metric=\"recall\",\n",
    "        neighborhood_size=3,\n",
    "        reference=uniprot_subset,\n",
    "        embedder=cache.model(\"embedder\"),\n",
    "        strict=False,\n",
    "    ),\n",
    "]"
   ]
  },
  {
   "cell_type": "code",
   "execution_count": null,
   "id": "8",
   "metadata": {},
   "outputs": [
    {
     "name": "stderr",
     "output_type": "stream",
     "text": [
      "  0%|          | 0/35 [00:00<?, ?it/s]"
     ]
    },
    {
     "name": "stderr",
     "output_type": "stream",
     "text": [
      "100%|██████████| 35/35 [01:29<00:00,  2.55s/it, data=UniProt, metric=Recall]           \n"
     ]
    }
   ],
   "source": [
    "df = compute_metrics(benchmark_datasets, metrics)"
   ]
  },
  {
   "cell_type": "markdown",
   "id": "9",
   "metadata": {},
   "source": [
    "Let's look at the results.\n"
   ]
  },
  {
   "cell_type": "code",
   "execution_count": null,
   "id": "10",
   "metadata": {},
   "outputs": [
    {
     "data": {
      "text/html": [
       "<style type=\"text/css\">\n",
       "#T_4b79b th.col_heading {\n",
       "  text-align: center;\n",
       "}\n",
       "#T_4b79b td {\n",
       "  border-right: 1px solid #ccc;\n",
       "}\n",
       "#T_4b79b th.row_heading {\n",
       "  border-right: 1px solid #ccc;\n",
       "}\n",
       "#T_4b79b_row0_col3, #T_4b79b_row2_col1, #T_4b79b_row5_col2, #T_4b79b_row6_col0 {\n",
       "  text-decoration: underline;\n",
       "  font-weight: bold;\n",
       "}\n",
       "#T_4b79b_row2_col4, #T_4b79b_row3_col0, #T_4b79b_row3_col2, #T_4b79b_row5_col1, #T_4b79b_row6_col3, #T_4b79b_row6_col4 {\n",
       "  background-color: #68d6bc;\n",
       "  font-weight: bold;\n",
       "}\n",
       "</style>\n",
       "<table id=\"T_4b79b\">\n",
       "  <thead>\n",
       "    <tr>\n",
       "      <th class=\"blank level0\" >&nbsp;</th>\n",
       "      <th id=\"T_4b79b_level0_col0\" class=\"col_heading level0 col0\" >Novelty (DBAASP)↑</th>\n",
       "      <th id=\"T_4b79b_level0_col1\" class=\"col_heading level0 col1\" >FID (DBAASP)↓</th>\n",
       "      <th id=\"T_4b79b_level0_col2\" class=\"col_heading level0 col2\" >Gravy↓</th>\n",
       "      <th id=\"T_4b79b_level0_col3\" class=\"col_heading level0 col3\" >Precision↑</th>\n",
       "      <th id=\"T_4b79b_level0_col4\" class=\"col_heading level0 col4\" >Recall↑</th>\n",
       "    </tr>\n",
       "  </thead>\n",
       "  <tbody>\n",
       "    <tr>\n",
       "      <th id=\"T_4b79b_level0_row0\" class=\"row_heading level0 row0\" >AMP-Diffusion</th>\n",
       "      <td id=\"T_4b79b_row0_col0\" class=\"data row0 col0\" >0.9993</td>\n",
       "      <td id=\"T_4b79b_row0_col1\" class=\"data row0 col1\" >52.7</td>\n",
       "      <td id=\"T_4b79b_row0_col2\" class=\"data row0 col2\" >-0.16±0.80</td>\n",
       "      <td id=\"T_4b79b_row0_col3\" class=\"data row0 col3\" >0.997</td>\n",
       "      <td id=\"T_4b79b_row0_col4\" class=\"data row0 col4\" >0.4874</td>\n",
       "    </tr>\n",
       "    <tr>\n",
       "      <th id=\"T_4b79b_level0_row1\" class=\"row_heading level0 row1\" >AMP-GAN</th>\n",
       "      <td id=\"T_4b79b_row1_col0\" class=\"data row1 col0\" >0.9986</td>\n",
       "      <td id=\"T_4b79b_row1_col1\" class=\"data row1 col1\" >38.9</td>\n",
       "      <td id=\"T_4b79b_row1_col2\" class=\"data row1 col2\" >0.02±0.81</td>\n",
       "      <td id=\"T_4b79b_row1_col3\" class=\"data row1 col3\" >0.960</td>\n",
       "      <td id=\"T_4b79b_row1_col4\" class=\"data row1 col4\" >0.2223</td>\n",
       "    </tr>\n",
       "    <tr>\n",
       "      <th id=\"T_4b79b_level0_row2\" class=\"row_heading level0 row2\" >CPL-Diff</th>\n",
       "      <td id=\"T_4b79b_row2_col0\" class=\"data row2 col0\" >0.9970</td>\n",
       "      <td id=\"T_4b79b_row2_col1\" class=\"data row2 col1\" >11.2</td>\n",
       "      <td id=\"T_4b79b_row2_col2\" class=\"data row2 col2\" >-0.15±1.20</td>\n",
       "      <td id=\"T_4b79b_row2_col3\" class=\"data row2 col3\" >0.939</td>\n",
       "      <td id=\"T_4b79b_row2_col4\" class=\"data row2 col4\" >1.0000</td>\n",
       "    </tr>\n",
       "    <tr>\n",
       "      <th id=\"T_4b79b_level0_row3\" class=\"row_heading level0 row3\" >HydrAMP</th>\n",
       "      <td id=\"T_4b79b_row3_col0\" class=\"data row3 col0\" >1.0000</td>\n",
       "      <td id=\"T_4b79b_row3_col1\" class=\"data row3 col1\" >98.6</td>\n",
       "      <td id=\"T_4b79b_row3_col2\" class=\"data row3 col2\" >-0.41±0.99</td>\n",
       "      <td id=\"T_4b79b_row3_col3\" class=\"data row3 col3\" >0.995</td>\n",
       "      <td id=\"T_4b79b_row3_col4\" class=\"data row3 col4\" >0.0923</td>\n",
       "    </tr>\n",
       "    <tr>\n",
       "      <th id=\"T_4b79b_level0_row4\" class=\"row_heading level0 row4\" >OmegAMP</th>\n",
       "      <td id=\"T_4b79b_row4_col0\" class=\"data row4 col0\" >0.9803</td>\n",
       "      <td id=\"T_4b79b_row4_col1\" class=\"data row4 col1\" >18.3</td>\n",
       "      <td id=\"T_4b79b_row4_col2\" class=\"data row4 col2\" >-0.33±1.03</td>\n",
       "      <td id=\"T_4b79b_row4_col3\" class=\"data row4 col3\" >0.910</td>\n",
       "      <td id=\"T_4b79b_row4_col4\" class=\"data row4 col4\" >1.0000</td>\n",
       "    </tr>\n",
       "    <tr>\n",
       "      <th id=\"T_4b79b_level0_row5\" class=\"row_heading level0 row5\" >DBAASP</th>\n",
       "      <td id=\"T_4b79b_row5_col0\" class=\"data row5 col0\" >0.0000</td>\n",
       "      <td id=\"T_4b79b_row5_col1\" class=\"data row5 col1\" >0.0</td>\n",
       "      <td id=\"T_4b79b_row5_col2\" class=\"data row5 col2\" >-0.33±1.00</td>\n",
       "      <td id=\"T_4b79b_row5_col3\" class=\"data row5 col3\" >0.925</td>\n",
       "      <td id=\"T_4b79b_row5_col4\" class=\"data row5 col4\" >0.9996</td>\n",
       "    </tr>\n",
       "    <tr>\n",
       "      <th id=\"T_4b79b_level0_row6\" class=\"row_heading level0 row6\" >UniProt</th>\n",
       "      <td id=\"T_4b79b_row6_col0\" class=\"data row6 col0\" >0.9999</td>\n",
       "      <td id=\"T_4b79b_row6_col1\" class=\"data row6 col1\" >267.9</td>\n",
       "      <td id=\"T_4b79b_row6_col2\" class=\"data row6 col2\" >-0.18±0.73</td>\n",
       "      <td id=\"T_4b79b_row6_col3\" class=\"data row6 col3\" >1.000</td>\n",
       "      <td id=\"T_4b79b_row6_col4\" class=\"data row6 col4\" >1.0000</td>\n",
       "    </tr>\n",
       "  </tbody>\n",
       "</table>\n"
      ],
      "text/plain": [
       "<pandas.io.formats.style.Styler at 0x14ec75bd0>"
      ]
     },
     "execution_count": null,
     "metadata": {},
     "output_type": "execute_result"
    }
   ],
   "source": [
    "show_table(df, decimals=[4, 1, 2, 3, 4])"
    "show_table(df, decimals=[4, 1, 2, 3, 4])"
   ]
  },
  {
   "cell_type": "code",
   "execution_count": null,
   "id": "11",
   "metadata": {},
   "outputs": [
    {
     "data": {
      "image/png": "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",
      "text/plain": [
       "<Figure size 400x300 with 1 Axes>"
      ]
     },
     "metadata": {},
     "output_type": "display_data"
    }
   ],
   "source": [
    "barplot(df, \"FID (DBAASP)\", x_ticks_label_rotation=90)"
   ]
  }
 ],
 "metadata": {
  "kernelspec": {
   "display_name": ".venv",
   "language": "python",
   "name": "python3"
  },
  "language_info": {
   "codemirror_mode": {
    "name": "ipython",
    "version": 3
   },
   "file_extension": ".py",
   "mimetype": "text/x-python",
   "name": "python",
   "nbconvert_exporter": "python",
   "pygments_lexer": "ipython3",
   "version": "3.10.18"
  }
 },
 "nbformat": 4,
 "nbformat_minor": 5
}
