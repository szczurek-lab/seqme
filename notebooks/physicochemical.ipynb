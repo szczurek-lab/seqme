{
 "cells": [
  {
   "cell_type": "code",
   "execution_count": null,
   "id": "0dea4ef4",
   "metadata": {},
   "outputs": [],
   "source": [
    "import peptides\n",
    "from peptides import Peptide\n",
    "from Bio.SeqUtils.ProtParam import ProteinAnalysis\n",
    "import pandas as pd\n",
    "\n",
    "# a bunch of simple functions to compute various peptide physiocochemical properties. \n",
    "# Here, sequence == string representation of peptide sequence\n",
    "\n",
    "def calculate_charge(sequence, ph=7.0):\n",
    "    analyzed_protein = ProteinAnalysis(sequence)\n",
    "    return analyzed_protein.charge_at_pH(ph)\n",
    "\n",
    "def calculate_hydrophobicity(sequence, scale=\"Aboderin\"):\n",
    "    peptide = Peptide(sequence)\n",
    "    return peptide.hydrophobicity(scale=scale)\n",
    "\n",
    "def calculate_isoelectric_point(sequence):\n",
    "    analyzed_protein = ProteinAnalysis(sequence)\n",
    "    return analyzed_protein.isoelectric_point()\n",
    "\n",
    "def calculate_molecular_weight(sequence):\n",
    "    analyzed_protein = ProteinAnalysis(sequence)\n",
    "    return analyzed_protein.molecular_weight()\n",
    "\n",
    "def calculate_instability_index(sequence):\n",
    "    analyzed_protein = ProteinAnalysis(sequence)\n",
    "    return analyzed_protein.instability_index()\n",
    "\n",
    "def calculate_gravy(sequence):\n",
    "    analyzed_protein = ProteinAnalysis(sequence)\n",
    "    return analyzed_protein.gravy()\n",
    "\n",
    "def calculate_aliphatic_index(sequence):\n",
    "    peptide = Peptide(sequence)\n",
    "    return peptide.aliphatic_index()\n",
    "\n",
    "def calculate_boman_index(sequence):\n",
    "    peptide = Peptide(sequence)\n",
    "    return peptide.boman()\n",
    "\n",
    "def calculate_physicochemical_properties(sequence, ph = 7.0):\n",
    "    charge = calculate_charge(sequence)\n",
    "    hydrophobicity = calculate_hydrophobicity(sequence)\n",
    "    ip = calculate_isoelectric_point(sequence)\n",
    "    mass = calculate_molecular_weight(sequence)\n",
    "    instability = calculate_instability_index(sequence)\n",
    "    gravy = calculate_gravy(sequence)\n",
    "    aliphaticity = calculate_aliphatic_index(sequence)\n",
    "    boman_index = calculate_boman_index(sequence)\n",
    "    return charge, hydrophobicity, ip, mass, instability, gravy, aliphaticity, boman_index\n",
    "\n"
   ]
  }
 ],
 "metadata": {
  "kernelspec": {
   "display_name": "venv310",
   "language": "python",
   "name": "python3"
  },
  "language_info": {
   "name": "python",
   "version": "3.10.16"
  }
 },
 "nbformat": 4,
 "nbformat_minor": 5
}
