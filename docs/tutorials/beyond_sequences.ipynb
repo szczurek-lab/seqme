{
 "cells": [
  {
   "cell_type": "markdown",
   "id": "0",
   "metadata": {},
   "source": [
    "# Beyond sequences primary structure\n"
   ]
  },
  {
   "cell_type": "markdown",
   "id": "1",
   "metadata": {
    "vscode": {
     "languageId": "plaintext"
    }
   },
   "source": [
    "We may have access to sequences 3D-structure (which could be predicted by a tool). How can we use seqme to evaluate sequences based on their 3D-structure? We will show how to do this in this notebook.\n"
   ]
  },
  {
   "cell_type": "code",
   "execution_count": null,
   "id": "2",
   "metadata": {},
   "outputs": [],
   "source": [
    "# !pip install tmtools"
   ]
  },
  {
   "cell_type": "code",
   "execution_count": null,
   "id": "3",
   "metadata": {},
   "outputs": [],
   "source": [
    "from typing import Literal\n",
    "\n",
    "import numpy as np\n",
    "from tmtools import tm_align\n",
    "\n",
    "import seqme as sm"
   ]
  },
  {
   "cell_type": "markdown",
   "id": "4",
   "metadata": {},
   "source": [
    "Let's define a metric which uses atomic positions. Here we use RMSD.\n"
   ]
  },
  {
   "cell_type": "code",
   "execution_count": null,
   "id": "5",
   "metadata": {},
   "outputs": [],
   "source": [
    "class RMSD(sm.Metric):\n",
    "    \"\"\"Root mean square deviation of atomic positions.\"\"\"\n",
    "\n",
    "    def __init__(self, reference: str, sequence_to_coordinates: dict[str, np.ndarray]):\n",
    "        self.reference = reference\n",
    "        self.sequence_to_coordinates = sequence_to_coordinates\n",
    "\n",
    "    def __call__(self, sequences: list[str]) -> sm.MetricResult:\n",
    "        ref_coords = self.sequence_to_coordinates[self.reference]\n",
    "        scores = np.array(\n",
    "            [tm_align(self.sequence_to_coordinates[seq], ref_coords, seq, self.reference).rmsd for seq in sequences]\n",
    "        )\n",
    "        return sm.MetricResult(scores.mean().item())\n",
    "\n",
    "    @property\n",
    "    def name(self) -> str:\n",
    "        return \"RMSD\"\n",
    "\n",
    "    @property\n",
    "    def objective(self) -> Literal[\"minimize\", \"maximize\"]:\n",
    "        return \"minimize\""
   ]
  },
  {
   "cell_type": "markdown",
   "id": "6",
   "metadata": {},
   "source": [
    "Let's define our protein folding model."
   ]
  },
  {
   "cell_type": "code",
   "execution_count": null,
   "id": "7",
   "metadata": {},
   "outputs": [
    {
     "name": "stderr",
     "output_type": "stream",
     "text": [
      "Some weights of EsmForProteinFolding were not initialized from the model checkpoint at facebook/esmfold_v1 and are newly initialized: ['esm.contact_head.regression.bias', 'esm.contact_head.regression.weight']\n",
      "You should probably TRAIN this model on a down-stream task to be able to use it for predictions and inference.\n"
     ]
    }
   ],
   "source": [
    "cache = sm.ModelCache(models={\"esm-fold\": sm.models.EsmFold()})"
   ]
  },
  {
   "cell_type": "code",
   "execution_count": null,
   "id": "8",
   "metadata": {},
   "outputs": [],
   "source": [
    "sequences = [\"MRKIVV\", \"MVHAT\"]\n",
    "\"\"\"\n",
    "sequences = [\n",
    "    \"MRKIVVAAIAVSLTTVSITASASADPSKDSKAQVSAAEAGITGTWYNQLGSTFIVTAGADGALTGTYESAVGNAESRYVLTGRYDSAPATDGSGTALGWTVAWKNNYRNAHSATTWSGQYVGGAEARINTQWLLTSGTTEANAWKSTLVGHDTFTKVKPSAASIDAAKKAGVNNGNPLDAVQQ\",\n",
    "    \"MVHATSPLLLLLLLSLALVAPGLSARKCSLTGKWTNDLGSNMTIGAVNSRGEFTGTYITAVTATSNEIKESPLHGTQNTINKRTQPTFGFTVNWKFSESTTVFTGQCFIDRNGKEVLKTMWLLRSSVNDIGDDWKATRVGINIFTRLRTQKE\",\n",
    "]\n",
    "\"\"\"\n",
    "coordinates = cache.model(\"esm-fold\", variable_length=True)(sequences)\n",
    "sequence_to_coordinates = dict(zip(sequences, coordinates, strict=True))"
   ]
  },
  {
   "cell_type": "markdown",
   "id": "9",
   "metadata": {},
   "source": [
    "Let's create the metric and sequences.\n"
   ]
  },
  {
   "cell_type": "code",
   "execution_count": null,
   "id": "10",
   "metadata": {},
   "outputs": [],
   "source": [
    "metrics = [RMSD(reference=sequences[0], sequence_to_coordinates=sequence_to_coordinates)]"
   ]
  },
  {
   "cell_type": "code",
   "execution_count": null,
   "id": "11",
   "metadata": {},
   "outputs": [],
   "source": [
    "sequences = {f\"Protein {i + 1}\": [seq] for i, seq in enumerate(list(sequence_to_coordinates.keys()))}"
   ]
  },
  {
   "cell_type": "markdown",
   "id": "12",
   "metadata": {},
   "source": [
    "Let's compute the metric.\n"
   ]
  },
  {
   "cell_type": "code",
   "execution_count": null,
   "id": "13",
   "metadata": {},
   "outputs": [
    {
     "name": "stderr",
     "output_type": "stream",
     "text": [
      "100%|██████████| 2/2 [00:00<00:00, 35.37it/s, data=Protein 2, metric=RMSD]\n"
     ]
    }
   ],
   "source": [
    "df = sm.compute_metrics(sequences, metrics)"
   ]
  },
  {
   "cell_type": "code",
   "execution_count": null,
   "id": "14",
   "metadata": {},
   "outputs": [
    {
     "data": {
      "text/html": [
       "<style type=\"text/css\">\n",
       "#T_ca1b4 th.col_heading {\n",
       "  text-align: center;\n",
       "}\n",
       "#T_ca1b4 td {\n",
       "  border-right: 1px solid #ccc;\n",
       "}\n",
       "#T_ca1b4 th.row_heading {\n",
       "  border-right: 1px solid #ccc;\n",
       "}\n",
       "#T_ca1b4_row0_col0 {\n",
       "  background-color: #68d6bc;\n",
       "  font-weight: bold;\n",
       "}\n",
       "#T_ca1b4_row1_col0 {\n",
       "  text-decoration: underline;\n",
       "}\n",
       "</style>\n",
       "<table id=\"T_ca1b4\">\n",
       "  <thead>\n",
       "    <tr>\n",
       "      <th class=\"blank level0\" >&nbsp;</th>\n",
       "      <th id=\"T_ca1b4_level0_col0\" class=\"col_heading level0 col0\" >RMSD↓</th>\n",
       "    </tr>\n",
       "  </thead>\n",
       "  <tbody>\n",
       "    <tr>\n",
       "      <th id=\"T_ca1b4_level0_row0\" class=\"row_heading level0 row0\" >Protein 1</th>\n",
       "      <td id=\"T_ca1b4_row0_col0\" class=\"data row0 col0\" >0.00</td>\n",
       "    </tr>\n",
       "    <tr>\n",
       "      <th id=\"T_ca1b4_level0_row1\" class=\"row_heading level0 row1\" >Protein 2</th>\n",
       "      <td id=\"T_ca1b4_row1_col0\" class=\"data row1 col0\" >0.59</td>\n",
       "    </tr>\n",
       "  </tbody>\n",
       "</table>\n"
      ],
      "text/plain": [
       "<pandas.io.formats.style.Styler at 0x16d9bec50>"
      ]
     },
     "execution_count": null,
     "metadata": {},
     "output_type": "execute_result"
    }
   ],
   "source": [
    "sm.show_table(df)"
   ]
  },
  {
   "cell_type": "markdown",
   "id": "15",
   "metadata": {},
   "source": [
    "Recall seqme defines three groups of metrics: sequence-based, embedding-based and property-based metrics. One may ask, what group this metric fits in? Notice, metrics operating on 3D-structure are very similar to property-based metrics: sequence → 3D-structure (property) → metric. And there you go."
   ]
  }
 ],
 "metadata": {
  "kernelspec": {
   "display_name": "Python 3",
   "language": "python",
   "name": "python3"
  },
  "language_info": {
   "codemirror_mode": {
    "name": "ipython",
    "version": 3
   },
   "file_extension": ".py",
   "mimetype": "text/x-python",
   "name": "python",
   "nbconvert_exporter": "python",
   "pygments_lexer": "ipython3",
   "version": "3.11.13"
  }
 },
 "nbformat": 4,
 "nbformat_minor": 5
}
