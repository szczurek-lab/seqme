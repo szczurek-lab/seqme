{
 "cells": [
  {
   "cell_type": "markdown",
   "id": "0",
   "metadata": {},
   "source": [
    "# Beyond sequences primary structure\n"
   ]
  },
  {
   "cell_type": "markdown",
   "id": "1",
   "metadata": {
    "vscode": {
     "languageId": "plaintext"
    }
   },
   "source": [
    "We may have access to sequences 3D-structure (which could be predicted by a tool). How can we use seqme to evaluate sequences based on their 3D-structure? We will show how to do this in this notebook.\n"
   ]
  },
  {
   "cell_type": "code",
   "execution_count": null,
   "id": "2",
   "metadata": {},
   "outputs": [],
   "source": [
    "# !pip install BioPython"
   ]
  },
  {
   "cell_type": "code",
   "execution_count": null,
   "id": "3",
   "metadata": {},
   "outputs": [],
   "source": [
    "from typing import Literal\n",
    "\n",
    "import numpy as np\n",
    "from Bio.Align import PairwiseAligner\n",
    "\n",
    "import seqme as sm"
   ]
  },
  {
   "cell_type": "code",
   "execution_count": null,
   "id": "4",
   "metadata": {
    "tags": [
     "hide-cell"
    ]
   },
   "outputs": [],
   "source": [
    "# IMPORTANT! Don't use this to compute RMSD (we use it to stay BSD 3-clause compatible). There are better ways to align proteins, e.g., TM-align.\n",
    "\n",
    "\n",
    "def transform(coords1: np.ndarray, coords2: np.ndarray, *, with_scale: bool = True, return_params: bool = False):\n",
    "    \"\"\"Align coords2 to coords1 (both arrays shape (N,3) or (N,d)).\n",
    "\n",
    "    Minimizes least-squares error for rotation, translation and optional uniform scale.\n",
    "\n",
    "    Args:\n",
    "        coords1: target points, shape (N, d)\n",
    "        coords2: source points to transform, shape (N, d)\n",
    "        with_scale: if True, estimate uniform scale; if False, force scale=1\n",
    "        return_params: if True, return (aligned_coords2, R, t, s); otherwise just aligned coords\n",
    "\n",
    "    Returns:\n",
    "        aligned_coords2 (and optionally) rotation matrix R (dxd), translation vector t (d,),\n",
    "        scale s (float).\n",
    "    \"\"\"\n",
    "    A = np.asarray(coords1, dtype=float)\n",
    "    B = np.asarray(coords2, dtype=float)\n",
    "\n",
    "    if A.shape != B.shape:\n",
    "        raise ValueError(\"coords1 and coords2 must have the same shape\")\n",
    "\n",
    "    N, d = A.shape\n",
    "    if N == 0:\n",
    "        raise ValueError(\"need at least one point\")\n",
    "\n",
    "    # centroids\n",
    "    mu_A = A.mean(axis=0)\n",
    "    mu_B = B.mean(axis=0)\n",
    "\n",
    "    AA = A - mu_A\n",
    "    BB = B - mu_B\n",
    "\n",
    "    # covariance / cross-covariance\n",
    "    cov = (AA.T @ BB) / N\n",
    "\n",
    "    # SVD\n",
    "    U, D, Vt = np.linalg.svd(cov)\n",
    "    V = Vt.T\n",
    "\n",
    "    # handle reflection\n",
    "    S = np.eye(d)\n",
    "    if np.linalg.det(U) * np.linalg.det(V) < 0:\n",
    "        S[-1, -1] = -1\n",
    "\n",
    "    R = U @ S @ V.T\n",
    "\n",
    "    if with_scale:\n",
    "        var_B = (BB * BB).sum() / N\n",
    "        # trace(D * S) is sum(D * diag(S))\n",
    "        s = float(np.sum(D * np.diag(S)) / var_B)\n",
    "    else:\n",
    "        s = 1.0\n",
    "\n",
    "    t = mu_A - s * (R @ mu_B)\n",
    "\n",
    "    transformed = (s * (R @ B.T)).T + t\n",
    "\n",
    "    if return_params:\n",
    "        return transformed, R, t, s\n",
    "    return transformed\n",
    "\n",
    "\n",
    "def rmsd(a: np.ndarray, b: np.ndarray) -> float:\n",
    "    a = np.asarray(a)\n",
    "    b = np.asarray(b)\n",
    "    return float(np.sqrt(((a - b) ** 2).sum() / a.shape[0]))\n",
    "\n",
    "\n",
    "def indices(s1: str, s2: str) -> np.ndarray:\n",
    "    res = []\n",
    "    i = 0\n",
    "    for c1, c2 in zip(s1, s2, strict=True):\n",
    "        if c1 != \"-\":\n",
    "            if c2 != \"-\":\n",
    "                res.append(i)\n",
    "            i += 1\n",
    "    return np.array(res)\n",
    "\n",
    "\n",
    "def compute_rmsd(coords1: np.ndarray, coords2: np.ndarray, seq1: str, seq2: str) -> float:\n",
    "    align = PairwiseAligner().align(seq1, seq2)[0]\n",
    "    a_seq1, a_seq2 = align[0], align[1]\n",
    "    coords1 = coords1[indices(a_seq1, a_seq2)]\n",
    "    coords2 = coords2[indices(a_seq2, a_seq1)]\n",
    "\n",
    "    coords2_aligned = transform(coords1, coords2)\n",
    "    return rmsd(coords1, coords2_aligned)"
   ]
  },
  {
   "cell_type": "markdown",
   "id": "5",
   "metadata": {},
   "source": [
    "Let's define a metric which uses atomic positions. Here we use RMSD.\n"
   ]
  },
  {
   "cell_type": "code",
   "execution_count": null,
   "id": "6",
   "metadata": {},
   "outputs": [],
   "source": [
    "class RMSD(sm.Metric):\n",
    "    \"\"\"Root mean square deviation of atomic positions.\"\"\"\n",
    "\n",
    "    def __init__(self, reference: str, sequence_to_coordinates: dict[str, np.ndarray]):\n",
    "        self.reference = reference\n",
    "        self.sequence_to_coordinates = sequence_to_coordinates\n",
    "\n",
    "    def __call__(self, sequences: list[str]) -> sm.MetricResult:\n",
    "        ref_coords = self.sequence_to_coordinates[self.reference]\n",
    "        scores = np.array(\n",
    "            [compute_rmsd(self.sequence_to_coordinates[seq], ref_coords, seq, self.reference) for seq in sequences]\n",
    "        )\n",
    "        return sm.MetricResult(scores.mean().item())\n",
    "\n",
    "    @property\n",
    "    def name(self) -> str:\n",
    "        return \"RMSD\"\n",
    "\n",
    "    @property\n",
    "    def objective(self) -> Literal[\"minimize\", \"maximize\"]:\n",
    "        return \"minimize\""
   ]
  },
  {
   "cell_type": "markdown",
   "id": "7",
   "metadata": {},
   "source": [
    "Let's define our protein folding model."
   ]
  },
  {
   "cell_type": "code",
   "execution_count": null,
   "id": "8",
   "metadata": {},
   "outputs": [
    {
     "name": "stderr",
     "output_type": "stream",
     "text": [
      "Some weights of EsmForProteinFolding were not initialized from the model checkpoint at facebook/esmfold_v1 and are newly initialized: ['esm.contact_head.regression.bias', 'esm.contact_head.regression.weight']\n",
      "You should probably TRAIN this model on a down-stream task to be able to use it for predictions and inference.\n"
     ]
    }
   ],
   "source": [
    "cache = sm.ModelCache(models={\"esm-fold\": sm.models.EsmFold()})"
   ]
  },
  {
   "cell_type": "markdown",
   "id": "9",
   "metadata": {},
   "source": [
    "Note, we will only extract the position of the amino-acids \"Cα\" from the fold prediction."
   ]
  },
  {
   "cell_type": "code",
   "execution_count": null,
   "id": "10",
   "metadata": {},
   "outputs": [],
   "source": [
    "sequences = [\n",
    "    \"MRKIVVAAIAVSLTTVSITASASADPSKDSKAQVSAAEAGITGTWYNQLGSTFIVTAGADGALTGTYESAVGNAESRYVLTGRYDSAPATDGSGTALGWTVAWKNNYRNAHSATTWSGQYVGGAEARINTQWLLTSGTTEANAWKSTLVGHDTFTKVKPSAASIDAAKKAGVNNGNPLDAVQQ\",\n",
    "    \"MVHATSPLLLLLLLSLALVAPGLSARKCSLTGKWTNDLGSNMTIGAVNSRGEFTGTYITAVTATSNEIKESPLHGTQNTINKRTQPTFGFTVNWKFSESTTVFTGQCFIDRNGKEVLKTMWLLRSSVNDIGDDWKATRVGINIFTRLRTQKE\",\n",
    "]\n",
    "\n",
    "# sequences = [\"CC\", \"RRR\"]\n",
    "coordinates = cache.model(\"esm-fold\", variable_length=True)(sequences)\n",
    "sequence_to_coordinates = dict(zip(sequences, coordinates, strict=True))"
   ]
  },
  {
   "cell_type": "markdown",
   "id": "11",
   "metadata": {},
   "source": [
    "Let's create the metric and sequences.\n"
   ]
  },
  {
   "cell_type": "code",
   "execution_count": null,
   "id": "12",
   "metadata": {},
   "outputs": [],
   "source": [
    "metrics = [RMSD(reference=sequences[0], sequence_to_coordinates=sequence_to_coordinates)]"
   ]
  },
  {
   "cell_type": "code",
   "execution_count": null,
   "id": "13",
   "metadata": {},
   "outputs": [],
   "source": [
    "sequences = {f\"Protein {i + 1}\": [seq] for i, seq in enumerate(list(sequence_to_coordinates.keys()))}"
   ]
  },
  {
   "cell_type": "markdown",
   "id": "14",
   "metadata": {},
   "source": [
    "Let's compute the metric.\n"
   ]
  },
  {
   "cell_type": "code",
   "execution_count": null,
   "id": "15",
   "metadata": {},
   "outputs": [
    {
     "name": "stderr",
     "output_type": "stream",
     "text": [
      "100%|██████████| 2/2 [00:00<00:00, 47.88it/s, data=Protein 2, metric=RMSD]\n"
     ]
    }
   ],
   "source": [
    "df = sm.evaluate(sequences, metrics)"
   ]
  },
  {
   "cell_type": "code",
   "execution_count": null,
   "id": "16",
   "metadata": {},
   "outputs": [
    {
     "data": {
      "text/html": [
       "<style type=\"text/css\">\n",
       "#T_d27c2 th.col_heading {\n",
       "  text-align: center;\n",
       "}\n",
       "#T_d27c2 td {\n",
       "  border-right: 1px solid #ccc;\n",
       "}\n",
       "#T_d27c2 th.row_heading {\n",
       "  border-right: 1px solid #ccc;\n",
       "}\n",
       "#T_d27c2_row0_col0 {\n",
       "  background-color: #68d6bc;\n",
       "  font-weight: bold;\n",
       "}\n",
       "#T_d27c2_row1_col0 {\n",
       "  text-decoration: underline;\n",
       "}\n",
       "</style>\n",
       "<table id=\"T_d27c2\">\n",
       "  <thead>\n",
       "    <tr>\n",
       "      <th class=\"blank level0\" >&nbsp;</th>\n",
       "      <th id=\"T_d27c2_level0_col0\" class=\"col_heading level0 col0\" >RMSD↓</th>\n",
       "    </tr>\n",
       "  </thead>\n",
       "  <tbody>\n",
       "    <tr>\n",
       "      <th id=\"T_d27c2_level0_row0\" class=\"row_heading level0 row0\" >Protein 1</th>\n",
       "      <td id=\"T_d27c2_row0_col0\" class=\"data row0 col0\" >0.00</td>\n",
       "    </tr>\n",
       "    <tr>\n",
       "      <th id=\"T_d27c2_level0_row1\" class=\"row_heading level0 row1\" >Protein 2</th>\n",
       "      <td id=\"T_d27c2_row1_col0\" class=\"data row1 col0\" >15.98</td>\n",
       "    </tr>\n",
       "  </tbody>\n",
       "</table>\n"
      ],
      "text/plain": [
       "<pandas.io.formats.style.Styler at 0x16a69e7d0>"
      ]
     },
     "execution_count": null,
     "metadata": {},
     "output_type": "execute_result"
    }
   ],
   "source": [
    "sm.show(df)"
   ]
  },
  {
   "cell_type": "markdown",
   "id": "17",
   "metadata": {},
   "source": [
    "Recall seqme defines three groups of metrics: sequence-based, embedding-based and property-based metrics. One may ask, what group this metric fits in? Notice, metrics operating on 3D-structure are very similar to property-based metrics: sequence → 3D-structure (property) → metric. And there you go."
   ]
  }
 ],
 "metadata": {
  "kernelspec": {
   "display_name": "Python 3",
   "language": "python",
   "name": "python3"
  },
  "language_info": {
   "codemirror_mode": {
    "name": "ipython",
    "version": 3
   },
   "file_extension": ".py",
   "mimetype": "text/x-python",
   "name": "python",
   "nbconvert_exporter": "python",
   "pygments_lexer": "ipython3",
   "version": "3.10.18"
  }
 },
 "nbformat": 4,
 "nbformat_minor": 5
}
