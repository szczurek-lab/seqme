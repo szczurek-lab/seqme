{
 "cells": [
  {
   "cell_type": "markdown",
   "id": "0",
   "metadata": {},
   "source": [
    "# Beyond proteins primary structure\n"
   ]
  },
  {
   "cell_type": "markdown",
   "id": "1",
   "metadata": {
    "vscode": {
     "languageId": "plaintext"
    }
   },
   "source": [
    "We may have access to sequences 3D-structure (which could be predicted by a tool). How can we use seqme to evaluate sequences based on their 3D-structure? We will show how to do this in this notebook.\n"
   ]
  },
  {
   "cell_type": "code",
   "execution_count": null,
   "id": "2",
   "metadata": {},
   "outputs": [],
   "source": [
    "# !pip install BioPython"
   ]
  },
  {
   "cell_type": "code",
   "execution_count": null,
   "id": "3",
   "metadata": {},
   "outputs": [],
   "source": [
    "from typing import Literal\n",
    "\n",
    "import numpy as np\n",
    "from Bio.Align import PairwiseAligner\n",
    "\n",
    "import seqme as sm"
   ]
  },
  {
   "cell_type": "code",
   "execution_count": null,
   "id": "4",
   "metadata": {
    "tags": [
     "hide-cell"
    ]
   },
   "outputs": [],
   "source": [
    "# IMPORTANT! Don't use this to compute RMSD (we use it to stay BSD 3-clause compatible).\n",
    "\n",
    "\n",
    "def transform(coords1: np.ndarray, coords2: np.ndarray, *, with_scale: bool = True, return_params: bool = False):\n",
    "    \"\"\"Align coords2 to coords1 (both arrays shape (N,3) or (N,d)).\n",
    "\n",
    "    Minimizes least-squares error for rotation, translation and optional uniform scale.\n",
    "\n",
    "    Args:\n",
    "        coords1: target points, shape (N, d)\n",
    "        coords2: source points to transform, shape (N, d)\n",
    "        with_scale: if True, estimate uniform scale; if False, force scale=1\n",
    "        return_params: if True, return (aligned_coords2, R, t, s); otherwise just aligned coords\n",
    "\n",
    "    Returns:\n",
    "        aligned_coords2 (and optionally) rotation matrix R (dxd), translation vector t (d,),\n",
    "        scale s (float).\n",
    "    \"\"\"\n",
    "    A = np.asarray(coords1, dtype=float)\n",
    "    B = np.asarray(coords2, dtype=float)\n",
    "\n",
    "    if A.shape != B.shape:\n",
    "        raise ValueError(\"coords1 and coords2 must have the same shape\")\n",
    "\n",
    "    N, d = A.shape\n",
    "    if N == 0:\n",
    "        raise ValueError(\"need at least one point\")\n",
    "\n",
    "    # centroids\n",
    "    mu_A = A.mean(axis=0)\n",
    "    mu_B = B.mean(axis=0)\n",
    "\n",
    "    AA = A - mu_A\n",
    "    BB = B - mu_B\n",
    "\n",
    "    # covariance / cross-covariance\n",
    "    cov = (AA.T @ BB) / N\n",
    "\n",
    "    # SVD\n",
    "    U, D, Vt = np.linalg.svd(cov)\n",
    "    V = Vt.T\n",
    "\n",
    "    # handle reflection\n",
    "    S = np.eye(d)\n",
    "    if np.linalg.det(U) * np.linalg.det(V) < 0:\n",
    "        S[-1, -1] = -1\n",
    "\n",
    "    R = U @ S @ V.T\n",
    "\n",
    "    if with_scale:\n",
    "        var_B = (BB * BB).sum() / N\n",
    "        # trace(D * S) is sum(D * diag(S))\n",
    "        s = float(np.sum(D * np.diag(S)) / var_B)\n",
    "    else:\n",
    "        s = 1.0\n",
    "\n",
    "    t = mu_A - s * (R @ mu_B)\n",
    "\n",
    "    transformed = (s * (R @ B.T)).T + t\n",
    "\n",
    "    if return_params:\n",
    "        return transformed, R, t, s\n",
    "    return transformed\n",
    "\n",
    "\n",
    "def rmsd(a: np.ndarray, b: np.ndarray) -> float:\n",
    "    a = np.asarray(a)\n",
    "    b = np.asarray(b)\n",
    "    return float(np.sqrt(((a - b) ** 2).sum() / a.shape[0]))\n",
    "\n",
    "\n",
    "def indices(s1: str, s2: str) -> np.ndarray:\n",
    "    res = []\n",
    "    i = 0\n",
    "    for c1, c2 in zip(s1, s2, strict=True):\n",
    "        if c1 != \"-\":\n",
    "            if c2 != \"-\":\n",
    "                res.append(i)\n",
    "            i += 1\n",
    "    return np.array(res, dtype=np.int32)\n",
    "\n",
    "\n",
    "def compute_rmsd(coords1: np.ndarray, coords2: np.ndarray, seq1: str, seq2: str) -> float:\n",
    "    align = PairwiseAligner().align(seq1, seq2)[0]\n",
    "    a_seq1, a_seq2 = align[0], align[1]\n",
    "    coords1 = coords1[indices(a_seq1, a_seq2)]\n",
    "    coords2 = coords2[indices(a_seq2, a_seq1)]\n",
    "\n",
    "    coords2_aligned = transform(coords1, coords2)\n",
    "    return rmsd(coords1, coords2_aligned)"
   ]
  },
  {
   "cell_type": "markdown",
   "id": "5",
   "metadata": {},
   "source": [
    "Let's define a metric which uses atomic positions. Here we use RMSD.\n"
   ]
  },
  {
   "cell_type": "code",
   "execution_count": null,
   "id": "6",
   "metadata": {},
   "outputs": [],
   "source": [
    "class RMSD(sm.Metric):\n",
    "    \"\"\"Root mean square deviation of atomic positions.\"\"\"\n",
    "\n",
    "    def __init__(self, reference: str, sequence_to_coordinates: dict[str, np.ndarray]):\n",
    "        self.reference = reference\n",
    "        self.sequence_to_coordinates = sequence_to_coordinates\n",
    "\n",
    "    def __call__(self, sequences: list[str]) -> sm.MetricResult:\n",
    "        ref_coords = self.sequence_to_coordinates[self.reference]\n",
    "        scores = np.array(\n",
    "            [compute_rmsd(self.sequence_to_coordinates[seq], ref_coords, seq, self.reference) for seq in sequences]\n",
    "        )\n",
    "        return sm.MetricResult(scores.mean().item())\n",
    "\n",
    "    @property\n",
    "    def name(self) -> str:\n",
    "        return \"RMSD\"\n",
    "\n",
    "    @property\n",
    "    def objective(self) -> Literal[\"minimize\", \"maximize\"]:\n",
    "        return \"minimize\""
   ]
  },
  {
   "cell_type": "markdown",
   "id": "7",
   "metadata": {},
   "source": [
    "Let's define our protein folding model.\n"
   ]
  },
  {
   "cell_type": "code",
   "execution_count": null,
   "id": "8",
   "metadata": {
    "tags": [
     "hide-output"
    ]
   },
   "outputs": [
    {
     "name": "stderr",
     "output_type": "stream",
     "text": [
      "Some weights of EsmForProteinFolding were not initialized from the model checkpoint at facebook/esmfold_v1 and are newly initialized: ['esm.contact_head.regression.bias', 'esm.contact_head.regression.weight']\n",
      "You should probably TRAIN this model on a down-stream task to be able to use it for predictions and inference.\n"
     ]
    }
   ],
   "source": [
    "cache = sm.Cache(models={\"esm-fold\": sm.models.ESMFold().fold})"
   ]
  },
  {
   "cell_type": "markdown",
   "id": "9",
   "metadata": {},
   "source": [
    "Note: we will only extract the position of the amino-acids \"Cα\" from the fold prediction.\n"
   ]
  },
  {
   "cell_type": "code",
   "execution_count": null,
   "id": "10",
   "metadata": {},
   "outputs": [],
   "source": [
    "esm_fold = cache.model(\"esm-fold\", stack=False)\n",
    "\n",
    "ptm_fn = lambda sequences: np.array([fold[\"ptm\"] for fold in esm_fold(sequences)])\n",
    "positions_fn = lambda sequences: [fold[\"positions\"] for fold in esm_fold(sequences)]\n",
    "plddt_fn = lambda sequences: np.array([fold[\"plddt\"].mean() for fold in esm_fold(sequences)])"
   ]
  },
  {
   "cell_type": "markdown",
   "id": "11",
   "metadata": {},
   "source": [
    "Notice `esm-fold` is stored in the cache and we reuse it for ptm, plddt and positions. Hence, we only call esm-fold once per sequence in total!\n"
   ]
  },
  {
   "cell_type": "markdown",
   "id": "12",
   "metadata": {},
   "source": [
    "Let's create the metric and sequences.\n"
   ]
  },
  {
   "cell_type": "code",
   "execution_count": null,
   "id": "13",
   "metadata": {},
   "outputs": [],
   "source": [
    "sequences = [\n",
    "    \"MRKIVVAAIAVSLTTVSITASASADPSKDSKAQVSAAEAGITGTWYNQLGSTFIVTAGADGALTGTYESAVGNAESRYVLTGRYDSAPATDGSGTALGWTVAWKNNYRNAHSATTWSGQYVGGAEARINTQWLLTSGTTEANAWKSTLVGHDTFTKVKPSAASIDAAKKAGVNNGNPLDAVQQ\",\n",
    "    \"MVHATSPLLLLLLLSLALVAPGLSARKCSLTGKWTNDLGSNMTIGAVNSRGEFTGTYITAVTATSNEIKESPLHGTQNTINKRTQPTFGFTVNWKFSESTTVFTGQCFIDRNGKEVLKTMWLLRSSVNDIGDDWKATRVGINIFTRLRTQKE\",\n",
    "]"
   ]
  },
  {
   "cell_type": "code",
   "execution_count": null,
   "id": "14",
   "metadata": {},
   "outputs": [],
   "source": [
    "sequence_to_coordinates = dict(zip(sequences, positions_fn(sequences), strict=True))\n",
    "\n",
    "metrics = [\n",
    "    RMSD(reference=sequences[0], sequence_to_coordinates=sequence_to_coordinates),\n",
    "    sm.metrics.ID(predictor=ptm_fn, name=\"pTM\", objective=\"maximize\"),\n",
    "    sm.metrics.ID(predictor=plddt_fn, name=\"pLDDT\", objective=\"maximize\"),\n",
    "]"
   ]
  },
  {
   "cell_type": "code",
   "execution_count": null,
   "id": "15",
   "metadata": {},
   "outputs": [],
   "source": [
    "sequences = {f\"Protein {i + 1}\": [seq] for i, seq in enumerate(sequences)}"
   ]
  },
  {
   "cell_type": "markdown",
   "id": "16",
   "metadata": {},
   "source": [
    "Let's compute the metric.\n"
   ]
  },
  {
   "cell_type": "code",
   "execution_count": null,
   "id": "17",
   "metadata": {},
   "outputs": [
    {
     "name": "stderr",
     "output_type": "stream",
     "text": [
      "100%|██████████| 6/6 [00:00<00:00, 281.58it/s, data=Protein 2, metric=pLDDT]\n"
     ]
    }
   ],
   "source": [
    "df = sm.evaluate(sequences, metrics)"
   ]
  },
  {
   "cell_type": "code",
   "execution_count": null,
   "id": "18",
   "metadata": {},
   "outputs": [
    {
     "data": {
      "text/html": [
       "<style type=\"text/css\">\n",
       "#T_50ae3 th.col_heading {\n",
       "  text-align: center;\n",
       "}\n",
       "#T_50ae3 td {\n",
       "  border-right: 1px solid #ccc;\n",
       "}\n",
       "#T_50ae3 th.row_heading {\n",
       "  border-right: 1px solid #ccc;\n",
       "}\n",
       "#T_50ae3_row0_col0, #T_50ae3_row0_col1, #T_50ae3_row0_col2 {\n",
       "  background-color: #68d6bc;\n",
       "  font-weight: bold;\n",
       "}\n",
       "#T_50ae3_row1_col0, #T_50ae3_row1_col1, #T_50ae3_row1_col2 {\n",
       "  text-decoration: underline;\n",
       "}\n",
       "</style>\n",
       "<table id=\"T_50ae3\">\n",
       "  <thead>\n",
       "    <tr>\n",
       "      <th class=\"blank level0\" >&nbsp;</th>\n",
       "      <th id=\"T_50ae3_level0_col0\" class=\"col_heading level0 col0\" >RMSD↓</th>\n",
       "      <th id=\"T_50ae3_level0_col1\" class=\"col_heading level0 col1\" >pTM↑</th>\n",
       "      <th id=\"T_50ae3_level0_col2\" class=\"col_heading level0 col2\" >pLDDT↑</th>\n",
       "    </tr>\n",
       "  </thead>\n",
       "  <tbody>\n",
       "    <tr>\n",
       "      <th id=\"T_50ae3_level0_row0\" class=\"row_heading level0 row0\" >Protein 1</th>\n",
       "      <td id=\"T_50ae3_row0_col0\" class=\"data row0 col0\" >0.00</td>\n",
       "      <td id=\"T_50ae3_row0_col1\" class=\"data row0 col1\" >0.74</td>\n",
       "      <td id=\"T_50ae3_row0_col2\" class=\"data row0 col2\" >0.82</td>\n",
       "    </tr>\n",
       "    <tr>\n",
       "      <th id=\"T_50ae3_level0_row1\" class=\"row_heading level0 row1\" >Protein 2</th>\n",
       "      <td id=\"T_50ae3_row1_col0\" class=\"data row1 col0\" >15.98</td>\n",
       "      <td id=\"T_50ae3_row1_col1\" class=\"data row1 col1\" >0.71</td>\n",
       "      <td id=\"T_50ae3_row1_col2\" class=\"data row1 col2\" >0.79</td>\n",
       "    </tr>\n",
       "  </tbody>\n",
       "</table>\n"
      ],
      "text/plain": [
       "<pandas.io.formats.style.Styler at 0x17db9be50>"
      ]
     },
     "execution_count": null,
     "metadata": {},
     "output_type": "execute_result"
    }
   ],
   "source": [
    "sm.show(df)"
   ]
  }
 ],
 "metadata": {
  "kernelspec": {
   "display_name": "Python 3",
   "language": "python",
   "name": "python3"
  },
  "language_info": {
   "codemirror_mode": {
    "name": "ipython",
    "version": 3
   },
   "file_extension": ".py",
   "mimetype": "text/x-python",
   "name": "python",
   "nbconvert_exporter": "python",
   "pygments_lexer": "ipython3",
   "version": "3.11.14"
  }
 },
 "nbformat": 4,
 "nbformat_minor": 5
}
