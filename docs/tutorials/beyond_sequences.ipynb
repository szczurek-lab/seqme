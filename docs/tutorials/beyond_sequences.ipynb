{
 "cells": [
  {
   "cell_type": "markdown",
   "id": "0",
   "metadata": {},
   "source": [
    "# Beyond sequences primary structure\n"
   ]
  },
  {
   "cell_type": "markdown",
   "id": "1",
   "metadata": {
    "vscode": {
     "languageId": "plaintext"
    }
   },
   "source": [
    "We may have access to sequences 3D-structure (which could be predicted by a tool). How can we use seqme to evaluate sequences based on their 3D-structure? We will show how to do this in this notebook.\n"
   ]
  },
  {
   "cell_type": "code",
   "execution_count": null,
   "id": "2",
   "metadata": {},
   "outputs": [],
   "source": [
    "# !pip install tmtools"
   ]
  },
  {
   "cell_type": "code",
   "execution_count": null,
   "id": "3",
   "metadata": {},
   "outputs": [],
   "source": [
    "from typing import Literal\n",
    "\n",
    "import numpy as np\n",
    "from tmtools import tm_align\n",
    "\n",
    "import seqme as sm"
   ]
  },
  {
   "cell_type": "markdown",
   "id": "4",
   "metadata": {},
   "source": [
    "Let's define a metric which uses atomic positions. Here we use RMSD.\n"
   ]
  },
  {
   "cell_type": "code",
   "execution_count": null,
   "id": "5",
   "metadata": {},
   "outputs": [],
   "source": [
    "class RMSD(sm.Metric):\n",
    "    \"\"\"Root mean square deviation of atomic positions.\"\"\"\n",
    "\n",
    "    def __init__(self, reference: str, sequence_to_coordinates: dict[str, np.ndarray]):\n",
    "        self.reference = reference\n",
    "        self.sequence_to_coordinates = sequence_to_coordinates\n",
    "\n",
    "    def __call__(self, sequences: list[str]) -> sm.MetricResult:\n",
    "        ref_coords = self.sequence_to_coordinates[self.reference]\n",
    "        scores = np.array(\n",
    "            [tm_align(self.sequence_to_coordinates[seq], ref_coords, seq, self.reference).rmsd for seq in sequences]\n",
    "        )\n",
    "        return sm.MetricResult(scores.mean().item())\n",
    "\n",
    "    @property\n",
    "    def name(self) -> str:\n",
    "        return \"RMSD\"\n",
    "\n",
    "    @property\n",
    "    def objective(self) -> Literal[\"minimize\", \"maximize\"]:\n",
    "        return \"minimize\""
   ]
  },
  {
   "cell_type": "markdown",
   "id": "6",
   "metadata": {},
   "source": [
    "Let's define the coordinate of each amino acid in each sequence.\n"
   ]
  },
  {
   "cell_type": "code",
   "execution_count": null,
   "id": "7",
   "metadata": {},
   "outputs": [],
   "source": [
    "sequence_to_coordinates = {\n",
    "    \"AYLP\": np.array([[1.2, 3.4, 1.5], [4.0, 2.8, 3.7], [1.2, 4.2, 4.3], [0.0, 1.0, 2.0]]),\n",
    "    \"ARN\": np.array([[2.3, 7.4, 1.5], [4.0, 2.9, -1.7], [1.2, 4.2, 4.3]]),\n",
    "}"
   ]
  },
  {
   "cell_type": "markdown",
   "id": "8",
   "metadata": {},
   "source": [
    "Instead of hardcoding the coordinates as we do here, you would probably define a function retrieving the atomic coordinates from a PDB.\n"
   ]
  },
  {
   "cell_type": "markdown",
   "id": "9",
   "metadata": {},
   "source": [
    "Let's create the metric and sequences.\n"
   ]
  },
  {
   "cell_type": "code",
   "execution_count": null,
   "id": "10",
   "metadata": {},
   "outputs": [],
   "source": [
    "metrics = [RMSD(reference=\"ARN\", sequence_to_coordinates=sequence_to_coordinates)]\n",
    "sequences = {(\"model 1\", seq): [seq] for seq in list(sequence_to_coordinates.keys())}"
   ]
  },
  {
   "cell_type": "markdown",
   "id": "11",
   "metadata": {},
   "source": [
    "Let's compute the metric.\n"
   ]
  },
  {
   "cell_type": "code",
   "execution_count": null,
   "id": "12",
   "metadata": {},
   "outputs": [
    {
     "name": "stderr",
     "output_type": "stream",
     "text": [
      " 50%|█████     | 1/2 [00:00<00:00, 574.01it/s, data=('model 1', 'ARN'), metric=RMSD]"
     ]
    },
    {
     "name": "stderr",
     "output_type": "stream",
     "text": [
      "100%|██████████| 2/2 [00:00<00:00, 898.04it/s, data=('model 1', 'ARN'), metric=RMSD]\n"
     ]
    }
   ],
   "source": [
    "df = sm.compute_metrics(sequences, metrics)"
   ]
  },
  {
   "cell_type": "code",
   "execution_count": null,
   "id": "13",
   "metadata": {},
   "outputs": [
    {
     "data": {
      "text/html": [
       "<style type=\"text/css\">\n",
       "#T_30a91 th.col_heading {\n",
       "  text-align: center;\n",
       "}\n",
       "#T_30a91 td {\n",
       "  border-right: 1px solid #ccc;\n",
       "}\n",
       "#T_30a91 th.row_heading {\n",
       "  border-right: 1px solid #ccc;\n",
       "}\n",
       "#T_30a91_row0_col0 {\n",
       "  text-decoration: underline;\n",
       "}\n",
       "#T_30a91_row1_col0 {\n",
       "  background-color: #68d6bc;\n",
       "  font-weight: bold;\n",
       "}\n",
       "</style>\n",
       "<table id=\"T_30a91\">\n",
       "  <thead>\n",
       "    <tr>\n",
       "      <th class=\"blank\" >&nbsp;</th>\n",
       "      <th class=\"blank level0\" >&nbsp;</th>\n",
       "      <th id=\"T_30a91_level0_col0\" class=\"col_heading level0 col0\" >RMSD↓</th>\n",
       "    </tr>\n",
       "  </thead>\n",
       "  <tbody>\n",
       "    <tr>\n",
       "      <th id=\"T_30a91_level0_row0\" class=\"row_heading level0 row0\" rowspan=\"2\">model 1</th>\n",
       "      <th id=\"T_30a91_level1_row0\" class=\"row_heading level1 row0\" >AYLP</th>\n",
       "      <td id=\"T_30a91_row0_col0\" class=\"data row0 col0\" >0.39</td>\n",
       "    </tr>\n",
       "    <tr>\n",
       "      <th id=\"T_30a91_level1_row1\" class=\"row_heading level1 row1\" >ARN</th>\n",
       "      <td id=\"T_30a91_row1_col0\" class=\"data row1 col0\" >0.00</td>\n",
       "    </tr>\n",
       "  </tbody>\n",
       "</table>\n"
      ],
      "text/plain": [
       "<pandas.io.formats.style.Styler at 0x11ab19c50>"
      ]
     },
     "execution_count": null,
     "metadata": {},
     "output_type": "execute_result"
    }
   ],
   "source": [
    "sm.show_table(df)"
   ]
  },
  {
   "cell_type": "markdown",
   "id": "14",
   "metadata": {},
   "source": [
    "Recall seqme defines three groups of metrics: sequence-based, embedding-based and property-based metrics. One may ask, what group this metric fits in? Notice, metrics operating on 3D-structure are very similar to embedding-based metrics: sequence → 3D-structure (embedding) → metric. And there you go.\n",
    "\n",
    "Also notice, if we had a callable model mapping sequence to atomic coordinates, then we could use ModelCache here."
   ]
  }
 ],
 "metadata": {
  "kernelspec": {
   "display_name": "Python 3",
   "language": "python",
   "name": "python3"
  },
  "language_info": {
   "codemirror_mode": {
    "name": "ipython",
    "version": 3
   },
   "file_extension": ".py",
   "mimetype": "text/x-python",
   "name": "python",
   "nbconvert_exporter": "python",
   "pygments_lexer": "ipython3",
   "version": "3.11.13"
  }
 },
 "nbformat": 4,
 "nbformat_minor": 5
}
