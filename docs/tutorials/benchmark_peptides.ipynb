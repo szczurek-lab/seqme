{
 "cells": [
  {
   "cell_type": "markdown",
   "id": "0",
   "metadata": {},
   "source": [
    "# Benchmarking antimicrobial peptides\n"
   ]
  },
  {
   "cell_type": "markdown",
   "id": "1",
   "metadata": {},
   "source": [
    "In this notebook, we use pepme to evaluate antimicrobial peptide sequences.\n"
   ]
  },
  {
   "cell_type": "code",
   "execution_count": null,
   "id": "2",
   "metadata": {},
   "outputs": [],
   "source": [
    "%load_ext autoreload\n",
    "%autoreload 2\n",
    "\n",
    "import pickle\n",
    "\n",
    "import matplotlib.pyplot as plt\n",
    "import numpy as np\n",
    "import torch\n",
    "\n",
    "from pepme import FeatureCache, compute_metrics, show_table\n",
    "from pepme.metrics import FBD, ID, MMD, AuthPct, ConformityScore, Fold, Novelty, Precision, Recall, Uniqueness\n",
    "from pepme.models import Charge, Esm2, Esm2Checkpoint, Gravy, HydrophobicMoment, ThirdPartyModel\n",
    "from pepme.plots import plot_embeddings, plot_kde, tsne, umap\n",
    "from pepme.utils import random_subset, read_fasta_file, shuffle_sequences"
   ]
  },
  {
   "cell_type": "code",
   "execution_count": null,
   "id": "3",
   "metadata": {},
   "outputs": [],
   "source": [
    "device = \"cuda\" if torch.cuda.is_available() else \"cpu\""
   ]
  },
  {
   "cell_type": "markdown",
   "id": "4",
   "metadata": {},
   "source": [
    "## Data\n"
   ]
  },
  {
   "cell_type": "markdown",
   "id": "5",
   "metadata": {},
   "source": [
    "Let's load the datasets.\n"
   ]
  },
  {
   "cell_type": "code",
   "execution_count": null,
   "id": "6",
   "metadata": {},
   "outputs": [],
   "source": [
    "DATASET_PATHS = {\n",
    "    # Databases\n",
    "    \"UniProt\": \"./data/uniprot/uniprot_8_50_100.fasta\",\n",
    "    \"AMP-data\": \"./data/amps.fasta\",\n",
    "    \"AMPs\": \"./data/amps_hq.fasta\",\n",
    "    \"DBAASP\": \"./data/dbaasp.fasta\",\n",
    "    # Models\n",
    "    \"AMP-Diffusion\": \"./data/amp-diffusion.fasta\",\n",
    "    \"AMP-GAN\": \"./data/amp-gan.fasta\",\n",
    "    \"CPL-Diff\": \"./data/cpl-diff.fasta\",\n",
    "    \"HydrAMP\": \"./data/hydramp.fasta\",\n",
    "    \"OmegAMP\": \"./data/omegamp/unconditional.fasta\",\n",
    "}"
   ]
  },
  {
   "cell_type": "code",
   "execution_count": null,
   "id": "7",
   "metadata": {},
   "outputs": [],
   "source": [
    "datasets = {name: read_fasta_file(path) for name, path in DATASET_PATHS.items()}"
   ]
  },
  {
   "cell_type": "code",
   "execution_count": null,
   "id": "8",
   "metadata": {},
   "outputs": [
    {
     "name": "stdout",
     "output_type": "stream",
     "text": [
      "UniProt: 2933310 sequences\n",
      "AMP-data: 38473 sequences\n",
      "AMPs: 7204 sequences\n",
      "DBAASP: 8967 sequences\n",
      "AMP-Diffusion: 47671 sequences\n",
      "AMP-GAN: 150000 sequences\n",
      "CPL-Diff: 49985 sequences\n",
      "HydrAMP: 50000 sequences\n",
      "OmegAMP: 149504 sequences\n"
     ]
    }
   ],
   "source": [
    "for model_name, sequences in datasets.items():\n",
    "    print(f\"{model_name}: {len(sequences)} sequences\")"
   ]
  },
  {
   "cell_type": "markdown",
   "id": "9",
   "metadata": {},
   "source": [
    "Let's setup the data and models.\n"
   ]
  },
  {
   "cell_type": "code",
   "execution_count": null,
   "id": "10",
   "metadata": {},
   "outputs": [],
   "source": [
    "sources = [\n",
    "    \"AMP-Diffusion\",\n",
    "    \"AMP-GAN\",\n",
    "    \"CPL-Diff\",\n",
    "    \"HydrAMP\",\n",
    "    \"OmegAMP\",\n",
    "    \"UniProt\",\n",
    "]\n",
    "\n",
    "n_samples = 40_000  # 3_000\n",
    "seed = 42\n",
    "\n",
    "benchmark_datasets = {\n",
    "    source: random_subset(datasets[source], n_samples=n_samples, seed=seed)\n",
    "    if len(sequences) > n_samples\n",
    "    else datasets[source]\n",
    "    for source in sources\n",
    "}\n",
    "# benchmark_datasets[\"DBAASP (shuffled)\"] = shuffle_sequences(datasets[\"DBAASP\"], seed=seed)\n",
    "\n",
    "seqs_amps = datasets[\"AMPs\"]\n",
    "seqs_train = datasets[\"AMP-data\"]"
   ]
  },
  {
   "cell_type": "markdown",
   "id": "11",
   "metadata": {},
   "source": [
    "## Models\n"
   ]
  },
  {
   "cell_type": "markdown",
   "id": "12",
   "metadata": {},
   "source": [
    "Let's load the models and set up the cache.\n"
   ]
  },
  {
   "cell_type": "code",
   "execution_count": null,
   "id": "13",
   "metadata": {},
   "outputs": [],
   "source": [
    "CACHE_PATH = \"new_cache.pkl\"  # \"cache_pep600.pkl\"\n",
    "\n",
    "if CACHE_PATH:\n",
    "    with open(CACHE_PATH, \"rb\") as f:\n",
    "        init_cache = pickle.load(f)\n",
    "else:\n",
    "    init_cache = None"
   ]
  },
  {
   "cell_type": "markdown",
   "id": "14",
   "metadata": {},
   "source": [
    "Let's setup amPEPpy."
   ]
  },
  {
   "cell_type": "code",
   "execution_count": null,
   "id": "15",
   "metadata": {},
   "outputs": [],
   "source": [
    "# !conda create -n ampep_env python=3.8 -y"
   ]
  },
  {
   "cell_type": "code",
   "execution_count": null,
   "id": "16",
   "metadata": {},
   "outputs": [],
   "source": [
    "ampeppy = ThirdPartyModel(\n",
    "    entry_point=\"amPEPpy.predict:predict\",\n",
    "    repo_path=\"../plugins/pepme-models/ampep\",\n",
    "    python_bin=\"/opt/anaconda3/envs/ampep_env/bin/python\",\n",
    "    # python_bin=\"/home/icb/rasmus.larsen/tools/apps/miniconda3/envs/ampep_env/bin/python\",\n",
    "    repo_url=\"git+https://github.com/RasmusML/pepme-models\",\n",
    "    branch=\"ampeppy\",\n",
    ")"
   ]
  },
  {
   "cell_type": "code",
   "execution_count": null,
   "id": "17",
   "metadata": {},
   "outputs": [],
   "source": [
    "def my_embedder(sequences: list[str]) -> np.ndarray:\n",
    "    lengths = [len(sequence) for sequence in sequences]\n",
    "    counts = [sequence.count(\"K\") for sequence in sequences]\n",
    "    return np.array([lengths, counts]).T\n",
    "\n",
    "\n",
    "esm2 = Esm2(\n",
    "    model_name=Esm2Checkpoint.shukla_group_peptide_650M,\n",
    "    batch_size=512,\n",
    "    device=device,\n",
    "    verbose=False,\n",
    ")\n",
    "\n",
    "cache = FeatureCache(\n",
    "    models={\n",
    "        \"embedder\": my_embedder,\n",
    "        \"esm2-embed\": esm2.embed,\n",
    "        \"esm2-perplexity\": lambda seqs: esm2.compute_pseudo_perplexity(seqs, mask_size=3),\n",
    "        \"gravy\": Gravy(),\n",
    "        \"charge\": Charge(),\n",
    "        \"amphiphilicity\": HydrophobicMoment(),\n",
    "        \"amPEPpy\": ampeppy,\n",
    "    },\n",
    "    init_cache=init_cache,\n",
    ")"
   ]
  },
  {
   "cell_type": "markdown",
   "id": "18",
   "metadata": {},
   "source": [
    "Let's look at the embeddings of the embedding model."
   ]
  },
  {
   "cell_type": "code",
   "execution_count": null,
   "id": "19",
   "metadata": {},
   "outputs": [],
   "source": [
    "datasets_to_plot_names = [\"UniProt\", \"AMP-data\"]\n",
    "# @TODO: include shuffled AMP-data?\n",
    "\n",
    "colors = [\"#d66868\", \"#68d6bc\"]\n",
    "\n",
    "n_samples = 30_000\n",
    "seed = 42\n",
    "\n",
    "datasets_to_plot = {\n",
    "    name: random_subset(datasets[name], n_samples=n_samples, seed=seed)\n",
    "    if len(sequences) > n_samples\n",
    "    else datasets[name]\n",
    "    for name in datasets_to_plot_names\n",
    "}"
   ]
  },
  {
   "cell_type": "code",
   "execution_count": null,
   "id": "20",
   "metadata": {},
   "outputs": [],
   "source": [
    "embedder_name = \"embedder\"\n",
    "embedder = cache.model(embedder_name)\n",
    "\n",
    "embeddings = {name: embedder(dataset) for name, dataset in datasets_to_plot.items()}"
   ]
  },
  {
   "cell_type": "code",
   "execution_count": null,
   "id": "21",
   "metadata": {},
   "outputs": [
    {
     "name": "stderr",
     "output_type": "stream",
     "text": [
      "/Users/rasmus.larsen/work/hackathon-2025/pepme/.conda/lib/python3.11/site-packages/umap/umap_.py:1952: UserWarning: n_jobs value 1 overridden to 1 by setting random_state. Use no seed for parallelism.\n",
      "  warn(\n",
      "OMP: Info #276: omp_set_nested routine deprecated, please use omp_set_max_active_levels instead.\n"
     ]
    }
   ],
   "source": [
    "xs_umap = umap(list(embeddings.values()))"
   ]
  },
  {
   "cell_type": "code",
   "execution_count": null,
   "id": "22",
   "metadata": {},
   "outputs": [
    {
     "data": {
      "text/plain": [
       "'\\nleg = ax.get_legend()\\nleg.get_frame().set_visible(False)\\nleg.set(\\n    loc=\"center left\",\\n    bbox_to_anchor=(1.0, 0.5),\\n)\\n'"
      ]
     },
     "execution_count": null,
     "metadata": {},
     "output_type": "execute_result"
    },
    {
     "data": {
      "image/png": "[encoded data removed]",
      "text/plain": [
       "<Figure size 300x250 with 1 Axes>"
      ]
     },
     "metadata": {},
     "output_type": "display_data"
    }
   ],
   "source": [
    "fig, ax = plt.subplots(figsize=(3, 2.5))  # , dpi=200)\n",
    "plot_embeddings(\n",
    "    xs_umap,\n",
    "    colors=colors,\n",
    "    alpha=0.15,\n",
    "    point_size=2,\n",
    "    legend_point_size=30,\n",
    "    ax=ax,\n",
    "    xlabel=\"UMAP1\",\n",
    "    ylabel=\"UMAP2\",\n",
    ")"
   ]
  },
  {
   "cell_type": "code",
   "execution_count": null,
   "id": "23",
   "metadata": {},
   "outputs": [],
   "source": [
    "xs_tsne = tsne(list(embeddings.values()))"
   ]
  },
  {
   "cell_type": "code",
   "execution_count": null,
   "id": "24",
   "metadata": {},
   "outputs": [
    {
     "data": {
      "image/png": "[encoded data removed]",
      "text/plain": [
       "<Figure size 300x250 with 1 Axes>"
      ]
     },
     "metadata": {},
     "output_type": "display_data"
    }
   ],
   "source": [
    "fig, ax = plt.subplots(figsize=(3, 2.5))  # , dpi=200)\n",
    "\n",
    "plot_embeddings(\n",
    "    xs_tsne,\n",
    "    colors=colors,\n",
    "    alpha=0.15,\n",
    "    point_size=2,\n",
    "    legend_point_size=30,\n",
    "    ax=ax,\n",
    "    xlabel=\"tSNE1\",\n",
    "    ylabel=\"tSNE2\",\n",
    ")\n",
    "\n",
    "ax.spines[\"top\"].set_visible(False)\n",
    "ax.spines[\"right\"].set_visible(False)"
   ]
  },
  {
   "cell_type": "markdown",
   "id": "25",
   "metadata": {},
   "source": [
    "## Metrics\n"
   ]
  },
  {
   "cell_type": "markdown",
   "id": "26",
   "metadata": {},
   "source": [
    "In order to choose a good bandwidth for the kernel density estimator (KDE) in the conformity score, we plot the kde for the two properties of interest on the reference set (AMP dataset).\n"
   ]
  },
  {
   "cell_type": "code",
   "execution_count": null,
   "id": "27",
   "metadata": {},
   "outputs": [
    {
     "data": {
      "image/png": "[encoded data removed]",
      "text/plain": [
       "<Figure size 500x200 with 2 Axes>"
      ]
     },
     "metadata": {},
     "output_type": "display_data"
    }
   ],
   "source": [
    "uniprot = random_subset(datasets[\"UniProt\"], n_samples=30_000, seed=42)\n",
    "\n",
    "fig, axes = plt.subplots(nrows=1, ncols=2, figsize=(5, 2))  # , dpi=200)\n",
    "\n",
    "amphiphilicity = cache.model(\"amphiphilicity\")\n",
    "plot_kde(amphiphilicity(uniprot), \"amphiphilicity\", bandwidth=\"silverman\", ax=axes[0], color=\"#d66868\", label=\"UniProt\")\n",
    "plot_kde(amphiphilicity(seqs_amps), \"amphiphilicity\", bandwidth=\"silverman\", ax=axes[0], label=\"AMP-data\")\n",
    "axes[0].spines[\"top\"].set_visible(False)\n",
    "axes[0].spines[\"right\"].set_visible(False)\n",
    "\n",
    "charge = cache.model(\"charge\")\n",
    "plot_kde(charge(uniprot), \"charge\", bandwidth=\"silverman\", ax=axes[1], color=\"#d66868\", xlim=(-10, 15))\n",
    "plot_kde(charge(seqs_amps), \"charge\", bandwidth=\"silverman\", ax=axes[1], xlim=(-10, 15))\n",
    "axes[1].get_yaxis().set_visible(False)\n",
    "axes[1].spines[\"top\"].set_visible(False)\n",
    "axes[1].spines[\"right\"].set_visible(False)\n",
    "\n",
    "fig.tight_layout()"
   ]
  },
  {
   "cell_type": "markdown",
   "id": "28",
   "metadata": {},
   "source": [
    "Using \"Silverman\" to estimate the kde bandwidth appears to work well here. Also notice AMPs usually have a positive charge.\n"
   ]
  },
  {
   "cell_type": "markdown",
   "id": "29",
   "metadata": {},
   "source": [
    "Let's select the metrics.\n"
   ]
  },
  {
   "cell_type": "code",
   "execution_count": null,
   "id": "30",
   "metadata": {},
   "outputs": [],
   "source": [
    "embedder = \"esm2-embed\"  # \"embedder\"\n",
    "\n",
    "\n",
    "metrics = [\n",
    "    Uniqueness(),\n",
    "    Novelty(reference=seqs_train),\n",
    "    FBD(reference=seqs_amps, embedder=cache.model(embedder)),\n",
    "    MMD(reference=seqs_amps, embedder=cache.model(embedder), device=device),\n",
    "    Fold(\n",
    "        Precision(\n",
    "            neighborhood_size=3, reference=seqs_train, embedder=cache.model(embedder), strict=True, device=device\n",
    "        ),\n",
    "        split_size=len(seqs_train),\n",
    "        drop_last=True,\n",
    "    ),\n",
    "    Fold(\n",
    "        Recall(neighborhood_size=3, reference=seqs_train, embedder=cache.model(embedder), strict=True, device=device),\n",
    "        split_size=len(seqs_train),\n",
    "        drop_last=True,\n",
    "    ),\n",
    "    # ID(predictor=cache.model(\"esm2-perplexity\"), name=\"Perplexity\", objective=\"minimize\"),\n",
    "    # @TODO: ID amplify\n",
    "    # @TODO: ID amPEPpy\n",
    "    # @TODO: ID y_mic\n",
    "    ID(predictor=cache.model(\"amPEPpy\"), name=\"amPEPpy\", objective=\"maximize\"),\n",
    "    Fold(\n",
    "        AuthPct(train_set=seqs_train, embedder=cache.model(embedder), strict=True),\n",
    "        split_size=len(seqs_train),\n",
    "        drop_last=True,\n",
    "    ),\n",
    "    # @TODO: FLD (seqs_train)\n",
    "    ConformityScore(\n",
    "        reference=seqs_amps,\n",
    "        descriptors=[cache.model(\"amphiphilicity\"), cache.model(\"charge\")],\n",
    "        kde_bandwidth=\"silverman\",\n",
    "    ),\n",
    "]"
   ]
  },
  {
   "cell_type": "markdown",
   "id": "31",
   "metadata": {},
   "source": [
    "`Fold` computes the metrics multiple using different folds, and aggregate the values (mean and standard deviation).\n",
    "\n",
    "Wrapping `Fold` around the `Precision` and `Recall` metric, removes the sample size bias inherent in these metrics (introduced by k-NN), while still utilizing as many of the available sequences as possible.\n"
   ]
  },
  {
   "cell_type": "markdown",
   "id": "32",
   "metadata": {},
   "source": [
    "## Table\n"
   ]
  },
  {
   "cell_type": "markdown",
   "id": "33",
   "metadata": {},
   "source": [
    "Let's compute the metrics for each group of sequences.\n"
   ]
  },
  {
   "cell_type": "code",
   "execution_count": null,
   "id": "34",
   "metadata": {},
   "outputs": [
    {
     "name": "stderr",
     "output_type": "stream",
     "text": [
      "  2%|▏         | 1/54 [00:00<00:00, 123.68it/s, data=AMP-Diffusion, metric=Novelty]"
     ]
    },
    {
     "name": "stderr",
     "output_type": "stream",
     "text": [
      "100%|██████████| 54/54 [15:49<00:00, 17.58s/it, data=UniProt, metric=Conformity score]     \n"
     ]
    }
   ],
   "source": [
    "df = compute_metrics(benchmark_datasets, metrics)"
   ]
  },
  {
   "cell_type": "markdown",
   "id": "35",
   "metadata": {},
   "source": [
    "Let's look at the results.\n"
   ]
  },
  {
   "cell_type": "code",
   "execution_count": null,
   "id": "36",
   "metadata": {},
   "outputs": [
    {
     "data": {
      "text/html": [
       "<style type=\"text/css\">\n",
       "#T_8fa0c th.col_heading {\n",
       "  text-align: center;\n",
       "}\n",
       "#T_8fa0c td {\n",
       "  border-right: 1px solid #ccc;\n",
       "}\n",
       "#T_8fa0c th.row_heading {\n",
       "  border-right: 1px solid #ccc;\n",
       "}\n",
       "#T_8fa0c_row0_col3, #T_8fa0c_row1_col7, #T_8fa0c_row2_col5, #T_8fa0c_row2_col8, #T_8fa0c_row3_col0, #T_8fa0c_row4_col2, #T_8fa0c_row4_col4, #T_8fa0c_row5_col6 {\n",
       "  text-decoration: underline;\n",
       "  font-weight: bold;\n",
       "}\n",
       "#T_8fa0c_row1_col1, #T_8fa0c_row1_col4, #T_8fa0c_row1_col8, #T_8fa0c_row2_col2, #T_8fa0c_row2_col3, #T_8fa0c_row2_col6, #T_8fa0c_row3_col1, #T_8fa0c_row4_col5, #T_8fa0c_row4_col7, #T_8fa0c_row5_col0 {\n",
       "  background-color: #68d6bc;\n",
       "  font-weight: bold;\n",
       "}\n",
       "</style>\n",
       "<table id=\"T_8fa0c\">\n",
       "  <thead>\n",
       "    <tr>\n",
       "      <th class=\"blank level0\" >&nbsp;</th>\n",
       "      <th id=\"T_8fa0c_level0_col0\" class=\"col_heading level0 col0\" >Uniqueness↑</th>\n",
       "      <th id=\"T_8fa0c_level0_col1\" class=\"col_heading level0 col1\" >Novelty↑</th>\n",
       "      <th id=\"T_8fa0c_level0_col2\" class=\"col_heading level0 col2\" >FBD↓</th>\n",
       "      <th id=\"T_8fa0c_level0_col3\" class=\"col_heading level0 col3\" >MMD↓</th>\n",
       "      <th id=\"T_8fa0c_level0_col4\" class=\"col_heading level0 col4\" >Precision↑</th>\n",
       "      <th id=\"T_8fa0c_level0_col5\" class=\"col_heading level0 col5\" >Recall↑</th>\n",
       "      <th id=\"T_8fa0c_level0_col6\" class=\"col_heading level0 col6\" >amPEPpy↑</th>\n",
       "      <th id=\"T_8fa0c_level0_col7\" class=\"col_heading level0 col7\" >Authenticity↑</th>\n",
       "      <th id=\"T_8fa0c_level0_col8\" class=\"col_heading level0 col8\" >Conformity score↑</th>\n",
       "    </tr>\n",
       "  </thead>\n",
       "  <tbody>\n",
       "    <tr>\n",
       "      <th id=\"T_8fa0c_level0_row0\" class=\"row_heading level0 row0\" >AMP-Diffusion</th>\n",
       "      <td id=\"T_8fa0c_row0_col0\" class=\"data row0 col0\" >0.911</td>\n",
       "      <td id=\"T_8fa0c_row0_col1\" class=\"data row0 col1\" >0.998</td>\n",
       "      <td id=\"T_8fa0c_row0_col2\" class=\"data row0 col2\" >2.59</td>\n",
       "      <td id=\"T_8fa0c_row0_col3\" class=\"data row0 col3\" >9.20</td>\n",
       "      <td id=\"T_8fa0c_row0_col4\" class=\"data row0 col4\" >0.57</td>\n",
       "      <td id=\"T_8fa0c_row0_col5\" class=\"data row0 col5\" >0.38</td>\n",
       "      <td id=\"T_8fa0c_row0_col6\" class=\"data row0 col6\" >0.35±0.23</td>\n",
       "      <td id=\"T_8fa0c_row0_col7\" class=\"data row0 col7\" >0.14</td>\n",
       "      <td id=\"T_8fa0c_row0_col8\" class=\"data row0 col8\" >0.343±0.002</td>\n",
       "    </tr>\n",
       "    <tr>\n",
       "      <th id=\"T_8fa0c_level0_row1\" class=\"row_heading level0 row1\" >AMP-GAN</th>\n",
       "      <td id=\"T_8fa0c_row1_col0\" class=\"data row1 col0\" >0.996</td>\n",
       "      <td id=\"T_8fa0c_row1_col1\" class=\"data row1 col1\" >1.000</td>\n",
       "      <td id=\"T_8fa0c_row1_col2\" class=\"data row1 col2\" >6.53</td>\n",
       "      <td id=\"T_8fa0c_row1_col3\" class=\"data row1 col3\" >30.15</td>\n",
       "      <td id=\"T_8fa0c_row1_col4\" class=\"data row1 col4\" >0.77</td>\n",
       "      <td id=\"T_8fa0c_row1_col5\" class=\"data row1 col5\" >0.26</td>\n",
       "      <td id=\"T_8fa0c_row1_col6\" class=\"data row1 col6\" >0.48±0.22</td>\n",
       "      <td id=\"T_8fa0c_row1_col7\" class=\"data row1 col7\" >0.23</td>\n",
       "      <td id=\"T_8fa0c_row1_col8\" class=\"data row1 col8\" >0.446±0.002</td>\n",
       "    </tr>\n",
       "    <tr>\n",
       "      <th id=\"T_8fa0c_level0_row2\" class=\"row_heading level0 row2\" >CPL-Diff</th>\n",
       "      <td id=\"T_8fa0c_row2_col0\" class=\"data row2 col0\" >0.976</td>\n",
       "      <td id=\"T_8fa0c_row2_col1\" class=\"data row2 col1\" >0.986</td>\n",
       "      <td id=\"T_8fa0c_row2_col2\" class=\"data row2 col2\" >1.24</td>\n",
       "      <td id=\"T_8fa0c_row2_col3\" class=\"data row2 col3\" >3.22</td>\n",
       "      <td id=\"T_8fa0c_row2_col4\" class=\"data row2 col4\" >0.56</td>\n",
       "      <td id=\"T_8fa0c_row2_col5\" class=\"data row2 col5\" >0.66</td>\n",
       "      <td id=\"T_8fa0c_row2_col6\" class=\"data row2 col6\" >0.70±0.16</td>\n",
       "      <td id=\"T_8fa0c_row2_col7\" class=\"data row2 col7\" >0.14</td>\n",
       "      <td id=\"T_8fa0c_row2_col8\" class=\"data row2 col8\" >0.411±0.001</td>\n",
       "    </tr>\n",
       "    <tr>\n",
       "      <th id=\"T_8fa0c_level0_row3\" class=\"row_heading level0 row3\" >HydrAMP</th>\n",
       "      <td id=\"T_8fa0c_row3_col0\" class=\"data row3 col0\" >1.000</td>\n",
       "      <td id=\"T_8fa0c_row3_col1\" class=\"data row3 col1\" >1.000</td>\n",
       "      <td id=\"T_8fa0c_row3_col2\" class=\"data row3 col2\" >5.87</td>\n",
       "      <td id=\"T_8fa0c_row3_col3\" class=\"data row3 col3\" >22.75</td>\n",
       "      <td id=\"T_8fa0c_row3_col4\" class=\"data row3 col4\" >0.49</td>\n",
       "      <td id=\"T_8fa0c_row3_col5\" class=\"data row3 col5\" >0.52</td>\n",
       "      <td id=\"T_8fa0c_row3_col6\" class=\"data row3 col6\" >0.52±0.15</td>\n",
       "      <td id=\"T_8fa0c_row3_col7\" class=\"data row3 col7\" >0.10</td>\n",
       "      <td id=\"T_8fa0c_row3_col8\" class=\"data row3 col8\" >0.323±0.003</td>\n",
       "    </tr>\n",
       "    <tr>\n",
       "      <th id=\"T_8fa0c_level0_row4\" class=\"row_heading level0 row4\" >OmegAMP</th>\n",
       "      <td id=\"T_8fa0c_row4_col0\" class=\"data row4 col0\" >0.946</td>\n",
       "      <td id=\"T_8fa0c_row4_col1\" class=\"data row4 col1\" >0.912</td>\n",
       "      <td id=\"T_8fa0c_row4_col2\" class=\"data row4 col2\" >2.19</td>\n",
       "      <td id=\"T_8fa0c_row4_col3\" class=\"data row4 col3\" >10.94</td>\n",
       "      <td id=\"T_8fa0c_row4_col4\" class=\"data row4 col4\" >0.72</td>\n",
       "      <td id=\"T_8fa0c_row4_col5\" class=\"data row4 col5\" >0.77</td>\n",
       "      <td id=\"T_8fa0c_row4_col6\" class=\"data row4 col6\" >0.59±0.20</td>\n",
       "      <td id=\"T_8fa0c_row4_col7\" class=\"data row4 col7\" >0.27</td>\n",
       "      <td id=\"T_8fa0c_row4_col8\" class=\"data row4 col8\" >0.381±0.002</td>\n",
       "    </tr>\n",
       "    <tr>\n",
       "      <th id=\"T_8fa0c_level0_row5\" class=\"row_heading level0 row5\" >UniProt</th>\n",
       "      <td id=\"T_8fa0c_row5_col0\" class=\"data row5 col0\" >1.000</td>\n",
       "      <td id=\"T_8fa0c_row5_col1\" class=\"data row5 col1\" >1.000</td>\n",
       "      <td id=\"T_8fa0c_row5_col2\" class=\"data row5 col2\" >5.82</td>\n",
       "      <td id=\"T_8fa0c_row5_col3\" class=\"data row5 col3\" >20.48</td>\n",
       "      <td id=\"T_8fa0c_row5_col4\" class=\"data row5 col4\" >0.67</td>\n",
       "      <td id=\"T_8fa0c_row5_col5\" class=\"data row5 col5\" >0.64</td>\n",
       "      <td id=\"T_8fa0c_row5_col6\" class=\"data row5 col6\" >0.60±0.14</td>\n",
       "      <td id=\"T_8fa0c_row5_col7\" class=\"data row5 col7\" >0.17</td>\n",
       "      <td id=\"T_8fa0c_row5_col8\" class=\"data row5 col8\" >0.270±0.003</td>\n",
       "    </tr>\n",
       "  </tbody>\n",
       "</table>\n"
      ],
      "text/plain": [
       "<pandas.io.formats.style.Styler at 0x7fb4e26d0f70>"
      ]
     },
     "execution_count": null,
     "metadata": {},
     "output_type": "execute_result"
    }
   ],
   "source": [
    "show_table(df, decimals=[3, 3, 2, 2, 2, 2, 2, 2, 3])"
   ]
  },
  {
   "cell_type": "markdown",
   "id": "37",
   "metadata": {},
   "source": [
    "Optional: Saving the cache to a file.\n"
   ]
  },
  {
   "cell_type": "code",
   "execution_count": null,
   "id": "38",
   "metadata": {},
   "outputs": [],
   "source": [
    "OUT_CACHE_PATH = \"new_cache.pkl\"\n",
    "\n",
    "with open(OUT_CACHE_PATH, \"wb\") as f:\n",
    "    pickle.dump(cache.get_cache(), f)"
   ]
  }
 ],
 "metadata": {
  "kernelspec": {
   "display_name": "Python 3",
   "language": "python",
   "name": "python3"
  },
  "language_info": {
   "codemirror_mode": {
    "name": "ipython",
    "version": 3
   },
   "file_extension": ".py",
   "mimetype": "text/x-python",
   "name": "python",
   "nbconvert_exporter": "python",
   "pygments_lexer": "ipython3",
   "version": "3.11.13"
  }
 },
 "nbformat": 4,
 "nbformat_minor": 5
}
