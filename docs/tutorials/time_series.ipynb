{
 "cells": [
  {
   "cell_type": "markdown",
   "id": "0",
   "metadata": {},
   "source": [
    "# Evaluating iterative algorithms\n"
   ]
  },
  {
   "cell_type": "markdown",
   "id": "1",
   "metadata": {
    "vscode": {
     "languageId": "plaintext"
    }
   },
   "source": [
    "Many generative methods (e.g., genetic algorithms) iteratively explore sequences to improve sequence fitness. One may be interested in visualizing the improvement across iterations/generations. Here we show how to evaluate sequences optimized across multiple rounds using seqme."
   ]
  },
  {
   "cell_type": "code",
   "execution_count": null,
   "id": "2",
   "metadata": {},
   "outputs": [],
   "source": [
    "import seqme as sm"
   ]
  },
  {
   "cell_type": "markdown",
   "id": "3",
   "metadata": {},
   "source": [
    "## Single run"
   ]
  },
  {
   "cell_type": "markdown",
   "id": "4",
   "metadata": {},
   "source": [
    "seqme allows naming sequence entries as a tuple. Here we name an entry using the following format: (model name, iteration).\n"
   ]
  },
  {
   "cell_type": "code",
   "execution_count": null,
   "id": "5",
   "metadata": {},
   "outputs": [],
   "source": [
    "sequences = {\n",
    "    (\"model 1\", 1): [\"QLF\", \"FFQLL\", \"RQLL\"],\n",
    "    (\"model 1\", 2): [\"RQLF\", \"PRFQRP\", \"RQLL\"],\n",
    "    (\"model 1\", 3): [\"RQLRR\", \"RQLRRR\", \"RQLRRR\"],\n",
    "    (\"model 2\", 1): [\"QLF\", \"FFQRP\", \"RQLL\"],\n",
    "    (\"model 2\", 2): [\"QLF\", \"FFQRP\", \"RQLL\"],\n",
    "    (\"model 2\", 3): [\"PLFR\", \"RFQRP\", \"RQLR\"],\n",
    "}"
   ]
  },
  {
   "cell_type": "markdown",
   "id": "6",
   "metadata": {},
   "source": [
    "Let's define the metrics to compute.\n"
   ]
  },
  {
   "cell_type": "code",
   "execution_count": null,
   "id": "7",
   "metadata": {},
   "outputs": [],
   "source": [
    "metrics = [\n",
    "    sm.metrics.ID(predictor=sm.models.Charge(), name=\"Charge\", objective=\"maximize\"),\n",
    "    sm.metrics.Uniqueness(),\n",
    "]"
   ]
  },
  {
   "cell_type": "markdown",
   "id": "8",
   "metadata": {},
   "source": [
    "Let's compute the metrics.\n"
   ]
  },
  {
   "cell_type": "code",
   "execution_count": null,
   "id": "9",
   "metadata": {},
   "outputs": [
    {
     "name": "stderr",
     "output_type": "stream",
     "text": [
      "100%|██████████| 12/12 [00:00<00:00, 552.77it/s, data=('model 2', 3), metric=Uniqueness]\n"
     ]
    }
   ],
   "source": [
    "df = sm.compute_metrics(sequences, metrics)"
   ]
  },
  {
   "cell_type": "code",
   "execution_count": null,
   "id": "10",
   "metadata": {},
   "outputs": [
    {
     "data": {
      "text/html": [
       "<style type=\"text/css\">\n",
       "#T_b40c7 th.col_heading {\n",
       "  text-align: center;\n",
       "}\n",
       "#T_b40c7 td {\n",
       "  border-right: 1px solid #ccc;\n",
       "}\n",
       "#T_b40c7 th.row_heading {\n",
       "  border-right: 1px solid #ccc;\n",
       "}\n",
       "#T_b40c7 caption {\n",
       "  caption-side: bottom;\n",
       "  margin-top: 0.75em;\n",
       "}\n",
       "#T_b40c7_row0_col1, #T_b40c7_row1_col1, #T_b40c7_row2_col0, #T_b40c7_row3_col1, #T_b40c7_row4_col1, #T_b40c7_row5_col1 {\n",
       "  font-weight: bold;\n",
       "  background-color: #68d6bc;\n",
       "}\n",
       "#T_b40c7_row5_col0 {\n",
       "  text-decoration: underline;\n",
       "}\n",
       "</style>\n",
       "<table id=\"T_b40c7\">\n",
       "  <caption>Table 1. Iterative algorithms</caption>\n",
       "  <thead>\n",
       "    <tr>\n",
       "      <th class=\"blank\" >&nbsp;</th>\n",
       "      <th class=\"blank level0\" >&nbsp;</th>\n",
       "      <th id=\"T_b40c7_level0_col0\" class=\"col_heading level0 col0\" >Charge↑</th>\n",
       "      <th id=\"T_b40c7_level0_col1\" class=\"col_heading level0 col1\" >Uniqueness↑</th>\n",
       "    </tr>\n",
       "  </thead>\n",
       "  <tbody>\n",
       "    <tr>\n",
       "      <th id=\"T_b40c7_level0_row0\" class=\"row_heading level0 row0\" rowspan=\"3\">model 1</th>\n",
       "      <th id=\"T_b40c7_level1_row0\" class=\"row_heading level1 row0\" >1</th>\n",
       "      <td id=\"T_b40c7_row0_col0\" class=\"data row0 col0\" >0.33±0.47</td>\n",
       "      <td id=\"T_b40c7_row0_col1\" class=\"data row0 col1\" >1.00</td>\n",
       "    </tr>\n",
       "    <tr>\n",
       "      <th id=\"T_b40c7_level1_row1\" class=\"row_heading level1 row1\" >2</th>\n",
       "      <td id=\"T_b40c7_row1_col0\" class=\"data row1 col0\" >1.33±0.47</td>\n",
       "      <td id=\"T_b40c7_row1_col1\" class=\"data row1 col1\" >1.00</td>\n",
       "    </tr>\n",
       "    <tr>\n",
       "      <th id=\"T_b40c7_level1_row2\" class=\"row_heading level1 row2\" >3</th>\n",
       "      <td id=\"T_b40c7_row2_col0\" class=\"data row2 col0\" >3.66±0.47</td>\n",
       "      <td id=\"T_b40c7_row2_col1\" class=\"data row2 col1\" >0.67</td>\n",
       "    </tr>\n",
       "    <tr>\n",
       "      <th id=\"T_b40c7_level0_row3\" class=\"row_heading level0 row3\" rowspan=\"3\">model 2</th>\n",
       "      <th id=\"T_b40c7_level1_row3\" class=\"row_heading level1 row3\" >1</th>\n",
       "      <td id=\"T_b40c7_row3_col0\" class=\"data row3 col0\" >0.66±0.47</td>\n",
       "      <td id=\"T_b40c7_row3_col1\" class=\"data row3 col1\" >1.00</td>\n",
       "    </tr>\n",
       "    <tr>\n",
       "      <th id=\"T_b40c7_level1_row4\" class=\"row_heading level1 row4\" >2</th>\n",
       "      <td id=\"T_b40c7_row4_col0\" class=\"data row4 col0\" >0.66±0.47</td>\n",
       "      <td id=\"T_b40c7_row4_col1\" class=\"data row4 col1\" >1.00</td>\n",
       "    </tr>\n",
       "    <tr>\n",
       "      <th id=\"T_b40c7_level1_row5\" class=\"row_heading level1 row5\" >3</th>\n",
       "      <td id=\"T_b40c7_row5_col0\" class=\"data row5 col0\" >1.66±0.47</td>\n",
       "      <td id=\"T_b40c7_row5_col1\" class=\"data row5 col1\" >1.00</td>\n",
       "    </tr>\n",
       "  </tbody>\n",
       "</table>\n"
      ],
      "text/plain": [
       "<pandas.io.formats.style.Styler at 0x32232e350>"
      ]
     },
     "execution_count": null,
     "metadata": {},
     "output_type": "execute_result"
    }
   ],
   "source": [
    "sm.show_table(df, caption=\"Table 1. Iterative algorithms\")"
   ]
  },
  {
   "cell_type": "markdown",
   "id": "11",
   "metadata": {},
   "source": [
    "Let's visualize the sequences performance at each step."
   ]
  },
  {
   "cell_type": "code",
   "execution_count": null,
   "id": "12",
   "metadata": {},
   "outputs": [
    {
     "data": {
      "image/png": "[encoded data removed]",
      "text/plain": [
       "<Figure size 400x300 with 1 Axes>"
      ]
     },
     "metadata": {},
     "output_type": "display_data"
    }
   ],
   "source": [
    "sm.plot_series(df, \"Charge\")"
   ]
  },
  {
   "cell_type": "markdown",
   "id": "13",
   "metadata": {},
   "source": [
    "## Multiple runs"
   ]
  },
  {
   "cell_type": "markdown",
   "id": "14",
   "metadata": {},
   "source": [
    "Let's assume we ran two generative models multiple times with a different seed each time. The sequences from the runs are shown below. And now we want to compute the deviation in performance across runs."
   ]
  },
  {
   "cell_type": "code",
   "execution_count": null,
   "id": "15",
   "metadata": {},
   "outputs": [],
   "source": [
    "sequences_run1 = {\n",
    "    (\"model 1\", 1): [\"QLF\", \"FFQLL\", \"RQLL\"],\n",
    "    (\"model 1\", 2): [\"RQLF\", \"PRFQRP\", \"RQLL\"],\n",
    "    (\"model 1\", 3): [\"RQLRR\", \"RQLRRR\", \"RQLRRR\"],\n",
    "    (\"model 2\", 1): [\"QLF\", \"FFQRP\", \"RQLL\"],\n",
    "    (\"model 2\", 2): [\"QLF\", \"FFQRP\", \"RQLL\"],\n",
    "    (\"model 2\", 3): [\"PLFR\", \"RFQRP\", \"RQLR\"],\n",
    "}\n",
    "\n",
    "sequences_run2 = {\n",
    "    (\"model 1\", 1): [\"QLF\", \"FFQLL\", \"RQLL\"],\n",
    "    (\"model 1\", 2): [\"RQLF\", \"PRFQRP\", \"RQLL\"],\n",
    "    (\"model 1\", 3): [\"RQLRR\", \"RQLRRR\", \"RQLRRR\"],\n",
    "    (\"model 2\", 1): [\"QLF\", \"FFQRP\", \"RQLL\"],\n",
    "    (\"model 2\", 2): [\"QLF\", \"FFQRP\", \"RQLL\"],\n",
    "    (\"model 2\", 3): [\"PLFR\", \"RFQRP\", \"RQLR\"],\n",
    "}\n",
    "\n",
    "sequences_run3 = {\n",
    "    (\"model 1\", 1): [\"RQLF\", \"PRFQRP\", \"RQLL\"],\n",
    "    (\"model 1\", 2): [\"QLF\", \"FFQLL\", \"RQLL\"],\n",
    "    (\"model 1\", 3): [\"RQLRR\", \"RQLRRR\", \"RQLRRR\"],\n",
    "    (\"model 2\", 1): [\"QLF\", \"FFQRP\", \"RQLL\"],\n",
    "    (\"model 2\", 2): [\"QLF\", \"FFQRP\", \"RQLL\"],\n",
    "    (\"model 2\", 3): [\"PLFR\", \"RFQRP\", \"RQLR\"],\n",
    "}\n",
    "\n",
    "sequences_per_run = [sequences_run1, sequences_run2, sequences_run3]"
   ]
  },
  {
   "cell_type": "markdown",
   "id": "16",
   "metadata": {},
   "source": [
    "Let's define the metrics to compute.\n"
   ]
  },
  {
   "cell_type": "code",
   "execution_count": null,
   "id": "17",
   "metadata": {},
   "outputs": [],
   "source": [
    "metrics = [\n",
    "    sm.metrics.ID(predictor=sm.models.Charge(), name=\"Charge\", objective=\"maximize\"),\n",
    "    sm.metrics.Uniqueness(),\n",
    "]"
   ]
  },
  {
   "cell_type": "code",
   "execution_count": null,
   "id": "18",
   "metadata": {},
   "outputs": [
    {
     "name": "stderr",
     "output_type": "stream",
     "text": [
      "100%|██████████| 12/12 [00:00<00:00, 1845.54it/s, data=('model 2', 3), metric=Uniqueness]\n",
      "100%|██████████| 12/12 [00:00<00:00, 3036.60it/s, data=('model 2', 3), metric=Uniqueness]\n",
      "100%|██████████| 12/12 [00:00<00:00, 3570.13it/s, data=('model 2', 3), metric=Uniqueness]\n"
     ]
    }
   ],
   "source": [
    "df_per_run = [sm.compute_metrics(sequences, metrics) for sequences in sequences_per_run]"
   ]
  },
  {
   "cell_type": "markdown",
   "id": "19",
   "metadata": {},
   "source": [
    "Let's create a metric dataframe combining the metric dataframe of each run."
   ]
  },
  {
   "cell_type": "code",
   "execution_count": null,
   "id": "20",
   "metadata": {},
   "outputs": [],
   "source": [
    "df_combined_runs = sm.combine_metric_dataframes(df_per_run, on_overlap=\"mean\")"
   ]
  },
  {
   "cell_type": "code",
   "execution_count": null,
   "id": "21",
   "metadata": {},
   "outputs": [
    {
     "data": {
      "text/html": [
       "<style type=\"text/css\">\n",
       "#T_df908 th.col_heading {\n",
       "  text-align: center;\n",
       "}\n",
       "#T_df908 td {\n",
       "  border-right: 1px solid #ccc;\n",
       "}\n",
       "#T_df908 th.row_heading {\n",
       "  border-right: 1px solid #ccc;\n",
       "}\n",
       "#T_df908 caption {\n",
       "  caption-side: bottom;\n",
       "  margin-top: 0.75em;\n",
       "}\n",
       "#T_df908_row0_col1, #T_df908_row1_col1, #T_df908_row2_col0, #T_df908_row3_col1, #T_df908_row4_col1, #T_df908_row5_col1 {\n",
       "  font-weight: bold;\n",
       "  background-color: #68d6bc;\n",
       "}\n",
       "#T_df908_row5_col0 {\n",
       "  text-decoration: underline;\n",
       "}\n",
       "</style>\n",
       "<table id=\"T_df908\">\n",
       "  <caption>Table 2. Multiple runs</caption>\n",
       "  <thead>\n",
       "    <tr>\n",
       "      <th class=\"blank\" >&nbsp;</th>\n",
       "      <th class=\"blank level0\" >&nbsp;</th>\n",
       "      <th id=\"T_df908_level0_col0\" class=\"col_heading level0 col0\" >Charge↑</th>\n",
       "      <th id=\"T_df908_level0_col1\" class=\"col_heading level0 col1\" >Uniqueness↑</th>\n",
       "    </tr>\n",
       "  </thead>\n",
       "  <tbody>\n",
       "    <tr>\n",
       "      <th id=\"T_df908_level0_row0\" class=\"row_heading level0 row0\" rowspan=\"3\">model 1</th>\n",
       "      <th id=\"T_df908_level1_row0\" class=\"row_heading level1 row0\" >1</th>\n",
       "      <td id=\"T_df908_row0_col0\" class=\"data row0 col0\" >0.66±0.47</td>\n",
       "      <td id=\"T_df908_row0_col1\" class=\"data row0 col1\" >1.00±0.00</td>\n",
       "    </tr>\n",
       "    <tr>\n",
       "      <th id=\"T_df908_level1_row1\" class=\"row_heading level1 row1\" >2</th>\n",
       "      <td id=\"T_df908_row1_col0\" class=\"data row1 col0\" >1.00±0.47</td>\n",
       "      <td id=\"T_df908_row1_col1\" class=\"data row1 col1\" >1.00±0.00</td>\n",
       "    </tr>\n",
       "    <tr>\n",
       "      <th id=\"T_df908_level1_row2\" class=\"row_heading level1 row2\" >3</th>\n",
       "      <td id=\"T_df908_row2_col0\" class=\"data row2 col0\" >3.66±0.00</td>\n",
       "      <td id=\"T_df908_row2_col1\" class=\"data row2 col1\" >0.67±0.00</td>\n",
       "    </tr>\n",
       "    <tr>\n",
       "      <th id=\"T_df908_level0_row3\" class=\"row_heading level0 row3\" rowspan=\"3\">model 2</th>\n",
       "      <th id=\"T_df908_level1_row3\" class=\"row_heading level1 row3\" >1</th>\n",
       "      <td id=\"T_df908_row3_col0\" class=\"data row3 col0\" >0.66±0.00</td>\n",
       "      <td id=\"T_df908_row3_col1\" class=\"data row3 col1\" >1.00±0.00</td>\n",
       "    </tr>\n",
       "    <tr>\n",
       "      <th id=\"T_df908_level1_row4\" class=\"row_heading level1 row4\" >2</th>\n",
       "      <td id=\"T_df908_row4_col0\" class=\"data row4 col0\" >0.66±0.00</td>\n",
       "      <td id=\"T_df908_row4_col1\" class=\"data row4 col1\" >1.00±0.00</td>\n",
       "    </tr>\n",
       "    <tr>\n",
       "      <th id=\"T_df908_level1_row5\" class=\"row_heading level1 row5\" >3</th>\n",
       "      <td id=\"T_df908_row5_col0\" class=\"data row5 col0\" >1.66±0.00</td>\n",
       "      <td id=\"T_df908_row5_col1\" class=\"data row5 col1\" >1.00±0.00</td>\n",
       "    </tr>\n",
       "  </tbody>\n",
       "</table>\n"
      ],
      "text/plain": [
       "<pandas.io.formats.style.Styler at 0x176112500>"
      ]
     },
     "execution_count": null,
     "metadata": {},
     "output_type": "execute_result"
    }
   ],
   "source": [
    "sm.show_table(df_combined_runs, caption=\"Table 2. Multiple runs\")"
   ]
  },
  {
   "cell_type": "markdown",
   "id": "22",
   "metadata": {},
   "source": [
    "Let's visualize the sequences performance at each iteration."
   ]
  },
  {
   "cell_type": "code",
   "execution_count": null,
   "id": "23",
   "metadata": {},
   "outputs": [
    {
     "data": {
      "image/png": "[encoded data removed]",
      "text/plain": [
       "<Figure size 400x300 with 1 Axes>"
      ]
     },
     "metadata": {},
     "output_type": "display_data"
    }
   ],
   "source": [
    "sm.plot_series(df_combined_runs, \"Charge\")"
   ]
  }
 ],
 "metadata": {
  "kernelspec": {
   "display_name": "Python 3",
   "language": "python",
   "name": "python3"
  },
  "language_info": {
   "codemirror_mode": {
    "name": "ipython",
    "version": 3
   },
   "file_extension": ".py",
   "mimetype": "text/x-python",
   "name": "python",
   "nbconvert_exporter": "python",
   "pygments_lexer": "ipython3",
   "version": "3.10.18"
  }
 },
 "nbformat": 4,
 "nbformat_minor": 5
}
