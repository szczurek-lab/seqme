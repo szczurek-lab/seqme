{
 "cells": [
  {
   "cell_type": "markdown",
   "id": "0",
   "metadata": {},
   "source": [
    "# Evaluating iterative algorithms\n"
   ]
  },
  {
   "cell_type": "markdown",
   "id": "1",
   "metadata": {
    "vscode": {
     "languageId": "plaintext"
    }
   },
   "source": [
    "Many generative methods (e.g., genetic algorithms) iteratively explore sequences to improve sequence fitness. In this notebook, we show on toy sequences how to evaluate sequences optimized across multiple rounds and visualize the results using seqme.\n"
   ]
  },
  {
   "cell_type": "code",
   "execution_count": null,
   "id": "2",
   "metadata": {},
   "outputs": [],
   "source": [
    "import seqme as sm"
   ]
  },
  {
   "cell_type": "markdown",
   "id": "3",
   "metadata": {},
   "source": [
    "## Single run\n"
   ]
  },
  {
   "cell_type": "markdown",
   "id": "4",
   "metadata": {},
   "source": [
    "seqme allows naming sequence entries as a tuple. Here we name an entry using the following format: (model name, iteration).\n"
   ]
  },
  {
   "cell_type": "code",
   "execution_count": null,
   "id": "5",
   "metadata": {},
   "outputs": [],
   "source": [
    "sequences = {\n",
    "    (\"model 1\", 1): [\"QLF\", \"FFQLL\", \"RQLL\"],\n",
    "    (\"model 1\", 2): [\"RQLF\", \"PRFQRP\", \"RQLL\"],\n",
    "    (\"model 1\", 3): [\"RQLRR\", \"RQLRRR\", \"RQLRRR\"],\n",
    "    (\"model 2\", 1): [\"QLF\", \"QLF\", \"RQLL\"],\n",
    "    (\"model 2\", 2): [\"QLF\", \"FFQRP\", \"RQLL\"],\n",
    "    (\"model 2\", 3): [\"PLFR\", \"RFQRP\", \"RQLR\"],\n",
    "}"
   ]
  },
  {
   "cell_type": "markdown",
   "id": "6",
   "metadata": {},
   "source": [
    "Let's define the metrics to compute.\n"
   ]
  },
  {
   "cell_type": "code",
   "execution_count": null,
   "id": "7",
   "metadata": {},
   "outputs": [],
   "source": [
    "metrics = [\n",
    "    sm.metrics.ID(predictor=sm.models.Charge(), name=\"Charge\", objective=\"maximize\"),\n",
    "    sm.metrics.ID(predictor=sm.models.Hydrophobicity(), name=\"Hydrophobicity\", objective=\"maximize\"),\n",
    "    sm.metrics.Uniqueness(),\n",
    "]"
   ]
  },
  {
   "cell_type": "markdown",
   "id": "8",
   "metadata": {},
   "source": [
    "Let's compute the metrics.\n"
   ]
  },
  {
   "cell_type": "code",
   "execution_count": null,
   "id": "9",
   "metadata": {},
   "outputs": [
    {
     "name": "stderr",
     "output_type": "stream",
     "text": [
      "100%|██████████| 18/18 [00:00<00:00, 481.23it/s, data=('model 2', 3), metric=Uniqueness]    \n"
     ]
    }
   ],
   "source": [
    "df = sm.evaluate(sequences, metrics)"
   ]
  },
  {
   "cell_type": "code",
   "execution_count": null,
   "id": "10",
   "metadata": {},
   "outputs": [
    {
     "data": {
      "text/html": [
       "<style type=\"text/css\">\n",
       "#T_565b5 th.col_heading {\n",
       "  text-align: center;\n",
       "}\n",
       "#T_565b5 td {\n",
       "  border-right: 1px solid #ccc;\n",
       "}\n",
       "#T_565b5 th.row_heading {\n",
       "  border-right: 1px solid #ccc;\n",
       "}\n",
       "#T_565b5 tbody tr:nth-child(4) td {\n",
       "  border-top: 1px solid #ccc;\n",
       "}\n",
       "#T_565b5  tbody tr:nth-child(4) th {\n",
       "  border-top: 1px solid #ccc;\n",
       "}\n",
       "#T_565b5 caption {\n",
       "  caption-side: bottom;\n",
       "  margin-top: 0.75em;\n",
       "}\n",
       "#T_565b5_row0_col1, #T_565b5_row0_col2, #T_565b5_row1_col2, #T_565b5_row2_col0, #T_565b5_row4_col2, #T_565b5_row5_col2 {\n",
       "  background: linear-gradient(90deg, #68d6bc 100.0%, transparent 100.0%);\n",
       "  font-weight: bold;\n",
       "}\n",
       "#T_565b5_row1_col0 {\n",
       "  background: linear-gradient(90deg, #68d6bc 30.0%, transparent 30.0%);\n",
       "}\n",
       "#T_565b5_row1_col1 {\n",
       "  background: linear-gradient(90deg, #68d6bc 60.3%, transparent 60.3%);\n",
       "}\n",
       "#T_565b5_row3_col1 {\n",
       "  background: linear-gradient(90deg, #68d6bc 95.2%, transparent 95.2%);\n",
       "  text-decoration: underline;\n",
       "}\n",
       "#T_565b5_row4_col0 {\n",
       "  background: linear-gradient(90deg, #68d6bc 9.9%, transparent 9.9%);\n",
       "}\n",
       "#T_565b5_row4_col1 {\n",
       "  background: linear-gradient(90deg, #68d6bc 83.6%, transparent 83.6%);\n",
       "}\n",
       "#T_565b5_row5_col0 {\n",
       "  background: linear-gradient(90deg, #68d6bc 39.9%, transparent 39.9%);\n",
       "  text-decoration: underline;\n",
       "}\n",
       "#T_565b5_row5_col1 {\n",
       "  background: linear-gradient(90deg, #68d6bc 46.0%, transparent 46.0%);\n",
       "}\n",
       "</style>\n",
       "<table id=\"T_565b5\">\n",
       "  <caption>Table 1.1 Iterative algorithms</caption>\n",
       "  <thead>\n",
       "    <tr>\n",
       "      <th class=\"blank\" >&nbsp;</th>\n",
       "      <th class=\"blank level0\" >&nbsp;</th>\n",
       "      <th id=\"T_565b5_level0_col0\" class=\"col_heading level0 col0\" >Charge↑</th>\n",
       "      <th id=\"T_565b5_level0_col1\" class=\"col_heading level0 col1\" >Hydrophobicity↑</th>\n",
       "      <th id=\"T_565b5_level0_col2\" class=\"col_heading level0 col2\" >Uniqueness↑</th>\n",
       "    </tr>\n",
       "  </thead>\n",
       "  <tbody>\n",
       "    <tr>\n",
       "      <th id=\"T_565b5_level0_row0\" class=\"row_heading level0 row0\" rowspan=\"3\">model 1</th>\n",
       "      <th id=\"T_565b5_level1_row0\" class=\"row_heading level1 row0\" >1</th>\n",
       "      <td id=\"T_565b5_row0_col0\" class=\"data row0 col0\" >0.33±0.47</td>\n",
       "      <td id=\"T_565b5_row0_col1\" class=\"data row0 col1\" >0.32±0.44</td>\n",
       "      <td id=\"T_565b5_row0_col2\" class=\"data row0 col2\" >1.00</td>\n",
       "    </tr>\n",
       "    <tr>\n",
       "      <th id=\"T_565b5_level1_row1\" class=\"row_heading level1 row1\" >2</th>\n",
       "      <td id=\"T_565b5_row1_col0\" class=\"data row1 col0\" >1.33±0.47</td>\n",
       "      <td id=\"T_565b5_row1_col1\" class=\"data row1 col1\" >-0.43±0.22</td>\n",
       "      <td id=\"T_565b5_row1_col2\" class=\"data row1 col2\" >1.00</td>\n",
       "    </tr>\n",
       "    <tr>\n",
       "      <th id=\"T_565b5_level1_row2\" class=\"row_heading level1 row2\" >3</th>\n",
       "      <td id=\"T_565b5_row2_col0\" class=\"data row2 col0\" >3.66±0.47</td>\n",
       "      <td id=\"T_565b5_row2_col1\" class=\"data row2 col1\" >-1.57±0.08</td>\n",
       "      <td id=\"T_565b5_row2_col2\" class=\"data row2 col2\" >0.67</td>\n",
       "    </tr>\n",
       "    <tr>\n",
       "      <th id=\"T_565b5_level0_row3\" class=\"row_heading level0 row3\" rowspan=\"3\">model 2</th>\n",
       "      <th id=\"T_565b5_level1_row3\" class=\"row_heading level1 row3\" >1</th>\n",
       "      <td id=\"T_565b5_row3_col0\" class=\"data row3 col0\" >0.33±0.47</td>\n",
       "      <td id=\"T_565b5_row3_col1\" class=\"data row3 col1\" >0.23±0.36</td>\n",
       "      <td id=\"T_565b5_row3_col2\" class=\"data row3 col2\" >0.67</td>\n",
       "    </tr>\n",
       "    <tr>\n",
       "      <th id=\"T_565b5_level1_row4\" class=\"row_heading level1 row4\" >2</th>\n",
       "      <td id=\"T_565b5_row4_col0\" class=\"data row4 col0\" >0.66±0.47</td>\n",
       "      <td id=\"T_565b5_row4_col1\" class=\"data row4 col1\" >0.01±0.34</td>\n",
       "      <td id=\"T_565b5_row4_col2\" class=\"data row4 col2\" >1.00</td>\n",
       "    </tr>\n",
       "    <tr>\n",
       "      <th id=\"T_565b5_level1_row5\" class=\"row_heading level1 row5\" >3</th>\n",
       "      <td id=\"T_565b5_row5_col0\" class=\"data row5 col0\" >1.66±0.47</td>\n",
       "      <td id=\"T_565b5_row5_col1\" class=\"data row5 col1\" >-0.70±0.50</td>\n",
       "      <td id=\"T_565b5_row5_col2\" class=\"data row5 col2\" >1.00</td>\n",
       "    </tr>\n",
       "  </tbody>\n",
       "</table>\n"
      ],
      "text/plain": [
       "<pandas.io.formats.style.Styler at 0x165fece50>"
      ]
     },
     "execution_count": null,
     "metadata": {},
     "output_type": "execute_result"
    }
   ],
   "source": [
    "sm.show(df, color_style=\"bar\", caption=\"Table 1.1 Iterative algorithms\")"
   ]
  },
  {
   "cell_type": "markdown",
   "id": "11",
   "metadata": {},
   "source": [
    "Let's highlight it differently.\n"
   ]
  },
  {
   "cell_type": "code",
   "execution_count": null,
   "id": "12",
   "metadata": {},
   "outputs": [
    {
     "data": {
      "text/html": [
       "<style type=\"text/css\">\n",
       "#T_9604d th.col_heading {\n",
       "  text-align: center;\n",
       "}\n",
       "#T_9604d td {\n",
       "  border-right: 1px solid #ccc;\n",
       "}\n",
       "#T_9604d th.row_heading {\n",
       "  border-right: 1px solid #ccc;\n",
       "}\n",
       "#T_9604d tbody tr:nth-child(4) td {\n",
       "  border-top: 1px solid #ccc;\n",
       "}\n",
       "#T_9604d  tbody tr:nth-child(4) th {\n",
       "  border-top: 1px solid #ccc;\n",
       "}\n",
       "#T_9604d caption {\n",
       "  caption-side: bottom;\n",
       "  margin-top: 0.75em;\n",
       "}\n",
       "#T_9604d_row0_col1, #T_9604d_row0_col2, #T_9604d_row1_col2, #T_9604d_row2_col0, #T_9604d_row3_col1, #T_9604d_row4_col2, #T_9604d_row5_col0, #T_9604d_row5_col2 {\n",
       "  background: linear-gradient(90deg, #68d6bc 100.0%, transparent 100.0%);\n",
       "  font-weight: bold;\n",
       "}\n",
       "#T_9604d_row1_col0 {\n",
       "  background: linear-gradient(90deg, #68d6bc 30.0%, transparent 30.0%);\n",
       "  text-decoration: underline;\n",
       "}\n",
       "#T_9604d_row1_col1 {\n",
       "  background: linear-gradient(90deg, #68d6bc 60.3%, transparent 60.3%);\n",
       "  text-decoration: underline;\n",
       "}\n",
       "#T_9604d_row4_col0 {\n",
       "  background: linear-gradient(90deg, #68d6bc 24.8%, transparent 24.8%);\n",
       "  text-decoration: underline;\n",
       "}\n",
       "#T_9604d_row4_col1 {\n",
       "  background: linear-gradient(90deg, #68d6bc 76.3%, transparent 76.3%);\n",
       "  text-decoration: underline;\n",
       "}\n",
       "</style>\n",
       "<table id=\"T_9604d\">\n",
       "  <caption>Table 1.2 Iterative algorithms</caption>\n",
       "  <thead>\n",
       "    <tr>\n",
       "      <th class=\"blank\" >&nbsp;</th>\n",
       "      <th class=\"blank level0\" >&nbsp;</th>\n",
       "      <th id=\"T_9604d_level0_col0\" class=\"col_heading level0 col0\" >Charge↑</th>\n",
       "      <th id=\"T_9604d_level0_col1\" class=\"col_heading level0 col1\" >Hydrophobicity↑</th>\n",
       "      <th id=\"T_9604d_level0_col2\" class=\"col_heading level0 col2\" >Uniqueness↑</th>\n",
       "    </tr>\n",
       "  </thead>\n",
       "  <tbody>\n",
       "    <tr>\n",
       "      <th id=\"T_9604d_level0_row0\" class=\"row_heading level0 row0\" rowspan=\"3\">model 1</th>\n",
       "      <th id=\"T_9604d_level1_row0\" class=\"row_heading level1 row0\" >1</th>\n",
       "      <td id=\"T_9604d_row0_col0\" class=\"data row0 col0\" >0.33±0.47</td>\n",
       "      <td id=\"T_9604d_row0_col1\" class=\"data row0 col1\" >0.32±0.44</td>\n",
       "      <td id=\"T_9604d_row0_col2\" class=\"data row0 col2\" >1.00</td>\n",
       "    </tr>\n",
       "    <tr>\n",
       "      <th id=\"T_9604d_level1_row1\" class=\"row_heading level1 row1\" >2</th>\n",
       "      <td id=\"T_9604d_row1_col0\" class=\"data row1 col0\" >1.33±0.47</td>\n",
       "      <td id=\"T_9604d_row1_col1\" class=\"data row1 col1\" >-0.43±0.22</td>\n",
       "      <td id=\"T_9604d_row1_col2\" class=\"data row1 col2\" >1.00</td>\n",
       "    </tr>\n",
       "    <tr>\n",
       "      <th id=\"T_9604d_level1_row2\" class=\"row_heading level1 row2\" >3</th>\n",
       "      <td id=\"T_9604d_row2_col0\" class=\"data row2 col0\" >3.66±0.47</td>\n",
       "      <td id=\"T_9604d_row2_col1\" class=\"data row2 col1\" >-1.57±0.08</td>\n",
       "      <td id=\"T_9604d_row2_col2\" class=\"data row2 col2\" >0.67</td>\n",
       "    </tr>\n",
       "    <tr>\n",
       "      <th id=\"T_9604d_level0_row3\" class=\"row_heading level0 row3\" rowspan=\"3\">model 2</th>\n",
       "      <th id=\"T_9604d_level1_row3\" class=\"row_heading level1 row3\" >1</th>\n",
       "      <td id=\"T_9604d_row3_col0\" class=\"data row3 col0\" >0.33±0.47</td>\n",
       "      <td id=\"T_9604d_row3_col1\" class=\"data row3 col1\" >0.23±0.36</td>\n",
       "      <td id=\"T_9604d_row3_col2\" class=\"data row3 col2\" >0.67</td>\n",
       "    </tr>\n",
       "    <tr>\n",
       "      <th id=\"T_9604d_level1_row4\" class=\"row_heading level1 row4\" >2</th>\n",
       "      <td id=\"T_9604d_row4_col0\" class=\"data row4 col0\" >0.66±0.47</td>\n",
       "      <td id=\"T_9604d_row4_col1\" class=\"data row4 col1\" >0.01±0.34</td>\n",
       "      <td id=\"T_9604d_row4_col2\" class=\"data row4 col2\" >1.00</td>\n",
       "    </tr>\n",
       "    <tr>\n",
       "      <th id=\"T_9604d_level1_row5\" class=\"row_heading level1 row5\" >3</th>\n",
       "      <td id=\"T_9604d_row5_col0\" class=\"data row5 col0\" >1.66±0.47</td>\n",
       "      <td id=\"T_9604d_row5_col1\" class=\"data row5 col1\" >-0.70±0.50</td>\n",
       "      <td id=\"T_9604d_row5_col2\" class=\"data row5 col2\" >1.00</td>\n",
       "    </tr>\n",
       "  </tbody>\n",
       "</table>\n"
      ],
      "text/plain": [
       "<pandas.io.formats.style.Styler at 0x167212390>"
      ]
     },
     "execution_count": null,
     "metadata": {},
     "output_type": "execute_result"
    }
   ],
   "source": [
    "sm.show(df, color_style=\"bar\", caption=\"Table 1.2 Iterative algorithms\", level=1)"
   ]
  },
  {
   "cell_type": "markdown",
   "id": "13",
   "metadata": {},
   "source": [
    "Notice in the above table visualization, we set `level=1`, this means that each sub metric dataframe (model 1 and model 2) should be colored, underlined and bolded, independently.\n"
   ]
  },
  {
   "cell_type": "markdown",
   "id": "14",
   "metadata": {},
   "source": [
    "Let's visualize the sequences performance at each step.\n"
   ]
  },
  {
   "cell_type": "code",
   "execution_count": null,
   "id": "15",
   "metadata": {},
   "outputs": [
    {
     "data": {
      "image/png": "[encoded data removed]",
      "text/plain": [
       "<Figure size 400x300 with 1 Axes>"
      ]
     },
     "metadata": {},
     "output_type": "display_data"
    }
   ],
   "source": [
    "sm.plot_line(df, metric=\"Charge\")"
   ]
  },
  {
   "cell_type": "markdown",
   "id": "16",
   "metadata": {},
   "source": [
    "Let's look at two metrics."
   ]
  },
  {
   "cell_type": "code",
   "execution_count": null,
   "id": "17",
   "metadata": {},
   "outputs": [
    {
     "data": {
      "image/png": "[encoded data removed]",
      "text/plain": [
       "<Figure size 400x300 with 1 Axes>"
      ]
     },
     "metadata": {},
     "output_type": "display_data"
    }
   ],
   "source": [
    "sm.plot_scatter(df, metrics=[\"Charge\", \"Hydrophobicity\"])"
   ]
  },
  {
   "cell_type": "code",
   "execution_count": null,
   "id": "18",
   "metadata": {},
   "outputs": [
    {
     "data": {
      "image/png": "[encoded data removed]",
      "text/plain": [
       "<Figure size 400x300 with 1 Axes>"
      ]
     },
     "metadata": {},
     "output_type": "display_data"
    }
   ],
   "source": [
    "sm.plot_scatter(df[[\"Charge\", \"Uniqueness\"]])"
   ]
  },
  {
   "cell_type": "markdown",
   "id": "19",
   "metadata": {},
   "source": [
    "Let's sort the sequences by their charge.\n"
   ]
  },
  {
   "cell_type": "code",
   "execution_count": null,
   "id": "20",
   "metadata": {},
   "outputs": [
    {
     "data": {
      "text/html": [
       "<style type=\"text/css\">\n",
       "#T_529f7 th.col_heading {\n",
       "  text-align: center;\n",
       "}\n",
       "#T_529f7 td {\n",
       "  border-right: 1px solid #ccc;\n",
       "}\n",
       "#T_529f7 th.row_heading {\n",
       "  border-right: 1px solid #ccc;\n",
       "}\n",
       "#T_529f7 caption {\n",
       "  caption-side: bottom;\n",
       "  margin-top: 0.75em;\n",
       "}\n",
       "#T_529f7_row0_col0, #T_529f7_row1_col2, #T_529f7_row2_col2, #T_529f7_row3_col2, #T_529f7_row4_col1, #T_529f7_row4_col2 {\n",
       "  background: linear-gradient(90deg, #68d6bc 100.0%, transparent 100.0%);\n",
       "  font-weight: bold;\n",
       "}\n",
       "#T_529f7_row1_col0 {\n",
       "  background: linear-gradient(90deg, #68d6bc 39.9%, transparent 39.9%);\n",
       "  text-decoration: underline;\n",
       "}\n",
       "#T_529f7_row1_col1 {\n",
       "  background: linear-gradient(90deg, #68d6bc 46.0%, transparent 46.0%);\n",
       "}\n",
       "#T_529f7_row2_col0 {\n",
       "  background: linear-gradient(90deg, #68d6bc 30.0%, transparent 30.0%);\n",
       "}\n",
       "#T_529f7_row2_col1 {\n",
       "  background: linear-gradient(90deg, #68d6bc 60.3%, transparent 60.3%);\n",
       "}\n",
       "#T_529f7_row3_col0 {\n",
       "  background: linear-gradient(90deg, #68d6bc 9.9%, transparent 9.9%);\n",
       "}\n",
       "#T_529f7_row3_col1 {\n",
       "  background: linear-gradient(90deg, #68d6bc 83.6%, transparent 83.6%);\n",
       "}\n",
       "#T_529f7_row5_col1 {\n",
       "  background: linear-gradient(90deg, #68d6bc 95.2%, transparent 95.2%);\n",
       "  text-decoration: underline;\n",
       "}\n",
       "</style>\n",
       "<table id=\"T_529f7\">\n",
       "  <caption>Table 2.1. Iterative algorithms (sorted)</caption>\n",
       "  <thead>\n",
       "    <tr>\n",
       "      <th class=\"blank\" >&nbsp;</th>\n",
       "      <th class=\"blank level0\" >&nbsp;</th>\n",
       "      <th id=\"T_529f7_level0_col0\" class=\"col_heading level0 col0\" >Charge↑</th>\n",
       "      <th id=\"T_529f7_level0_col1\" class=\"col_heading level0 col1\" >Hydrophobicity↑</th>\n",
       "      <th id=\"T_529f7_level0_col2\" class=\"col_heading level0 col2\" >Uniqueness↑</th>\n",
       "    </tr>\n",
       "  </thead>\n",
       "  <tbody>\n",
       "    <tr>\n",
       "      <th id=\"T_529f7_level0_row0\" class=\"row_heading level0 row0\" >model 1</th>\n",
       "      <th id=\"T_529f7_level1_row0\" class=\"row_heading level1 row0\" >3</th>\n",
       "      <td id=\"T_529f7_row0_col0\" class=\"data row0 col0\" >3.66±0.47</td>\n",
       "      <td id=\"T_529f7_row0_col1\" class=\"data row0 col1\" >-1.57±0.08</td>\n",
       "      <td id=\"T_529f7_row0_col2\" class=\"data row0 col2\" >0.67</td>\n",
       "    </tr>\n",
       "    <tr>\n",
       "      <th id=\"T_529f7_level0_row1\" class=\"row_heading level0 row1\" >model 2</th>\n",
       "      <th id=\"T_529f7_level1_row1\" class=\"row_heading level1 row1\" >3</th>\n",
       "      <td id=\"T_529f7_row1_col0\" class=\"data row1 col0\" >1.66±0.47</td>\n",
       "      <td id=\"T_529f7_row1_col1\" class=\"data row1 col1\" >-0.70±0.50</td>\n",
       "      <td id=\"T_529f7_row1_col2\" class=\"data row1 col2\" >1.00</td>\n",
       "    </tr>\n",
       "    <tr>\n",
       "      <th id=\"T_529f7_level0_row2\" class=\"row_heading level0 row2\" >model 1</th>\n",
       "      <th id=\"T_529f7_level1_row2\" class=\"row_heading level1 row2\" >2</th>\n",
       "      <td id=\"T_529f7_row2_col0\" class=\"data row2 col0\" >1.33±0.47</td>\n",
       "      <td id=\"T_529f7_row2_col1\" class=\"data row2 col1\" >-0.43±0.22</td>\n",
       "      <td id=\"T_529f7_row2_col2\" class=\"data row2 col2\" >1.00</td>\n",
       "    </tr>\n",
       "    <tr>\n",
       "      <th id=\"T_529f7_level0_row3\" class=\"row_heading level0 row3\" >model 2</th>\n",
       "      <th id=\"T_529f7_level1_row3\" class=\"row_heading level1 row3\" >2</th>\n",
       "      <td id=\"T_529f7_row3_col0\" class=\"data row3 col0\" >0.66±0.47</td>\n",
       "      <td id=\"T_529f7_row3_col1\" class=\"data row3 col1\" >0.01±0.34</td>\n",
       "      <td id=\"T_529f7_row3_col2\" class=\"data row3 col2\" >1.00</td>\n",
       "    </tr>\n",
       "    <tr>\n",
       "      <th id=\"T_529f7_level0_row4\" class=\"row_heading level0 row4\" >model 1</th>\n",
       "      <th id=\"T_529f7_level1_row4\" class=\"row_heading level1 row4\" >1</th>\n",
       "      <td id=\"T_529f7_row4_col0\" class=\"data row4 col0\" >0.33±0.47</td>\n",
       "      <td id=\"T_529f7_row4_col1\" class=\"data row4 col1\" >0.32±0.44</td>\n",
       "      <td id=\"T_529f7_row4_col2\" class=\"data row4 col2\" >1.00</td>\n",
       "    </tr>\n",
       "    <tr>\n",
       "      <th id=\"T_529f7_level0_row5\" class=\"row_heading level0 row5\" >model 2</th>\n",
       "      <th id=\"T_529f7_level1_row5\" class=\"row_heading level1 row5\" >1</th>\n",
       "      <td id=\"T_529f7_row5_col0\" class=\"data row5 col0\" >0.33±0.47</td>\n",
       "      <td id=\"T_529f7_row5_col1\" class=\"data row5 col1\" >0.23±0.36</td>\n",
       "      <td id=\"T_529f7_row5_col2\" class=\"data row5 col2\" >0.67</td>\n",
       "    </tr>\n",
       "  </tbody>\n",
       "</table>\n"
      ],
      "text/plain": [
       "<pandas.io.formats.style.Styler at 0x167604b50>"
      ]
     },
     "execution_count": null,
     "metadata": {},
     "output_type": "execute_result"
    }
   ],
   "source": [
    "df2 = sm.sort(df, \"Charge\", level=0)\n",
    "sm.show(df2, caption=\"Table 2.1. Iterative algorithms (sorted)\", color_style=\"bar\", hline_level=0)"
   ]
  },
  {
   "cell_type": "markdown",
   "id": "21",
   "metadata": {},
   "source": [
    "Let's rearrange the entries levels and sort the sequence by uniqueness within each iteration.\n"
   ]
  },
  {
   "cell_type": "code",
   "execution_count": null,
   "id": "22",
   "metadata": {},
   "outputs": [
    {
     "data": {
      "text/html": [
       "<style type=\"text/css\">\n",
       "#T_226a3 th.col_heading {\n",
       "  text-align: center;\n",
       "}\n",
       "#T_226a3 td {\n",
       "  border-right: 1px solid #ccc;\n",
       "}\n",
       "#T_226a3 th.row_heading {\n",
       "  border-right: 1px solid #ccc;\n",
       "}\n",
       "#T_226a3 tbody tr:nth-child(3) td {\n",
       "  border-top: 1px solid #ccc;\n",
       "}\n",
       "#T_226a3  tbody tr:nth-child(3) th {\n",
       "  border-top: 1px solid #ccc;\n",
       "}\n",
       "#T_226a3 tbody tr:nth-child(5) td {\n",
       "  border-top: 1px solid #ccc;\n",
       "}\n",
       "#T_226a3  tbody tr:nth-child(5) th {\n",
       "  border-top: 1px solid #ccc;\n",
       "}\n",
       "#T_226a3 caption {\n",
       "  caption-side: bottom;\n",
       "  margin-top: 0.75em;\n",
       "}\n",
       "#T_226a3_row0_col0, #T_226a3_row1_col0, #T_226a3_row1_col2, #T_226a3_row5_col1, #T_226a3_row5_col2 {\n",
       "  background-color: #d668c900;\n",
       "}\n",
       "#T_226a3_row0_col1, #T_226a3_row0_col2, #T_226a3_row2_col2, #T_226a3_row3_col2, #T_226a3_row4_col2, #T_226a3_row5_col0 {\n",
       "  background-color: #d668c9ff;\n",
       "  font-weight: bold;\n",
       "}\n",
       "#T_226a3_row1_col1 {\n",
       "  background-color: #d668c9f3;\n",
       "  text-decoration: underline;\n",
       "}\n",
       "#T_226a3_row2_col0 {\n",
       "  background-color: #d668c94c;\n",
       "}\n",
       "#T_226a3_row2_col1 {\n",
       "  background-color: #d668c99a;\n",
       "}\n",
       "#T_226a3_row3_col0 {\n",
       "  background-color: #d668c919;\n",
       "}\n",
       "#T_226a3_row3_col1 {\n",
       "  background-color: #d668c9d6;\n",
       "}\n",
       "#T_226a3_row4_col0 {\n",
       "  background-color: #d668c966;\n",
       "  text-decoration: underline;\n",
       "}\n",
       "#T_226a3_row4_col1 {\n",
       "  background-color: #d668c975;\n",
       "}\n",
       "</style>\n",
       "<table id=\"T_226a3\">\n",
       "  <caption>Table 2.2. Iterative algorithms (sorted within iteration)</caption>\n",
       "  <thead>\n",
       "    <tr>\n",
       "      <th class=\"blank\" >&nbsp;</th>\n",
       "      <th class=\"blank level0\" >&nbsp;</th>\n",
       "      <th id=\"T_226a3_level0_col0\" class=\"col_heading level0 col0\" >Charge↑</th>\n",
       "      <th id=\"T_226a3_level0_col1\" class=\"col_heading level0 col1\" >Hydrophobicity↑</th>\n",
       "      <th id=\"T_226a3_level0_col2\" class=\"col_heading level0 col2\" >Uniqueness↑</th>\n",
       "    </tr>\n",
       "  </thead>\n",
       "  <tbody>\n",
       "    <tr>\n",
       "      <th id=\"T_226a3_level0_row0\" class=\"row_heading level0 row0\" rowspan=\"2\">1</th>\n",
       "      <th id=\"T_226a3_level1_row0\" class=\"row_heading level1 row0\" >model 1</th>\n",
       "      <td id=\"T_226a3_row0_col0\" class=\"data row0 col0\" >0.33±0.47</td>\n",
       "      <td id=\"T_226a3_row0_col1\" class=\"data row0 col1\" >0.32±0.44</td>\n",
       "      <td id=\"T_226a3_row0_col2\" class=\"data row0 col2\" >1.00</td>\n",
       "    </tr>\n",
       "    <tr>\n",
       "      <th id=\"T_226a3_level1_row1\" class=\"row_heading level1 row1\" >model 2</th>\n",
       "      <td id=\"T_226a3_row1_col0\" class=\"data row1 col0\" >0.33±0.47</td>\n",
       "      <td id=\"T_226a3_row1_col1\" class=\"data row1 col1\" >0.23±0.36</td>\n",
       "      <td id=\"T_226a3_row1_col2\" class=\"data row1 col2\" >0.67</td>\n",
       "    </tr>\n",
       "    <tr>\n",
       "      <th id=\"T_226a3_level0_row2\" class=\"row_heading level0 row2\" rowspan=\"2\">2</th>\n",
       "      <th id=\"T_226a3_level1_row2\" class=\"row_heading level1 row2\" >model 1</th>\n",
       "      <td id=\"T_226a3_row2_col0\" class=\"data row2 col0\" >1.33±0.47</td>\n",
       "      <td id=\"T_226a3_row2_col1\" class=\"data row2 col1\" >-0.43±0.22</td>\n",
       "      <td id=\"T_226a3_row2_col2\" class=\"data row2 col2\" >1.00</td>\n",
       "    </tr>\n",
       "    <tr>\n",
       "      <th id=\"T_226a3_level1_row3\" class=\"row_heading level1 row3\" >model 2</th>\n",
       "      <td id=\"T_226a3_row3_col0\" class=\"data row3 col0\" >0.66±0.47</td>\n",
       "      <td id=\"T_226a3_row3_col1\" class=\"data row3 col1\" >0.01±0.34</td>\n",
       "      <td id=\"T_226a3_row3_col2\" class=\"data row3 col2\" >1.00</td>\n",
       "    </tr>\n",
       "    <tr>\n",
       "      <th id=\"T_226a3_level0_row4\" class=\"row_heading level0 row4\" rowspan=\"2\">3</th>\n",
       "      <th id=\"T_226a3_level1_row4\" class=\"row_heading level1 row4\" >model 2</th>\n",
       "      <td id=\"T_226a3_row4_col0\" class=\"data row4 col0\" >1.66±0.47</td>\n",
       "      <td id=\"T_226a3_row4_col1\" class=\"data row4 col1\" >-0.70±0.50</td>\n",
       "      <td id=\"T_226a3_row4_col2\" class=\"data row4 col2\" >1.00</td>\n",
       "    </tr>\n",
       "    <tr>\n",
       "      <th id=\"T_226a3_level1_row5\" class=\"row_heading level1 row5\" >model 1</th>\n",
       "      <td id=\"T_226a3_row5_col0\" class=\"data row5 col0\" >3.66±0.47</td>\n",
       "      <td id=\"T_226a3_row5_col1\" class=\"data row5 col1\" >-1.57±0.08</td>\n",
       "      <td id=\"T_226a3_row5_col2\" class=\"data row5 col2\" >0.67</td>\n",
       "    </tr>\n",
       "  </tbody>\n",
       "</table>\n"
      ],
      "text/plain": [
       "<pandas.io.formats.style.Styler at 0x165d24a90>"
      ]
     },
     "execution_count": null,
     "metadata": {},
     "output_type": "execute_result"
    }
   ],
   "source": [
    "df3 = df.reorder_levels([1, 0])\n",
    "df3 = sm.sort(df3, \"Uniqueness\", level=1)\n",
    "\n",
    "sm.show(\n",
    "    df3, color=\"#d668c9\", caption=\"Table 2.2. Iterative algorithms (sorted within iteration)\", color_style=\"gradient\"\n",
    ")"
   ]
  },
  {
   "cell_type": "markdown",
   "id": "23",
   "metadata": {},
   "source": [
    "Let's display the sequences with largest charge in each iteration.\n"
   ]
  },
  {
   "cell_type": "code",
   "execution_count": null,
   "id": "24",
   "metadata": {},
   "outputs": [
    {
     "data": {
      "text/html": [
       "<style type=\"text/css\">\n",
       "#T_dd7bc th.col_heading {\n",
       "  text-align: center;\n",
       "}\n",
       "#T_dd7bc td {\n",
       "  border-right: 1px solid #ccc;\n",
       "}\n",
       "#T_dd7bc th.row_heading {\n",
       "  border-right: 1px solid #ccc;\n",
       "}\n",
       "#T_dd7bc caption {\n",
       "  caption-side: bottom;\n",
       "  margin-top: 0.75em;\n",
       "}\n",
       "#T_dd7bc_row0_col1, #T_dd7bc_row0_col2, #T_dd7bc_row2_col2, #T_dd7bc_row3_col0 {\n",
       "  background: linear-gradient(90deg, #68d6bc 100.0%, transparent 100.0%);\n",
       "  font-weight: bold;\n",
       "}\n",
       "#T_dd7bc_row1_col1 {\n",
       "  background: linear-gradient(90deg, #68d6bc 95.2%, transparent 95.2%);\n",
       "  text-decoration: underline;\n",
       "}\n",
       "#T_dd7bc_row2_col0 {\n",
       "  background: linear-gradient(90deg, #68d6bc 30.0%, transparent 30.0%);\n",
       "  text-decoration: underline;\n",
       "}\n",
       "#T_dd7bc_row2_col1 {\n",
       "  background: linear-gradient(90deg, #68d6bc 60.3%, transparent 60.3%);\n",
       "}\n",
       "</style>\n",
       "<table id=\"T_dd7bc\">\n",
       "  <caption>Table 2.3. Best per iteration</caption>\n",
       "  <thead>\n",
       "    <tr>\n",
       "      <th class=\"blank\" >&nbsp;</th>\n",
       "      <th class=\"blank level0\" >&nbsp;</th>\n",
       "      <th id=\"T_dd7bc_level0_col0\" class=\"col_heading level0 col0\" >Charge↑</th>\n",
       "      <th id=\"T_dd7bc_level0_col1\" class=\"col_heading level0 col1\" >Hydrophobicity↑</th>\n",
       "      <th id=\"T_dd7bc_level0_col2\" class=\"col_heading level0 col2\" >Uniqueness↑</th>\n",
       "    </tr>\n",
       "  </thead>\n",
       "  <tbody>\n",
       "    <tr>\n",
       "      <th id=\"T_dd7bc_level0_row0\" class=\"row_heading level0 row0\" rowspan=\"2\">1</th>\n",
       "      <th id=\"T_dd7bc_level1_row0\" class=\"row_heading level1 row0\" >model 1</th>\n",
       "      <td id=\"T_dd7bc_row0_col0\" class=\"data row0 col0\" >0.33±0.47</td>\n",
       "      <td id=\"T_dd7bc_row0_col1\" class=\"data row0 col1\" >0.32±0.44</td>\n",
       "      <td id=\"T_dd7bc_row0_col2\" class=\"data row0 col2\" >1.00</td>\n",
       "    </tr>\n",
       "    <tr>\n",
       "      <th id=\"T_dd7bc_level1_row1\" class=\"row_heading level1 row1\" >model 2</th>\n",
       "      <td id=\"T_dd7bc_row1_col0\" class=\"data row1 col0\" >0.33±0.47</td>\n",
       "      <td id=\"T_dd7bc_row1_col1\" class=\"data row1 col1\" >0.23±0.36</td>\n",
       "      <td id=\"T_dd7bc_row1_col2\" class=\"data row1 col2\" >0.67</td>\n",
       "    </tr>\n",
       "    <tr>\n",
       "      <th id=\"T_dd7bc_level0_row2\" class=\"row_heading level0 row2\" >2</th>\n",
       "      <th id=\"T_dd7bc_level1_row2\" class=\"row_heading level1 row2\" >model 1</th>\n",
       "      <td id=\"T_dd7bc_row2_col0\" class=\"data row2 col0\" >1.33±0.47</td>\n",
       "      <td id=\"T_dd7bc_row2_col1\" class=\"data row2 col1\" >-0.43±0.22</td>\n",
       "      <td id=\"T_dd7bc_row2_col2\" class=\"data row2 col2\" >1.00</td>\n",
       "    </tr>\n",
       "    <tr>\n",
       "      <th id=\"T_dd7bc_level0_row3\" class=\"row_heading level0 row3\" >3</th>\n",
       "      <th id=\"T_dd7bc_level1_row3\" class=\"row_heading level1 row3\" >model 1</th>\n",
       "      <td id=\"T_dd7bc_row3_col0\" class=\"data row3 col0\" >3.66±0.47</td>\n",
       "      <td id=\"T_dd7bc_row3_col1\" class=\"data row3 col1\" >-1.57±0.08</td>\n",
       "      <td id=\"T_dd7bc_row3_col2\" class=\"data row3 col2\" >0.67</td>\n",
       "    </tr>\n",
       "  </tbody>\n",
       "</table>\n"
      ],
      "text/plain": [
       "<pandas.io.formats.style.Styler at 0x167264050>"
      ]
     },
     "execution_count": null,
     "metadata": {},
     "output_type": "execute_result"
    }
   ],
   "source": [
    "df4 = df.reorder_levels([1, 0]).sort_index()\n",
    "df4 = sm.top_k(df4, \"Charge\", k=1, level=1)\n",
    "sm.show(df4, color_style=\"bar\", hline_level=0, caption=\"Table 2.3. Best per iteration\")"
   ]
  },
  {
   "cell_type": "markdown",
   "id": "25",
   "metadata": {},
   "source": [
    "## Multiple runs\n"
   ]
  },
  {
   "cell_type": "markdown",
   "id": "26",
   "metadata": {},
   "source": [
    "Let's assume we ran two generative models multiple times with a different seed each time. The sequences from the runs are shown below. And now we want to compute the deviation in performance across runs.\n"
   ]
  },
  {
   "cell_type": "code",
   "execution_count": null,
   "id": "27",
   "metadata": {},
   "outputs": [],
   "source": [
    "sequences_run1 = {\n",
    "    (\"model 1\", 1): [\"QLF\", \"FFQLL\", \"RQLL\"],\n",
    "    (\"model 1\", 2): [\"RQLF\", \"PRFQRP\", \"RQLL\"],\n",
    "    (\"model 1\", 3): [\"RQLRR\", \"RQLRRR\", \"RQLRRR\"],\n",
    "    (\"model 2\", 1): [\"QLF\", \"FFQRP\", \"RQLL\"],\n",
    "    (\"model 2\", 2): [\"QLF\", \"FFQRP\", \"RQLL\"],\n",
    "    (\"model 2\", 3): [\"PLFR\", \"RFQRP\", \"RQLR\"],\n",
    "}\n",
    "\n",
    "sequences_run2 = {\n",
    "    (\"model 1\", 1): [\"QLF\", \"FFQLL\", \"RQLL\"],\n",
    "    (\"model 1\", 2): [\"RQLF\", \"PRFQRP\", \"RQLL\"],\n",
    "    (\"model 1\", 3): [\"RQLRR\", \"RQLRRR\", \"RQLRRR\"],\n",
    "    (\"model 2\", 1): [\"QLF\", \"FFQRP\", \"RQLL\"],\n",
    "    (\"model 2\", 2): [\"QLF\", \"FFQRP\", \"RQLL\"],\n",
    "    (\"model 2\", 3): [\"PLFR\", \"RFQRP\", \"RQLR\"],\n",
    "}\n",
    "\n",
    "sequences_run3 = {\n",
    "    (\"model 1\", 1): [\"RQLF\", \"PRFQRP\", \"RQLL\"],\n",
    "    (\"model 1\", 2): [\"QLF\", \"FFQLL\", \"RQLL\"],\n",
    "    (\"model 1\", 3): [\"RQLRR\", \"RQLRRR\", \"RQLRRR\"],\n",
    "    (\"model 2\", 1): [\"QLF\", \"FFQRP\", \"RQLL\"],\n",
    "    (\"model 2\", 2): [\"QLF\", \"FFQRP\", \"RQLL\"],\n",
    "    (\"model 2\", 3): [\"PLFR\", \"RFQRP\", \"RQLR\"],\n",
    "}\n",
    "\n",
    "sequences_per_run = [sequences_run1, sequences_run2, sequences_run3]"
   ]
  },
  {
   "cell_type": "markdown",
   "id": "28",
   "metadata": {},
   "source": [
    "Let's define the metrics to compute.\n"
   ]
  },
  {
   "cell_type": "code",
   "execution_count": null,
   "id": "29",
   "metadata": {},
   "outputs": [],
   "source": [
    "metrics = [\n",
    "    sm.metrics.ID(predictor=sm.models.Charge(), name=\"Charge\", objective=\"maximize\"),\n",
    "    sm.metrics.Uniqueness(),\n",
    "]"
   ]
  },
  {
   "cell_type": "code",
   "execution_count": null,
   "id": "30",
   "metadata": {},
   "outputs": [
    {
     "name": "stderr",
     "output_type": "stream",
     "text": [
      "100%|██████████| 12/12 [00:00<00:00, 612.65it/s, data=('model 2', 3), metric=Uniqueness] \n",
      "100%|██████████| 12/12 [00:00<00:00, 857.99it/s, data=('model 2', 3), metric=Uniqueness] \n",
      "100%|██████████| 12/12 [00:00<00:00, 1112.25it/s, data=('model 2', 3), metric=Uniqueness]\n"
     ]
    }
   ],
   "source": [
    "df_per_run = [sm.evaluate(sequences, metrics) for sequences in sequences_per_run]"
   ]
  },
  {
   "cell_type": "markdown",
   "id": "31",
   "metadata": {},
   "source": [
    "Let's create a metric dataframe combining the metric dataframe of each run.\n"
   ]
  },
  {
   "cell_type": "code",
   "execution_count": null,
   "id": "32",
   "metadata": {},
   "outputs": [],
   "source": [
    "df_combined = sm.combine(df_per_run, on_overlap=\"mean,std\")"
   ]
  },
  {
   "cell_type": "markdown",
   "id": "33",
   "metadata": {},
   "source": [
    "Let's rank the models using all the metrics.\n"
   ]
  },
  {
   "cell_type": "code",
   "execution_count": null,
   "id": "34",
   "metadata": {},
   "outputs": [],
   "source": [
    "df_combined = sm.rank(df_combined, tiebreak=\"mean-rank\")"
   ]
  },
  {
   "cell_type": "code",
   "execution_count": null,
   "id": "35",
   "metadata": {},
   "outputs": [
    {
     "data": {
      "text/html": [
       "<style type=\"text/css\">\n",
       "#T_149bb th.col_heading {\n",
       "  text-align: center;\n",
       "}\n",
       "#T_149bb td {\n",
       "  border-right: 1px solid #ccc;\n",
       "}\n",
       "#T_149bb th.row_heading {\n",
       "  border-right: 1px solid #ccc;\n",
       "}\n",
       "#T_149bb tbody tr:nth-child(4) td {\n",
       "  border-top: 1px solid #ccc;\n",
       "}\n",
       "#T_149bb  tbody tr:nth-child(4) th {\n",
       "  border-top: 1px solid #ccc;\n",
       "}\n",
       "#T_149bb caption {\n",
       "  caption-side: bottom;\n",
       "  margin-top: 0.75em;\n",
       "}\n",
       "#T_149bb_row0_col1, #T_149bb_row1_col1, #T_149bb_row2_col0, #T_149bb_row3_col1, #T_149bb_row4_col1, #T_149bb_row5_col1, #T_149bb_row5_col2 {\n",
       "  background: linear-gradient(90deg, #6892d6 100.0%, transparent 100.0%);\n",
       "  font-weight: bold;\n",
       "}\n",
       "#T_149bb_row1_col0 {\n",
       "  background: linear-gradient(90deg, #6892d6 11.3%, transparent 11.3%);\n",
       "}\n",
       "#T_149bb_row1_col2 {\n",
       "  background: linear-gradient(90deg, #6892d6 33.3%, transparent 33.3%);\n",
       "}\n",
       "#T_149bb_row2_col2 {\n",
       "  background: linear-gradient(90deg, #6892d6 66.7%, transparent 66.7%);\n",
       "  text-decoration: underline;\n",
       "}\n",
       "#T_149bb_row5_col0 {\n",
       "  background: linear-gradient(90deg, #6892d6 33.3%, transparent 33.3%);\n",
       "  text-decoration: underline;\n",
       "}\n",
       "</style>\n",
       "<table id=\"T_149bb\">\n",
       "  <caption>Table 3.1. Multiple runs</caption>\n",
       "  <thead>\n",
       "    <tr>\n",
       "      <th class=\"blank\" >&nbsp;</th>\n",
       "      <th class=\"blank level0\" >&nbsp;</th>\n",
       "      <th id=\"T_149bb_level0_col0\" class=\"col_heading level0 col0\" >Charge↑</th>\n",
       "      <th id=\"T_149bb_level0_col1\" class=\"col_heading level0 col1\" >Uniqueness↑</th>\n",
       "      <th id=\"T_149bb_level0_col2\" class=\"col_heading level0 col2\" >Rank↓</th>\n",
       "    </tr>\n",
       "  </thead>\n",
       "  <tbody>\n",
       "    <tr>\n",
       "      <th id=\"T_149bb_level0_row0\" class=\"row_heading level0 row0\" rowspan=\"3\">model 1</th>\n",
       "      <th id=\"T_149bb_level1_row0\" class=\"row_heading level1 row0\" >1</th>\n",
       "      <td id=\"T_149bb_row0_col0\" class=\"data row0 col0\" >0.66±0.47</td>\n",
       "      <td id=\"T_149bb_row0_col1\" class=\"data row0 col1\" >1.00±0.00</td>\n",
       "      <td id=\"T_149bb_row0_col2\" class=\"data row0 col2\" >4</td>\n",
       "    </tr>\n",
       "    <tr>\n",
       "      <th id=\"T_149bb_level1_row1\" class=\"row_heading level1 row1\" >2</th>\n",
       "      <td id=\"T_149bb_row1_col0\" class=\"data row1 col0\" >1.00±0.47</td>\n",
       "      <td id=\"T_149bb_row1_col1\" class=\"data row1 col1\" >1.00±0.00</td>\n",
       "      <td id=\"T_149bb_row1_col2\" class=\"data row1 col2\" >3</td>\n",
       "    </tr>\n",
       "    <tr>\n",
       "      <th id=\"T_149bb_level1_row2\" class=\"row_heading level1 row2\" >3</th>\n",
       "      <td id=\"T_149bb_row2_col0\" class=\"data row2 col0\" >3.66±0.00</td>\n",
       "      <td id=\"T_149bb_row2_col1\" class=\"data row2 col1\" >0.67±0.00</td>\n",
       "      <td id=\"T_149bb_row2_col2\" class=\"data row2 col2\" >2</td>\n",
       "    </tr>\n",
       "    <tr>\n",
       "      <th id=\"T_149bb_level0_row3\" class=\"row_heading level0 row3\" rowspan=\"3\">model 2</th>\n",
       "      <th id=\"T_149bb_level1_row3\" class=\"row_heading level1 row3\" >1</th>\n",
       "      <td id=\"T_149bb_row3_col0\" class=\"data row3 col0\" >0.66±0.00</td>\n",
       "      <td id=\"T_149bb_row3_col1\" class=\"data row3 col1\" >1.00±0.00</td>\n",
       "      <td id=\"T_149bb_row3_col2\" class=\"data row3 col2\" >4</td>\n",
       "    </tr>\n",
       "    <tr>\n",
       "      <th id=\"T_149bb_level1_row4\" class=\"row_heading level1 row4\" >2</th>\n",
       "      <td id=\"T_149bb_row4_col0\" class=\"data row4 col0\" >0.66±0.00</td>\n",
       "      <td id=\"T_149bb_row4_col1\" class=\"data row4 col1\" >1.00±0.00</td>\n",
       "      <td id=\"T_149bb_row4_col2\" class=\"data row4 col2\" >4</td>\n",
       "    </tr>\n",
       "    <tr>\n",
       "      <th id=\"T_149bb_level1_row5\" class=\"row_heading level1 row5\" >3</th>\n",
       "      <td id=\"T_149bb_row5_col0\" class=\"data row5 col0\" >1.66±0.00</td>\n",
       "      <td id=\"T_149bb_row5_col1\" class=\"data row5 col1\" >1.00±0.00</td>\n",
       "      <td id=\"T_149bb_row5_col2\" class=\"data row5 col2\" >1</td>\n",
       "    </tr>\n",
       "  </tbody>\n",
       "</table>\n"
      ],
      "text/plain": [
       "<pandas.io.formats.style.Styler at 0x165da4c90>"
      ]
     },
     "execution_count": null,
     "metadata": {},
     "output_type": "execute_result"
    }
   ],
   "source": [
    "sm.show(df_combined, color=\"#6892d6\", color_style=\"bar\", caption=\"Table 3.1. Multiple runs\", n_decimals=[2, 2, 0])"
   ]
  },
  {
   "cell_type": "markdown",
   "id": "36",
   "metadata": {},
   "source": [
    "Let's extract the top two ranked entries.\n"
   ]
  },
  {
   "cell_type": "code",
   "execution_count": null,
   "id": "37",
   "metadata": {},
   "outputs": [
    {
     "data": {
      "text/html": [
       "<style type=\"text/css\">\n",
       "#T_1aee6 th.col_heading {\n",
       "  text-align: center;\n",
       "}\n",
       "#T_1aee6 td {\n",
       "  border-right: 1px solid #ccc;\n",
       "}\n",
       "#T_1aee6 th.row_heading {\n",
       "  border-right: 1px solid #ccc;\n",
       "}\n",
       "#T_1aee6 tbody tr:nth-child(2) td {\n",
       "  border-top: 1px solid #ccc;\n",
       "}\n",
       "#T_1aee6  tbody tr:nth-child(2) th {\n",
       "  border-top: 1px solid #ccc;\n",
       "}\n",
       "#T_1aee6 caption {\n",
       "  caption-side: bottom;\n",
       "  margin-top: 0.75em;\n",
       "}\n",
       "#T_1aee6_row0_col0, #T_1aee6_row1_col1, #T_1aee6_row1_col2 {\n",
       "  background: linear-gradient(90deg, #6892d6 100.0%, transparent 100.0%);\n",
       "  font-weight: bold;\n",
       "}\n",
       "#T_1aee6_row0_col1, #T_1aee6_row0_col2, #T_1aee6_row1_col0 {\n",
       "  text-decoration: underline;\n",
       "}\n",
       "</style>\n",
       "<table id=\"T_1aee6\">\n",
       "  <caption>Table 3.2. Multiple runs - Best</caption>\n",
       "  <thead>\n",
       "    <tr>\n",
       "      <th class=\"blank\" >&nbsp;</th>\n",
       "      <th class=\"blank level0\" >&nbsp;</th>\n",
       "      <th id=\"T_1aee6_level0_col0\" class=\"col_heading level0 col0\" >Charge↑</th>\n",
       "      <th id=\"T_1aee6_level0_col1\" class=\"col_heading level0 col1\" >Uniqueness↑</th>\n",
       "      <th id=\"T_1aee6_level0_col2\" class=\"col_heading level0 col2\" >Rank↓</th>\n",
       "    </tr>\n",
       "  </thead>\n",
       "  <tbody>\n",
       "    <tr>\n",
       "      <th id=\"T_1aee6_level0_row0\" class=\"row_heading level0 row0\" >model 1</th>\n",
       "      <th id=\"T_1aee6_level1_row0\" class=\"row_heading level1 row0\" >3</th>\n",
       "      <td id=\"T_1aee6_row0_col0\" class=\"data row0 col0\" >3.66±0.00</td>\n",
       "      <td id=\"T_1aee6_row0_col1\" class=\"data row0 col1\" >0.67±0.00</td>\n",
       "      <td id=\"T_1aee6_row0_col2\" class=\"data row0 col2\" >2</td>\n",
       "    </tr>\n",
       "    <tr>\n",
       "      <th id=\"T_1aee6_level0_row1\" class=\"row_heading level0 row1\" >model 2</th>\n",
       "      <th id=\"T_1aee6_level1_row1\" class=\"row_heading level1 row1\" >3</th>\n",
       "      <td id=\"T_1aee6_row1_col0\" class=\"data row1 col0\" >1.66±0.00</td>\n",
       "      <td id=\"T_1aee6_row1_col1\" class=\"data row1 col1\" >1.00±0.00</td>\n",
       "      <td id=\"T_1aee6_row1_col2\" class=\"data row1 col2\" >1</td>\n",
       "    </tr>\n",
       "  </tbody>\n",
       "</table>\n"
      ],
      "text/plain": [
       "<pandas.io.formats.style.Styler at 0x16812d210>"
      ]
     },
     "execution_count": null,
     "metadata": {},
     "output_type": "execute_result"
    }
   ],
   "source": [
    "sm.show(\n",
    "    sm.top_k(df_combined, \"Rank\", 2),\n",
    "    color=\"#6892d6\",\n",
    "    color_style=\"bar\",\n",
    "    caption=\"Table 3.2. Multiple runs - Best\",\n",
    "    n_decimals=[2, 2, 0],\n",
    ")"
   ]
  },
  {
   "cell_type": "markdown",
   "id": "38",
   "metadata": {},
   "source": [
    "Let's visualize the sequences performance at each iteration.\n"
   ]
  },
  {
   "cell_type": "code",
   "execution_count": null,
   "id": "39",
   "metadata": {},
   "outputs": [
    {
     "data": {
      "image/png": "[encoded data removed]",
      "text/plain": [
       "<Figure size 400x300 with 1 Axes>"
      ]
     },
     "metadata": {},
     "output_type": "display_data"
    }
   ],
   "source": [
    "sm.plot_line(df_combined, \"Charge\", color=[\"#ff4949ff\", \"#29a1c6ff\"], linestyle=[\"--\", \"-\"], marker=None)"
   ]
  }
 ],
 "metadata": {
  "kernelspec": {
   "display_name": "Python 3",
   "language": "python",
   "name": "python3"
  },
  "language_info": {
   "codemirror_mode": {
    "name": "ipython",
    "version": 3
   },
   "file_extension": ".py",
   "mimetype": "text/x-python",
   "name": "python",
   "nbconvert_exporter": "python",
   "pygments_lexer": "ipython3",
   "version": "3.11.14"
  }
 },
 "nbformat": 4,
 "nbformat_minor": 5
}
