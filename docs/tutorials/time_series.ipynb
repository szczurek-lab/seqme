{
 "cells": [
  {
   "cell_type": "markdown",
   "id": "0",
   "metadata": {},
   "source": [
    "# Evaluating iterative algorithms\n"
   ]
  },
  {
   "cell_type": "markdown",
   "id": "1",
   "metadata": {
    "vscode": {
     "languageId": "plaintext"
    }
   },
   "source": [
    "Many generative methods (e.g., genetic algorithms) iteratively explore sequences to improve sequence fitness. One may be interested in visualizing the improvement across iterations/generations. Here we show how to evaluate sequences optimized across multiple rounds using seqme.\n"
   ]
  },
  {
   "cell_type": "code",
   "execution_count": null,
   "id": "2",
   "metadata": {},
   "outputs": [],
   "source": [
    "import seqme as sm"
   ]
  },
  {
   "cell_type": "markdown",
   "id": "3",
   "metadata": {},
   "source": [
    "## Single run\n"
   ]
  },
  {
   "cell_type": "markdown",
   "id": "4",
   "metadata": {},
   "source": [
    "seqme allows naming sequence entries as a tuple. Here we name an entry using the following format: (model name, iteration).\n"
   ]
  },
  {
   "cell_type": "code",
   "execution_count": null,
   "id": "5",
   "metadata": {},
   "outputs": [],
   "source": [
    "sequences = {\n",
    "    (\"model 1\", 1): [\"QLF\", \"FFQLL\", \"RQLL\"],\n",
    "    (\"model 1\", 2): [\"RQLF\", \"PRFQRP\", \"RQLL\"],\n",
    "    (\"model 1\", 3): [\"RQLRR\", \"RQLRRR\", \"RQLRRR\"],\n",
    "    (\"model 2\", 1): [\"QLF\", \"QLF\", \"RQLL\"],\n",
    "    (\"model 2\", 2): [\"QLF\", \"FFQRP\", \"RQLL\"],\n",
    "    (\"model 2\", 3): [\"PLFR\", \"RFQRP\", \"RQLR\"],\n",
    "}"
   ]
  },
  {
   "cell_type": "markdown",
   "id": "6",
   "metadata": {},
   "source": [
    "Let's define the metrics to compute.\n"
   ]
  },
  {
   "cell_type": "code",
   "execution_count": null,
   "id": "7",
   "metadata": {},
   "outputs": [],
   "source": [
    "metrics = [\n",
    "    sm.metrics.ID(predictor=sm.models.Charge(), name=\"Charge\", objective=\"maximize\"),\n",
    "    sm.metrics.Uniqueness(),\n",
    "]"
   ]
  },
  {
   "cell_type": "markdown",
   "id": "8",
   "metadata": {},
   "source": [
    "Let's compute the metrics.\n"
   ]
  },
  {
   "cell_type": "code",
   "execution_count": null,
   "id": "9",
   "metadata": {},
   "outputs": [
    {
     "name": "stderr",
     "output_type": "stream",
     "text": [
      "100%|██████████| 12/12 [00:00<00:00, 232.07it/s, data=('model 2', 3), metric=Uniqueness]\n"
     ]
    }
   ],
   "source": [
    "df = sm.evaluate(sequences, metrics)"
   ]
  },
  {
   "cell_type": "code",
   "execution_count": null,
   "id": "10",
   "metadata": {},
   "outputs": [
    {
     "data": {
      "text/html": [
       "<style type=\"text/css\">\n",
       "#T_ffb26 th.col_heading {\n",
       "  text-align: center;\n",
       "}\n",
       "#T_ffb26 td {\n",
       "  border-right: 1px solid #ccc;\n",
       "}\n",
       "#T_ffb26 th.row_heading {\n",
       "  border-right: 1px solid #ccc;\n",
       "}\n",
       "#T_ffb26 tbody tr:nth-child(4) td {\n",
       "  border-top: 1px solid #ccc;\n",
       "}\n",
       "#T_ffb26  tbody tr:nth-child(4) th {\n",
       "  border-top: 1px solid #ccc;\n",
       "}\n",
       "#T_ffb26 caption {\n",
       "  caption-side: bottom;\n",
       "  margin-top: 0.75em;\n",
       "}\n",
       "#T_ffb26_row0_col1, #T_ffb26_row1_col1, #T_ffb26_row2_col0, #T_ffb26_row4_col1, #T_ffb26_row5_col1 {\n",
       "  background: linear-gradient(90deg, #68d6bc 100.0%, transparent 100.0%);\n",
       "  font-weight: bold;\n",
       "}\n",
       "#T_ffb26_row1_col0 {\n",
       "  background: linear-gradient(90deg, #68d6bc 30.0%, transparent 30.0%);\n",
       "}\n",
       "#T_ffb26_row4_col0 {\n",
       "  background: linear-gradient(90deg, #68d6bc 9.9%, transparent 9.9%);\n",
       "}\n",
       "#T_ffb26_row5_col0 {\n",
       "  background: linear-gradient(90deg, #68d6bc 39.9%, transparent 39.9%);\n",
       "  text-decoration: underline;\n",
       "}\n",
       "</style>\n",
       "<table id=\"T_ffb26\">\n",
       "  <caption>Table 1.1 Iterative algorithms</caption>\n",
       "  <thead>\n",
       "    <tr>\n",
       "      <th class=\"blank\" >&nbsp;</th>\n",
       "      <th class=\"blank level0\" >&nbsp;</th>\n",
       "      <th id=\"T_ffb26_level0_col0\" class=\"col_heading level0 col0\" >Charge↑</th>\n",
       "      <th id=\"T_ffb26_level0_col1\" class=\"col_heading level0 col1\" >Uniqueness↑</th>\n",
       "    </tr>\n",
       "  </thead>\n",
       "  <tbody>\n",
       "    <tr>\n",
       "      <th id=\"T_ffb26_level0_row0\" class=\"row_heading level0 row0\" rowspan=\"3\">model 1</th>\n",
       "      <th id=\"T_ffb26_level1_row0\" class=\"row_heading level1 row0\" >1</th>\n",
       "      <td id=\"T_ffb26_row0_col0\" class=\"data row0 col0\" >0.33±0.47</td>\n",
       "      <td id=\"T_ffb26_row0_col1\" class=\"data row0 col1\" >1.00</td>\n",
       "    </tr>\n",
       "    <tr>\n",
       "      <th id=\"T_ffb26_level1_row1\" class=\"row_heading level1 row1\" >2</th>\n",
       "      <td id=\"T_ffb26_row1_col0\" class=\"data row1 col0\" >1.33±0.47</td>\n",
       "      <td id=\"T_ffb26_row1_col1\" class=\"data row1 col1\" >1.00</td>\n",
       "    </tr>\n",
       "    <tr>\n",
       "      <th id=\"T_ffb26_level1_row2\" class=\"row_heading level1 row2\" >3</th>\n",
       "      <td id=\"T_ffb26_row2_col0\" class=\"data row2 col0\" >3.66±0.47</td>\n",
       "      <td id=\"T_ffb26_row2_col1\" class=\"data row2 col1\" >0.67</td>\n",
       "    </tr>\n",
       "    <tr>\n",
       "      <th id=\"T_ffb26_level0_row3\" class=\"row_heading level0 row3\" rowspan=\"3\">model 2</th>\n",
       "      <th id=\"T_ffb26_level1_row3\" class=\"row_heading level1 row3\" >1</th>\n",
       "      <td id=\"T_ffb26_row3_col0\" class=\"data row3 col0\" >0.33±0.47</td>\n",
       "      <td id=\"T_ffb26_row3_col1\" class=\"data row3 col1\" >0.67</td>\n",
       "    </tr>\n",
       "    <tr>\n",
       "      <th id=\"T_ffb26_level1_row4\" class=\"row_heading level1 row4\" >2</th>\n",
       "      <td id=\"T_ffb26_row4_col0\" class=\"data row4 col0\" >0.66±0.47</td>\n",
       "      <td id=\"T_ffb26_row4_col1\" class=\"data row4 col1\" >1.00</td>\n",
       "    </tr>\n",
       "    <tr>\n",
       "      <th id=\"T_ffb26_level1_row5\" class=\"row_heading level1 row5\" >3</th>\n",
       "      <td id=\"T_ffb26_row5_col0\" class=\"data row5 col0\" >1.66±0.47</td>\n",
       "      <td id=\"T_ffb26_row5_col1\" class=\"data row5 col1\" >1.00</td>\n",
       "    </tr>\n",
       "  </tbody>\n",
       "</table>\n"
      ],
      "text/plain": [
       "<pandas.io.formats.style.Styler at 0x146708640>"
      ]
     },
     "execution_count": null,
     "metadata": {},
     "output_type": "execute_result"
    }
   ],
   "source": [
    "sm.show(df, color_style=\"bar\", caption=\"Table 1.1 Iterative algorithms\")"
   ]
  },
  {
   "cell_type": "markdown",
   "id": "11",
   "metadata": {},
   "source": [
    "Let's highlight it differently.\n"
   ]
  },
  {
   "cell_type": "code",
   "execution_count": null,
   "id": "12",
   "metadata": {},
   "outputs": [
    {
     "data": {
      "text/html": [
       "<style type=\"text/css\">\n",
       "#T_fb396 th.col_heading {\n",
       "  text-align: center;\n",
       "}\n",
       "#T_fb396 td {\n",
       "  border-right: 1px solid #ccc;\n",
       "}\n",
       "#T_fb396 th.row_heading {\n",
       "  border-right: 1px solid #ccc;\n",
       "}\n",
       "#T_fb396 tbody tr:nth-child(4) td {\n",
       "  border-top: 1px solid #ccc;\n",
       "}\n",
       "#T_fb396  tbody tr:nth-child(4) th {\n",
       "  border-top: 1px solid #ccc;\n",
       "}\n",
       "#T_fb396 caption {\n",
       "  caption-side: bottom;\n",
       "  margin-top: 0.75em;\n",
       "}\n",
       "#T_fb396_row0_col1, #T_fb396_row1_col1, #T_fb396_row2_col0, #T_fb396_row4_col1, #T_fb396_row5_col0, #T_fb396_row5_col1 {\n",
       "  background: linear-gradient(90deg, #68d6bc 100.0%, transparent 100.0%);\n",
       "  font-weight: bold;\n",
       "}\n",
       "#T_fb396_row1_col0 {\n",
       "  background: linear-gradient(90deg, #68d6bc 30.0%, transparent 30.0%);\n",
       "  text-decoration: underline;\n",
       "}\n",
       "#T_fb396_row4_col0 {\n",
       "  background: linear-gradient(90deg, #68d6bc 24.8%, transparent 24.8%);\n",
       "  text-decoration: underline;\n",
       "}\n",
       "</style>\n",
       "<table id=\"T_fb396\">\n",
       "  <caption>Table 1.2 Iterative algorithms</caption>\n",
       "  <thead>\n",
       "    <tr>\n",
       "      <th class=\"blank\" >&nbsp;</th>\n",
       "      <th class=\"blank level0\" >&nbsp;</th>\n",
       "      <th id=\"T_fb396_level0_col0\" class=\"col_heading level0 col0\" >Charge↑</th>\n",
       "      <th id=\"T_fb396_level0_col1\" class=\"col_heading level0 col1\" >Uniqueness↑</th>\n",
       "    </tr>\n",
       "  </thead>\n",
       "  <tbody>\n",
       "    <tr>\n",
       "      <th id=\"T_fb396_level0_row0\" class=\"row_heading level0 row0\" rowspan=\"3\">model 1</th>\n",
       "      <th id=\"T_fb396_level1_row0\" class=\"row_heading level1 row0\" >1</th>\n",
       "      <td id=\"T_fb396_row0_col0\" class=\"data row0 col0\" >0.33±0.47</td>\n",
       "      <td id=\"T_fb396_row0_col1\" class=\"data row0 col1\" >1.00</td>\n",
       "    </tr>\n",
       "    <tr>\n",
       "      <th id=\"T_fb396_level1_row1\" class=\"row_heading level1 row1\" >2</th>\n",
       "      <td id=\"T_fb396_row1_col0\" class=\"data row1 col0\" >1.33±0.47</td>\n",
       "      <td id=\"T_fb396_row1_col1\" class=\"data row1 col1\" >1.00</td>\n",
       "    </tr>\n",
       "    <tr>\n",
       "      <th id=\"T_fb396_level1_row2\" class=\"row_heading level1 row2\" >3</th>\n",
       "      <td id=\"T_fb396_row2_col0\" class=\"data row2 col0\" >3.66±0.47</td>\n",
       "      <td id=\"T_fb396_row2_col1\" class=\"data row2 col1\" >0.67</td>\n",
       "    </tr>\n",
       "    <tr>\n",
       "      <th id=\"T_fb396_level0_row3\" class=\"row_heading level0 row3\" rowspan=\"3\">model 2</th>\n",
       "      <th id=\"T_fb396_level1_row3\" class=\"row_heading level1 row3\" >1</th>\n",
       "      <td id=\"T_fb396_row3_col0\" class=\"data row3 col0\" >0.33±0.47</td>\n",
       "      <td id=\"T_fb396_row3_col1\" class=\"data row3 col1\" >0.67</td>\n",
       "    </tr>\n",
       "    <tr>\n",
       "      <th id=\"T_fb396_level1_row4\" class=\"row_heading level1 row4\" >2</th>\n",
       "      <td id=\"T_fb396_row4_col0\" class=\"data row4 col0\" >0.66±0.47</td>\n",
       "      <td id=\"T_fb396_row4_col1\" class=\"data row4 col1\" >1.00</td>\n",
       "    </tr>\n",
       "    <tr>\n",
       "      <th id=\"T_fb396_level1_row5\" class=\"row_heading level1 row5\" >3</th>\n",
       "      <td id=\"T_fb396_row5_col0\" class=\"data row5 col0\" >1.66±0.47</td>\n",
       "      <td id=\"T_fb396_row5_col1\" class=\"data row5 col1\" >1.00</td>\n",
       "    </tr>\n",
       "  </tbody>\n",
       "</table>\n"
      ],
      "text/plain": [
       "<pandas.io.formats.style.Styler at 0x1042c3b20>"
      ]
     },
     "execution_count": null,
     "metadata": {},
     "output_type": "execute_result"
    }
   ],
   "source": [
    "sm.show(df, color_style=\"bar\", caption=\"Table 1.2 Iterative algorithms\", level=1)"
   ]
  },
  {
   "cell_type": "markdown",
   "id": "13",
   "metadata": {},
   "source": [
    "Notice in the above table visualization, we set `level=1`, this means that each sub metric dataframe (model 1 and model 2) should be colored, underlined and bolded, independently.\n"
   ]
  },
  {
   "cell_type": "markdown",
   "id": "14",
   "metadata": {},
   "source": [
    "Let's visualize the sequences performance at each step.\n"
   ]
  },
  {
   "cell_type": "code",
   "execution_count": null,
   "id": "15",
   "metadata": {},
   "outputs": [
    {
     "data": {
      "image/png": "[encoded data removed]",
      "text/plain": [
       "<Figure size 400x300 with 1 Axes>"
      ]
     },
     "metadata": {},
     "output_type": "display_data"
    }
   ],
   "source": [
    "sm.plot_series(df, \"Charge\")"
   ]
  },
  {
   "cell_type": "markdown",
   "id": "16",
   "metadata": {},
   "source": [
    "Let's sort the sequences by their charge.\n"
   ]
  },
  {
   "cell_type": "code",
   "execution_count": null,
   "id": "17",
   "metadata": {},
   "outputs": [
    {
     "data": {
      "text/html": [
       "<style type=\"text/css\">\n",
       "#T_6b0d0 th.col_heading {\n",
       "  text-align: center;\n",
       "}\n",
       "#T_6b0d0 td {\n",
       "  border-right: 1px solid #ccc;\n",
       "}\n",
       "#T_6b0d0 th.row_heading {\n",
       "  border-right: 1px solid #ccc;\n",
       "}\n",
       "#T_6b0d0 caption {\n",
       "  caption-side: bottom;\n",
       "  margin-top: 0.75em;\n",
       "}\n",
       "#T_6b0d0_row0_col0, #T_6b0d0_row1_col1, #T_6b0d0_row2_col1, #T_6b0d0_row3_col1, #T_6b0d0_row4_col1 {\n",
       "  background: linear-gradient(90deg, #68d6bc 100.0%, transparent 100.0%);\n",
       "  font-weight: bold;\n",
       "}\n",
       "#T_6b0d0_row1_col0 {\n",
       "  background: linear-gradient(90deg, #68d6bc 39.9%, transparent 39.9%);\n",
       "  text-decoration: underline;\n",
       "}\n",
       "#T_6b0d0_row2_col0 {\n",
       "  background: linear-gradient(90deg, #68d6bc 30.0%, transparent 30.0%);\n",
       "}\n",
       "#T_6b0d0_row3_col0 {\n",
       "  background: linear-gradient(90deg, #68d6bc 9.9%, transparent 9.9%);\n",
       "}\n",
       "</style>\n",
       "<table id=\"T_6b0d0\">\n",
       "  <caption>Table 2.1. Iterative algorithms (sorted)</caption>\n",
       "  <thead>\n",
       "    <tr>\n",
       "      <th class=\"blank\" >&nbsp;</th>\n",
       "      <th class=\"blank level0\" >&nbsp;</th>\n",
       "      <th id=\"T_6b0d0_level0_col0\" class=\"col_heading level0 col0\" >Charge↑</th>\n",
       "      <th id=\"T_6b0d0_level0_col1\" class=\"col_heading level0 col1\" >Uniqueness↑</th>\n",
       "    </tr>\n",
       "  </thead>\n",
       "  <tbody>\n",
       "    <tr>\n",
       "      <th id=\"T_6b0d0_level0_row0\" class=\"row_heading level0 row0\" >model 1</th>\n",
       "      <th id=\"T_6b0d0_level1_row0\" class=\"row_heading level1 row0\" >3</th>\n",
       "      <td id=\"T_6b0d0_row0_col0\" class=\"data row0 col0\" >3.66±0.47</td>\n",
       "      <td id=\"T_6b0d0_row0_col1\" class=\"data row0 col1\" >0.67</td>\n",
       "    </tr>\n",
       "    <tr>\n",
       "      <th id=\"T_6b0d0_level0_row1\" class=\"row_heading level0 row1\" >model 2</th>\n",
       "      <th id=\"T_6b0d0_level1_row1\" class=\"row_heading level1 row1\" >3</th>\n",
       "      <td id=\"T_6b0d0_row1_col0\" class=\"data row1 col0\" >1.66±0.47</td>\n",
       "      <td id=\"T_6b0d0_row1_col1\" class=\"data row1 col1\" >1.00</td>\n",
       "    </tr>\n",
       "    <tr>\n",
       "      <th id=\"T_6b0d0_level0_row2\" class=\"row_heading level0 row2\" >model 1</th>\n",
       "      <th id=\"T_6b0d0_level1_row2\" class=\"row_heading level1 row2\" >2</th>\n",
       "      <td id=\"T_6b0d0_row2_col0\" class=\"data row2 col0\" >1.33±0.47</td>\n",
       "      <td id=\"T_6b0d0_row2_col1\" class=\"data row2 col1\" >1.00</td>\n",
       "    </tr>\n",
       "    <tr>\n",
       "      <th id=\"T_6b0d0_level0_row3\" class=\"row_heading level0 row3\" >model 2</th>\n",
       "      <th id=\"T_6b0d0_level1_row3\" class=\"row_heading level1 row3\" >2</th>\n",
       "      <td id=\"T_6b0d0_row3_col0\" class=\"data row3 col0\" >0.66±0.47</td>\n",
       "      <td id=\"T_6b0d0_row3_col1\" class=\"data row3 col1\" >1.00</td>\n",
       "    </tr>\n",
       "    <tr>\n",
       "      <th id=\"T_6b0d0_level0_row4\" class=\"row_heading level0 row4\" >model 1</th>\n",
       "      <th id=\"T_6b0d0_level1_row4\" class=\"row_heading level1 row4\" >1</th>\n",
       "      <td id=\"T_6b0d0_row4_col0\" class=\"data row4 col0\" >0.33±0.47</td>\n",
       "      <td id=\"T_6b0d0_row4_col1\" class=\"data row4 col1\" >1.00</td>\n",
       "    </tr>\n",
       "    <tr>\n",
       "      <th id=\"T_6b0d0_level0_row5\" class=\"row_heading level0 row5\" >model 2</th>\n",
       "      <th id=\"T_6b0d0_level1_row5\" class=\"row_heading level1 row5\" >1</th>\n",
       "      <td id=\"T_6b0d0_row5_col0\" class=\"data row5 col0\" >0.33±0.47</td>\n",
       "      <td id=\"T_6b0d0_row5_col1\" class=\"data row5 col1\" >0.67</td>\n",
       "    </tr>\n",
       "  </tbody>\n",
       "</table>\n"
      ],
      "text/plain": [
       "<pandas.io.formats.style.Styler at 0x1473a7490>"
      ]
     },
     "execution_count": null,
     "metadata": {},
     "output_type": "execute_result"
    }
   ],
   "source": [
    "df2 = sm.sort(df, \"Charge\", level=0)\n",
    "sm.show(df2, caption=\"Table 2.1. Iterative algorithms (sorted)\", color_style=\"bar\", hline_level=0)"
   ]
  },
  {
   "cell_type": "markdown",
   "id": "18",
   "metadata": {},
   "source": [
    "Let's rearrange the entries levels and sort the sequence by uniqueness within each iteration.\n"
   ]
  },
  {
   "cell_type": "code",
   "execution_count": null,
   "id": "19",
   "metadata": {},
   "outputs": [
    {
     "data": {
      "text/html": [
       "<style type=\"text/css\">\n",
       "#T_ad5fb th.col_heading {\n",
       "  text-align: center;\n",
       "}\n",
       "#T_ad5fb td {\n",
       "  border-right: 1px solid #ccc;\n",
       "}\n",
       "#T_ad5fb th.row_heading {\n",
       "  border-right: 1px solid #ccc;\n",
       "}\n",
       "#T_ad5fb tbody tr:nth-child(3) td {\n",
       "  border-top: 1px solid #ccc;\n",
       "}\n",
       "#T_ad5fb  tbody tr:nth-child(3) th {\n",
       "  border-top: 1px solid #ccc;\n",
       "}\n",
       "#T_ad5fb tbody tr:nth-child(5) td {\n",
       "  border-top: 1px solid #ccc;\n",
       "}\n",
       "#T_ad5fb  tbody tr:nth-child(5) th {\n",
       "  border-top: 1px solid #ccc;\n",
       "}\n",
       "#T_ad5fb caption {\n",
       "  caption-side: bottom;\n",
       "  margin-top: 0.75em;\n",
       "}\n",
       "#T_ad5fb_row0_col0, #T_ad5fb_row1_col0, #T_ad5fb_row1_col1, #T_ad5fb_row5_col1 {\n",
       "  background-color: #d668c900;\n",
       "}\n",
       "#T_ad5fb_row0_col1, #T_ad5fb_row2_col1, #T_ad5fb_row3_col1, #T_ad5fb_row4_col1, #T_ad5fb_row5_col0 {\n",
       "  background-color: #d668c9ff;\n",
       "  font-weight: bold;\n",
       "}\n",
       "#T_ad5fb_row2_col0 {\n",
       "  background-color: #d668c94c;\n",
       "}\n",
       "#T_ad5fb_row3_col0 {\n",
       "  background-color: #d668c919;\n",
       "}\n",
       "#T_ad5fb_row4_col0 {\n",
       "  background-color: #d668c966;\n",
       "  text-decoration: underline;\n",
       "}\n",
       "</style>\n",
       "<table id=\"T_ad5fb\">\n",
       "  <caption>Table 2.2. Iterative algorithms (sorted within iteration)</caption>\n",
       "  <thead>\n",
       "    <tr>\n",
       "      <th class=\"blank\" >&nbsp;</th>\n",
       "      <th class=\"blank level0\" >&nbsp;</th>\n",
       "      <th id=\"T_ad5fb_level0_col0\" class=\"col_heading level0 col0\" >Charge↑</th>\n",
       "      <th id=\"T_ad5fb_level0_col1\" class=\"col_heading level0 col1\" >Uniqueness↑</th>\n",
       "    </tr>\n",
       "  </thead>\n",
       "  <tbody>\n",
       "    <tr>\n",
       "      <th id=\"T_ad5fb_level0_row0\" class=\"row_heading level0 row0\" rowspan=\"2\">1</th>\n",
       "      <th id=\"T_ad5fb_level1_row0\" class=\"row_heading level1 row0\" >model 1</th>\n",
       "      <td id=\"T_ad5fb_row0_col0\" class=\"data row0 col0\" >0.33±0.47</td>\n",
       "      <td id=\"T_ad5fb_row0_col1\" class=\"data row0 col1\" >1.00</td>\n",
       "    </tr>\n",
       "    <tr>\n",
       "      <th id=\"T_ad5fb_level1_row1\" class=\"row_heading level1 row1\" >model 2</th>\n",
       "      <td id=\"T_ad5fb_row1_col0\" class=\"data row1 col0\" >0.33±0.47</td>\n",
       "      <td id=\"T_ad5fb_row1_col1\" class=\"data row1 col1\" >0.67</td>\n",
       "    </tr>\n",
       "    <tr>\n",
       "      <th id=\"T_ad5fb_level0_row2\" class=\"row_heading level0 row2\" rowspan=\"2\">2</th>\n",
       "      <th id=\"T_ad5fb_level1_row2\" class=\"row_heading level1 row2\" >model 1</th>\n",
       "      <td id=\"T_ad5fb_row2_col0\" class=\"data row2 col0\" >1.33±0.47</td>\n",
       "      <td id=\"T_ad5fb_row2_col1\" class=\"data row2 col1\" >1.00</td>\n",
       "    </tr>\n",
       "    <tr>\n",
       "      <th id=\"T_ad5fb_level1_row3\" class=\"row_heading level1 row3\" >model 2</th>\n",
       "      <td id=\"T_ad5fb_row3_col0\" class=\"data row3 col0\" >0.66±0.47</td>\n",
       "      <td id=\"T_ad5fb_row3_col1\" class=\"data row3 col1\" >1.00</td>\n",
       "    </tr>\n",
       "    <tr>\n",
       "      <th id=\"T_ad5fb_level0_row4\" class=\"row_heading level0 row4\" rowspan=\"2\">3</th>\n",
       "      <th id=\"T_ad5fb_level1_row4\" class=\"row_heading level1 row4\" >model 2</th>\n",
       "      <td id=\"T_ad5fb_row4_col0\" class=\"data row4 col0\" >1.66±0.47</td>\n",
       "      <td id=\"T_ad5fb_row4_col1\" class=\"data row4 col1\" >1.00</td>\n",
       "    </tr>\n",
       "    <tr>\n",
       "      <th id=\"T_ad5fb_level1_row5\" class=\"row_heading level1 row5\" >model 1</th>\n",
       "      <td id=\"T_ad5fb_row5_col0\" class=\"data row5 col0\" >3.66±0.47</td>\n",
       "      <td id=\"T_ad5fb_row5_col1\" class=\"data row5 col1\" >0.67</td>\n",
       "    </tr>\n",
       "  </tbody>\n",
       "</table>\n"
      ],
      "text/plain": [
       "<pandas.io.formats.style.Styler at 0x146708070>"
      ]
     },
     "execution_count": null,
     "metadata": {},
     "output_type": "execute_result"
    }
   ],
   "source": [
    "df3 = df.reorder_levels([1, 0])\n",
    "df3 = sm.sort(df3, \"Uniqueness\", level=1)\n",
    "\n",
    "sm.show(\n",
    "    df3, color=\"#d668c9\", caption=\"Table 2.2. Iterative algorithms (sorted within iteration)\", color_style=\"gradient\"\n",
    ")"
   ]
  },
  {
   "cell_type": "markdown",
   "id": "20",
   "metadata": {},
   "source": [
    "Let's display the sequences with largest charge in each iteration.\n"
   ]
  },
  {
   "cell_type": "code",
   "execution_count": null,
   "id": "21",
   "metadata": {},
   "outputs": [
    {
     "data": {
      "text/html": [
       "<style type=\"text/css\">\n",
       "#T_159ff th.col_heading {\n",
       "  text-align: center;\n",
       "}\n",
       "#T_159ff td {\n",
       "  border-right: 1px solid #ccc;\n",
       "}\n",
       "#T_159ff th.row_heading {\n",
       "  border-right: 1px solid #ccc;\n",
       "}\n",
       "#T_159ff caption {\n",
       "  caption-side: bottom;\n",
       "  margin-top: 0.75em;\n",
       "}\n",
       "#T_159ff_row0_col1, #T_159ff_row2_col1, #T_159ff_row3_col0 {\n",
       "  background: linear-gradient(90deg, #68d6bc 100.0%, transparent 100.0%);\n",
       "  font-weight: bold;\n",
       "}\n",
       "#T_159ff_row2_col0 {\n",
       "  background: linear-gradient(90deg, #68d6bc 30.0%, transparent 30.0%);\n",
       "  text-decoration: underline;\n",
       "}\n",
       "</style>\n",
       "<table id=\"T_159ff\">\n",
       "  <caption>Table 2.3. Best per iteration</caption>\n",
       "  <thead>\n",
       "    <tr>\n",
       "      <th class=\"blank\" >&nbsp;</th>\n",
       "      <th class=\"blank level0\" >&nbsp;</th>\n",
       "      <th id=\"T_159ff_level0_col0\" class=\"col_heading level0 col0\" >Charge↑</th>\n",
       "      <th id=\"T_159ff_level0_col1\" class=\"col_heading level0 col1\" >Uniqueness↑</th>\n",
       "    </tr>\n",
       "  </thead>\n",
       "  <tbody>\n",
       "    <tr>\n",
       "      <th id=\"T_159ff_level0_row0\" class=\"row_heading level0 row0\" rowspan=\"2\">1</th>\n",
       "      <th id=\"T_159ff_level1_row0\" class=\"row_heading level1 row0\" >model 1</th>\n",
       "      <td id=\"T_159ff_row0_col0\" class=\"data row0 col0\" >0.33±0.47</td>\n",
       "      <td id=\"T_159ff_row0_col1\" class=\"data row0 col1\" >1.00</td>\n",
       "    </tr>\n",
       "    <tr>\n",
       "      <th id=\"T_159ff_level1_row1\" class=\"row_heading level1 row1\" >model 2</th>\n",
       "      <td id=\"T_159ff_row1_col0\" class=\"data row1 col0\" >0.33±0.47</td>\n",
       "      <td id=\"T_159ff_row1_col1\" class=\"data row1 col1\" >0.67</td>\n",
       "    </tr>\n",
       "    <tr>\n",
       "      <th id=\"T_159ff_level0_row2\" class=\"row_heading level0 row2\" >2</th>\n",
       "      <th id=\"T_159ff_level1_row2\" class=\"row_heading level1 row2\" >model 1</th>\n",
       "      <td id=\"T_159ff_row2_col0\" class=\"data row2 col0\" >1.33±0.47</td>\n",
       "      <td id=\"T_159ff_row2_col1\" class=\"data row2 col1\" >1.00</td>\n",
       "    </tr>\n",
       "    <tr>\n",
       "      <th id=\"T_159ff_level0_row3\" class=\"row_heading level0 row3\" >3</th>\n",
       "      <th id=\"T_159ff_level1_row3\" class=\"row_heading level1 row3\" >model 1</th>\n",
       "      <td id=\"T_159ff_row3_col0\" class=\"data row3 col0\" >3.66±0.47</td>\n",
       "      <td id=\"T_159ff_row3_col1\" class=\"data row3 col1\" >0.67</td>\n",
       "    </tr>\n",
       "  </tbody>\n",
       "</table>\n"
      ],
      "text/plain": [
       "<pandas.io.formats.style.Styler at 0x1472fc100>"
      ]
     },
     "execution_count": null,
     "metadata": {},
     "output_type": "execute_result"
    }
   ],
   "source": [
    "df4 = df.reorder_levels([1, 0]).sort_index()\n",
    "df4 = sm.top_k(df4, \"Charge\", k=1, level=1)\n",
    "sm.show(df4, color_style=\"bar\", hline_level=0, caption=\"Table 2.3. Best per iteration\")"
   ]
  },
  {
   "cell_type": "markdown",
   "id": "22",
   "metadata": {},
   "source": [
    "## Multiple runs\n"
   ]
  },
  {
   "cell_type": "markdown",
   "id": "23",
   "metadata": {},
   "source": [
    "Let's assume we ran two generative models multiple times with a different seed each time. The sequences from the runs are shown below. And now we want to compute the deviation in performance across runs.\n"
   ]
  },
  {
   "cell_type": "code",
   "execution_count": null,
   "id": "24",
   "metadata": {},
   "outputs": [],
   "source": [
    "sequences_run1 = {\n",
    "    (\"model 1\", 1): [\"QLF\", \"FFQLL\", \"RQLL\"],\n",
    "    (\"model 1\", 2): [\"RQLF\", \"PRFQRP\", \"RQLL\"],\n",
    "    (\"model 1\", 3): [\"RQLRR\", \"RQLRRR\", \"RQLRRR\"],\n",
    "    (\"model 2\", 1): [\"QLF\", \"FFQRP\", \"RQLL\"],\n",
    "    (\"model 2\", 2): [\"QLF\", \"FFQRP\", \"RQLL\"],\n",
    "    (\"model 2\", 3): [\"PLFR\", \"RFQRP\", \"RQLR\"],\n",
    "}\n",
    "\n",
    "sequences_run2 = {\n",
    "    (\"model 1\", 1): [\"QLF\", \"FFQLL\", \"RQLL\"],\n",
    "    (\"model 1\", 2): [\"RQLF\", \"PRFQRP\", \"RQLL\"],\n",
    "    (\"model 1\", 3): [\"RQLRR\", \"RQLRRR\", \"RQLRRR\"],\n",
    "    (\"model 2\", 1): [\"QLF\", \"FFQRP\", \"RQLL\"],\n",
    "    (\"model 2\", 2): [\"QLF\", \"FFQRP\", \"RQLL\"],\n",
    "    (\"model 2\", 3): [\"PLFR\", \"RFQRP\", \"RQLR\"],\n",
    "}\n",
    "\n",
    "sequences_run3 = {\n",
    "    (\"model 1\", 1): [\"RQLF\", \"PRFQRP\", \"RQLL\"],\n",
    "    (\"model 1\", 2): [\"QLF\", \"FFQLL\", \"RQLL\"],\n",
    "    (\"model 1\", 3): [\"RQLRR\", \"RQLRRR\", \"RQLRRR\"],\n",
    "    (\"model 2\", 1): [\"QLF\", \"FFQRP\", \"RQLL\"],\n",
    "    (\"model 2\", 2): [\"QLF\", \"FFQRP\", \"RQLL\"],\n",
    "    (\"model 2\", 3): [\"PLFR\", \"RFQRP\", \"RQLR\"],\n",
    "}\n",
    "\n",
    "sequences_per_run = [sequences_run1, sequences_run2, sequences_run3]"
   ]
  },
  {
   "cell_type": "markdown",
   "id": "25",
   "metadata": {},
   "source": [
    "Let's define the metrics to compute.\n"
   ]
  },
  {
   "cell_type": "code",
   "execution_count": null,
   "id": "26",
   "metadata": {},
   "outputs": [],
   "source": [
    "metrics = [\n",
    "    sm.metrics.ID(predictor=sm.models.Charge(), name=\"Charge\", objective=\"maximize\"),\n",
    "    sm.metrics.Uniqueness(),\n",
    "]"
   ]
  },
  {
   "cell_type": "code",
   "execution_count": null,
   "id": "27",
   "metadata": {},
   "outputs": [
    {
     "name": "stderr",
     "output_type": "stream",
     "text": [
      "100%|██████████| 12/12 [00:00<00:00, 2404.88it/s, data=('model 2', 3), metric=Uniqueness]\n",
      "100%|██████████| 12/12 [00:00<00:00, 4087.02it/s, data=('model 2', 3), metric=Uniqueness]\n",
      "100%|██████████| 12/12 [00:00<00:00, 4545.85it/s, data=('model 2', 3), metric=Uniqueness]\n"
     ]
    }
   ],
   "source": [
    "df_per_run = [sm.evaluate(sequences, metrics) for sequences in sequences_per_run]"
   ]
  },
  {
   "cell_type": "markdown",
   "id": "28",
   "metadata": {},
   "source": [
    "Let's create a metric dataframe combining the metric dataframe of each run.\n"
   ]
  },
  {
   "cell_type": "code",
   "execution_count": null,
   "id": "29",
   "metadata": {},
   "outputs": [],
   "source": [
    "df_combined_runs = sm.combine(df_per_run, on_overlap=\"mean,std\")"
   ]
  },
  {
   "cell_type": "code",
   "execution_count": null,
   "id": "30",
   "metadata": {},
   "outputs": [
    {
     "data": {
      "text/html": [
       "<style type=\"text/css\">\n",
       "#T_d67cf th.col_heading {\n",
       "  text-align: center;\n",
       "}\n",
       "#T_d67cf td {\n",
       "  border-right: 1px solid #ccc;\n",
       "}\n",
       "#T_d67cf th.row_heading {\n",
       "  border-right: 1px solid #ccc;\n",
       "}\n",
       "#T_d67cf tbody tr:nth-child(4) td {\n",
       "  border-top: 1px solid #ccc;\n",
       "}\n",
       "#T_d67cf  tbody tr:nth-child(4) th {\n",
       "  border-top: 1px solid #ccc;\n",
       "}\n",
       "#T_d67cf caption {\n",
       "  caption-side: bottom;\n",
       "  margin-top: 0.75em;\n",
       "}\n",
       "#T_d67cf_row0_col1, #T_d67cf_row1_col1, #T_d67cf_row2_col0, #T_d67cf_row3_col1, #T_d67cf_row4_col1, #T_d67cf_row5_col1 {\n",
       "  background: linear-gradient(90deg, #6892d6 100.0%, transparent 100.0%);\n",
       "  font-weight: bold;\n",
       "}\n",
       "#T_d67cf_row1_col0 {\n",
       "  background: linear-gradient(90deg, #6892d6 11.3%, transparent 11.3%);\n",
       "}\n",
       "#T_d67cf_row5_col0 {\n",
       "  background: linear-gradient(90deg, #6892d6 33.3%, transparent 33.3%);\n",
       "  text-decoration: underline;\n",
       "}\n",
       "</style>\n",
       "<table id=\"T_d67cf\">\n",
       "  <caption>Table 3. Multiple runs</caption>\n",
       "  <thead>\n",
       "    <tr>\n",
       "      <th class=\"blank\" >&nbsp;</th>\n",
       "      <th class=\"blank level0\" >&nbsp;</th>\n",
       "      <th id=\"T_d67cf_level0_col0\" class=\"col_heading level0 col0\" >Charge↑</th>\n",
       "      <th id=\"T_d67cf_level0_col1\" class=\"col_heading level0 col1\" >Uniqueness↑</th>\n",
       "    </tr>\n",
       "  </thead>\n",
       "  <tbody>\n",
       "    <tr>\n",
       "      <th id=\"T_d67cf_level0_row0\" class=\"row_heading level0 row0\" rowspan=\"3\">model 1</th>\n",
       "      <th id=\"T_d67cf_level1_row0\" class=\"row_heading level1 row0\" >1</th>\n",
       "      <td id=\"T_d67cf_row0_col0\" class=\"data row0 col0\" >0.66±0.47</td>\n",
       "      <td id=\"T_d67cf_row0_col1\" class=\"data row0 col1\" >1.00±0.00</td>\n",
       "    </tr>\n",
       "    <tr>\n",
       "      <th id=\"T_d67cf_level1_row1\" class=\"row_heading level1 row1\" >2</th>\n",
       "      <td id=\"T_d67cf_row1_col0\" class=\"data row1 col0\" >1.00±0.47</td>\n",
       "      <td id=\"T_d67cf_row1_col1\" class=\"data row1 col1\" >1.00±0.00</td>\n",
       "    </tr>\n",
       "    <tr>\n",
       "      <th id=\"T_d67cf_level1_row2\" class=\"row_heading level1 row2\" >3</th>\n",
       "      <td id=\"T_d67cf_row2_col0\" class=\"data row2 col0\" >3.66±0.00</td>\n",
       "      <td id=\"T_d67cf_row2_col1\" class=\"data row2 col1\" >0.67±0.00</td>\n",
       "    </tr>\n",
       "    <tr>\n",
       "      <th id=\"T_d67cf_level0_row3\" class=\"row_heading level0 row3\" rowspan=\"3\">model 2</th>\n",
       "      <th id=\"T_d67cf_level1_row3\" class=\"row_heading level1 row3\" >1</th>\n",
       "      <td id=\"T_d67cf_row3_col0\" class=\"data row3 col0\" >0.66±0.00</td>\n",
       "      <td id=\"T_d67cf_row3_col1\" class=\"data row3 col1\" >1.00±0.00</td>\n",
       "    </tr>\n",
       "    <tr>\n",
       "      <th id=\"T_d67cf_level1_row4\" class=\"row_heading level1 row4\" >2</th>\n",
       "      <td id=\"T_d67cf_row4_col0\" class=\"data row4 col0\" >0.66±0.00</td>\n",
       "      <td id=\"T_d67cf_row4_col1\" class=\"data row4 col1\" >1.00±0.00</td>\n",
       "    </tr>\n",
       "    <tr>\n",
       "      <th id=\"T_d67cf_level1_row5\" class=\"row_heading level1 row5\" >3</th>\n",
       "      <td id=\"T_d67cf_row5_col0\" class=\"data row5 col0\" >1.66±0.00</td>\n",
       "      <td id=\"T_d67cf_row5_col1\" class=\"data row5 col1\" >1.00±0.00</td>\n",
       "    </tr>\n",
       "  </tbody>\n",
       "</table>\n"
      ],
      "text/plain": [
       "<pandas.io.formats.style.Styler at 0x14740e2f0>"
      ]
     },
     "execution_count": null,
     "metadata": {},
     "output_type": "execute_result"
    }
   ],
   "source": [
    "sm.show(df_combined_runs, color=\"#6892d6\", color_style=\"bar\", caption=\"Table 3. Multiple runs\")"
   ]
  },
  {
   "cell_type": "markdown",
   "id": "31",
   "metadata": {},
   "source": [
    "Let's visualize the sequences performance at each iteration.\n"
   ]
  },
  {
   "cell_type": "code",
   "execution_count": null,
   "id": "32",
   "metadata": {},
   "outputs": [
    {
     "data": {
      "image/png": "[encoded data removed]",
      "text/plain": [
       "<Figure size 400x300 with 1 Axes>"
      ]
     },
     "metadata": {},
     "output_type": "display_data"
    }
   ],
   "source": [
    "sm.plot_series(df_combined_runs, \"Charge\", color=[\"#ff4949ff\", \"#29a1c6ff\"], linestyle=[\"--\", \"-\"], marker=None)"
   ]
  }
 ],
 "metadata": {
  "kernelspec": {
   "display_name": "Python 3",
   "language": "python",
   "name": "python3"
  },
  "language_info": {
   "codemirror_mode": {
    "name": "ipython",
    "version": 3
   },
   "file_extension": ".py",
   "mimetype": "text/x-python",
   "name": "python",
   "nbconvert_exporter": "python",
   "pygments_lexer": "ipython3",
   "version": "3.10.18"
  }
 },
 "nbformat": 4,
 "nbformat_minor": 5
}
