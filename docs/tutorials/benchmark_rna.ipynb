{
 "cells": [
  {
   "cell_type": "markdown",
   "id": "0",
   "metadata": {},
   "source": [
    "# Benchmarking mRNA's mRFP-expression"
   ]
  },
  {
   "cell_type": "markdown",
   "id": "1",
   "metadata": {},
   "source": [
    "In this notebook, we apply seqme to mRNA sequences."
   ]
  },
  {
   "cell_type": "markdown",
   "id": "2",
   "metadata": {},
   "source": [
    "First install \"helical\" which contains the mRNA model."
   ]
  },
  {
   "cell_type": "code",
   "execution_count": null,
   "id": "3",
   "metadata": {},
   "outputs": [],
   "source": [
    "# !pip install helical"
   ]
  },
  {
   "cell_type": "code",
   "execution_count": null,
   "id": "4",
   "metadata": {},
   "outputs": [
    {
     "name": "stderr",
     "output_type": "stream",
     "text": [
      "INFO:datasets:PyTorch version 2.6.0 available.\n"
     ]
    }
   ],
   "source": [
    "%load_ext autoreload\n",
    "%autoreload 2\n",
    "\n",
    "import pickle\n",
    "import subprocess\n",
    "from collections.abc import Callable\n",
    "\n",
    "import numpy as np\n",
    "import pandas as pd\n",
    "import torch\n",
    "from helical.models.helix_mrna import HelixmRNA, HelixmRNAConfig\n",
    "from sklearn.linear_model import LinearRegression\n",
    "\n",
    "import seqme as sm"
   ]
  },
  {
   "cell_type": "code",
   "execution_count": null,
   "id": "5",
   "metadata": {},
   "outputs": [],
   "source": [
    "device = \"cuda\" if torch.cuda.is_available() else \"cpu\""
   ]
  },
  {
   "cell_type": "markdown",
   "id": "6",
   "metadata": {},
   "source": [
    "\n",
    "## Data"
   ]
  },
  {
   "cell_type": "markdown",
   "id": "7",
   "metadata": {},
   "source": [
    "Let's download the mRNA sequences."
   ]
  },
  {
   "cell_type": "code",
   "execution_count": null,
   "id": "8",
   "metadata": {},
   "outputs": [],
   "source": [
    "DATA_PATH = \"mRFP_Expression.csv\""
   ]
  },
  {
   "cell_type": "code",
   "execution_count": null,
   "id": "9",
   "metadata": {},
   "outputs": [],
   "source": [
    "DATA_URL = \"https://raw.githubusercontent.com/Sanofi-Public/CodonBERT/refs/heads/master/benchmarks/CodonBERT/data/fine-tune/mRFP_Expression.csv\"\n",
    "\n",
    "wget_command = [\"wget\", \"-O\", DATA_PATH, DATA_URL]\n",
    "\n",
    "try:\n",
    "    subprocess.run(wget_command, check=True)\n",
    "    print(f\"File downloaded successfully as {DATA_PATH}\")\n",
    "except subprocess.CalledProcessError as e:\n",
    "    print(f\"Error occurred: {e}\")"
   ]
  },
  {
   "cell_type": "code",
   "execution_count": null,
   "id": "10",
   "metadata": {},
   "outputs": [],
   "source": [
    "dataset = pd.read_csv(DATA_PATH)\n",
    "\n",
    "train_data = dataset[dataset[\"Split\"] == \"train\"]\n",
    "eval_data = dataset[dataset[\"Split\"] == \"val\"]\n",
    "test_data = dataset[dataset[\"Split\"] == \"test\"]"
   ]
  },
  {
   "cell_type": "code",
   "execution_count": null,
   "id": "11",
   "metadata": {},
   "outputs": [
    {
     "data": {
      "text/html": [
       "<div>\n",
       "<style scoped>\n",
       "    .dataframe tbody tr th:only-of-type {\n",
       "        vertical-align: middle;\n",
       "    }\n",
       "\n",
       "    .dataframe tbody tr th {\n",
       "        vertical-align: top;\n",
       "    }\n",
       "\n",
       "    .dataframe thead th {\n",
       "        text-align: right;\n",
       "    }\n",
       "</style>\n",
       "<table border=\"1\" class=\"dataframe\">\n",
       "  <thead>\n",
       "    <tr style=\"text-align: right;\">\n",
       "      <th></th>\n",
       "      <th>Sequence</th>\n",
       "      <th>Value</th>\n",
       "      <th>Dataset</th>\n",
       "      <th>Split</th>\n",
       "    </tr>\n",
       "  </thead>\n",
       "  <tbody>\n",
       "    <tr>\n",
       "      <th>0</th>\n",
       "      <td>AUGGCAUCAUCAGAAGACGUCAUAAAAGAAUUUAUGCGAUUCAAAG...</td>\n",
       "      <td>10.164760</td>\n",
       "      <td>mRFP Expression</td>\n",
       "      <td>train</td>\n",
       "    </tr>\n",
       "    <tr>\n",
       "      <th>1</th>\n",
       "      <td>AUGGCGUCUUCAGAGGAUGUAAUCAAGGAAUUCAUGCGUUUUAAGG...</td>\n",
       "      <td>10.572869</td>\n",
       "      <td>mRFP Expression</td>\n",
       "      <td>train</td>\n",
       "    </tr>\n",
       "    <tr>\n",
       "      <th>2</th>\n",
       "      <td>AUGGCAUCAUCGGAAGAUGUAAUAAAGGAAUUUAUGCGUUUCAAAG...</td>\n",
       "      <td>9.766912</td>\n",
       "      <td>mRFP Expression</td>\n",
       "      <td>train</td>\n",
       "    </tr>\n",
       "    <tr>\n",
       "      <th>3</th>\n",
       "      <td>AUGGCGAGUAGUGAAGACGUUAUCAAAGAAUUUAUGCGUUUUAAGG...</td>\n",
       "      <td>9.926981</td>\n",
       "      <td>mRFP Expression</td>\n",
       "      <td>train</td>\n",
       "    </tr>\n",
       "    <tr>\n",
       "      <th>4</th>\n",
       "      <td>AUGGCUUCUUCUGAGGACGUAAUAAAGGAGUUCAUGAGGUUCAAGG...</td>\n",
       "      <td>9.857074</td>\n",
       "      <td>mRFP Expression</td>\n",
       "      <td>train</td>\n",
       "    </tr>\n",
       "  </tbody>\n",
       "</table>\n",
       "</div>"
      ],
      "text/plain": [
       "                                            Sequence      Value  \\\n",
       "0  AUGGCAUCAUCAGAAGACGUCAUAAAAGAAUUUAUGCGAUUCAAAG...  10.164760   \n",
       "1  AUGGCGUCUUCAGAGGAUGUAAUCAAGGAAUUCAUGCGUUUUAAGG...  10.572869   \n",
       "2  AUGGCAUCAUCGGAAGAUGUAAUAAAGGAAUUUAUGCGUUUCAAAG...   9.766912   \n",
       "3  AUGGCGAGUAGUGAAGACGUUAUCAAAGAAUUUAUGCGUUUUAAGG...   9.926981   \n",
       "4  AUGGCUUCUUCUGAGGACGUAAUAAAGGAGUUCAUGAGGUUCAAGG...   9.857074   \n",
       "\n",
       "           Dataset  Split  \n",
       "0  mRFP Expression  train  \n",
       "1  mRFP Expression  train  \n",
       "2  mRFP Expression  train  \n",
       "3  mRFP Expression  train  \n",
       "4  mRFP Expression  train  "
      ]
     },
     "execution_count": null,
     "metadata": {},
     "output_type": "execute_result"
    }
   ],
   "source": [
    "dataset.head()"
   ]
  },
  {
   "cell_type": "markdown",
   "id": "12",
   "metadata": {},
   "source": [
    "## Models"
   ]
  },
  {
   "cell_type": "markdown",
   "id": "13",
   "metadata": {},
   "source": [
    "Let's define the models."
   ]
  },
  {
   "cell_type": "code",
   "execution_count": null,
   "id": "14",
   "metadata": {},
   "outputs": [],
   "source": [
    "class HelixmRNAModel:\n",
    "    def __init__(self, max_length: int, batch_size: int, device: str):\n",
    "        config = HelixmRNAConfig(\n",
    "            batch_size=batch_size,\n",
    "            max_length=max_length,\n",
    "            device=device,\n",
    "        )\n",
    "        self.model = HelixmRNA(configurer=config)\n",
    "\n",
    "    def __call__(self, sequences: list[str]) -> np.ndarray:\n",
    "        return self.embed(sequences)\n",
    "\n",
    "    def embed(self, sequences: list[str]) -> np.ndarray:\n",
    "        with torch.inference_mode():\n",
    "            dataset = self.model.process_data(sequences)\n",
    "            token_embeddings = self.model.get_embeddings(dataset)\n",
    "        return token_embeddings[:, -2, :]\n",
    "\n",
    "\n",
    "class LinearRegressor:\n",
    "    def __init__(self, embedder: Callable[[list[str]], np.ndarray]):\n",
    "        self.embedder = embedder\n",
    "        self.regressor = LinearRegression()\n",
    "\n",
    "    def __call__(self, sequences: list[str]) -> np.ndarray:\n",
    "        return self.predict(sequences)\n",
    "\n",
    "    def predict(self, sequences: list[str]) -> np.ndarray:\n",
    "        embeddings = self.embedder(sequences)\n",
    "        return self.regressor.predict(embeddings)\n",
    "\n",
    "    def fit(self, sequences: list[str], labels: np.ndarray):\n",
    "        embeddings = self.embedder(sequences)\n",
    "        self.regressor.fit(embeddings, labels)"
   ]
  },
  {
   "cell_type": "code",
   "execution_count": null,
   "id": "15",
   "metadata": {},
   "outputs": [],
   "source": [
    "CACHE_PATH = \"mrna_precomputed.pkl\"\n",
    "\n",
    "if CACHE_PATH is not None:\n",
    "    with open(CACHE_PATH, \"rb\") as f:\n",
    "        precomputed = pickle.load(f)\n",
    "else:\n",
    "    precomputed = None\n",
    "\n",
    "cache = sm.ModelCache(init_cache=precomputed)"
   ]
  },
  {
   "cell_type": "markdown",
   "id": "16",
   "metadata": {},
   "source": [
    "Lets setup the embedding model."
   ]
  },
  {
   "cell_type": "code",
   "execution_count": null,
   "id": "17",
   "metadata": {},
   "outputs": [
    {
     "name": "stderr",
     "output_type": "stream",
     "text": [
      "WARNING:helical.models.helix_mrna.modeling_helix_mrna:The fast path is not available because on of `(selective_state_update, causal_conv1d_fn, causal_conv1d_update)` is None. Falling back to the naive implementation. To install follow https://github.com/state-spaces/mamba/#installation and https://github.com/Dao-AILab/causal-conv1d\n",
      "INFO:helical.models.helix_mrna.model:Helix-mRNA initialized successfully.\n",
      "INFO:helical.models.helix_mrna.model:'helical-ai/Helix-mRNA' model is in 'eval' mode, on device 'cpu'.\n"
     ]
    }
   ],
   "source": [
    "batch_size = 8\n",
    "max_length = max(len(s) for s in train_data[\"Sequence\"]) + 10\n",
    "rna_model = HelixmRNAModel(max_length=max_length, batch_size=batch_size, device=device)\n",
    "\n",
    "cache.add(\"helix-mRNA\", rna_model)\n",
    "cache.add(\"RNA-fm\", sm.models.RNA_FM(verbose=True))"
   ]
  },
  {
   "cell_type": "markdown",
   "id": "18",
   "metadata": {},
   "source": [
    "Lets setup a model predicting mRFP-expression (and train it)."
   ]
  },
  {
   "cell_type": "code",
   "execution_count": null,
   "id": "19",
   "metadata": {},
   "outputs": [],
   "source": [
    "xs = train_data[\"Sequence\"]\n",
    "labels = train_data[\"Value\"]\n",
    "\n",
    "regressor = LinearRegressor(embedder=cache.model(\"RNA-fm\"))\n",
    "regressor.fit(xs, labels)\n",
    "\n",
    "cache.add(\"regressor\", regressor)"
   ]
  },
  {
   "cell_type": "markdown",
   "id": "20",
   "metadata": {},
   "source": [
    "Let's look at an UMAP of the mRNA using helix-mRNA."
   ]
  },
  {
   "cell_type": "code",
   "execution_count": null,
   "id": "21",
   "metadata": {},
   "outputs": [],
   "source": [
    "seqs = list(train_data[\"Sequence\"])\n",
    "values = np.array(train_data[\"Value\"])\n",
    "\n",
    "xs = cache.model(\"RNA-fm\")(seqs)"
   ]
  },
  {
   "cell_type": "code",
   "execution_count": null,
   "id": "22",
   "metadata": {},
   "outputs": [
    {
     "name": "stderr",
     "output_type": "stream",
     "text": [
      "WARNING:py.warnings:/Users/rasmus.larsen/work/hackathon-2025/seqme/.conda/lib/python3.10/site-packages/umap/umap_.py:1952: UserWarning: n_jobs value 1 overridden to 1 by setting random_state. Use no seed for parallelism.\n",
      "  warn(\n",
      "\n"
     ]
    }
   ],
   "source": [
    "xs_umap = sm.utils.umap(xs)"
   ]
  },
  {
   "cell_type": "code",
   "execution_count": null,
   "id": "23",
   "metadata": {},
   "outputs": [
    {
     "data": {
      "image/png": "[encoded data removed]",
      "text/plain": [
       "<Figure size 400x300 with 2 Axes>"
      ]
     },
     "metadata": {},
     "output_type": "display_data"
    }
   ],
   "source": [
    "sm.utils.plot_2d_embeddings(\n",
    "    xs_umap,\n",
    "    groups_or_values=values,\n",
    "    title=\"mRFP-expression\",\n",
    "    xlabel=\"UMAP1\",\n",
    "    ylabel=\"UMAP2\",\n",
    "    alpha=0.8,\n",
    ")"
   ]
  },
  {
   "cell_type": "markdown",
   "id": "24",
   "metadata": {},
   "source": [
    "## Benchmark"
   ]
  },
  {
   "cell_type": "markdown",
   "id": "25",
   "metadata": {},
   "source": [
    "Let's run the benchmark."
   ]
  },
  {
   "cell_type": "code",
   "execution_count": null,
   "id": "26",
   "metadata": {},
   "outputs": [
    {
     "name": "stderr",
     "output_type": "stream",
     "text": [
      "100%|██████████| 6/6 [00:00<00:00, 20.93it/s, data=mRFP (permuted), metric=FKEA]                   \n"
     ]
    }
   ],
   "source": [
    "mRFP_sequences = list(test_data[\"Sequence\"])\n",
    "mRFP_shuffled = sm.utils.shuffle_sequences(mRFP_sequences)\n",
    "\n",
    "df = sm.compute_metrics(\n",
    "    sequences={\n",
    "        \"mRFP\": mRFP_sequences,\n",
    "        \"mRFP (permuted)\": mRFP_shuffled,\n",
    "    },\n",
    "    metrics=[\n",
    "        sm.metrics.ID(predictor=cache.model(\"regressor\"), name=\"mRFP-expression\", objective=\"maximize\"),\n",
    "        sm.metrics.Threshold(\n",
    "            predictor=cache.model(\"regressor\"),\n",
    "            name=\"mRFP-expression (>10.5)\",\n",
    "            objective=\"maximize\",\n",
    "            threshold=10.5,\n",
    "        ),\n",
    "        sm.metrics.FKEA(embedder=cache.model(\"RNA-fm\"), bandwidth=2.0),\n",
    "    ],\n",
    ")"
   ]
  },
  {
   "cell_type": "code",
   "execution_count": null,
   "id": "27",
   "metadata": {},
   "outputs": [
    {
     "data": {
      "text/html": [
       "<style type=\"text/css\">\n",
       "#T_4ae84 th.col_heading {\n",
       "  text-align: center;\n",
       "}\n",
       "#T_4ae84 td {\n",
       "  border-right: 1px solid #ccc;\n",
       "}\n",
       "#T_4ae84 th.row_heading {\n",
       "  border-right: 1px solid #ccc;\n",
       "}\n",
       "#T_4ae84_row0_col0, #T_4ae84_row0_col1, #T_4ae84_row1_col2 {\n",
       "  font-weight: bold;\n",
       "  background-color: #68d6bc;\n",
       "}\n",
       "#T_4ae84_row0_col2, #T_4ae84_row1_col0, #T_4ae84_row1_col1 {\n",
       "  text-decoration: underline;\n",
       "}\n",
       "</style>\n",
       "<table id=\"T_4ae84\">\n",
       "  <thead>\n",
       "    <tr>\n",
       "      <th class=\"blank level0\" >&nbsp;</th>\n",
       "      <th id=\"T_4ae84_level0_col0\" class=\"col_heading level0 col0\" >mRFP-expression↑</th>\n",
       "      <th id=\"T_4ae84_level0_col1\" class=\"col_heading level0 col1\" >mRFP-expression (>10.5)↑</th>\n",
       "      <th id=\"T_4ae84_level0_col2\" class=\"col_heading level0 col2\" >FKEA↑</th>\n",
       "    </tr>\n",
       "  </thead>\n",
       "  <tbody>\n",
       "    <tr>\n",
       "      <th id=\"T_4ae84_level0_row0\" class=\"row_heading level0 row0\" >mRFP</th>\n",
       "      <td id=\"T_4ae84_row0_col0\" class=\"data row0 col0\" >10.01±1.05</td>\n",
       "      <td id=\"T_4ae84_row0_col1\" class=\"data row0 col1\" >0.33</td>\n",
       "      <td id=\"T_4ae84_row0_col2\" class=\"data row0 col2\" >8.82</td>\n",
       "    </tr>\n",
       "    <tr>\n",
       "      <th id=\"T_4ae84_level0_row1\" class=\"row_heading level0 row1\" >mRFP (permuted)</th>\n",
       "      <td id=\"T_4ae84_row1_col0\" class=\"data row1 col0\" >-1.09±6.51</td>\n",
       "      <td id=\"T_4ae84_row1_col1\" class=\"data row1 col1\" >0.03</td>\n",
       "      <td id=\"T_4ae84_row1_col2\" class=\"data row1 col2\" >57.01</td>\n",
       "    </tr>\n",
       "  </tbody>\n",
       "</table>\n"
      ],
      "text/plain": [
       "<pandas.io.formats.style.Styler at 0x329fbdae0>"
      ]
     },
     "execution_count": null,
     "metadata": {},
     "output_type": "execute_result"
    }
   ],
   "source": [
    "sm.show_table(df)"
   ]
  },
  {
   "cell_type": "markdown",
   "id": "28",
   "metadata": {},
   "source": [
    "Let's save the cache to a file."
   ]
  },
  {
   "cell_type": "code",
   "execution_count": null,
   "id": "29",
   "metadata": {},
   "outputs": [],
   "source": [
    "with open(CACHE_PATH, \"wb\") as f:\n",
    "    pickle.dump(cache.get(), f)"
   ]
  }
 ],
 "metadata": {
  "kernelspec": {
   "display_name": "Python 3",
   "language": "python",
   "name": "python3"
  },
  "language_info": {
   "codemirror_mode": {
    "name": "ipython",
    "version": 3
   },
   "file_extension": ".py",
   "mimetype": "text/x-python",
   "name": "python",
   "nbconvert_exporter": "python",
   "pygments_lexer": "ipython3",
   "version": "3.10.18"
  }
 },
 "nbformat": 4,
 "nbformat_minor": 5
}
