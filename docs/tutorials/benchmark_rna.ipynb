{
 "cells": [
  {
   "cell_type": "markdown",
   "id": "0",
   "metadata": {},
   "source": [
    "# Benchmarking mRNA's mRFP-expression"
   ]
  },
  {
   "cell_type": "markdown",
   "id": "1",
   "metadata": {},
   "source": [
    "In this notebook, we apply seqme to mRNA sequences."
   ]
  },
  {
   "cell_type": "code",
   "execution_count": null,
   "id": "2",
   "metadata": {},
   "outputs": [],
   "source": [
    "import pickle\n",
    "import subprocess\n",
    "from collections.abc import Callable\n",
    "\n",
    "import numpy as np\n",
    "import pandas as pd\n",
    "import torch\n",
    "from sklearn.linear_model import LinearRegression\n",
    "\n",
    "import seqme as sm"
   ]
  },
  {
   "cell_type": "code",
   "execution_count": null,
   "id": "3",
   "metadata": {},
   "outputs": [],
   "source": [
    "device = \"cuda\" if torch.cuda.is_available() else \"cpu\""
   ]
  },
  {
   "cell_type": "markdown",
   "id": "4",
   "metadata": {},
   "source": [
    "\n",
    "## Data"
   ]
  },
  {
   "cell_type": "markdown",
   "id": "5",
   "metadata": {},
   "source": [
    "Let's download the mRNA sequences."
   ]
  },
  {
   "cell_type": "code",
   "execution_count": null,
   "id": "6",
   "metadata": {},
   "outputs": [],
   "source": [
    "DATA_PATH = \"mRFP_Expression.csv\""
   ]
  },
  {
   "cell_type": "code",
   "execution_count": null,
   "id": "7",
   "metadata": {},
   "outputs": [],
   "source": [
    "DATA_URL = \"https://raw.githubusercontent.com/Sanofi-Public/CodonBERT/refs/heads/master/benchmarks/CodonBERT/data/fine-tune/mRFP_Expression.csv\"\n",
    "\n",
    "wget_command = [\"wget\", \"-O\", DATA_PATH, DATA_URL]\n",
    "\n",
    "try:\n",
    "    subprocess.run(wget_command, check=True)\n",
    "    print(f\"File downloaded successfully as {DATA_PATH}\")\n",
    "except subprocess.CalledProcessError as e:\n",
    "    print(f\"Error occurred: {e}\")"
   ]
  },
  {
   "cell_type": "code",
   "execution_count": null,
   "id": "8",
   "metadata": {},
   "outputs": [],
   "source": [
    "dataset = pd.read_csv(DATA_PATH)\n",
    "\n",
    "train_data = dataset[dataset[\"Split\"] == \"train\"]\n",
    "eval_data = dataset[dataset[\"Split\"] == \"val\"]\n",
    "test_data = dataset[dataset[\"Split\"] == \"test\"]"
   ]
  },
  {
   "cell_type": "code",
   "execution_count": null,
   "id": "9",
   "metadata": {},
   "outputs": [
    {
     "data": {
      "text/html": [
       "<div>\n",
       "<style scoped>\n",
       "    .dataframe tbody tr th:only-of-type {\n",
       "        vertical-align: middle;\n",
       "    }\n",
       "\n",
       "    .dataframe tbody tr th {\n",
       "        vertical-align: top;\n",
       "    }\n",
       "\n",
       "    .dataframe thead th {\n",
       "        text-align: right;\n",
       "    }\n",
       "</style>\n",
       "<table border=\"1\" class=\"dataframe\">\n",
       "  <thead>\n",
       "    <tr style=\"text-align: right;\">\n",
       "      <th></th>\n",
       "      <th>Sequence</th>\n",
       "      <th>Value</th>\n",
       "      <th>Dataset</th>\n",
       "      <th>Split</th>\n",
       "    </tr>\n",
       "  </thead>\n",
       "  <tbody>\n",
       "    <tr>\n",
       "      <th>0</th>\n",
       "      <td>AUGGCAUCAUCAGAAGACGUCAUAAAAGAAUUUAUGCGAUUCAAAG...</td>\n",
       "      <td>10.164760</td>\n",
       "      <td>mRFP Expression</td>\n",
       "      <td>train</td>\n",
       "    </tr>\n",
       "    <tr>\n",
       "      <th>1</th>\n",
       "      <td>AUGGCGUCUUCAGAGGAUGUAAUCAAGGAAUUCAUGCGUUUUAAGG...</td>\n",
       "      <td>10.572869</td>\n",
       "      <td>mRFP Expression</td>\n",
       "      <td>train</td>\n",
       "    </tr>\n",
       "    <tr>\n",
       "      <th>2</th>\n",
       "      <td>AUGGCAUCAUCGGAAGAUGUAAUAAAGGAAUUUAUGCGUUUCAAAG...</td>\n",
       "      <td>9.766912</td>\n",
       "      <td>mRFP Expression</td>\n",
       "      <td>train</td>\n",
       "    </tr>\n",
       "    <tr>\n",
       "      <th>3</th>\n",
       "      <td>AUGGCGAGUAGUGAAGACGUUAUCAAAGAAUUUAUGCGUUUUAAGG...</td>\n",
       "      <td>9.926981</td>\n",
       "      <td>mRFP Expression</td>\n",
       "      <td>train</td>\n",
       "    </tr>\n",
       "    <tr>\n",
       "      <th>4</th>\n",
       "      <td>AUGGCUUCUUCUGAGGACGUAAUAAAGGAGUUCAUGAGGUUCAAGG...</td>\n",
       "      <td>9.857074</td>\n",
       "      <td>mRFP Expression</td>\n",
       "      <td>train</td>\n",
       "    </tr>\n",
       "  </tbody>\n",
       "</table>\n",
       "</div>"
      ],
      "text/plain": [
       "                                            Sequence      Value  \\\n",
       "0  AUGGCAUCAUCAGAAGACGUCAUAAAAGAAUUUAUGCGAUUCAAAG...  10.164760   \n",
       "1  AUGGCGUCUUCAGAGGAUGUAAUCAAGGAAUUCAUGCGUUUUAAGG...  10.572869   \n",
       "2  AUGGCAUCAUCGGAAGAUGUAAUAAAGGAAUUUAUGCGUUUCAAAG...   9.766912   \n",
       "3  AUGGCGAGUAGUGAAGACGUUAUCAAAGAAUUUAUGCGUUUUAAGG...   9.926981   \n",
       "4  AUGGCUUCUUCUGAGGACGUAAUAAAGGAGUUCAUGAGGUUCAAGG...   9.857074   \n",
       "\n",
       "           Dataset  Split  \n",
       "0  mRFP Expression  train  \n",
       "1  mRFP Expression  train  \n",
       "2  mRFP Expression  train  \n",
       "3  mRFP Expression  train  \n",
       "4  mRFP Expression  train  "
      ]
     },
     "execution_count": null,
     "metadata": {},
     "output_type": "execute_result"
    }
   ],
   "source": [
    "dataset.head()"
   ]
  },
  {
   "cell_type": "markdown",
   "id": "10",
   "metadata": {},
   "source": [
    "## Models"
   ]
  },
  {
   "cell_type": "markdown",
   "id": "11",
   "metadata": {},
   "source": [
    "Let's define the models."
   ]
  },
  {
   "cell_type": "code",
   "execution_count": null,
   "id": "12",
   "metadata": {},
   "outputs": [],
   "source": [
    "class LinearRegressor:\n",
    "    def __init__(self, embedder: Callable[[list[str]], np.ndarray]):\n",
    "        self.embedder = embedder\n",
    "        self.regressor = LinearRegression()\n",
    "\n",
    "    def __call__(self, sequences: list[str]) -> np.ndarray:\n",
    "        return self.predict(sequences)\n",
    "\n",
    "    def predict(self, sequences: list[str]) -> np.ndarray:\n",
    "        embeddings = self.embedder(sequences)\n",
    "        return self.regressor.predict(embeddings)\n",
    "\n",
    "    def fit(self, sequences: list[str], labels: np.ndarray):\n",
    "        embeddings = self.embedder(sequences)\n",
    "        self.regressor.fit(embeddings, labels)"
   ]
  },
  {
   "cell_type": "code",
   "execution_count": null,
   "id": "13",
   "metadata": {},
   "outputs": [],
   "source": [
    "CACHE_PATH = None  # \"mrna_precomputed.pkl\"\n",
    "\n",
    "if CACHE_PATH is not None:\n",
    "    with open(CACHE_PATH, \"rb\") as f:\n",
    "        precomputed = pickle.load(f)\n",
    "else:\n",
    "    precomputed = None\n",
    "\n",
    "cache = sm.ModelCache(init_cache=precomputed)"
   ]
  },
  {
   "cell_type": "markdown",
   "id": "14",
   "metadata": {},
   "source": [
    "Lets setup the embedding model."
   ]
  },
  {
   "cell_type": "code",
   "execution_count": null,
   "id": "15",
   "metadata": {},
   "outputs": [],
   "source": [
    "cache.add(\"RNA-fm\", sm.models.RNA_FM(verbose=True))"
   ]
  },
  {
   "cell_type": "markdown",
   "id": "16",
   "metadata": {},
   "source": [
    "Lets setup a model predicting mRFP-expression (and train it)."
   ]
  },
  {
   "cell_type": "code",
   "execution_count": null,
   "id": "17",
   "metadata": {},
   "outputs": [
    {
     "name": "stderr",
     "output_type": "stream",
     "text": [
      "100%|██████████| 4/4 [04:06<00:00, 61.66s/it]\n"
     ]
    }
   ],
   "source": [
    "xs = train_data[\"Sequence\"]\n",
    "labels = train_data[\"Value\"]\n",
    "\n",
    "regressor = LinearRegressor(embedder=cache.model(\"RNA-fm\"))\n",
    "regressor.fit(xs, labels)\n",
    "\n",
    "cache.add(\"regressor\", regressor)"
   ]
  },
  {
   "cell_type": "markdown",
   "id": "18",
   "metadata": {},
   "source": [
    "Let's look at an UMAP of the mRNA using RNA-FM."
   ]
  },
  {
   "cell_type": "code",
   "execution_count": null,
   "id": "19",
   "metadata": {},
   "outputs": [],
   "source": [
    "seqs = list(train_data[\"Sequence\"])\n",
    "values = np.array(train_data[\"Value\"])\n",
    "\n",
    "xs = cache.model(\"RNA-fm\")(seqs)"
   ]
  },
  {
   "cell_type": "code",
   "execution_count": null,
   "id": "20",
   "metadata": {},
   "outputs": [
    {
     "name": "stderr",
     "output_type": "stream",
     "text": [
      "/Users/rasmus.larsen/work/hackathon-2025/seqme/.conda/lib/python3.10/site-packages/umap/umap_.py:1952: UserWarning: n_jobs value 1 overridden to 1 by setting random_state. Use no seed for parallelism.\n",
      "  warn(\n"
     ]
    }
   ],
   "source": [
    "xs_umap = sm.utils.umap(xs)"
   ]
  },
  {
   "cell_type": "code",
   "execution_count": null,
   "id": "21",
   "metadata": {},
   "outputs": [
    {
     "data": {
      "image/png": "[encoded data removed]",
      "text/plain": [
       "<Figure size 500x400 with 2 Axes>"
      ]
     },
     "metadata": {},
     "output_type": "display_data"
    }
   ],
   "source": [
    "sm.utils.plot_embeddings(\n",
    "    xs_umap,\n",
    "    values=values,\n",
    "    title=\"mRFP-expression\",\n",
    "    xlabel=\"UMAP1\",\n",
    "    ylabel=\"UMAP2\",\n",
    "    alpha=0.8,\n",
    "    point_size=4,\n",
    "    figsize=(5, 4),\n",
    ")"
   ]
  },
  {
   "cell_type": "markdown",
   "id": "22",
   "metadata": {},
   "source": [
    "## Benchmark"
   ]
  },
  {
   "cell_type": "markdown",
   "id": "23",
   "metadata": {},
   "source": [
    "Let's run the benchmark."
   ]
  },
  {
   "cell_type": "code",
   "execution_count": null,
   "id": "24",
   "metadata": {},
   "outputs": [
    {
     "name": "stderr",
     "output_type": "stream",
     "text": [
      "100%|██████████| 1/1 [00:52<00:00, 52.14s/it]FP, metric=mRFP-expression]\n",
      "100%|██████████| 1/1 [00:50<00:00, 50.75s/it] data=mRFP (permuted), metric=mRFP-expression]\n",
      "100%|██████████| 6/6 [01:43<00:00, 17.21s/it, data=mRFP (permuted), metric=FKEA]                   \n"
     ]
    }
   ],
   "source": [
    "mRFP_sequences = list(test_data[\"Sequence\"])\n",
    "mRFP_shuffled = sm.shuffle_characters(mRFP_sequences)\n",
    "\n",
    "df = sm.evaluate(\n",
    "    sequences={\n",
    "        \"mRFP\": mRFP_sequences,\n",
    "        \"mRFP (permuted)\": mRFP_shuffled,\n",
    "    },\n",
    "    metrics=[\n",
    "        sm.metrics.ID(predictor=cache.model(\"regressor\"), name=\"mRFP-expression\", objective=\"maximize\"),\n",
    "        sm.metrics.Threshold(\n",
    "            predictor=cache.model(\"regressor\"),\n",
    "            name=\"mRFP-expression (>10.5)\",\n",
    "            objective=\"maximize\",\n",
    "            threshold=10.5,\n",
    "        ),\n",
    "        sm.metrics.FKEA(embedder=cache.model(\"RNA-fm\"), bandwidth=2.0),\n",
    "    ],\n",
    ")"
   ]
  },
  {
   "cell_type": "code",
   "execution_count": null,
   "id": "25",
   "metadata": {},
   "outputs": [
    {
     "data": {
      "text/html": [
       "<style type=\"text/css\">\n",
       "#T_c9921 th.col_heading {\n",
       "  text-align: center;\n",
       "}\n",
       "#T_c9921 td {\n",
       "  border-right: 1px solid #ccc;\n",
       "}\n",
       "#T_c9921 th.row_heading {\n",
       "  border-right: 1px solid #ccc;\n",
       "}\n",
       "#T_c9921_row0_col0, #T_c9921_row0_col1, #T_c9921_row1_col2 {\n",
       "  background-color: #68d6bc;\n",
       "  font-weight: bold;\n",
       "}\n",
       "#T_c9921_row0_col2, #T_c9921_row1_col0, #T_c9921_row1_col1 {\n",
       "  text-decoration: underline;\n",
       "}\n",
       "</style>\n",
       "<table id=\"T_c9921\">\n",
       "  <thead>\n",
       "    <tr>\n",
       "      <th class=\"blank level0\" >&nbsp;</th>\n",
       "      <th id=\"T_c9921_level0_col0\" class=\"col_heading level0 col0\" >mRFP-expression↑</th>\n",
       "      <th id=\"T_c9921_level0_col1\" class=\"col_heading level0 col1\" >mRFP-expression (>10.5)↑</th>\n",
       "      <th id=\"T_c9921_level0_col2\" class=\"col_heading level0 col2\" >FKEA↑</th>\n",
       "    </tr>\n",
       "  </thead>\n",
       "  <tbody>\n",
       "    <tr>\n",
       "      <th id=\"T_c9921_level0_row0\" class=\"row_heading level0 row0\" >mRFP</th>\n",
       "      <td id=\"T_c9921_row0_col0\" class=\"data row0 col0\" >10.00±1.07</td>\n",
       "      <td id=\"T_c9921_row0_col1\" class=\"data row0 col1\" >0.34</td>\n",
       "      <td id=\"T_c9921_row0_col2\" class=\"data row0 col2\" >8.93</td>\n",
       "    </tr>\n",
       "    <tr>\n",
       "      <th id=\"T_c9921_level0_row1\" class=\"row_heading level0 row1\" >mRFP (permuted)</th>\n",
       "      <td id=\"T_c9921_row1_col0\" class=\"data row1 col0\" >0.29±6.52</td>\n",
       "      <td id=\"T_c9921_row1_col1\" class=\"data row1 col1\" >0.05</td>\n",
       "      <td id=\"T_c9921_row1_col2\" class=\"data row1 col2\" >58.66</td>\n",
       "    </tr>\n",
       "  </tbody>\n",
       "</table>\n"
      ],
      "text/plain": [
       "<pandas.io.formats.style.Styler at 0x16b87d060>"
      ]
     },
     "execution_count": null,
     "metadata": {},
     "output_type": "execute_result"
    }
   ],
   "source": [
    "sm.show(df)"
   ]
  },
  {
   "cell_type": "markdown",
   "id": "26",
   "metadata": {},
   "source": [
    "Let's save the cache to a file."
   ]
  },
  {
   "cell_type": "code",
   "execution_count": null,
   "id": "27",
   "metadata": {},
   "outputs": [],
   "source": [
    "CACHE_PATH = \"mrna_precomputed.pkl\"\n",
    "\n",
    "with open(CACHE_PATH, \"wb\") as f:\n",
    "    pickle.dump(cache.get(), f)"
   ]
  }
 ],
 "metadata": {
  "kernelspec": {
   "display_name": "Python 3",
   "language": "python",
   "name": "python3"
  },
  "language_info": {
   "codemirror_mode": {
    "name": "ipython",
    "version": 3
   },
   "file_extension": ".py",
   "mimetype": "text/x-python",
   "name": "python",
   "nbconvert_exporter": "python",
   "pygments_lexer": "ipython3",
   "version": "3.10.18"
  }
 },
 "nbformat": 4,
 "nbformat_minor": 5
}
