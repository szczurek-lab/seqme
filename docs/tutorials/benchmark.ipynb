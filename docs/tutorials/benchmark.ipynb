{
 "cells": [
  {
   "cell_type": "markdown",
   "id": "0",
   "metadata": {},
   "source": [
    "# Benchmark\n"
   ]
  },
  {
   "cell_type": "markdown",
   "id": "1",
   "metadata": {},
   "source": [
    "In this notebook, we use pepme to evalulate antimicrobial peptide sequences.\n"
   ]
  },
  {
   "cell_type": "code",
   "execution_count": null,
   "id": "2",
   "metadata": {},
   "outputs": [],
   "source": [
    "import numpy as np\n",
    "\n",
    "from pepme import FeatureCache, compute_metrics, show_table\n",
    "from pepme.metrics import FBD, HV, MMD, Fold, HitRate, Novelty, Precision, Recall, Uniqueness\n",
    "from pepme.models.embeddings import Esm2, Esm2Checkpoint\n",
    "from pepme.models.properties import Charge, Gravy\n",
    "from pepme.utils import random_subset, read_fasta_file, shuffle_sequences"
   ]
  },
  {
   "cell_type": "markdown",
   "id": "3",
   "metadata": {},
   "source": [
    "Let's load the datasets.\n"
   ]
  },
  {
   "cell_type": "code",
   "execution_count": null,
   "id": "4",
   "metadata": {},
   "outputs": [],
   "source": [
    "DATASET_PATHS = {\n",
    "    \"AMP-Diffusion\": \"./data/amp-diffusion.fasta\",\n",
    "    \"AMP-GAN\": \"./data/amp-gan.fasta\",\n",
    "    \"CPL-Diff\": \"./data/cpl-diff.fasta\",\n",
    "    \"HydrAMP\": \"./data/hydramp.fasta\",\n",
    "    \"OmegAMP\": \"./data/omegamp.fasta\",\n",
    "    \"DBAASP\": \"./data/dbaasp.fasta\",\n",
    "    \"UniProt\": \"./data/uniprot/uniprot_8_50_100.fasta\",\n",
    "}"
   ]
  },
  {
   "cell_type": "code",
   "execution_count": null,
   "id": "5",
   "metadata": {},
   "outputs": [],
   "source": [
    "datasets = {name: read_fasta_file(path) for name, path in DATASET_PATHS.items()}"
   ]
  },
  {
   "cell_type": "code",
   "execution_count": null,
   "id": "6",
   "metadata": {},
   "outputs": [
    {
     "name": "stdout",
     "output_type": "stream",
     "text": [
      "AMP-Diffusion: 47671 sequences\n",
      "AMP-GAN: 150000 sequences\n",
      "CPL-Diff: 49985 sequences\n",
      "HydrAMP: 50000 sequences\n",
      "OmegAMP: 149504 sequences\n",
      "DBAASP: 8967 sequences\n",
      "UniProt: 2933310 sequences\n"
     ]
    }
   ],
   "source": [
    "for model_name, sequences in datasets.items():\n",
    "    print(f\"{model_name}: {len(sequences)} sequences\")"
   ]
  },
  {
   "cell_type": "markdown",
   "id": "7",
   "metadata": {},
   "source": [
    "Let's setup the data and models.\n"
   ]
  },
  {
   "cell_type": "code",
   "execution_count": null,
   "id": "8",
   "metadata": {},
   "outputs": [],
   "source": [
    "n_samples = 3_000\n",
    "seed = 42\n",
    "\n",
    "benchmark_datasets = {\n",
    "    name: random_subset(sequences, n_samples=n_samples, seed=seed) if len(sequences) > n_samples else sequences\n",
    "    for name, sequences in datasets.items()\n",
    "}\n",
    "benchmark_datasets[\"DBAASP (shuffled)\"] = shuffle_sequences(benchmark_datasets[\"DBAASP\"])\n",
    "seqs_dbaasp = random_subset(benchmark_datasets.pop(\"DBAASP\"), n_samples=1000, seed=seed)\n",
    "\n",
    "\n",
    "def my_embedder(sequences: list[str]) -> np.ndarray:\n",
    "    lengths = [len(sequence) for sequence in sequences]\n",
    "    counts = [sequence.count(\"K\") for sequence in sequences]\n",
    "    return np.array([lengths, counts]).T\n",
    "\n",
    "\n",
    "cache = FeatureCache(\n",
    "    models={\n",
    "        \"embedder\": my_embedder,\n",
    "        \"esm2\": Esm2(\n",
    "            model_name=Esm2Checkpoint.t6_8M,\n",
    "            batch_size=256,\n",
    "            device=\"cpu\",\n",
    "            verbose=False,\n",
    "        ),\n",
    "        \"gravy\": Gravy(),\n",
    "        \"charge\": Charge(),\n",
    "    }\n",
    ")"
   ]
  },
  {
   "cell_type": "markdown",
   "id": "9",
   "metadata": {},
   "source": [
    "Let's select the metrics.\n"
   ]
  },
  {
   "cell_type": "code",
   "execution_count": null,
   "id": "10",
   "metadata": {},
   "outputs": [],
   "source": [
    "embedder = \"esm2\"  # \"embedder\"\n",
    "\n",
    "\n",
    "def hit_rate_condition_fn(sequences: list[str]) -> np.ndarray:\n",
    "    no_cystine = ~np.array([\"C\" in seq for seq in sequences])\n",
    "    return no_cystine\n",
    "\n",
    "\n",
    "metrics = [\n",
    "    Uniqueness(),\n",
    "    Novelty(reference=seqs_dbaasp, reference_name=\"DBAASP\"),\n",
    "    FBD(reference=seqs_dbaasp, embedder=cache.model(embedder)),\n",
    "    MMD(reference=seqs_dbaasp, embedder=cache.model(embedder)),\n",
    "    Fold(\n",
    "        Precision(neighborhood_size=3, reference=seqs_dbaasp, embedder=cache.model(embedder), strict=True),\n",
    "        split_size=len(seqs_dbaasp),\n",
    "        drop_last=True,\n",
    "    ),\n",
    "    Fold(\n",
    "        Recall(neighborhood_size=3, reference=seqs_dbaasp, embedder=cache.model(embedder), strict=True),\n",
    "        split_size=len(seqs_dbaasp),\n",
    "        drop_last=True,\n",
    "    ),\n",
    "    Fold(\n",
    "        metric=HitRate(condition_fn=hit_rate_condition_fn),\n",
    "        k=5,\n",
    "    ),\n",
    "    Fold(\n",
    "        metric=HV(predictors=[cache.model(\"gravy\"), cache.model(\"charge\")], nadir=np.array([-10, -50])),\n",
    "        k=5,\n",
    "    ),\n",
    "]"
   ]
  },
  {
   "cell_type": "markdown",
   "id": "11",
   "metadata": {},
   "source": [
    "`Fold` computes the metrics multiple using different folds, and aggregate the values (mean and standard deviation).\n",
    "\n",
    "Wrapping `Fold` around the `Precision` and `Recall` metric, removes the sample size bias inherent in these metrics (introduced by k-NN), while still utilizing as many of the available sequences as possible.\n"
   ]
  },
  {
   "cell_type": "code",
   "execution_count": null,
   "id": "12",
   "metadata": {},
   "outputs": [
    {
     "name": "stderr",
     "output_type": "stream",
     "text": [
      "100%|██████████| 56/56 [01:11<00:00,  1.28s/it, data=DBAASP (shuffled), metric=HV-2]            \n"
     ]
    }
   ],
   "source": [
    "df = compute_metrics(benchmark_datasets, metrics)"
   ]
  },
  {
   "cell_type": "markdown",
   "id": "13",
   "metadata": {},
   "source": [
    "Let's look at the results.\n"
   ]
  },
  {
   "cell_type": "code",
   "execution_count": null,
   "id": "14",
   "metadata": {},
   "outputs": [
    {
     "data": {
      "text/html": [
       "<style type=\"text/css\">\n",
       "#T_99fda th.col_heading {\n",
       "  text-align: center;\n",
       "}\n",
       "#T_99fda td {\n",
       "  border-right: 1px solid #ccc;\n",
       "}\n",
       "#T_99fda th.row_heading {\n",
       "  border-right: 1px solid #ccc;\n",
       "}\n",
       "#T_99fda_row0_col1, #T_99fda_row0_col3, #T_99fda_row2_col5, #T_99fda_row2_col6, #T_99fda_row3_col0, #T_99fda_row3_col1, #T_99fda_row4_col2, #T_99fda_row5_col0, #T_99fda_row5_col1, #T_99fda_row6_col4, #T_99fda_row6_col7 {\n",
       "  background-color: #68d6bc;\n",
       "  font-weight: bold;\n",
       "}\n",
       "#T_99fda_row1_col4, #T_99fda_row2_col7, #T_99fda_row4_col5, #T_99fda_row4_col6, #T_99fda_row6_col2, #T_99fda_row6_col3 {\n",
       "  text-decoration: underline;\n",
       "  font-weight: bold;\n",
       "}\n",
       "</style>\n",
       "<table id=\"T_99fda\">\n",
       "  <thead>\n",
       "    <tr>\n",
       "      <th class=\"blank level0\" >&nbsp;</th>\n",
       "      <th id=\"T_99fda_level0_col0\" class=\"col_heading level0 col0\" >Uniqueness↑</th>\n",
       "      <th id=\"T_99fda_level0_col1\" class=\"col_heading level0 col1\" >Novelty (DBAASP)↑</th>\n",
       "      <th id=\"T_99fda_level0_col2\" class=\"col_heading level0 col2\" >FBD↓</th>\n",
       "      <th id=\"T_99fda_level0_col3\" class=\"col_heading level0 col3\" >MMD↓</th>\n",
       "      <th id=\"T_99fda_level0_col4\" class=\"col_heading level0 col4\" >Precision↑</th>\n",
       "      <th id=\"T_99fda_level0_col5\" class=\"col_heading level0 col5\" >Recall↑</th>\n",
       "      <th id=\"T_99fda_level0_col6\" class=\"col_heading level0 col6\" >Hit-rate↑</th>\n",
       "      <th id=\"T_99fda_level0_col7\" class=\"col_heading level0 col7\" >HV-2↑</th>\n",
       "    </tr>\n",
       "  </thead>\n",
       "  <tbody>\n",
       "    <tr>\n",
       "      <th id=\"T_99fda_level0_row0\" class=\"row_heading level0 row0\" >AMP-Diffusion</th>\n",
       "      <td id=\"T_99fda_row0_col0\" class=\"data row0 col0\" >0.973</td>\n",
       "      <td id=\"T_99fda_row0_col1\" class=\"data row0 col1\" >1.000</td>\n",
       "      <td id=\"T_99fda_row0_col2\" class=\"data row0 col2\" >1.18</td>\n",
       "      <td id=\"T_99fda_row0_col3\" class=\"data row0 col3\" >3.24</td>\n",
       "      <td id=\"T_99fda_row0_col4\" class=\"data row0 col4\" >0.75±0.01</td>\n",
       "      <td id=\"T_99fda_row0_col5\" class=\"data row0 col5\" >0.58±0.02</td>\n",
       "      <td id=\"T_99fda_row0_col6\" class=\"data row0 col6\" >0.61±0.03</td>\n",
       "      <td id=\"T_99fda_row0_col7\" class=\"data row0 col7\" >830±65</td>\n",
       "    </tr>\n",
       "    <tr>\n",
       "      <th id=\"T_99fda_level0_row1\" class=\"row_heading level0 row1\" >AMP-GAN</th>\n",
       "      <td id=\"T_99fda_row1_col0\" class=\"data row1 col0\" >1.000</td>\n",
       "      <td id=\"T_99fda_row1_col1\" class=\"data row1 col1\" >1.000</td>\n",
       "      <td id=\"T_99fda_row1_col2\" class=\"data row1 col2\" >3.51</td>\n",
       "      <td id=\"T_99fda_row1_col3\" class=\"data row1 col3\" >11.64</td>\n",
       "      <td id=\"T_99fda_row1_col4\" class=\"data row1 col4\" >0.86±0.00</td>\n",
       "      <td id=\"T_99fda_row1_col5\" class=\"data row1 col5\" >0.27±0.01</td>\n",
       "      <td id=\"T_99fda_row1_col6\" class=\"data row1 col6\" >0.52±0.02</td>\n",
       "      <td id=\"T_99fda_row1_col7\" class=\"data row1 col7\" >776±33</td>\n",
       "    </tr>\n",
       "    <tr>\n",
       "      <th id=\"T_99fda_level0_row2\" class=\"row_heading level0 row2\" >CPL-Diff</th>\n",
       "      <td id=\"T_99fda_row2_col0\" class=\"data row2 col0\" >0.990</td>\n",
       "      <td id=\"T_99fda_row2_col1\" class=\"data row2 col1\" >1.000</td>\n",
       "      <td id=\"T_99fda_row2_col2\" class=\"data row2 col2\" >1.35</td>\n",
       "      <td id=\"T_99fda_row2_col3\" class=\"data row2 col3\" >5.41</td>\n",
       "      <td id=\"T_99fda_row2_col4\" class=\"data row2 col4\" >0.73±0.01</td>\n",
       "      <td id=\"T_99fda_row2_col5\" class=\"data row2 col5\" >0.80±0.01</td>\n",
       "      <td id=\"T_99fda_row2_col6\" class=\"data row2 col6\" >0.72±0.02</td>\n",
       "      <td id=\"T_99fda_row2_col7\" class=\"data row2 col7\" >887±33</td>\n",
       "    </tr>\n",
       "    <tr>\n",
       "      <th id=\"T_99fda_level0_row3\" class=\"row_heading level0 row3\" >HydrAMP</th>\n",
       "      <td id=\"T_99fda_row3_col0\" class=\"data row3 col0\" >1.000</td>\n",
       "      <td id=\"T_99fda_row3_col1\" class=\"data row3 col1\" >1.000</td>\n",
       "      <td id=\"T_99fda_row3_col2\" class=\"data row3 col2\" >4.18</td>\n",
       "      <td id=\"T_99fda_row3_col3\" class=\"data row3 col3\" >16.82</td>\n",
       "      <td id=\"T_99fda_row3_col4\" class=\"data row3 col4\" >0.60±0.00</td>\n",
       "      <td id=\"T_99fda_row3_col5\" class=\"data row3 col5\" >0.45±0.03</td>\n",
       "      <td id=\"T_99fda_row3_col6\" class=\"data row3 col6\" >0.60±0.01</td>\n",
       "      <td id=\"T_99fda_row3_col7\" class=\"data row3 col7\" >785±19</td>\n",
       "    </tr>\n",
       "    <tr>\n",
       "      <th id=\"T_99fda_level0_row4\" class=\"row_heading level0 row4\" >OmegAMP</th>\n",
       "      <td id=\"T_99fda_row4_col0\" class=\"data row4 col0\" >0.982</td>\n",
       "      <td id=\"T_99fda_row4_col1\" class=\"data row4 col1\" >0.998</td>\n",
       "      <td id=\"T_99fda_row4_col2\" class=\"data row4 col2\" >0.93</td>\n",
       "      <td id=\"T_99fda_row4_col3\" class=\"data row4 col3\" >4.11</td>\n",
       "      <td id=\"T_99fda_row4_col4\" class=\"data row4 col4\" >0.85±0.01</td>\n",
       "      <td id=\"T_99fda_row4_col5\" class=\"data row4 col5\" >0.77±0.02</td>\n",
       "      <td id=\"T_99fda_row4_col6\" class=\"data row4 col6\" >0.69±0.02</td>\n",
       "      <td id=\"T_99fda_row4_col7\" class=\"data row4 col7\" >823±32</td>\n",
       "    </tr>\n",
       "    <tr>\n",
       "      <th id=\"T_99fda_level0_row5\" class=\"row_heading level0 row5\" >UniProt</th>\n",
       "      <td id=\"T_99fda_row5_col0\" class=\"data row5 col0\" >1.000</td>\n",
       "      <td id=\"T_99fda_row5_col1\" class=\"data row5 col1\" >1.000</td>\n",
       "      <td id=\"T_99fda_row5_col2\" class=\"data row5 col2\" >3.54</td>\n",
       "      <td id=\"T_99fda_row5_col3\" class=\"data row5 col3\" >12.29</td>\n",
       "      <td id=\"T_99fda_row5_col4\" class=\"data row5 col4\" >0.71±0.01</td>\n",
       "      <td id=\"T_99fda_row5_col5\" class=\"data row5 col5\" >0.47±0.07</td>\n",
       "      <td id=\"T_99fda_row5_col6\" class=\"data row5 col6\" >0.56±0.01</td>\n",
       "      <td id=\"T_99fda_row5_col7\" class=\"data row5 col7\" >814±26</td>\n",
       "    </tr>\n",
       "    <tr>\n",
       "      <th id=\"T_99fda_level0_row6\" class=\"row_heading level0 row6\" >DBAASP (shuffled)</th>\n",
       "      <td id=\"T_99fda_row6_col0\" class=\"data row6 col0\" >0.999</td>\n",
       "      <td id=\"T_99fda_row6_col1\" class=\"data row6 col1\" >0.998</td>\n",
       "      <td id=\"T_99fda_row6_col2\" class=\"data row6 col2\" >1.09</td>\n",
       "      <td id=\"T_99fda_row6_col3\" class=\"data row6 col3\" >3.95</td>\n",
       "      <td id=\"T_99fda_row6_col4\" class=\"data row6 col4\" >0.88±0.00</td>\n",
       "      <td id=\"T_99fda_row6_col5\" class=\"data row6 col5\" >0.75±0.02</td>\n",
       "      <td id=\"T_99fda_row6_col6\" class=\"data row6 col6\" >0.66±0.01</td>\n",
       "      <td id=\"T_99fda_row6_col7\" class=\"data row6 col7\" >940±72</td>\n",
       "    </tr>\n",
       "  </tbody>\n",
       "</table>\n"
      ],
      "text/plain": [
       "<pandas.io.formats.style.Styler at 0x108109e40>"
      ]
     },
     "execution_count": null,
     "metadata": {},
     "output_type": "execute_result"
    }
   ],
   "source": [
    "show_table(df, decimals=[3, 3, 2, 2, 2, 2, 2, 0])"
   ]
  }
 ],
 "metadata": {
  "kernelspec": {
   "display_name": ".venv",
   "language": "python",
   "name": "python3"
  },
  "language_info": {
   "codemirror_mode": {
    "name": "ipython",
    "version": 3
   },
   "file_extension": ".py",
   "mimetype": "text/x-python",
   "name": "python",
   "nbconvert_exporter": "python",
   "pygments_lexer": "ipython3",
   "version": "3.10.18"
  }
 },
 "nbformat": 4,
 "nbformat_minor": 5
}
