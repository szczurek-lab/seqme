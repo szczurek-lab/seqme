{
 "cells": [
  {
   "cell_type": "markdown",
   "id": "0",
   "metadata": {},
   "source": [
    "# Benchmark\n"
   ]
  },
  {
   "cell_type": "markdown",
   "id": "1",
   "metadata": {},
   "source": [
    "In this notebook, we use pepme to evalulate antimicrobial peptide sequences.\n"
   ]
  },
  {
   "cell_type": "code",
   "execution_count": null,
   "id": "2",
   "metadata": {},
   "outputs": [],
   "source": [
    "import numpy as np\n",
    "\n",
    "from pepme import FeatureCache, compute_metrics, show_table\n",
    "from pepme.metrics import FBD, ID, MMD, AuthPct, ConformityScore, Fold, Novelty, Precision, Recall, Uniqueness\n",
    "from pepme.models import Charge, Esm2, Esm2Checkpoint, Gravy\n",
    "from pepme.utils import random_subset, read_fasta_file, shuffle_sequences"
   ]
  },
  {
   "cell_type": "markdown",
   "id": "3",
   "metadata": {},
   "source": [
    "Let's load the datasets.\n"
   ]
  },
  {
   "cell_type": "code",
   "execution_count": null,
   "id": "4",
   "metadata": {},
   "outputs": [],
   "source": [
    "DATASET_PATHS = {\n",
    "    # Databases\n",
    "    \"UniProt\": \"./data/uniprot/uniprot_8_50_100.fasta\",\n",
    "    \"AMP-data\": \"./data/amps.fasta\",\n",
    "    \"AMPs\": \"./data/amps_hq.fasta\",\n",
    "    \"DBAASP\": \"./data/dbaasp.fasta\",\n",
    "    # Models\n",
    "    \"AMP-Diffusion\": \"./data/amp-diffusion.fasta\",\n",
    "    \"AMP-GAN\": \"./data/amp-gan.fasta\",\n",
    "    \"CPL-Diff\": \"./data/cpl-diff.fasta\",\n",
    "    \"HydrAMP\": \"./data/hydramp.fasta\",\n",
    "    \"OmegAMP\": \"./data/omegamp.fasta\",\n",
    "}"
   ]
  },
  {
   "cell_type": "code",
   "execution_count": null,
   "id": "5",
   "metadata": {},
   "outputs": [],
   "source": [
    "datasets = {name: read_fasta_file(path) for name, path in DATASET_PATHS.items()}"
   ]
  },
  {
   "cell_type": "code",
   "execution_count": null,
   "id": "6",
   "metadata": {},
   "outputs": [
    {
     "name": "stdout",
     "output_type": "stream",
     "text": [
      "UniProt: 2933310 sequences\n",
      "AMP-data: 37116 sequences\n",
      "AMPs: 7204 sequences\n",
      "DBAASP: 8967 sequences\n",
      "AMP-Diffusion: 47671 sequences\n",
      "AMP-GAN: 150000 sequences\n",
      "CPL-Diff: 49985 sequences\n",
      "HydrAMP: 50000 sequences\n",
      "OmegAMP: 149504 sequences\n"
     ]
    }
   ],
   "source": [
    "for model_name, sequences in datasets.items():\n",
    "    print(f\"{model_name}: {len(sequences)} sequences\")"
   ]
  },
  {
   "cell_type": "markdown",
   "id": "7",
   "metadata": {},
   "source": [
    "Let's setup the data and models.\n"
   ]
  },
  {
   "cell_type": "code",
   "execution_count": null,
   "id": "8",
   "metadata": {},
   "outputs": [],
   "source": [
    "sources = [\n",
    "    \"AMP-Diffusion\",\n",
    "    \"AMP-GAN\",\n",
    "    \"CPL-Diff\",\n",
    "    \"HydrAMP\",\n",
    "    \"OmegAMP\",\n",
    "    \"UniProt\",\n",
    "]\n",
    "\n",
    "n_samples = 40_000  # 3_000\n",
    "seed = 42\n",
    "\n",
    "benchmark_datasets = {\n",
    "    source: random_subset(datasets[source], n_samples=n_samples, seed=seed)\n",
    "    if len(sequences) > n_samples\n",
    "    else datasets[source]\n",
    "    for source in sources\n",
    "}\n",
    "# benchmark_datasets[\"DBAASP (shuffled)\"] = shuffle_sequences(datasets[\"DBAASP\"], seed=seed)\n",
    "\n",
    "seqs_amps = datasets[\"AMPs\"]\n",
    "seqs_train = datasets[\"AMP-data\"]"
   ]
  },
  {
   "cell_type": "code",
   "execution_count": null,
   "id": "9",
   "metadata": {},
   "outputs": [],
   "source": [
    "def my_embedder(sequences: list[str]) -> np.ndarray:\n",
    "    lengths = [len(sequence) for sequence in sequences]\n",
    "    counts = [sequence.count(\"K\") for sequence in sequences]\n",
    "    return np.array([lengths, counts]).T\n",
    "\n",
    "\n",
    "esm2 = Esm2(\n",
    "    model_name=Esm2Checkpoint.t6_8M,\n",
    "    batch_size=256,\n",
    "    device=\"cpu\",\n",
    "    verbose=False,\n",
    ")\n",
    "\n",
    "cache = FeatureCache(\n",
    "    models={\n",
    "        \"embedder\": my_embedder,\n",
    "        \"esm2-embed\": esm2.embed,\n",
    "        \"esm2-perplexity\": lambda seqs: esm2.compute_pseudo_perplexity(seqs, mask_size=3),\n",
    "        \"gravy\": Gravy(),\n",
    "        \"charge\": Charge(),\n",
    "    }\n",
    ")"
   ]
  },
  {
   "cell_type": "markdown",
   "id": "10",
   "metadata": {},
   "source": [
    "Let's select the metrics.\n"
   ]
  },
  {
   "cell_type": "code",
   "execution_count": null,
   "id": "11",
   "metadata": {},
   "outputs": [],
   "source": [
    "embedder = \"embedder\"  # \"embedder\"\n",
    "\n",
    "\n",
    "metrics = [\n",
    "    Uniqueness(),\n",
    "    Novelty(reference=seqs_train),\n",
    "    FBD(reference=seqs_amps, embedder=cache.model(embedder)),\n",
    "    MMD(reference=seqs_amps, embedder=cache.model(embedder)),\n",
    "    Fold(\n",
    "        Precision(neighborhood_size=3, reference=seqs_train, embedder=cache.model(embedder), strict=True),\n",
    "        split_size=len(seqs_train),\n",
    "        drop_last=True,\n",
    "    ),\n",
    "    Fold(\n",
    "        Recall(neighborhood_size=3, reference=seqs_train, embedder=cache.model(embedder), strict=True),\n",
    "        split_size=len(seqs_train),\n",
    "        drop_last=True,\n",
    "    ),\n",
    "    # ID(predictor=cache.model(\"esm2-perplexity\"), name=\"Perplexity\", objective=\"minimize\"),\n",
    "    # @TODO: ID amplify\n",
    "    # @TODO: ID amPEPpy\n",
    "    # @TODO: ID y_mic\n",
    "    Fold(\n",
    "        AuthPct(train_set=seqs_train, embedder=cache.model(embedder), strict=True),\n",
    "        split_size=len(seqs_train),\n",
    "        drop_last=True,\n",
    "    ),\n",
    "    # @TODO: FLD (seqs_train)\n",
    "    ConformityScore(reference=seqs_amps, descriptors=[cache.model(\"gravy\"), cache.model(\"charge\")]),\n",
    "]"
   ]
  },
  {
   "cell_type": "markdown",
   "id": "12",
   "metadata": {},
   "source": [
    "`Fold` computes the metrics multiple using different folds, and aggregate the values (mean and standard deviation).\n",
    "\n",
    "Wrapping `Fold` around the `Precision` and `Recall` metric, removes the sample size bias inherent in these metrics (introduced by k-NN), while still utilizing as many of the available sequences as possible.\n"
   ]
  },
  {
   "cell_type": "code",
   "execution_count": null,
   "id": "13",
   "metadata": {},
   "outputs": [
    {
     "name": "stderr",
     "output_type": "stream",
     "text": [
      "100%|██████████| 48/48 [05:00<00:00,  6.26s/it, data=UniProt, metric=Conformity score]     \n"
     ]
    }
   ],
   "source": [
    "df = compute_metrics(benchmark_datasets, metrics)"
   ]
  },
  {
   "cell_type": "markdown",
   "id": "14",
   "metadata": {},
   "source": [
    "Let's look at the results.\n"
   ]
  },
  {
   "cell_type": "code",
   "execution_count": null,
   "id": "15",
   "metadata": {},
   "outputs": [
    {
     "data": {
      "text/html": [
       "<style type=\"text/css\">\n",
       "#T_43240 th.col_heading {\n",
       "  text-align: center;\n",
       "}\n",
       "#T_43240 td {\n",
       "  border-right: 1px solid #ccc;\n",
       "}\n",
       "#T_43240 th.row_heading {\n",
       "  border-right: 1px solid #ccc;\n",
       "}\n",
       "#T_43240_row0_col4, #T_43240_row1_col1, #T_43240_row1_col2, #T_43240_row1_col7, #T_43240_row2_col3, #T_43240_row2_col5, #T_43240_row3_col1, #T_43240_row4_col5, #T_43240_row4_col6, #T_43240_row5_col0 {\n",
       "  background-color: #68d6bc;\n",
       "  font-weight: bold;\n",
       "}\n",
       "#T_43240_row2_col2, #T_43240_row2_col6, #T_43240_row2_col7, #T_43240_row3_col0, #T_43240_row3_col4, #T_43240_row4_col3 {\n",
       "  text-decoration: underline;\n",
       "  font-weight: bold;\n",
       "}\n",
       "</style>\n",
       "<table id=\"T_43240\">\n",
       "  <thead>\n",
       "    <tr>\n",
       "      <th class=\"blank level0\" >&nbsp;</th>\n",
       "      <th id=\"T_43240_level0_col0\" class=\"col_heading level0 col0\" >Uniqueness↑</th>\n",
       "      <th id=\"T_43240_level0_col1\" class=\"col_heading level0 col1\" >Novelty↑</th>\n",
       "      <th id=\"T_43240_level0_col2\" class=\"col_heading level0 col2\" >FBD↓</th>\n",
       "      <th id=\"T_43240_level0_col3\" class=\"col_heading level0 col3\" >MMD↓</th>\n",
       "      <th id=\"T_43240_level0_col4\" class=\"col_heading level0 col4\" >Precision↑</th>\n",
       "      <th id=\"T_43240_level0_col5\" class=\"col_heading level0 col5\" >Recall↑</th>\n",
       "      <th id=\"T_43240_level0_col6\" class=\"col_heading level0 col6\" >Authenticity↑</th>\n",
       "      <th id=\"T_43240_level0_col7\" class=\"col_heading level0 col7\" >Conformity score↑</th>\n",
       "    </tr>\n",
       "  </thead>\n",
       "  <tbody>\n",
       "    <tr>\n",
       "      <th id=\"T_43240_level0_row0\" class=\"row_heading level0 row0\" >AMP-Diffusion</th>\n",
       "      <td id=\"T_43240_row0_col0\" class=\"data row0 col0\" >0.91</td>\n",
       "      <td id=\"T_43240_row0_col1\" class=\"data row0 col1\" >1.00</td>\n",
       "      <td id=\"T_43240_row0_col2\" class=\"data row0 col2\" >56.24</td>\n",
       "      <td id=\"T_43240_row0_col3\" class=\"data row0 col3\" >199.98</td>\n",
       "      <td id=\"T_43240_row0_col4\" class=\"data row0 col4\" >1.00</td>\n",
       "      <td id=\"T_43240_row0_col5\" class=\"data row0 col5\" >0.62</td>\n",
       "      <td id=\"T_43240_row0_col6\" class=\"data row0 col6\" >0.01</td>\n",
       "      <td id=\"T_43240_row0_col7\" class=\"data row0 col7\" >0.32±0.00</td>\n",
       "    </tr>\n",
       "    <tr>\n",
       "      <th id=\"T_43240_level0_row1\" class=\"row_heading level0 row1\" >AMP-GAN</th>\n",
       "      <td id=\"T_43240_row1_col0\" class=\"data row1 col0\" >1.00</td>\n",
       "      <td id=\"T_43240_row1_col1\" class=\"data row1 col1\" >1.00</td>\n",
       "      <td id=\"T_43240_row1_col2\" class=\"data row1 col2\" >3.16</td>\n",
       "      <td id=\"T_43240_row1_col3\" class=\"data row1 col3\" >45.11</td>\n",
       "      <td id=\"T_43240_row1_col4\" class=\"data row1 col4\" >0.95</td>\n",
       "      <td id=\"T_43240_row1_col5\" class=\"data row1 col5\" >0.86</td>\n",
       "      <td id=\"T_43240_row1_col6\" class=\"data row1 col6\" >0.05</td>\n",
       "      <td id=\"T_43240_row1_col7\" class=\"data row1 col7\" >0.43±0.00</td>\n",
       "    </tr>\n",
       "    <tr>\n",
       "      <th id=\"T_43240_level0_row2\" class=\"row_heading level0 row2\" >CPL-Diff</th>\n",
       "      <td id=\"T_43240_row2_col0\" class=\"data row2 col0\" >0.98</td>\n",
       "      <td id=\"T_43240_row2_col1\" class=\"data row2 col1\" >0.99</td>\n",
       "      <td id=\"T_43240_row2_col2\" class=\"data row2 col2\" >8.04</td>\n",
       "      <td id=\"T_43240_row2_col3\" class=\"data row2 col3\" >13.12</td>\n",
       "      <td id=\"T_43240_row2_col4\" class=\"data row2 col4\" >0.92</td>\n",
       "      <td id=\"T_43240_row2_col5\" class=\"data row2 col5\" >1.00</td>\n",
       "      <td id=\"T_43240_row2_col6\" class=\"data row2 col6\" >0.08</td>\n",
       "      <td id=\"T_43240_row2_col7\" class=\"data row2 col7\" >0.37±0.00</td>\n",
       "    </tr>\n",
       "    <tr>\n",
       "      <th id=\"T_43240_level0_row3\" class=\"row_heading level0 row3\" >HydrAMP</th>\n",
       "      <td id=\"T_43240_row3_col0\" class=\"data row3 col0\" >1.00</td>\n",
       "      <td id=\"T_43240_row3_col1\" class=\"data row3 col1\" >1.00</td>\n",
       "      <td id=\"T_43240_row3_col2\" class=\"data row3 col2\" >16.70</td>\n",
       "      <td id=\"T_43240_row3_col3\" class=\"data row3 col3\" >37.58</td>\n",
       "      <td id=\"T_43240_row3_col4\" class=\"data row3 col4\" >0.99</td>\n",
       "      <td id=\"T_43240_row3_col5\" class=\"data row3 col5\" >0.77</td>\n",
       "      <td id=\"T_43240_row3_col6\" class=\"data row3 col6\" >0.01</td>\n",
       "      <td id=\"T_43240_row3_col7\" class=\"data row3 col7\" >0.26±0.00</td>\n",
       "    </tr>\n",
       "    <tr>\n",
       "      <th id=\"T_43240_level0_row4\" class=\"row_heading level0 row4\" >OmegAMP</th>\n",
       "      <td id=\"T_43240_row4_col0\" class=\"data row4 col0\" >0.95</td>\n",
       "      <td id=\"T_43240_row4_col1\" class=\"data row4 col1\" >0.91</td>\n",
       "      <td id=\"T_43240_row4_col2\" class=\"data row4 col2\" >20.21</td>\n",
       "      <td id=\"T_43240_row4_col3\" class=\"data row4 col3\" >26.00</td>\n",
       "      <td id=\"T_43240_row4_col4\" class=\"data row4 col4\" >0.87</td>\n",
       "      <td id=\"T_43240_row4_col5\" class=\"data row4 col5\" >1.00</td>\n",
       "      <td id=\"T_43240_row4_col6\" class=\"data row4 col6\" >0.13</td>\n",
       "      <td id=\"T_43240_row4_col7\" class=\"data row4 col7\" >0.33±0.00</td>\n",
       "    </tr>\n",
       "    <tr>\n",
       "      <th id=\"T_43240_level0_row5\" class=\"row_heading level0 row5\" >UniProt</th>\n",
       "      <td id=\"T_43240_row5_col0\" class=\"data row5 col0\" >1.00</td>\n",
       "      <td id=\"T_43240_row5_col1\" class=\"data row5 col1\" >1.00</td>\n",
       "      <td id=\"T_43240_row5_col2\" class=\"data row5 col2\" >358.93</td>\n",
       "      <td id=\"T_43240_row5_col3\" class=\"data row5 col3\" >741.10</td>\n",
       "      <td id=\"T_43240_row5_col4\" class=\"data row5 col4\" >0.99</td>\n",
       "      <td id=\"T_43240_row5_col5\" class=\"data row5 col5\" >0.99</td>\n",
       "      <td id=\"T_43240_row5_col6\" class=\"data row5 col6\" >0.02</td>\n",
       "      <td id=\"T_43240_row5_col7\" class=\"data row5 col7\" >0.22±0.00</td>\n",
       "    </tr>\n",
       "  </tbody>\n",
       "</table>\n"
      ],
      "text/plain": [
       "<pandas.io.formats.style.Styler at 0x31b4a6010>"
      ]
     },
     "execution_count": null,
     "metadata": {},
     "output_type": "execute_result"
    }
   ],
   "source": [
    "show_table(df, decimals=[2, 2, 2, 2, 2, 2, 2, 2])"
   ]
  }
 ],
 "metadata": {
  "kernelspec": {
   "display_name": "Python 3",
   "language": "python",
   "name": "python3"
  },
  "language_info": {
   "codemirror_mode": {
    "name": "ipython",
    "version": 3
   },
   "file_extension": ".py",
   "mimetype": "text/x-python",
   "name": "python",
   "nbconvert_exporter": "python",
   "pygments_lexer": "ipython3",
   "version": "3.11.13"
  }
 },
 "nbformat": 4,
 "nbformat_minor": 5
}
