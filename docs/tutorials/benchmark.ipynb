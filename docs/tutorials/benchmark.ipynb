{
 "cells": [
  {
   "cell_type": "markdown",
   "id": "0",
   "metadata": {},
   "source": [
    "# Benchmark\n"
   ]
  },
  {
   "cell_type": "markdown",
   "id": "1",
   "metadata": {},
   "source": [
    "In this notebook, we use pepme to evalulate antimicrobial peptide sequences.\n"
   ]
  },
  {
   "cell_type": "code",
   "execution_count": null,
   "id": "2",
   "metadata": {},
   "outputs": [],
   "source": [
    "import numpy as np\n",
    "\n",
    "from pepme import FeatureCache, compute_metrics, show_table\n",
    "from pepme.metrics import FBD, HV, ID, MMD, Fold, HitRate, Novelty, Precision, Recall, Uniqueness\n",
    "from pepme.models import Charge, Esm2, Esm2Checkpoint, Gravy\n",
    "from pepme.utils import random_subset, read_fasta_file, shuffle_sequences"
   ]
  },
  {
   "cell_type": "markdown",
   "id": "3",
   "metadata": {},
   "source": [
    "Let's load the datasets.\n"
   ]
  },
  {
   "cell_type": "code",
   "execution_count": null,
   "id": "4",
   "metadata": {},
   "outputs": [],
   "source": [
    "DATASET_PATHS = {\n",
    "    \"AMP-Diffusion\": \"./data/amp-diffusion.fasta\",\n",
    "    \"AMP-GAN\": \"./data/amp-gan.fasta\",\n",
    "    \"CPL-Diff\": \"./data/cpl-diff.fasta\",\n",
    "    \"HydrAMP\": \"./data/hydramp.fasta\",\n",
    "    \"OmegAMP\": \"./data/omegamp.fasta\",\n",
    "    \"DBAASP\": \"./data/dbaasp.fasta\",\n",
    "    \"UniProt\": \"./data/uniprot/uniprot_8_50_100.fasta\",\n",
    "    \"AMPs (E. coli)\": \"./data/amps_ecoli.fasta\",\n",
    "    \"AMPs\": \"./data/amps.fasta\",\n",
    "}"
   ]
  },
  {
   "cell_type": "code",
   "execution_count": null,
   "id": "5",
   "metadata": {},
   "outputs": [],
   "source": [
    "datasets = {name: read_fasta_file(path) for name, path in DATASET_PATHS.items()}"
   ]
  },
  {
   "cell_type": "code",
   "execution_count": null,
   "id": "6",
   "metadata": {},
   "outputs": [
    {
     "name": "stdout",
     "output_type": "stream",
     "text": [
      "AMP-Diffusion: 47671 sequences\n",
      "AMP-GAN: 150000 sequences\n",
      "CPL-Diff: 49985 sequences\n",
      "HydrAMP: 50000 sequences\n",
      "OmegAMP: 149504 sequences\n",
      "DBAASP: 8967 sequences\n",
      "UniProt: 2933310 sequences\n",
      "AMPs (E. coli): 4928 sequences\n",
      "AMPs: 7204 sequences\n"
     ]
    }
   ],
   "source": [
    "for model_name, sequences in datasets.items():\n",
    "    print(f\"{model_name}: {len(sequences)} sequences\")"
   ]
  },
  {
   "cell_type": "markdown",
   "id": "7",
   "metadata": {},
   "source": [
    "Let's setup the data and models.\n"
   ]
  },
  {
   "cell_type": "code",
   "execution_count": null,
   "id": "8",
   "metadata": {},
   "outputs": [],
   "source": [
    "n_samples = 100  # 3_000\n",
    "seed = 42\n",
    "\n",
    "benchmark_datasets = {\n",
    "    name: random_subset(sequences, n_samples=n_samples, seed=seed) if len(sequences) > n_samples else sequences\n",
    "    for name, sequences in datasets.items()\n",
    "}\n",
    "benchmark_datasets[\"DBAASP (shuffled)\"] = shuffle_sequences(benchmark_datasets[\"DBAASP\"])\n",
    "\n",
    "# seqs_amps = random_subset(benchmark_datasets.pop(\"AMPs\"), n_samples=1000, seed=seed)\n",
    "seqs_amps = benchmark_datasets[\"AMPs\"]\n",
    "\n",
    "\n",
    "def my_embedder(sequences: list[str]) -> np.ndarray:\n",
    "    lengths = [len(sequence) for sequence in sequences]\n",
    "    counts = [sequence.count(\"K\") for sequence in sequences]\n",
    "    return np.array([lengths, counts]).T\n",
    "\n",
    "\n",
    "esm2 = Esm2(\n",
    "    model_name=Esm2Checkpoint.t6_8M,\n",
    "    batch_size=256,\n",
    "    device=\"cpu\",\n",
    "    verbose=False,\n",
    ")\n",
    "\n",
    "cache = FeatureCache(\n",
    "    models={\n",
    "        \"embedder\": my_embedder,\n",
    "        \"esm2-embed\": esm2.embed,\n",
    "        \"esm2-perplexity\": lambda seqs: esm2.compute_pseudo_perplexity(seqs, mask_size=3),\n",
    "        \"gravy\": Gravy(),\n",
    "        \"charge\": Charge(),\n",
    "    }\n",
    ")"
   ]
  },
  {
   "cell_type": "markdown",
   "id": "9",
   "metadata": {},
   "source": [
    "Let's select the metrics.\n"
   ]
  },
  {
   "cell_type": "code",
   "execution_count": null,
   "id": "10",
   "metadata": {},
   "outputs": [],
   "source": [
    "embedder = \"esm2-embed\"  # \"embedder\"\n",
    "\n",
    "\n",
    "def hit_rate_condition_fn(sequences: list[str]) -> np.ndarray:\n",
    "    no_cystine = ~np.array([\"C\" in seq for seq in sequences])\n",
    "    return no_cystine\n",
    "\n",
    "\n",
    "metrics = [\n",
    "    Uniqueness(),\n",
    "    Novelty(reference=seqs_amps),\n",
    "    FBD(reference=seqs_amps, embedder=cache.model(embedder)),\n",
    "    MMD(reference=seqs_amps, embedder=cache.model(embedder)),\n",
    "    Fold(\n",
    "        Precision(neighborhood_size=3, reference=seqs_amps, embedder=cache.model(embedder), strict=True),\n",
    "        split_size=len(seqs_amps),\n",
    "        drop_last=True,\n",
    "    ),\n",
    "    Fold(\n",
    "        Recall(neighborhood_size=3, reference=seqs_amps, embedder=cache.model(embedder), strict=True),\n",
    "        split_size=len(seqs_amps),\n",
    "        drop_last=True,\n",
    "    ),\n",
    "    Fold(\n",
    "        metric=HitRate(condition_fn=hit_rate_condition_fn),\n",
    "        k=5,\n",
    "    ),\n",
    "    Fold(\n",
    "        metric=HV(predictors=[cache.model(\"gravy\"), cache.model(\"charge\")], nadir=np.array([-10, -50])),\n",
    "        k=5,\n",
    "    ),\n",
    "    ID(predictor=cache.model(\"esm2-perplexity\"), name=\"Perplexity\", objective=\"minimize\"),\n",
    "]"
   ]
  },
  {
   "cell_type": "markdown",
   "id": "11",
   "metadata": {},
   "source": [
    "`Fold` computes the metrics multiple using different folds, and aggregate the values (mean and standard deviation).\n",
    "\n",
    "Wrapping `Fold` around the `Precision` and `Recall` metric, removes the sample size bias inherent in these metrics (introduced by k-NN), while still utilizing as many of the available sequences as possible.\n"
   ]
  },
  {
   "cell_type": "code",
   "execution_count": null,
   "id": "12",
   "metadata": {},
   "outputs": [
    {
     "name": "stderr",
     "output_type": "stream",
     "text": [
      "100%|██████████| 90/90 [01:25<00:00,  1.05it/s, data=DBAASP (shuffled), metric=Perplexity]\n"
     ]
    }
   ],
   "source": [
    "df = compute_metrics(benchmark_datasets, metrics)"
   ]
  },
  {
   "cell_type": "markdown",
   "id": "13",
   "metadata": {},
   "source": [
    "Let's look at the results.\n"
   ]
  },
  {
   "cell_type": "code",
   "execution_count": null,
   "id": "14",
   "metadata": {},
   "outputs": [
    {
     "data": {
      "text/html": [
       "<style type=\"text/css\">\n",
       "#T_15b74 th.col_heading {\n",
       "  text-align: center;\n",
       "}\n",
       "#T_15b74 td {\n",
       "  border-right: 1px solid #ccc;\n",
       "}\n",
       "#T_15b74 th.row_heading {\n",
       "  border-right: 1px solid #ccc;\n",
       "}\n",
       "#T_15b74_row0_col1, #T_15b74_row1_col0, #T_15b74_row1_col1, #T_15b74_row2_col0, #T_15b74_row2_col1, #T_15b74_row2_col7, #T_15b74_row2_col8, #T_15b74_row3_col0, #T_15b74_row3_col1, #T_15b74_row4_col0, #T_15b74_row4_col1, #T_15b74_row5_col0, #T_15b74_row5_col1, #T_15b74_row6_col0, #T_15b74_row6_col1, #T_15b74_row7_col0, #T_15b74_row7_col1, #T_15b74_row8_col0, #T_15b74_row8_col2, #T_15b74_row8_col3, #T_15b74_row8_col4, #T_15b74_row8_col5, #T_15b74_row8_col6, #T_15b74_row9_col0, #T_15b74_row9_col1 {\n",
       "  background-color: #68d6bc;\n",
       "  font-weight: bold;\n",
       "}\n",
       "#T_15b74_row0_col7, #T_15b74_row1_col4, #T_15b74_row5_col5, #T_15b74_row7_col2, #T_15b74_row7_col3, #T_15b74_row7_col6, #T_15b74_row7_col8 {\n",
       "  text-decoration: underline;\n",
       "  font-weight: bold;\n",
       "}\n",
       "</style>\n",
       "<table id=\"T_15b74\">\n",
       "  <thead>\n",
       "    <tr>\n",
       "      <th class=\"blank level0\" >&nbsp;</th>\n",
       "      <th id=\"T_15b74_level0_col0\" class=\"col_heading level0 col0\" >Uniqueness↑</th>\n",
       "      <th id=\"T_15b74_level0_col1\" class=\"col_heading level0 col1\" >Novelty↑</th>\n",
       "      <th id=\"T_15b74_level0_col2\" class=\"col_heading level0 col2\" >FBD↓</th>\n",
       "      <th id=\"T_15b74_level0_col3\" class=\"col_heading level0 col3\" >MMD↓</th>\n",
       "      <th id=\"T_15b74_level0_col4\" class=\"col_heading level0 col4\" >Precision↑</th>\n",
       "      <th id=\"T_15b74_level0_col5\" class=\"col_heading level0 col5\" >Recall↑</th>\n",
       "      <th id=\"T_15b74_level0_col6\" class=\"col_heading level0 col6\" >Hit-rate↑</th>\n",
       "      <th id=\"T_15b74_level0_col7\" class=\"col_heading level0 col7\" >HV-2↑</th>\n",
       "      <th id=\"T_15b74_level0_col8\" class=\"col_heading level0 col8\" >Perplexity↓</th>\n",
       "    </tr>\n",
       "  </thead>\n",
       "  <tbody>\n",
       "    <tr>\n",
       "      <th id=\"T_15b74_level0_row0\" class=\"row_heading level0 row0\" >AMP-Diffusion</th>\n",
       "      <td id=\"T_15b74_row0_col0\" class=\"data row0 col0\" >0.990</td>\n",
       "      <td id=\"T_15b74_row0_col1\" class=\"data row0 col1\" >1.000</td>\n",
       "      <td id=\"T_15b74_row0_col2\" class=\"data row0 col2\" >3.22</td>\n",
       "      <td id=\"T_15b74_row0_col3\" class=\"data row0 col3\" >8.56</td>\n",
       "      <td id=\"T_15b74_row0_col4\" class=\"data row0 col4\" >0.68</td>\n",
       "      <td id=\"T_15b74_row0_col5\" class=\"data row0 col5\" >0.84</td>\n",
       "      <td id=\"T_15b74_row0_col6\" class=\"data row0 col6\" >0.53±0.12</td>\n",
       "      <td id=\"T_15b74_row0_col7\" class=\"data row0 col7\" >707±48</td>\n",
       "      <td id=\"T_15b74_row0_col8\" class=\"data row0 col8\" >10.66±3.58</td>\n",
       "    </tr>\n",
       "    <tr>\n",
       "      <th id=\"T_15b74_level0_row1\" class=\"row_heading level0 row1\" >AMP-GAN</th>\n",
       "      <td id=\"T_15b74_row1_col0\" class=\"data row1 col0\" >1.000</td>\n",
       "      <td id=\"T_15b74_row1_col1\" class=\"data row1 col1\" >1.000</td>\n",
       "      <td id=\"T_15b74_row1_col2\" class=\"data row1 col2\" >6.23</td>\n",
       "      <td id=\"T_15b74_row1_col3\" class=\"data row1 col3\" >27.05</td>\n",
       "      <td id=\"T_15b74_row1_col4\" class=\"data row1 col4\" >0.95</td>\n",
       "      <td id=\"T_15b74_row1_col5\" class=\"data row1 col5\" >0.24</td>\n",
       "      <td id=\"T_15b74_row1_col6\" class=\"data row1 col6\" >0.62±0.20</td>\n",
       "      <td id=\"T_15b74_row1_col7\" class=\"data row1 col7\" >652±24</td>\n",
       "      <td id=\"T_15b74_row1_col8\" class=\"data row1 col8\" >13.35±2.25</td>\n",
       "    </tr>\n",
       "    <tr>\n",
       "      <th id=\"T_15b74_level0_row2\" class=\"row_heading level0 row2\" >CPL-Diff</th>\n",
       "      <td id=\"T_15b74_row2_col0\" class=\"data row2 col0\" >1.000</td>\n",
       "      <td id=\"T_15b74_row2_col1\" class=\"data row2 col1\" >1.000</td>\n",
       "      <td id=\"T_15b74_row2_col2\" class=\"data row2 col2\" >2.44</td>\n",
       "      <td id=\"T_15b74_row2_col3\" class=\"data row2 col3\" >5.07</td>\n",
       "      <td id=\"T_15b74_row2_col4\" class=\"data row2 col4\" >0.83</td>\n",
       "      <td id=\"T_15b74_row2_col5\" class=\"data row2 col5\" >0.91</td>\n",
       "      <td id=\"T_15b74_row2_col6\" class=\"data row2 col6\" >0.71±0.05</td>\n",
       "      <td id=\"T_15b74_row2_col7\" class=\"data row2 col7\" >721±61</td>\n",
       "      <td id=\"T_15b74_row2_col8\" class=\"data row2 col8\" >9.39±3.41</td>\n",
       "    </tr>\n",
       "    <tr>\n",
       "      <th id=\"T_15b74_level0_row3\" class=\"row_heading level0 row3\" >HydrAMP</th>\n",
       "      <td id=\"T_15b74_row3_col0\" class=\"data row3 col0\" >1.000</td>\n",
       "      <td id=\"T_15b74_row3_col1\" class=\"data row3 col1\" >1.000</td>\n",
       "      <td id=\"T_15b74_row3_col2\" class=\"data row3 col2\" >5.61</td>\n",
       "      <td id=\"T_15b74_row3_col3\" class=\"data row3 col3\" >25.07</td>\n",
       "      <td id=\"T_15b74_row3_col4\" class=\"data row3 col4\" >0.70</td>\n",
       "      <td id=\"T_15b74_row3_col5\" class=\"data row3 col5\" >0.45</td>\n",
       "      <td id=\"T_15b74_row3_col6\" class=\"data row3 col6\" >0.63±0.11</td>\n",
       "      <td id=\"T_15b74_row3_col7\" class=\"data row3 col7\" >665±27</td>\n",
       "      <td id=\"T_15b74_row3_col8\" class=\"data row3 col8\" >13.81±3.76</td>\n",
       "    </tr>\n",
       "    <tr>\n",
       "      <th id=\"T_15b74_level0_row4\" class=\"row_heading level0 row4\" >OmegAMP</th>\n",
       "      <td id=\"T_15b74_row4_col0\" class=\"data row4 col0\" >1.000</td>\n",
       "      <td id=\"T_15b74_row4_col1\" class=\"data row4 col1\" >1.000</td>\n",
       "      <td id=\"T_15b74_row4_col2\" class=\"data row4 col2\" >3.25</td>\n",
       "      <td id=\"T_15b74_row4_col3\" class=\"data row4 col3\" >13.95</td>\n",
       "      <td id=\"T_15b74_row4_col4\" class=\"data row4 col4\" >0.81</td>\n",
       "      <td id=\"T_15b74_row4_col5\" class=\"data row4 col5\" >0.84</td>\n",
       "      <td id=\"T_15b74_row4_col6\" class=\"data row4 col6\" >0.69±0.07</td>\n",
       "      <td id=\"T_15b74_row4_col7\" class=\"data row4 col7\" >699±26</td>\n",
       "      <td id=\"T_15b74_row4_col8\" class=\"data row4 col8\" >12.19±3.29</td>\n",
       "    </tr>\n",
       "    <tr>\n",
       "      <th id=\"T_15b74_level0_row5\" class=\"row_heading level0 row5\" >DBAASP</th>\n",
       "      <td id=\"T_15b74_row5_col0\" class=\"data row5 col0\" >1.000</td>\n",
       "      <td id=\"T_15b74_row5_col1\" class=\"data row5 col1\" >1.000</td>\n",
       "      <td id=\"T_15b74_row5_col2\" class=\"data row5 col2\" >2.36</td>\n",
       "      <td id=\"T_15b74_row5_col3\" class=\"data row5 col3\" >5.93</td>\n",
       "      <td id=\"T_15b74_row5_col4\" class=\"data row5 col4\" >0.80</td>\n",
       "      <td id=\"T_15b74_row5_col5\" class=\"data row5 col5\" >0.92</td>\n",
       "      <td id=\"T_15b74_row5_col6\" class=\"data row5 col6\" >0.61±0.10</td>\n",
       "      <td id=\"T_15b74_row5_col7\" class=\"data row5 col7\" >655±38</td>\n",
       "      <td id=\"T_15b74_row5_col8\" class=\"data row5 col8\" >12.05±4.00</td>\n",
       "    </tr>\n",
       "    <tr>\n",
       "      <th id=\"T_15b74_level0_row6\" class=\"row_heading level0 row6\" >UniProt</th>\n",
       "      <td id=\"T_15b74_row6_col0\" class=\"data row6 col0\" >1.000</td>\n",
       "      <td id=\"T_15b74_row6_col1\" class=\"data row6 col1\" >1.000</td>\n",
       "      <td id=\"T_15b74_row6_col2\" class=\"data row6 col2\" >6.79</td>\n",
       "      <td id=\"T_15b74_row6_col3\" class=\"data row6 col3\" >25.16</td>\n",
       "      <td id=\"T_15b74_row6_col4\" class=\"data row6 col4\" >0.60</td>\n",
       "      <td id=\"T_15b74_row6_col5\" class=\"data row6 col5\" >0.40</td>\n",
       "      <td id=\"T_15b74_row6_col6\" class=\"data row6 col6\" >0.53±0.10</td>\n",
       "      <td id=\"T_15b74_row6_col7\" class=\"data row6 col7\" >675±56</td>\n",
       "      <td id=\"T_15b74_row6_col8\" class=\"data row6 col8\" >14.37±3.21</td>\n",
       "    </tr>\n",
       "    <tr>\n",
       "      <th id=\"T_15b74_level0_row7\" class=\"row_heading level0 row7\" >AMPs (E. coli)</th>\n",
       "      <td id=\"T_15b74_row7_col0\" class=\"data row7 col0\" >1.000</td>\n",
       "      <td id=\"T_15b74_row7_col1\" class=\"data row7 col1\" >1.000</td>\n",
       "      <td id=\"T_15b74_row7_col2\" class=\"data row7 col2\" >1.58</td>\n",
       "      <td id=\"T_15b74_row7_col3\" class=\"data row7 col3\" >1.78</td>\n",
       "      <td id=\"T_15b74_row7_col4\" class=\"data row7 col4\" >0.88</td>\n",
       "      <td id=\"T_15b74_row7_col5\" class=\"data row7 col5\" >0.80</td>\n",
       "      <td id=\"T_15b74_row7_col6\" class=\"data row7 col6\" >0.82±0.05</td>\n",
       "      <td id=\"T_15b74_row7_col7\" class=\"data row7 col7\" >684±25</td>\n",
       "      <td id=\"T_15b74_row7_col8\" class=\"data row7 col8\" >10.61±3.71</td>\n",
       "    </tr>\n",
       "    <tr>\n",
       "      <th id=\"T_15b74_level0_row8\" class=\"row_heading level0 row8\" >AMPs</th>\n",
       "      <td id=\"T_15b74_row8_col0\" class=\"data row8 col0\" >1.000</td>\n",
       "      <td id=\"T_15b74_row8_col1\" class=\"data row8 col1\" >0.000</td>\n",
       "      <td id=\"T_15b74_row8_col2\" class=\"data row8 col2\" >0.00</td>\n",
       "      <td id=\"T_15b74_row8_col3\" class=\"data row8 col3\" >0.00</td>\n",
       "      <td id=\"T_15b74_row8_col4\" class=\"data row8 col4\" >1.00</td>\n",
       "      <td id=\"T_15b74_row8_col5\" class=\"data row8 col5\" >1.00</td>\n",
       "      <td id=\"T_15b74_row8_col6\" class=\"data row8 col6\" >0.83±0.07</td>\n",
       "      <td id=\"T_15b74_row8_col7\" class=\"data row8 col7\" >693±35</td>\n",
       "      <td id=\"T_15b74_row8_col8\" class=\"data row8 col8\" >10.65±3.52</td>\n",
       "    </tr>\n",
       "    <tr>\n",
       "      <th id=\"T_15b74_level0_row9\" class=\"row_heading level0 row9\" >DBAASP (shuffled)</th>\n",
       "      <td id=\"T_15b74_row9_col0\" class=\"data row9 col0\" >1.000</td>\n",
       "      <td id=\"T_15b74_row9_col1\" class=\"data row9 col1\" >1.000</td>\n",
       "      <td id=\"T_15b74_row9_col2\" class=\"data row9 col2\" >4.13</td>\n",
       "      <td id=\"T_15b74_row9_col3\" class=\"data row9 col3\" >17.14</td>\n",
       "      <td id=\"T_15b74_row9_col4\" class=\"data row9 col4\" >0.82</td>\n",
       "      <td id=\"T_15b74_row9_col5\" class=\"data row9 col5\" >0.72</td>\n",
       "      <td id=\"T_15b74_row9_col6\" class=\"data row9 col6\" >0.61±0.10</td>\n",
       "      <td id=\"T_15b74_row9_col7\" class=\"data row9 col7\" >655±38</td>\n",
       "      <td id=\"T_15b74_row9_col8\" class=\"data row9 col8\" >13.56±3.50</td>\n",
       "    </tr>\n",
       "  </tbody>\n",
       "</table>\n"
      ],
      "text/plain": [
       "<pandas.io.formats.style.Styler at 0x3146cb8d0>"
      ]
     },
     "execution_count": null,
     "metadata": {},
     "output_type": "execute_result"
    }
   ],
   "source": [
    "show_table(df, decimals=[3, 3, 2, 2, 2, 2, 2, 0, 2])"
   ]
  }
 ],
 "metadata": {
  "kernelspec": {
   "display_name": "Python 3",
   "language": "python",
   "name": "python3"
  },
  "language_info": {
   "codemirror_mode": {
    "name": "ipython",
    "version": 3
   },
   "file_extension": ".py",
   "mimetype": "text/x-python",
   "name": "python",
   "nbconvert_exporter": "python",
   "pygments_lexer": "ipython3",
   "version": "3.11.13"
  }
 },
 "nbformat": 4,
 "nbformat_minor": 5
}
