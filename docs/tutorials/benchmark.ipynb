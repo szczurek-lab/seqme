{
 "cells": [
  {
   "cell_type": "markdown",
   "id": "0",
   "metadata": {},
   "source": [
    "# Benchmark\n"
   ]
  },
  {
   "cell_type": "markdown",
   "id": "1",
   "metadata": {},
   "source": [
    "In this notebook, we use pepme to evalulate antimicrobial peptide sequences.\n"
   ]
  },
  {
   "cell_type": "code",
   "execution_count": null,
   "id": "2",
   "metadata": {},
   "outputs": [],
   "source": [
    "import numpy as np\n",
    "\n",
    "from pepme import FeatureCache, compute_metrics, show_table\n",
    "from pepme.metrics import FID, HV, MMD, Count, Fold, HitRate, Novelty, Precision, Recall, Uniqueness\n",
    "from pepme.models.embeddings import ESM2\n",
    "from pepme.models.properties import Charge, Gravy\n",
    "from pepme.utils import random_subset, read_fasta_file, shuffle_sequences"
   ]
  },
  {
   "cell_type": "markdown",
   "id": "3",
   "metadata": {},
   "source": [
    "Let's load the datasets.\n"
   ]
  },
  {
   "cell_type": "code",
   "execution_count": null,
   "id": "4",
   "metadata": {},
   "outputs": [],
   "source": [
    "DATASET_PATHS = {\n",
    "    \"AMP-Diffusion\": \"./data/amp-diffusion.fasta\",\n",
    "    \"AMP-GAN\": \"./data/amp-gan.fasta\",\n",
    "    \"CPL-Diff\": \"./data/cpl-diff.fasta\",\n",
    "    \"HydrAMP\": \"./data/hydramp.fasta\",\n",
    "    \"OmegAMP\": \"./data/omegamp.fasta\",\n",
    "    \"DBAASP\": \"./data/dbaasp.fasta\",\n",
    "    \"UniProt\": \"./data/uniprot/uniprot_8_50_100.fasta\",\n",
    "}"
   ]
  },
  {
   "cell_type": "code",
   "execution_count": null,
   "id": "5",
   "metadata": {},
   "outputs": [],
   "source": [
    "datasets = {name: read_fasta_file(path) for name, path in DATASET_PATHS.items()}"
   ]
  },
  {
   "cell_type": "code",
   "execution_count": null,
   "id": "6",
   "metadata": {},
   "outputs": [
    {
     "name": "stdout",
     "output_type": "stream",
     "text": [
      "AMP-Diffusion: 47671 sequences\n",
      "AMP-GAN: 150000 sequences\n",
      "CPL-Diff: 49985 sequences\n",
      "HydrAMP: 50000 sequences\n",
      "OmegAMP: 149504 sequences\n",
      "DBAASP: 8967 sequences\n",
      "UniProt: 2933310 sequences\n"
     ]
    }
   ],
   "source": [
    "for model_name, sequences in datasets.items():\n",
    "    print(f\"{model_name}: {len(sequences)} sequences\")"
   ]
  },
  {
   "cell_type": "code",
   "execution_count": null,
   "id": "7",
   "metadata": {},
   "outputs": [],
   "source": [
    "n_samples = 3_000\n",
    "seed = 42\n",
    "\n",
    "benchmark_datasets = {\n",
    "    name: random_subset(sequences, n_samples=n_samples, seed=seed) if len(sequences) > n_samples else sequences\n",
    "    for name, sequences in datasets.items()\n",
    "}\n",
    "\n",
    "seqs_dbaasp = benchmark_datasets.pop(\"DBAASP\")\n",
    "benchmark_datasets[\"DBAASP (shuffled)\"] = shuffle_sequences(seqs_dbaasp)\n",
    "\n",
    "\n",
    "def my_embedder(sequences: list[str]) -> np.ndarray:\n",
    "    lengths = [len(sequence) for sequence in sequences]\n",
    "    counts = [sequence.count(\"K\") for sequence in sequences]\n",
    "    return np.array([lengths, counts]).T\n",
    "\n",
    "\n",
    "cache = FeatureCache(\n",
    "    models={\n",
    "        \"embedder\": my_embedder,\n",
    "        \"esm2\": ESM2(\n",
    "            model_name=\"esm2_t6_8M_UR50D\",\n",
    "            batch_size=256,\n",
    "            device=\"cpu\",\n",
    "            verbose=False,\n",
    "        ),\n",
    "    }\n",
    ")"
   ]
  },
  {
   "cell_type": "markdown",
   "id": "8",
   "metadata": {},
   "source": [
    "Let's select the metrics.\n"
   ]
  },
  {
   "cell_type": "code",
   "execution_count": null,
   "id": "9",
   "metadata": {},
   "outputs": [],
   "source": [
    "embedder = \"esm2\"  # \"embedder\"\n",
    "\n",
    "\n",
    "def hit_rate_condition_fn(sequences: list[str]) -> np.ndarray:\n",
    "    no_cystine = ~np.array([\"C\" in seq for seq in sequences])\n",
    "    return no_cystine\n",
    "\n",
    "\n",
    "metrics = [\n",
    "    Count(),\n",
    "    Uniqueness(),\n",
    "    Novelty(reference=seqs_dbaasp, reference_name=\"DBAASP\"),\n",
    "    FID(\n",
    "        reference=seqs_dbaasp,\n",
    "        embedder=cache.model(embedder),\n",
    "    ),\n",
    "    MMD(\n",
    "        reference=seqs_dbaasp,\n",
    "        embedder=cache.model(embedder),\n",
    "        strict=False,\n",
    "    ),\n",
    "    Precision(\n",
    "        neighborhood_size=3,\n",
    "        reference=seqs_dbaasp,\n",
    "        embedder=cache.model(embedder),\n",
    "        strict=False,\n",
    "    ),\n",
    "    Recall(\n",
    "        neighborhood_size=3,\n",
    "        reference=seqs_dbaasp,\n",
    "        embedder=cache.model(embedder),\n",
    "        strict=False,\n",
    "    ),\n",
    "    Fold(\n",
    "        metric=HitRate(condition_fn=hit_rate_condition_fn),\n",
    "        k=5,\n",
    "    ),\n",
    "    Fold(\n",
    "        metric=HV(\n",
    "            predictors=[Gravy(), Charge()],\n",
    "            nadir=np.array([-10, -50]),\n",
    "        ),\n",
    "        k=5,\n",
    "    ),\n",
    "]"
   ]
  },
  {
   "cell_type": "code",
   "execution_count": null,
   "id": "10",
   "metadata": {},
   "outputs": [
    {
     "name": "stderr",
     "output_type": "stream",
     "text": [
      "100%|██████████| 63/63 [01:10<00:00,  1.11s/it, data=DBAASP (shuffled), metric=HV]              \n"
     ]
    }
   ],
   "source": [
    "df = compute_metrics(benchmark_datasets, metrics)"
   ]
  },
  {
   "cell_type": "markdown",
   "id": "11",
   "metadata": {},
   "source": [
    "Let's look at the results.\n"
   ]
  },
  {
   "cell_type": "code",
   "execution_count": null,
   "id": "12",
   "metadata": {},
   "outputs": [
    {
     "data": {
      "text/html": [
       "<style type=\"text/css\">\n",
       "#T_0189d th.col_heading {\n",
       "  text-align: center;\n",
       "}\n",
       "#T_0189d td {\n",
       "  border-right: 1px solid #ccc;\n",
       "}\n",
       "#T_0189d th.row_heading {\n",
       "  border-right: 1px solid #ccc;\n",
       "}\n",
       "#T_0189d_row0_col0, #T_0189d_row0_col2, #T_0189d_row0_col4, #T_0189d_row1_col0, #T_0189d_row2_col0, #T_0189d_row2_col7, #T_0189d_row3_col0, #T_0189d_row3_col1, #T_0189d_row3_col2, #T_0189d_row4_col0, #T_0189d_row4_col3, #T_0189d_row5_col0, #T_0189d_row5_col1, #T_0189d_row5_col2, #T_0189d_row6_col0, #T_0189d_row6_col5, #T_0189d_row6_col6, #T_0189d_row6_col8 {\n",
       "  background-color: #68d6bc;\n",
       "  font-weight: bold;\n",
       "}\n",
       "#T_0189d_row0_col3, #T_0189d_row1_col5, #T_0189d_row2_col6, #T_0189d_row2_col8, #T_0189d_row4_col7, #T_0189d_row6_col4 {\n",
       "  text-decoration: underline;\n",
       "  font-weight: bold;\n",
       "}\n",
       "</style>\n",
       "<table id=\"T_0189d\">\n",
       "  <thead>\n",
       "    <tr>\n",
       "      <th class=\"blank level0\" >&nbsp;</th>\n",
       "      <th id=\"T_0189d_level0_col0\" class=\"col_heading level0 col0\" >Count↑</th>\n",
       "      <th id=\"T_0189d_level0_col1\" class=\"col_heading level0 col1\" >Uniqueness↑</th>\n",
       "      <th id=\"T_0189d_level0_col2\" class=\"col_heading level0 col2\" >Novelty (DBAASP)↑</th>\n",
       "      <th id=\"T_0189d_level0_col3\" class=\"col_heading level0 col3\" >FID↓</th>\n",
       "      <th id=\"T_0189d_level0_col4\" class=\"col_heading level0 col4\" >MMD↓</th>\n",
       "      <th id=\"T_0189d_level0_col5\" class=\"col_heading level0 col5\" >Precision↑</th>\n",
       "      <th id=\"T_0189d_level0_col6\" class=\"col_heading level0 col6\" >Recall↑</th>\n",
       "      <th id=\"T_0189d_level0_col7\" class=\"col_heading level0 col7\" >Hit-rate↑</th>\n",
       "      <th id=\"T_0189d_level0_col8\" class=\"col_heading level0 col8\" >HV↑</th>\n",
       "    </tr>\n",
       "  </thead>\n",
       "  <tbody>\n",
       "    <tr>\n",
       "      <th id=\"T_0189d_level0_row0\" class=\"row_heading level0 row0\" >AMP-Diffusion</th>\n",
       "      <td id=\"T_0189d_row0_col0\" class=\"data row0 col0\" >3000</td>\n",
       "      <td id=\"T_0189d_row0_col1\" class=\"data row0 col1\" >0.9727</td>\n",
       "      <td id=\"T_0189d_row0_col2\" class=\"data row0 col2\" >1.000</td>\n",
       "      <td id=\"T_0189d_row0_col3\" class=\"data row0 col3\" >1.08</td>\n",
       "      <td id=\"T_0189d_row0_col4\" class=\"data row0 col4\" >3.12</td>\n",
       "      <td id=\"T_0189d_row0_col5\" class=\"data row0 col5\" >0.65</td>\n",
       "      <td id=\"T_0189d_row0_col6\" class=\"data row0 col6\" >0.52</td>\n",
       "      <td id=\"T_0189d_row0_col7\" class=\"data row0 col7\" >0.61±0.03</td>\n",
       "      <td id=\"T_0189d_row0_col8\" class=\"data row0 col8\" >830.4±64.9</td>\n",
       "    </tr>\n",
       "    <tr>\n",
       "      <th id=\"T_0189d_level0_row1\" class=\"row_heading level0 row1\" >AMP-GAN</th>\n",
       "      <td id=\"T_0189d_row1_col0\" class=\"data row1 col0\" >3000</td>\n",
       "      <td id=\"T_0189d_row1_col1\" class=\"data row1 col1\" >0.9997</td>\n",
       "      <td id=\"T_0189d_row1_col2\" class=\"data row1 col2\" >1.000</td>\n",
       "      <td id=\"T_0189d_row1_col3\" class=\"data row1 col3\" >3.64</td>\n",
       "      <td id=\"T_0189d_row1_col4\" class=\"data row1 col4\" >12.40</td>\n",
       "      <td id=\"T_0189d_row1_col5\" class=\"data row1 col5\" >0.82</td>\n",
       "      <td id=\"T_0189d_row1_col6\" class=\"data row1 col6\" >0.25</td>\n",
       "      <td id=\"T_0189d_row1_col7\" class=\"data row1 col7\" >0.52±0.02</td>\n",
       "      <td id=\"T_0189d_row1_col8\" class=\"data row1 col8\" >775.5±32.7</td>\n",
       "    </tr>\n",
       "    <tr>\n",
       "      <th id=\"T_0189d_level0_row2\" class=\"row_heading level0 row2\" >CPL-Diff</th>\n",
       "      <td id=\"T_0189d_row2_col0\" class=\"data row2 col0\" >3000</td>\n",
       "      <td id=\"T_0189d_row2_col1\" class=\"data row2 col1\" >0.9900</td>\n",
       "      <td id=\"T_0189d_row2_col2\" class=\"data row2 col2\" >0.999</td>\n",
       "      <td id=\"T_0189d_row2_col3\" class=\"data row2 col3\" >1.27</td>\n",
       "      <td id=\"T_0189d_row2_col4\" class=\"data row2 col4\" >5.12</td>\n",
       "      <td id=\"T_0189d_row2_col5\" class=\"data row2 col5\" >0.70</td>\n",
       "      <td id=\"T_0189d_row2_col6\" class=\"data row2 col6\" >0.77</td>\n",
       "      <td id=\"T_0189d_row2_col7\" class=\"data row2 col7\" >0.72±0.02</td>\n",
       "      <td id=\"T_0189d_row2_col8\" class=\"data row2 col8\" >886.8±33.5</td>\n",
       "    </tr>\n",
       "    <tr>\n",
       "      <th id=\"T_0189d_level0_row3\" class=\"row_heading level0 row3\" >HydrAMP</th>\n",
       "      <td id=\"T_0189d_row3_col0\" class=\"data row3 col0\" >3000</td>\n",
       "      <td id=\"T_0189d_row3_col1\" class=\"data row3 col1\" >1.0000</td>\n",
       "      <td id=\"T_0189d_row3_col2\" class=\"data row3 col2\" >1.000</td>\n",
       "      <td id=\"T_0189d_row3_col3\" class=\"data row3 col3\" >4.38</td>\n",
       "      <td id=\"T_0189d_row3_col4\" class=\"data row3 col4\" >17.81</td>\n",
       "      <td id=\"T_0189d_row3_col5\" class=\"data row3 col5\" >0.56</td>\n",
       "      <td id=\"T_0189d_row3_col6\" class=\"data row3 col6\" >0.45</td>\n",
       "      <td id=\"T_0189d_row3_col7\" class=\"data row3 col7\" >0.60±0.01</td>\n",
       "      <td id=\"T_0189d_row3_col8\" class=\"data row3 col8\" >785.4±19.1</td>\n",
       "    </tr>\n",
       "    <tr>\n",
       "      <th id=\"T_0189d_level0_row4\" class=\"row_heading level0 row4\" >OmegAMP</th>\n",
       "      <td id=\"T_0189d_row4_col0\" class=\"data row4 col0\" >3000</td>\n",
       "      <td id=\"T_0189d_row4_col1\" class=\"data row4 col1\" >0.9823</td>\n",
       "      <td id=\"T_0189d_row4_col2\" class=\"data row4 col2\" >0.996</td>\n",
       "      <td id=\"T_0189d_row4_col3\" class=\"data row4 col3\" >1.00</td>\n",
       "      <td id=\"T_0189d_row4_col4\" class=\"data row4 col4\" >4.70</td>\n",
       "      <td id=\"T_0189d_row4_col5\" class=\"data row4 col5\" >0.81</td>\n",
       "      <td id=\"T_0189d_row4_col6\" class=\"data row4 col6\" >0.75</td>\n",
       "      <td id=\"T_0189d_row4_col7\" class=\"data row4 col7\" >0.69±0.02</td>\n",
       "      <td id=\"T_0189d_row4_col8\" class=\"data row4 col8\" >822.7±31.6</td>\n",
       "    </tr>\n",
       "    <tr>\n",
       "      <th id=\"T_0189d_level0_row5\" class=\"row_heading level0 row5\" >UniProt</th>\n",
       "      <td id=\"T_0189d_row5_col0\" class=\"data row5 col0\" >3000</td>\n",
       "      <td id=\"T_0189d_row5_col1\" class=\"data row5 col1\" >1.0000</td>\n",
       "      <td id=\"T_0189d_row5_col2\" class=\"data row5 col2\" >1.000</td>\n",
       "      <td id=\"T_0189d_row5_col3\" class=\"data row5 col3\" >3.57</td>\n",
       "      <td id=\"T_0189d_row5_col4\" class=\"data row5 col4\" >12.74</td>\n",
       "      <td id=\"T_0189d_row5_col5\" class=\"data row5 col5\" >0.68</td>\n",
       "      <td id=\"T_0189d_row5_col6\" class=\"data row5 col6\" >0.52</td>\n",
       "      <td id=\"T_0189d_row5_col7\" class=\"data row5 col7\" >0.56±0.01</td>\n",
       "      <td id=\"T_0189d_row5_col8\" class=\"data row5 col8\" >814.2±25.9</td>\n",
       "    </tr>\n",
       "    <tr>\n",
       "      <th id=\"T_0189d_level0_row6\" class=\"row_heading level0 row6\" >DBAASP (shuffled)</th>\n",
       "      <td id=\"T_0189d_row6_col0\" class=\"data row6 col0\" >3000</td>\n",
       "      <td id=\"T_0189d_row6_col1\" class=\"data row6 col1\" >0.9993</td>\n",
       "      <td id=\"T_0189d_row6_col2\" class=\"data row6 col2\" >0.993</td>\n",
       "      <td id=\"T_0189d_row6_col3\" class=\"data row6 col3\" >1.22</td>\n",
       "      <td id=\"T_0189d_row6_col4\" class=\"data row6 col4\" >4.61</td>\n",
       "      <td id=\"T_0189d_row6_col5\" class=\"data row6 col5\" >0.88</td>\n",
       "      <td id=\"T_0189d_row6_col6\" class=\"data row6 col6\" >0.78</td>\n",
       "      <td id=\"T_0189d_row6_col7\" class=\"data row6 col7\" >0.66±0.01</td>\n",
       "      <td id=\"T_0189d_row6_col8\" class=\"data row6 col8\" >939.7±72.5</td>\n",
       "    </tr>\n",
       "  </tbody>\n",
       "</table>\n"
      ],
      "text/plain": [
       "<pandas.io.formats.style.Styler at 0x103c79a50>"
      ]
     },
     "execution_count": null,
     "metadata": {},
     "output_type": "execute_result"
    }
   ],
   "source": [
    "show_table(df, decimals=[0, 4, 3, 2, 2, 2, 2, 2, 1])"
   ]
  }
 ],
 "metadata": {
  "kernelspec": {
   "display_name": "pepme_docs",
   "language": "python",
   "name": "python3"
  },
  "language_info": {
   "codemirror_mode": {
    "name": "ipython",
    "version": 3
   },
   "file_extension": ".py",
   "mimetype": "text/x-python",
   "name": "python",
   "nbconvert_exporter": "python",
   "pygments_lexer": "ipython3",
   "version": "3.11.0"
  }
 },
 "nbformat": 4,
 "nbformat_minor": 5
}
