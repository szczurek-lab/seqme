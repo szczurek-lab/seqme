{
 "cells": [
  {
   "cell_type": "markdown",
   "metadata": {},
   "source": [
    "# Getting started\n"
   ]
  },
  {
   "cell_type": "markdown",
   "metadata": {},
   "source": [
    "In this notebook, we show how to use seqme to evaluate sequences and adding your own metric.\n"
   ]
  },
  {
   "cell_type": "markdown",
   "metadata": {},
   "source": [
    "First the imports.\n"
   ]
  },
  {
   "cell_type": "code",
   "execution_count": null,
   "metadata": {},
   "outputs": [],
   "source": [
    "import pickle\n",
    "from pprint import pprint\n",
    "from typing import Literal\n",
    "\n",
    "import numpy as np\n",
    "import pandas as pd\n",
    "\n",
    "import seqme as sm"
   ]
  },
  {
   "cell_type": "markdown",
   "metadata": {},
   "source": [
    "## Basics\n"
   ]
  },
  {
   "cell_type": "markdown",
   "metadata": {},
   "source": [
    "Let's define the sequences to use and the metrics to compute. Some sequences will be loaded from fasta files, others are hard-coded.\n"
   ]
  },
  {
   "cell_type": "markdown",
   "metadata": {},
   "source": [
    "First let's write a fasta file with random sequences to disk.\n"
   ]
  },
  {
   "cell_type": "code",
   "execution_count": null,
   "metadata": {},
   "outputs": [],
   "source": [
    "RANDOM_SEQUENCES_PATH = \"./data/random.fasta\""
   ]
  },
  {
   "cell_type": "code",
   "execution_count": null,
   "metadata": {},
   "outputs": [],
   "source": [
    "random_sequences = [\"KKKKK\", \"PLQ\", \"RKSPL\"]\n",
    "\n",
    "sm.to_fasta(random_sequences, RANDOM_SEQUENCES_PATH)"
   ]
  },
  {
   "cell_type": "markdown",
   "metadata": {},
   "source": [
    "UniProt contains a lot of sequences. To speed-up the metric computations, we will only use a (random) subset of the UniProt sequences.\n"
   ]
  },
  {
   "cell_type": "code",
   "execution_count": null,
   "metadata": {},
   "outputs": [],
   "source": [
    "sequences = {\n",
    "    \"Random\": sm.read_fasta(RANDOM_SEQUENCES_PATH),\n",
    "    \"UniProt\": sm.random_subset([\"KKWQ\", \"RKSPL\", \"RASD\"], n_samples=2, seed=42),\n",
    "    \"HydrAMP\": [\"MMRK\", \"RKSPL\", \"RRLSK\", \"RRLSK\"],\n",
    "    \"hyformer\": [\"MKQW\", \"RKSPL\"],\n",
    "}\n",
    "\n",
    "\n",
    "def my_embedder(sequences: list[str]) -> np.ndarray:\n",
    "    lengths = [len(sequence) for sequence in sequences]\n",
    "    counts = [sequence.count(\"K\") for sequence in sequences]\n",
    "    return np.array([lengths, counts]).T"
   ]
  },
  {
   "cell_type": "markdown",
   "metadata": {},
   "source": [
    "Metrics may precompute some values upon metric object creation to speed up the overall process.\n"
   ]
  },
  {
   "cell_type": "code",
   "execution_count": null,
   "metadata": {},
   "outputs": [],
   "source": [
    "def hit_rate_condition_fn(sequences: list[str]) -> np.ndarray:\n",
    "    no_lysine = ~np.array([\"K\" in seq for seq in sequences])\n",
    "    return no_lysine\n",
    "\n",
    "\n",
    "metrics = [\n",
    "    sm.metrics.Uniqueness(),\n",
    "    sm.metrics.Novelty(reference=sequences[\"UniProt\"], reference_name=\"UniProt\"),\n",
    "    sm.metrics.Diversity(),\n",
    "    sm.metrics.FBD(reference=sequences[\"Random\"], embedder=my_embedder),\n",
    "    sm.metrics.ID(sm.models.Gravy(), name=\"Gravy\", objective=\"minimize\"),\n",
    "    sm.metrics.HitRate(condition_fn=hit_rate_condition_fn),\n",
    "]"
   ]
  },
  {
   "cell_type": "markdown",
   "metadata": {},
   "source": [
    "Let's compute the metrics.\n"
   ]
  },
  {
   "cell_type": "code",
   "execution_count": null,
   "metadata": {},
   "outputs": [
    {
     "name": "stderr",
     "output_type": "stream",
     "text": [
      "100%|██████████| 24/24 [00:00<00:00, 507.06it/s, data=hyformer, metric=Hit-rate]         \n"
     ]
    }
   ],
   "source": [
    "df = sm.evaluate(sequences, metrics)"
   ]
  },
  {
   "cell_type": "markdown",
   "metadata": {},
   "source": [
    "Let's look at the results.\n"
   ]
  },
  {
   "cell_type": "code",
   "execution_count": null,
   "metadata": {},
   "outputs": [
    {
     "data": {
      "text/html": [
       "<div>\n",
       "<style scoped>\n",
       "    .dataframe tbody tr th:only-of-type {\n",
       "        vertical-align: middle;\n",
       "    }\n",
       "\n",
       "    .dataframe tbody tr th {\n",
       "        vertical-align: top;\n",
       "    }\n",
       "\n",
       "    .dataframe thead tr th {\n",
       "        text-align: left;\n",
       "    }\n",
       "</style>\n",
       "<table border=\"1\" class=\"dataframe\">\n",
       "  <thead>\n",
       "    <tr>\n",
       "      <th></th>\n",
       "      <th colspan=\"2\" halign=\"left\">Uniqueness</th>\n",
       "      <th colspan=\"2\" halign=\"left\">Novelty (UniProt)</th>\n",
       "      <th colspan=\"2\" halign=\"left\">Diversity</th>\n",
       "      <th colspan=\"2\" halign=\"left\">FBD</th>\n",
       "      <th colspan=\"2\" halign=\"left\">Gravy</th>\n",
       "      <th colspan=\"2\" halign=\"left\">Hit-rate</th>\n",
       "    </tr>\n",
       "    <tr>\n",
       "      <th></th>\n",
       "      <th>value</th>\n",
       "      <th>deviation</th>\n",
       "      <th>value</th>\n",
       "      <th>deviation</th>\n",
       "      <th>value</th>\n",
       "      <th>deviation</th>\n",
       "      <th>value</th>\n",
       "      <th>deviation</th>\n",
       "      <th>value</th>\n",
       "      <th>deviation</th>\n",
       "      <th>value</th>\n",
       "      <th>deviation</th>\n",
       "    </tr>\n",
       "  </thead>\n",
       "  <tbody>\n",
       "    <tr>\n",
       "      <th>Random</th>\n",
       "      <td>1.00</td>\n",
       "      <td>NaN</td>\n",
       "      <td>1.0</td>\n",
       "      <td>NaN</td>\n",
       "      <td>0.866667</td>\n",
       "      <td>NaN</td>\n",
       "      <td>0.000000</td>\n",
       "      <td>NaN</td>\n",
       "      <td>-1.911111</td>\n",
       "      <td>1.460678</td>\n",
       "      <td>0.333333</td>\n",
       "      <td>NaN</td>\n",
       "    </tr>\n",
       "    <tr>\n",
       "      <th>UniProt</th>\n",
       "      <td>1.00</td>\n",
       "      <td>NaN</td>\n",
       "      <td>0.0</td>\n",
       "      <td>NaN</td>\n",
       "      <td>1.000000</td>\n",
       "      <td>NaN</td>\n",
       "      <td>3.961130</td>\n",
       "      <td>NaN</td>\n",
       "      <td>-2.400000</td>\n",
       "      <td>0.650000</td>\n",
       "      <td>0.500000</td>\n",
       "      <td>NaN</td>\n",
       "    </tr>\n",
       "    <tr>\n",
       "      <th>HydrAMP</th>\n",
       "      <td>0.75</td>\n",
       "      <td>NaN</td>\n",
       "      <td>1.0</td>\n",
       "      <td>NaN</td>\n",
       "      <td>0.700000</td>\n",
       "      <td>NaN</td>\n",
       "      <td>8.602244</td>\n",
       "      <td>NaN</td>\n",
       "      <td>-1.627500</td>\n",
       "      <td>0.363413</td>\n",
       "      <td>0.000000</td>\n",
       "      <td>NaN</td>\n",
       "    </tr>\n",
       "    <tr>\n",
       "      <th>hyformer</th>\n",
       "      <td>1.00</td>\n",
       "      <td>NaN</td>\n",
       "      <td>1.0</td>\n",
       "      <td>NaN</td>\n",
       "      <td>0.800000</td>\n",
       "      <td>NaN</td>\n",
       "      <td>8.228118</td>\n",
       "      <td>NaN</td>\n",
       "      <td>-1.500000</td>\n",
       "      <td>0.100000</td>\n",
       "      <td>0.000000</td>\n",
       "      <td>NaN</td>\n",
       "    </tr>\n",
       "  </tbody>\n",
       "</table>\n",
       "</div>"
      ],
      "text/plain": [
       "         Uniqueness           Novelty (UniProt)           Diversity            \\\n",
       "              value deviation             value deviation     value deviation   \n",
       "Random         1.00       NaN               1.0       NaN  0.866667       NaN   \n",
       "UniProt        1.00       NaN               0.0       NaN  1.000000       NaN   \n",
       "HydrAMP        0.75       NaN               1.0       NaN  0.700000       NaN   \n",
       "hyformer       1.00       NaN               1.0       NaN  0.800000       NaN   \n",
       "\n",
       "               FBD               Gravy            Hit-rate            \n",
       "             value deviation     value deviation     value deviation  \n",
       "Random    0.000000       NaN -1.911111  1.460678  0.333333       NaN  \n",
       "UniProt   3.961130       NaN -2.400000  0.650000  0.500000       NaN  \n",
       "HydrAMP   8.602244       NaN -1.627500  0.363413  0.000000       NaN  \n",
       "hyformer  8.228118       NaN -1.500000  0.100000  0.000000       NaN  "
      ]
     },
     "execution_count": null,
     "metadata": {},
     "output_type": "execute_result"
    }
   ],
   "source": [
    "df"
   ]
  },
  {
   "cell_type": "markdown",
   "metadata": {},
   "source": [
    "... let's make it nicer to look at.\n"
   ]
  },
  {
   "cell_type": "code",
   "execution_count": null,
   "metadata": {},
   "outputs": [
    {
     "data": {
      "text/html": [
       "<style type=\"text/css\">\n",
       "#T_ae17e th.col_heading {\n",
       "  text-align: center;\n",
       "}\n",
       "#T_ae17e td {\n",
       "  border-right: 1px solid #ccc;\n",
       "}\n",
       "#T_ae17e th.row_heading {\n",
       "  border-right: 1px solid #ccc;\n",
       "}\n",
       "#T_ae17e_row0_col0, #T_ae17e_row0_col1, #T_ae17e_row0_col3, #T_ae17e_row1_col0, #T_ae17e_row1_col2, #T_ae17e_row1_col4, #T_ae17e_row1_col5, #T_ae17e_row2_col1, #T_ae17e_row3_col0, #T_ae17e_row3_col1 {\n",
       "  background-color: #68d6bc;\n",
       "  font-weight: bold;\n",
       "}\n",
       "#T_ae17e_row0_col2, #T_ae17e_row0_col4, #T_ae17e_row0_col5, #T_ae17e_row1_col3 {\n",
       "  text-decoration: underline;\n",
       "}\n",
       "</style>\n",
       "<table id=\"T_ae17e\">\n",
       "  <thead>\n",
       "    <tr>\n",
       "      <th class=\"blank level0\" >&nbsp;</th>\n",
       "      <th id=\"T_ae17e_level0_col0\" class=\"col_heading level0 col0\" >Uniqueness↑</th>\n",
       "      <th id=\"T_ae17e_level0_col1\" class=\"col_heading level0 col1\" >Novelty (UniProt)↑</th>\n",
       "      <th id=\"T_ae17e_level0_col2\" class=\"col_heading level0 col2\" >Diversity↑</th>\n",
       "      <th id=\"T_ae17e_level0_col3\" class=\"col_heading level0 col3\" >FBD↓</th>\n",
       "      <th id=\"T_ae17e_level0_col4\" class=\"col_heading level0 col4\" >Gravy↓</th>\n",
       "      <th id=\"T_ae17e_level0_col5\" class=\"col_heading level0 col5\" >Hit-rate↑</th>\n",
       "    </tr>\n",
       "  </thead>\n",
       "  <tbody>\n",
       "    <tr>\n",
       "      <th id=\"T_ae17e_level0_row0\" class=\"row_heading level0 row0\" >Random</th>\n",
       "      <td id=\"T_ae17e_row0_col0\" class=\"data row0 col0\" >1.000</td>\n",
       "      <td id=\"T_ae17e_row0_col1\" class=\"data row0 col1\" >1.000</td>\n",
       "      <td id=\"T_ae17e_row0_col2\" class=\"data row0 col2\" >0.867</td>\n",
       "      <td id=\"T_ae17e_row0_col3\" class=\"data row0 col3\" >0.000</td>\n",
       "      <td id=\"T_ae17e_row0_col4\" class=\"data row0 col4\" >-1.911±1.461</td>\n",
       "      <td id=\"T_ae17e_row0_col5\" class=\"data row0 col5\" >0.333</td>\n",
       "    </tr>\n",
       "    <tr>\n",
       "      <th id=\"T_ae17e_level0_row1\" class=\"row_heading level0 row1\" >UniProt</th>\n",
       "      <td id=\"T_ae17e_row1_col0\" class=\"data row1 col0\" >1.000</td>\n",
       "      <td id=\"T_ae17e_row1_col1\" class=\"data row1 col1\" >0.000</td>\n",
       "      <td id=\"T_ae17e_row1_col2\" class=\"data row1 col2\" >1.000</td>\n",
       "      <td id=\"T_ae17e_row1_col3\" class=\"data row1 col3\" >3.961</td>\n",
       "      <td id=\"T_ae17e_row1_col4\" class=\"data row1 col4\" >-2.400±0.650</td>\n",
       "      <td id=\"T_ae17e_row1_col5\" class=\"data row1 col5\" >0.500</td>\n",
       "    </tr>\n",
       "    <tr>\n",
       "      <th id=\"T_ae17e_level0_row2\" class=\"row_heading level0 row2\" >HydrAMP</th>\n",
       "      <td id=\"T_ae17e_row2_col0\" class=\"data row2 col0\" >0.750</td>\n",
       "      <td id=\"T_ae17e_row2_col1\" class=\"data row2 col1\" >1.000</td>\n",
       "      <td id=\"T_ae17e_row2_col2\" class=\"data row2 col2\" >0.700</td>\n",
       "      <td id=\"T_ae17e_row2_col3\" class=\"data row2 col3\" >8.602</td>\n",
       "      <td id=\"T_ae17e_row2_col4\" class=\"data row2 col4\" >-1.628±0.363</td>\n",
       "      <td id=\"T_ae17e_row2_col5\" class=\"data row2 col5\" >0.000</td>\n",
       "    </tr>\n",
       "    <tr>\n",
       "      <th id=\"T_ae17e_level0_row3\" class=\"row_heading level0 row3\" >hyformer</th>\n",
       "      <td id=\"T_ae17e_row3_col0\" class=\"data row3 col0\" >1.000</td>\n",
       "      <td id=\"T_ae17e_row3_col1\" class=\"data row3 col1\" >1.000</td>\n",
       "      <td id=\"T_ae17e_row3_col2\" class=\"data row3 col2\" >0.800</td>\n",
       "      <td id=\"T_ae17e_row3_col3\" class=\"data row3 col3\" >8.228</td>\n",
       "      <td id=\"T_ae17e_row3_col4\" class=\"data row3 col4\" >-1.500±0.100</td>\n",
       "      <td id=\"T_ae17e_row3_col5\" class=\"data row3 col5\" >0.000</td>\n",
       "    </tr>\n",
       "  </tbody>\n",
       "</table>\n"
      ],
      "text/plain": [
       "<pandas.io.formats.style.Styler at 0x1562e3b80>"
      ]
     },
     "execution_count": null,
     "metadata": {},
     "output_type": "execute_result"
    }
   ],
   "source": [
    "sm.show(df, n_decimals=3)"
   ]
  },
  {
   "cell_type": "markdown",
   "metadata": {},
   "source": [
    "Let's also do a parallel coordinates plot."
   ]
  },
  {
   "cell_type": "code",
   "execution_count": null,
   "metadata": {},
   "outputs": [
    {
     "data": {
      "image/png": "[encoded data removed]",
      "text/plain": [
       "<Figure size 600x250 with 7 Axes>"
      ]
     },
     "metadata": {},
     "output_type": "display_data"
    }
   ],
   "source": [
    "sm.parallel_coordinates(df, arrow_size=12, figsize=(6, 2.5))"
   ]
  },
  {
   "cell_type": "markdown",
   "metadata": {},
   "source": [
    "We are particularly interested in the following metric.\n"
   ]
  },
  {
   "cell_type": "code",
   "execution_count": null,
   "metadata": {},
   "outputs": [
    {
     "data": {
      "image/png": "[encoded data removed]",
      "text/plain": [
       "<Figure size 400x300 with 1 Axes>"
      ]
     },
     "metadata": {},
     "output_type": "display_data"
    }
   ],
   "source": [
    "sm.barplot(df, \"Gravy\")"
   ]
  },
  {
   "cell_type": "markdown",
   "metadata": {},
   "source": [
    "Let's extract the two rows with lowest Gravy."
   ]
  },
  {
   "cell_type": "code",
   "execution_count": null,
   "metadata": {},
   "outputs": [
    {
     "data": {
      "text/html": [
       "<style type=\"text/css\">\n",
       "#T_e640c th.col_heading {\n",
       "  text-align: center;\n",
       "}\n",
       "#T_e640c td {\n",
       "  border-right: 1px solid #ccc;\n",
       "}\n",
       "#T_e640c th.row_heading {\n",
       "  border-right: 1px solid #ccc;\n",
       "}\n",
       "#T_e640c_row0_col0, #T_e640c_row0_col1, #T_e640c_row0_col3, #T_e640c_row1_col0, #T_e640c_row1_col2, #T_e640c_row1_col4, #T_e640c_row1_col5 {\n",
       "  background-color: #68d6bc;\n",
       "  font-weight: bold;\n",
       "}\n",
       "#T_e640c_row0_col2, #T_e640c_row0_col4, #T_e640c_row0_col5, #T_e640c_row1_col1, #T_e640c_row1_col3 {\n",
       "  text-decoration: underline;\n",
       "}\n",
       "</style>\n",
       "<table id=\"T_e640c\">\n",
       "  <thead>\n",
       "    <tr>\n",
       "      <th class=\"blank level0\" >&nbsp;</th>\n",
       "      <th id=\"T_e640c_level0_col0\" class=\"col_heading level0 col0\" >Uniqueness↑</th>\n",
       "      <th id=\"T_e640c_level0_col1\" class=\"col_heading level0 col1\" >Novelty (UniProt)↑</th>\n",
       "      <th id=\"T_e640c_level0_col2\" class=\"col_heading level0 col2\" >Diversity↑</th>\n",
       "      <th id=\"T_e640c_level0_col3\" class=\"col_heading level0 col3\" >FBD↓</th>\n",
       "      <th id=\"T_e640c_level0_col4\" class=\"col_heading level0 col4\" >Gravy↓</th>\n",
       "      <th id=\"T_e640c_level0_col5\" class=\"col_heading level0 col5\" >Hit-rate↑</th>\n",
       "    </tr>\n",
       "  </thead>\n",
       "  <tbody>\n",
       "    <tr>\n",
       "      <th id=\"T_e640c_level0_row0\" class=\"row_heading level0 row0\" >Random</th>\n",
       "      <td id=\"T_e640c_row0_col0\" class=\"data row0 col0\" >1.00</td>\n",
       "      <td id=\"T_e640c_row0_col1\" class=\"data row0 col1\" >1.00</td>\n",
       "      <td id=\"T_e640c_row0_col2\" class=\"data row0 col2\" >0.87</td>\n",
       "      <td id=\"T_e640c_row0_col3\" class=\"data row0 col3\" >0.00</td>\n",
       "      <td id=\"T_e640c_row0_col4\" class=\"data row0 col4\" >-1.91±1.46</td>\n",
       "      <td id=\"T_e640c_row0_col5\" class=\"data row0 col5\" >0.33</td>\n",
       "    </tr>\n",
       "    <tr>\n",
       "      <th id=\"T_e640c_level0_row1\" class=\"row_heading level0 row1\" >UniProt</th>\n",
       "      <td id=\"T_e640c_row1_col0\" class=\"data row1 col0\" >1.00</td>\n",
       "      <td id=\"T_e640c_row1_col1\" class=\"data row1 col1\" >0.00</td>\n",
       "      <td id=\"T_e640c_row1_col2\" class=\"data row1 col2\" >1.00</td>\n",
       "      <td id=\"T_e640c_row1_col3\" class=\"data row1 col3\" >3.96</td>\n",
       "      <td id=\"T_e640c_row1_col4\" class=\"data row1 col4\" >-2.40±0.65</td>\n",
       "      <td id=\"T_e640c_row1_col5\" class=\"data row1 col5\" >0.50</td>\n",
       "    </tr>\n",
       "  </tbody>\n",
       "</table>\n"
      ],
      "text/plain": [
       "<pandas.io.formats.style.Styler at 0x1569b3e50>"
      ]
     },
     "execution_count": null,
     "metadata": {},
     "output_type": "execute_result"
    }
   ],
   "source": [
    "sm.show(sm.top_k(df, \"Gravy\", k=2))"
   ]
  },
  {
   "cell_type": "markdown",
   "metadata": {},
   "source": [
    "To write a metric dataframe to disk, encode the dataframe as a pickle object.\n"
   ]
  },
  {
   "cell_type": "code",
   "execution_count": null,
   "metadata": {},
   "outputs": [
    {
     "data": {
      "text/html": [
       "<style type=\"text/css\">\n",
       "#T_a1537 th.col_heading {\n",
       "  text-align: center;\n",
       "}\n",
       "#T_a1537 td {\n",
       "  border-right: 1px solid #ccc;\n",
       "}\n",
       "#T_a1537 th.row_heading {\n",
       "  border-right: 1px solid #ccc;\n",
       "}\n",
       "#T_a1537_row0_col0, #T_a1537_row0_col1, #T_a1537_row0_col3, #T_a1537_row1_col0, #T_a1537_row1_col2, #T_a1537_row1_col4, #T_a1537_row1_col5, #T_a1537_row2_col1, #T_a1537_row3_col0, #T_a1537_row3_col1 {\n",
       "  background-color: #68d6bcff;\n",
       "  font-weight: bold;\n",
       "}\n",
       "#T_a1537_row0_col2 {\n",
       "  background-color: #68d6bc91;\n",
       "  text-decoration: underline;\n",
       "}\n",
       "#T_a1537_row0_col4 {\n",
       "  background-color: #68d6bc74;\n",
       "  text-decoration: underline;\n",
       "}\n",
       "#T_a1537_row0_col5 {\n",
       "  background-color: #68d6bca8;\n",
       "  text-decoration: underline;\n",
       "}\n",
       "#T_a1537_row1_col1, #T_a1537_row2_col0, #T_a1537_row2_col2, #T_a1537_row2_col3, #T_a1537_row2_col5, #T_a1537_row3_col4, #T_a1537_row3_col5 {\n",
       "  background-color: #68d6bc00;\n",
       "}\n",
       "#T_a1537_row1_col3 {\n",
       "  background-color: #68d6bc8a;\n",
       "  text-decoration: underline;\n",
       "}\n",
       "#T_a1537_row2_col4 {\n",
       "  background-color: #68d6bc24;\n",
       "}\n",
       "#T_a1537_row3_col2 {\n",
       "  background-color: #68d6bc55;\n",
       "}\n",
       "#T_a1537_row3_col3 {\n",
       "  background-color: #68d6bc0b;\n",
       "}\n",
       "</style>\n",
       "<table id=\"T_a1537\">\n",
       "  <thead>\n",
       "    <tr>\n",
       "      <th class=\"blank level0\" >&nbsp;</th>\n",
       "      <th id=\"T_a1537_level0_col0\" class=\"col_heading level0 col0\" >Uniqueness↑</th>\n",
       "      <th id=\"T_a1537_level0_col1\" class=\"col_heading level0 col1\" >Novelty (UniProt)↑</th>\n",
       "      <th id=\"T_a1537_level0_col2\" class=\"col_heading level0 col2\" >Diversity↑</th>\n",
       "      <th id=\"T_a1537_level0_col3\" class=\"col_heading level0 col3\" >FBD↓</th>\n",
       "      <th id=\"T_a1537_level0_col4\" class=\"col_heading level0 col4\" >Gravy↓</th>\n",
       "      <th id=\"T_a1537_level0_col5\" class=\"col_heading level0 col5\" >Hit-rate↑</th>\n",
       "    </tr>\n",
       "  </thead>\n",
       "  <tbody>\n",
       "    <tr>\n",
       "      <th id=\"T_a1537_level0_row0\" class=\"row_heading level0 row0\" >Random</th>\n",
       "      <td id=\"T_a1537_row0_col0\" class=\"data row0 col0\" >1.00</td>\n",
       "      <td id=\"T_a1537_row0_col1\" class=\"data row0 col1\" >1.00</td>\n",
       "      <td id=\"T_a1537_row0_col2\" class=\"data row0 col2\" >0.87</td>\n",
       "      <td id=\"T_a1537_row0_col3\" class=\"data row0 col3\" >0.00</td>\n",
       "      <td id=\"T_a1537_row0_col4\" class=\"data row0 col4\" >-1.91±1.46</td>\n",
       "      <td id=\"T_a1537_row0_col5\" class=\"data row0 col5\" >0.33</td>\n",
       "    </tr>\n",
       "    <tr>\n",
       "      <th id=\"T_a1537_level0_row1\" class=\"row_heading level0 row1\" >UniProt</th>\n",
       "      <td id=\"T_a1537_row1_col0\" class=\"data row1 col0\" >1.00</td>\n",
       "      <td id=\"T_a1537_row1_col1\" class=\"data row1 col1\" >0.00</td>\n",
       "      <td id=\"T_a1537_row1_col2\" class=\"data row1 col2\" >1.00</td>\n",
       "      <td id=\"T_a1537_row1_col3\" class=\"data row1 col3\" >3.96</td>\n",
       "      <td id=\"T_a1537_row1_col4\" class=\"data row1 col4\" >-2.40±0.65</td>\n",
       "      <td id=\"T_a1537_row1_col5\" class=\"data row1 col5\" >0.50</td>\n",
       "    </tr>\n",
       "    <tr>\n",
       "      <th id=\"T_a1537_level0_row2\" class=\"row_heading level0 row2\" >HydrAMP</th>\n",
       "      <td id=\"T_a1537_row2_col0\" class=\"data row2 col0\" >0.75</td>\n",
       "      <td id=\"T_a1537_row2_col1\" class=\"data row2 col1\" >1.00</td>\n",
       "      <td id=\"T_a1537_row2_col2\" class=\"data row2 col2\" >0.70</td>\n",
       "      <td id=\"T_a1537_row2_col3\" class=\"data row2 col3\" >8.60</td>\n",
       "      <td id=\"T_a1537_row2_col4\" class=\"data row2 col4\" >-1.63±0.36</td>\n",
       "      <td id=\"T_a1537_row2_col5\" class=\"data row2 col5\" >0.00</td>\n",
       "    </tr>\n",
       "    <tr>\n",
       "      <th id=\"T_a1537_level0_row3\" class=\"row_heading level0 row3\" >hyformer</th>\n",
       "      <td id=\"T_a1537_row3_col0\" class=\"data row3 col0\" >1.00</td>\n",
       "      <td id=\"T_a1537_row3_col1\" class=\"data row3 col1\" >1.00</td>\n",
       "      <td id=\"T_a1537_row3_col2\" class=\"data row3 col2\" >0.80</td>\n",
       "      <td id=\"T_a1537_row3_col3\" class=\"data row3 col3\" >8.23</td>\n",
       "      <td id=\"T_a1537_row3_col4\" class=\"data row3 col4\" >-1.50±0.10</td>\n",
       "      <td id=\"T_a1537_row3_col5\" class=\"data row3 col5\" >0.00</td>\n",
       "    </tr>\n",
       "  </tbody>\n",
       "</table>\n"
      ],
      "text/plain": [
       "<pandas.io.formats.style.Styler at 0x156a94ee0>"
      ]
     },
     "execution_count": null,
     "metadata": {},
     "output_type": "execute_result"
    }
   ],
   "source": [
    "PATH = \"./metrics_dataframe.pkl\"\n",
    "\n",
    "df.to_pickle(PATH)\n",
    "sm.show(pd.read_pickle(PATH), color_style=\"gradient\")"
   ]
  },
  {
   "cell_type": "markdown",
   "metadata": {},
   "source": [
    "It is also possible to export the dataframe to a LaTeX table or a PNG as shown below.\n",
    "\n",
    "To save the styled metric dataframe to a png, we use `dataframe_image`.\n"
   ]
  },
  {
   "cell_type": "code",
   "execution_count": null,
   "metadata": {},
   "outputs": [],
   "source": [
    "# !pip install dataframe_image"
   ]
  },
  {
   "cell_type": "code",
   "execution_count": null,
   "metadata": {},
   "outputs": [],
   "source": [
    "SAVE_TABLE = True\n",
    "\n",
    "if SAVE_TABLE:\n",
    "    # save to LaTeX\n",
    "    sm.to_latex(df, \"table.tex\", n_decimals=3, color=None, caption=\"My first table\")\n",
    "\n",
    "    # save to PNG\n",
    "    import dataframe_image as dfi\n",
    "\n",
    "    styler = sm.show(df, n_decimals=3, color_style=\"bar\")\n",
    "    await dfi.export_async(styler, \"table.png\", dpi=300)"
   ]
  },
  {
   "cell_type": "markdown",
   "metadata": {},
   "source": [
    "That it all for the basic usage of seqme. Let's look at some more advanced features!\n"
   ]
  },
  {
   "cell_type": "markdown",
   "metadata": {},
   "source": [
    "## Advanced\n"
   ]
  },
  {
   "cell_type": "markdown",
   "metadata": {},
   "source": [
    "In the advanced section, we show how to\n",
    "\n",
    "- Combine multiple metric dataframes into one.\n",
    "- Improve performance through caching.\n",
    "- Create your own metric.\n"
   ]
  },
  {
   "cell_type": "markdown",
   "metadata": {},
   "source": [
    "### Combining metric dataframes\n",
    "\n",
    "seqme's `combine` can combine metric dataframes with different sequences and/or metrics. This can be useful if you want to evaluate the sequences on an additional metric or add an additional set of sequences for evaluation - without needing to recompute the results.\n"
   ]
  },
  {
   "cell_type": "markdown",
   "metadata": {},
   "source": [
    "Let's create three metric dataframes.\n"
   ]
  },
  {
   "cell_type": "code",
   "execution_count": null,
   "metadata": {},
   "outputs": [],
   "source": [
    "df1 = sm.evaluate(\n",
    "    sequences={\n",
    "        \"s1\": [\"KKKKK\", \"PLUQ\", \"RKSPL\"],\n",
    "        \"s2\": sm.random_subset([\"KKWQ\", \"RKSPL\", \"RASD\"], n_samples=2, seed=42),\n",
    "        \"s3\": [\"MMRK\", \"RKSPL\", \"RRLSK\"],\n",
    "        \"s4\": [\"MKQW\", \"RKSPL\"],\n",
    "    },\n",
    "    metrics=[\n",
    "        sm.metrics.Novelty(reference=[\"KKW\", \"RKSPL\"]),\n",
    "        sm.metrics.Novelty(reference=[\"RASD\", \"KKKQ\", \"LPTUY\"], reference_name=\"Random\"),\n",
    "    ],\n",
    "    verbose=False,\n",
    ")\n",
    "\n",
    "df2 = sm.evaluate(\n",
    "    sequences={\"s4\": [\"MKQW\", \"RKSPL\"], \"s5\": [\"MKQW\"]},\n",
    "    metrics=[sm.metrics.ID(sm.models.Gravy(), name=\"Gravy\", objective=\"minimize\")],\n",
    "    verbose=False,\n",
    ")\n",
    "\n",
    "df3 = sm.evaluate(\n",
    "    sequences={\"s6\": [\"MKQW\", \"RKSPL\"]},\n",
    "    metrics=[\n",
    "        sm.metrics.ID(sm.models.Gravy(), name=\"Gravy\", objective=\"minimize\"),\n",
    "        sm.metrics.Novelty(reference=[\"KKW\", \"RKSPL\"]),\n",
    "    ],\n",
    "    verbose=False,\n",
    ")"
   ]
  },
  {
   "cell_type": "markdown",
   "metadata": {},
   "source": [
    "Let's combine the dataframes.\n"
   ]
  },
  {
   "cell_type": "code",
   "execution_count": null,
   "metadata": {},
   "outputs": [],
   "source": [
    "df = sm.combine([df1, df2, df3])"
   ]
  },
  {
   "cell_type": "code",
   "execution_count": null,
   "metadata": {},
   "outputs": [
    {
     "data": {
      "text/html": [
       "<div>\n",
       "<style scoped>\n",
       "    .dataframe tbody tr th:only-of-type {\n",
       "        vertical-align: middle;\n",
       "    }\n",
       "\n",
       "    .dataframe tbody tr th {\n",
       "        vertical-align: top;\n",
       "    }\n",
       "\n",
       "    .dataframe thead tr th {\n",
       "        text-align: left;\n",
       "    }\n",
       "</style>\n",
       "<table border=\"1\" class=\"dataframe\">\n",
       "  <thead>\n",
       "    <tr>\n",
       "      <th></th>\n",
       "      <th colspan=\"2\" halign=\"left\">Novelty</th>\n",
       "      <th colspan=\"2\" halign=\"left\">Novelty (Random)</th>\n",
       "      <th colspan=\"2\" halign=\"left\">Gravy</th>\n",
       "    </tr>\n",
       "    <tr>\n",
       "      <th></th>\n",
       "      <th>value</th>\n",
       "      <th>deviation</th>\n",
       "      <th>value</th>\n",
       "      <th>deviation</th>\n",
       "      <th>value</th>\n",
       "      <th>deviation</th>\n",
       "    </tr>\n",
       "  </thead>\n",
       "  <tbody>\n",
       "    <tr>\n",
       "      <th>s1</th>\n",
       "      <td>0.666667</td>\n",
       "      <td>NaN</td>\n",
       "      <td>1.0</td>\n",
       "      <td>NaN</td>\n",
       "      <td>NaN</td>\n",
       "      <td>NaN</td>\n",
       "    </tr>\n",
       "    <tr>\n",
       "      <th>s2</th>\n",
       "      <td>1.000000</td>\n",
       "      <td>NaN</td>\n",
       "      <td>0.5</td>\n",
       "      <td>NaN</td>\n",
       "      <td>NaN</td>\n",
       "      <td>NaN</td>\n",
       "    </tr>\n",
       "    <tr>\n",
       "      <th>s3</th>\n",
       "      <td>0.666667</td>\n",
       "      <td>NaN</td>\n",
       "      <td>1.0</td>\n",
       "      <td>NaN</td>\n",
       "      <td>NaN</td>\n",
       "      <td>NaN</td>\n",
       "    </tr>\n",
       "    <tr>\n",
       "      <th>s4</th>\n",
       "      <td>0.500000</td>\n",
       "      <td>NaN</td>\n",
       "      <td>1.0</td>\n",
       "      <td>NaN</td>\n",
       "      <td>-1.5</td>\n",
       "      <td>0.1</td>\n",
       "    </tr>\n",
       "    <tr>\n",
       "      <th>s5</th>\n",
       "      <td>NaN</td>\n",
       "      <td>NaN</td>\n",
       "      <td>NaN</td>\n",
       "      <td>NaN</td>\n",
       "      <td>-1.6</td>\n",
       "      <td>0.0</td>\n",
       "    </tr>\n",
       "    <tr>\n",
       "      <th>s6</th>\n",
       "      <td>0.500000</td>\n",
       "      <td>NaN</td>\n",
       "      <td>NaN</td>\n",
       "      <td>NaN</td>\n",
       "      <td>-1.5</td>\n",
       "      <td>0.1</td>\n",
       "    </tr>\n",
       "  </tbody>\n",
       "</table>\n",
       "</div>"
      ],
      "text/plain": [
       "     Novelty           Novelty (Random)           Gravy          \n",
       "       value deviation            value deviation value deviation\n",
       "s1  0.666667       NaN              1.0       NaN   NaN       NaN\n",
       "s2  1.000000       NaN              0.5       NaN   NaN       NaN\n",
       "s3  0.666667       NaN              1.0       NaN   NaN       NaN\n",
       "s4  0.500000       NaN              1.0       NaN  -1.5       0.1\n",
       "s5       NaN       NaN              NaN       NaN  -1.6       0.0\n",
       "s6  0.500000       NaN              NaN       NaN  -1.5       0.1"
      ]
     },
     "execution_count": null,
     "metadata": {},
     "output_type": "execute_result"
    }
   ],
   "source": [
    "df"
   ]
  },
  {
   "cell_type": "markdown",
   "metadata": {},
   "source": [
    "... let's make it nicer to look at.\n"
   ]
  },
  {
   "cell_type": "code",
   "execution_count": null,
   "metadata": {},
   "outputs": [
    {
     "data": {
      "text/html": [
       "<style type=\"text/css\">\n",
       "#T_a4a3e th.col_heading {\n",
       "  text-align: center;\n",
       "}\n",
       "#T_a4a3e td {\n",
       "  border-right: 1px solid #ccc;\n",
       "}\n",
       "#T_a4a3e th.row_heading {\n",
       "  border-right: 1px solid #ccc;\n",
       "}\n",
       "#T_a4a3e_row0_col0, #T_a4a3e_row2_col0, #T_a4a3e_row3_col2, #T_a4a3e_row5_col2 {\n",
       "  text-decoration: underline;\n",
       "}\n",
       "#T_a4a3e_row0_col1, #T_a4a3e_row1_col0, #T_a4a3e_row2_col1, #T_a4a3e_row3_col1, #T_a4a3e_row4_col2 {\n",
       "  background-color: #d66868;\n",
       "  font-weight: bold;\n",
       "}\n",
       "</style>\n",
       "<table id=\"T_a4a3e\">\n",
       "  <thead>\n",
       "    <tr>\n",
       "      <th class=\"blank level0\" >&nbsp;</th>\n",
       "      <th id=\"T_a4a3e_level0_col0\" class=\"col_heading level0 col0\" >Novelty↑</th>\n",
       "      <th id=\"T_a4a3e_level0_col1\" class=\"col_heading level0 col1\" >Novelty (Random)↑</th>\n",
       "      <th id=\"T_a4a3e_level0_col2\" class=\"col_heading level0 col2\" >Gravy↓</th>\n",
       "    </tr>\n",
       "  </thead>\n",
       "  <tbody>\n",
       "    <tr>\n",
       "      <th id=\"T_a4a3e_level0_row0\" class=\"row_heading level0 row0\" >s1</th>\n",
       "      <td id=\"T_a4a3e_row0_col0\" class=\"data row0 col0\" >0.667</td>\n",
       "      <td id=\"T_a4a3e_row0_col1\" class=\"data row0 col1\" >1.00</td>\n",
       "      <td id=\"T_a4a3e_row0_col2\" class=\"data row0 col2\" >-</td>\n",
       "    </tr>\n",
       "    <tr>\n",
       "      <th id=\"T_a4a3e_level0_row1\" class=\"row_heading level0 row1\" >s2</th>\n",
       "      <td id=\"T_a4a3e_row1_col0\" class=\"data row1 col0\" >1.000</td>\n",
       "      <td id=\"T_a4a3e_row1_col1\" class=\"data row1 col1\" >0.50</td>\n",
       "      <td id=\"T_a4a3e_row1_col2\" class=\"data row1 col2\" >-</td>\n",
       "    </tr>\n",
       "    <tr>\n",
       "      <th id=\"T_a4a3e_level0_row2\" class=\"row_heading level0 row2\" >s3</th>\n",
       "      <td id=\"T_a4a3e_row2_col0\" class=\"data row2 col0\" >0.667</td>\n",
       "      <td id=\"T_a4a3e_row2_col1\" class=\"data row2 col1\" >1.00</td>\n",
       "      <td id=\"T_a4a3e_row2_col2\" class=\"data row2 col2\" >-</td>\n",
       "    </tr>\n",
       "    <tr>\n",
       "      <th id=\"T_a4a3e_level0_row3\" class=\"row_heading level0 row3\" >s4</th>\n",
       "      <td id=\"T_a4a3e_row3_col0\" class=\"data row3 col0\" >0.500</td>\n",
       "      <td id=\"T_a4a3e_row3_col1\" class=\"data row3 col1\" >1.00</td>\n",
       "      <td id=\"T_a4a3e_row3_col2\" class=\"data row3 col2\" >-1.5±0.1</td>\n",
       "    </tr>\n",
       "    <tr>\n",
       "      <th id=\"T_a4a3e_level0_row4\" class=\"row_heading level0 row4\" >s5</th>\n",
       "      <td id=\"T_a4a3e_row4_col0\" class=\"data row4 col0\" >-</td>\n",
       "      <td id=\"T_a4a3e_row4_col1\" class=\"data row4 col1\" >-</td>\n",
       "      <td id=\"T_a4a3e_row4_col2\" class=\"data row4 col2\" >-1.6±0.0</td>\n",
       "    </tr>\n",
       "    <tr>\n",
       "      <th id=\"T_a4a3e_level0_row5\" class=\"row_heading level0 row5\" >s6</th>\n",
       "      <td id=\"T_a4a3e_row5_col0\" class=\"data row5 col0\" >0.500</td>\n",
       "      <td id=\"T_a4a3e_row5_col1\" class=\"data row5 col1\" >-</td>\n",
       "      <td id=\"T_a4a3e_row5_col2\" class=\"data row5 col2\" >-1.5±0.1</td>\n",
       "    </tr>\n",
       "  </tbody>\n",
       "</table>\n"
      ],
      "text/plain": [
       "<pandas.io.formats.style.Styler at 0x155e2beb0>"
      ]
     },
     "execution_count": null,
     "metadata": {},
     "output_type": "execute_result"
    }
   ],
   "source": [
    "sm.show(df, n_decimals=[3, 2, 1], color=\"#d66868\")"
   ]
  },
  {
   "cell_type": "code",
   "execution_count": null,
   "metadata": {},
   "outputs": [
    {
     "data": {
      "image/png": "[encoded data removed]",
      "text/plain": [
       "<Figure size 400x300 with 1 Axes>"
      ]
     },
     "metadata": {},
     "output_type": "display_data"
    }
   ],
   "source": [
    "sm.barplot(df, \"Novelty\", color=\"#d66868\", ylim=(0.0, 1.1), x_ticks_rotation=0.0)"
   ]
  },
  {
   "cell_type": "markdown",
   "metadata": {},
   "source": [
    "Notice missing values (e.g., \"Novelty\" for \"s5\") are not shown in the barplot.\n"
   ]
  },
  {
   "cell_type": "markdown",
   "metadata": {},
   "source": [
    "### Caching\n",
    "\n",
    "Discriminators and embedders can be computational expensive to execute. To reduce the number of function evaluations for these models, we can cache the results of discriminators and embedders.\n",
    "\n",
    "The cache works like this: If a (sequence, embedding)-pair is already stored in the cache then retrieve the embedding. Otherwise compute the embedding, store the pair in the cache and retrieve the embedding.\n",
    "\n",
    "Let's create two toy models and the cache.\n"
   ]
  },
  {
   "cell_type": "code",
   "execution_count": null,
   "metadata": {},
   "outputs": [],
   "source": [
    "def my_embedder(sequences: list[str]) -> np.ndarray:\n",
    "    lengths = [len(sequence) for sequence in sequences]\n",
    "    counts = [sequence.count(\"K\") for sequence in sequences]\n",
    "    return np.array([lengths, counts]).T\n",
    "\n",
    "\n",
    "def my_discriminator(sequences: list[str]) -> np.ndarray:\n",
    "    return np.ones(len(sequences)) * 0.85\n",
    "\n",
    "\n",
    "cache = sm.Cache(models={\"embedder\": my_embedder, \"discriminator\": my_discriminator})"
   ]
  },
  {
   "cell_type": "markdown",
   "metadata": {},
   "source": [
    "Optional: We can manually add model outputs to the cache. This is useful when e.g., (sequence, embedding)-pairs are already pre-computed and stored in a file.\n"
   ]
  },
  {
   "cell_type": "code",
   "execution_count": null,
   "metadata": {},
   "outputs": [],
   "source": [
    "seqs = [\"MKQW\", \"AA\", \"BB\"]\n",
    "reps = my_embedder(seqs)\n",
    "\n",
    "pairs = dict(zip(seqs, reps, strict=True))\n",
    "\n",
    "cache.add(model_name=\"embedder\", element=pairs)"
   ]
  },
  {
   "cell_type": "markdown",
   "metadata": {},
   "source": [
    "Let's compute the metrics. Since both the `Precision` and `Recall` metric use the same embedding model (`embedder`), the embedding is only computed once per sequence in `sequences` (instead of twice)!\n",
    "\n",
    "Notice, we now use `cache.model()` instead of the embedder reference (`my_embedder`) directly.\n"
   ]
  },
  {
   "cell_type": "code",
   "execution_count": null,
   "metadata": {},
   "outputs": [
    {
     "name": "stderr",
     "output_type": "stream",
     "text": [
      "100%|██████████| 6/6 [00:00<00:00, 433.52it/s, data=Random, metric=Recall]    \n"
     ]
    },
    {
     "data": {
      "text/html": [
       "<style type=\"text/css\">\n",
       "#T_b85c7 th.col_heading {\n",
       "  text-align: center;\n",
       "}\n",
       "#T_b85c7 td {\n",
       "  border-right: 1px solid #ccc;\n",
       "}\n",
       "#T_b85c7 th.row_heading {\n",
       "  border-right: 1px solid #ccc;\n",
       "}\n",
       "#T_b85c7_row0_col0, #T_b85c7_row1_col1 {\n",
       "  background-color: #69bce8;\n",
       "  font-weight: bold;\n",
       "}\n",
       "#T_b85c7_row1_col0, #T_b85c7_row2_col1 {\n",
       "  text-decoration: underline;\n",
       "}\n",
       "</style>\n",
       "<table id=\"T_b85c7\">\n",
       "  <thead>\n",
       "    <tr>\n",
       "      <th class=\"blank level0\" >&nbsp;</th>\n",
       "      <th id=\"T_b85c7_level0_col0\" class=\"col_heading level0 col0\" >Precision↑</th>\n",
       "      <th id=\"T_b85c7_level0_col1\" class=\"col_heading level0 col1\" >Recall↑</th>\n",
       "    </tr>\n",
       "  </thead>\n",
       "  <tbody>\n",
       "    <tr>\n",
       "      <th id=\"T_b85c7_level0_row0\" class=\"row_heading level0 row0\" >hyformer</th>\n",
       "      <td id=\"T_b85c7_row0_col0\" class=\"data row0 col0\" >0.67</td>\n",
       "      <td id=\"T_b85c7_row0_col1\" class=\"data row0 col1\" >0.00</td>\n",
       "    </tr>\n",
       "    <tr>\n",
       "      <th id=\"T_b85c7_level0_row1\" class=\"row_heading level0 row1\" >HydrAMP</th>\n",
       "      <td id=\"T_b85c7_row1_col0\" class=\"data row1 col0\" >0.50</td>\n",
       "      <td id=\"T_b85c7_row1_col1\" class=\"data row1 col1\" >0.67</td>\n",
       "    </tr>\n",
       "    <tr>\n",
       "      <th id=\"T_b85c7_level0_row2\" class=\"row_heading level0 row2\" >Random</th>\n",
       "      <td id=\"T_b85c7_row2_col0\" class=\"data row2 col0\" >0.00</td>\n",
       "      <td id=\"T_b85c7_row2_col1\" class=\"data row2 col1\" >0.33</td>\n",
       "    </tr>\n",
       "  </tbody>\n",
       "</table>\n"
      ],
      "text/plain": [
       "<pandas.io.formats.style.Styler at 0x15588a860>"
      ]
     },
     "execution_count": null,
     "metadata": {},
     "output_type": "execute_result"
    }
   ],
   "source": [
    "df = sm.evaluate(\n",
    "    sequences={\n",
    "        \"hyformer\": [\"RMKQW\", \"RKSPL\", \"RRRASD\"],\n",
    "        \"HydrAMP\": [\"MKQW\", \"RKSPLP\"],\n",
    "        \"Random\": [\"AAA\", \"PPPPP\"],\n",
    "    },\n",
    "    metrics=[\n",
    "        sm.metrics.Precision(\n",
    "            reference=[\"AKWR\", \"AKKR\", \"KKKK\"],\n",
    "            embedder=cache.model(\"embedder\"),\n",
    "            neighborhood_size=1,\n",
    "            strict=False,\n",
    "        ),\n",
    "        sm.metrics.Recall(\n",
    "            reference=[\"AKWR\", \"AKKR\", \"KKKK\"],\n",
    "            embedder=cache.model(\"embedder\"),\n",
    "            neighborhood_size=1,\n",
    "            strict=False,\n",
    "        ),\n",
    "    ],\n",
    ")\n",
    "\n",
    "sm.show(df, color=\"#69bce8\")"
   ]
  },
  {
   "cell_type": "markdown",
   "metadata": {},
   "source": [
    "Let's write the cached (sequence, embedding)-pairs for each model to a file and reinitialize the cache.\n"
   ]
  },
  {
   "cell_type": "code",
   "execution_count": null,
   "metadata": {},
   "outputs": [
    {
     "name": "stdout",
     "output_type": "stream",
     "text": [
      "{'discriminator': {},\n",
      " 'embedder': {'AA': array([2, 0]),\n",
      "              'AAA': array([3, 0]),\n",
      "              'AKKR': array([4, 2]),\n",
      "              'AKWR': array([4, 1]),\n",
      "              'BB': array([2, 0]),\n",
      "              'KKKK': array([4, 4]),\n",
      "              'MKQW': array([4, 1]),\n",
      "              'PPPPP': array([5, 0]),\n",
      "              'RKSPL': array([5, 1]),\n",
      "              'RKSPLP': array([6, 1]),\n",
      "              'RMKQW': array([5, 1]),\n",
      "              'RRRASD': array([6, 0])}}\n"
     ]
    }
   ],
   "source": [
    "PATH = \"precomputed.pkl\"\n",
    "\n",
    "with open(PATH, \"wb\") as f:\n",
    "    pickle.dump(cache.get(), f)\n",
    "\n",
    "with open(PATH, \"rb\") as f:\n",
    "    precomputed = pickle.load(f)\n",
    "\n",
    "cache = sm.Cache(init_cache=precomputed)\n",
    "pprint(cache.get())"
   ]
  },
  {
   "cell_type": "markdown",
   "metadata": {},
   "source": [
    "**Tip:** \n",
    "The cache can become very useful if you use an external tool to predict sequence properties, e.g., a command-line tool or a tool implemented in another programming language. Now you want to use these predictions in seqme to a compute metric. To do so, 1. read the predictions stored in a file and 2. pre-init the `Cache` with these (sequence, predictions)-pairs."
   ]
  },
  {
   "cell_type": "markdown",
   "metadata": {},
   "source": [
    "### Creating a new metric\n"
   ]
  },
  {
   "cell_type": "markdown",
   "metadata": {},
   "source": [
    "You can also integrate your own metrics into seqme through the `Metric` interface as shown below.\n"
   ]
  },
  {
   "cell_type": "code",
   "execution_count": null,
   "metadata": {},
   "outputs": [],
   "source": [
    "class MyMetric(sm.Metric):\n",
    "    def __init__(self, amino_acid: str, minimize: bool = True):\n",
    "        self.amino_acid = amino_acid\n",
    "        self.minimize = minimize\n",
    "\n",
    "    def __call__(self, sequences: list[str]) -> sm.MetricResult:\n",
    "        aa_count = sum([seq.count(self.amino_acid) for seq in sequences])\n",
    "        aa_total = sum([len(sequence) for sequence in sequences])\n",
    "        return sm.MetricResult(aa_count / aa_total)\n",
    "\n",
    "    @property\n",
    "    def name(self) -> str:\n",
    "        return f\"{self.amino_acid}-frequency\"\n",
    "\n",
    "    @property\n",
    "    def objective(self) -> Literal[\"minimize\", \"maximize\"]:\n",
    "        return \"minimize\" if self.minimize else \"maximize\""
   ]
  },
  {
   "cell_type": "markdown",
   "metadata": {},
   "source": [
    "Let's use our new metric.\n"
   ]
  },
  {
   "cell_type": "code",
   "execution_count": null,
   "metadata": {},
   "outputs": [
    {
     "name": "stderr",
     "output_type": "stream",
     "text": [
      "100%|██████████| 6/6 [00:00<00:00, 1342.54it/s, data=Random, metric=R-frequency]  \n"
     ]
    },
    {
     "data": {
      "text/html": [
       "<style type=\"text/css\">\n",
       "#T_490bb th.col_heading {\n",
       "  text-align: center;\n",
       "}\n",
       "#T_490bb td {\n",
       "  border-right: 1px solid #ccc;\n",
       "}\n",
       "#T_490bb th.row_heading {\n",
       "  border-right: 1px solid #ccc;\n",
       "}\n",
       "#T_490bb caption {\n",
       "  caption-side: bottom;\n",
       "  margin-top: 0.75em;\n",
       "}\n",
       "#T_490bb_row0_col0 {\n",
       "  background: linear-gradient(90deg, #e07fe1 68.2%, transparent 68.2%);\n",
       "  text-decoration: underline;\n",
       "}\n",
       "#T_490bb_row1_col0, #T_490bb_row2_col1 {\n",
       "  background: linear-gradient(90deg, #e07fe1 100.0%, transparent 100.0%);\n",
       "  font-weight: bold;\n",
       "}\n",
       "#T_490bb_row1_col1 {\n",
       "  background: linear-gradient(90deg, #e07fe1 26.7%, transparent 26.7%);\n",
       "  text-decoration: underline;\n",
       "}\n",
       "</style>\n",
       "<table id=\"T_490bb\">\n",
       "  <caption>Table 1. Our first metric 🎉</caption>\n",
       "  <thead>\n",
       "    <tr>\n",
       "      <th class=\"blank level0\" >&nbsp;</th>\n",
       "      <th id=\"T_490bb_level0_col0\" class=\"col_heading level0 col0\" >K-frequency↑</th>\n",
       "      <th id=\"T_490bb_level0_col1\" class=\"col_heading level0 col1\" >R-frequency↓</th>\n",
       "    </tr>\n",
       "  </thead>\n",
       "  <tbody>\n",
       "    <tr>\n",
       "      <th id=\"T_490bb_level0_row0\" class=\"row_heading level0 row0\" >hyformer</th>\n",
       "      <td id=\"T_490bb_row0_col0\" class=\"data row0 col0\" >0.15</td>\n",
       "      <td id=\"T_490bb_row0_col1\" class=\"data row0 col1\" >0.15</td>\n",
       "    </tr>\n",
       "    <tr>\n",
       "      <th id=\"T_490bb_level0_row1\" class=\"row_heading level0 row1\" >HydrAMP</th>\n",
       "      <td id=\"T_490bb_row1_col0\" class=\"data row1 col0\" >0.22</td>\n",
       "      <td id=\"T_490bb_row1_col1\" class=\"data row1 col1\" >0.11</td>\n",
       "    </tr>\n",
       "    <tr>\n",
       "      <th id=\"T_490bb_level0_row2\" class=\"row_heading level0 row2\" >Random</th>\n",
       "      <td id=\"T_490bb_row2_col0\" class=\"data row2 col0\" >0.00</td>\n",
       "      <td id=\"T_490bb_row2_col1\" class=\"data row2 col1\" >0.00</td>\n",
       "    </tr>\n",
       "  </tbody>\n",
       "</table>\n"
      ],
      "text/plain": [
       "<pandas.io.formats.style.Styler at 0x15587dc90>"
      ]
     },
     "execution_count": null,
     "metadata": {},
     "output_type": "execute_result"
    }
   ],
   "source": [
    "df = sm.evaluate(\n",
    "    sequences={\n",
    "        \"hyformer\": [\"MKQW\", \"RKSPL\", \"RASD\"],\n",
    "        \"HydrAMP\": [\"MKQW\", \"RKSPL\"],\n",
    "        \"Random\": [\"AAAA\", \"PPPPP\"],\n",
    "    },\n",
    "    metrics=[\n",
    "        MyMetric(amino_acid=\"K\", minimize=False),\n",
    "        MyMetric(amino_acid=\"R\", minimize=True),\n",
    "    ],\n",
    ")\n",
    "\n",
    "sm.show(df, color=\"#e07fe1\", color_style=\"bar\", caption=\"Table 1. Our first metric 🎉\")"
   ]
  },
  {
   "cell_type": "markdown",
   "metadata": {},
   "source": [
    "We have now covered the main functionality of seqme! 🎉\n",
    "\n",
    "seqme also contains functionality to add third-party models, evaluate embedding models alignment with the property/properties of interest and a few extra things.\n"
   ]
  }
 ],
 "metadata": {
  "kernelspec": {
   "display_name": "Python 3",
   "language": "python",
   "name": "python3"
  },
  "language_info": {
   "codemirror_mode": {
    "name": "ipython",
    "version": 3
   },
   "file_extension": ".py",
   "mimetype": "text/x-python",
   "name": "python",
   "nbconvert_exporter": "python",
   "pygments_lexer": "ipython3",
   "version": "3.10.18"
  }
 },
 "nbformat": 4,
 "nbformat_minor": 2
}
