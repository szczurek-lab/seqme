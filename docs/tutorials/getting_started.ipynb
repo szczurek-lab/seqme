{
 "cells": [
  {
   "cell_type": "markdown",
   "metadata": {},
   "source": [
    "# Getting started\n"
   ]
  },
  {
   "cell_type": "markdown",
   "metadata": {},
   "source": [
    "In this notebook, we show how to use seqme to evaluate sequences and adding your own metric.\n"
   ]
  },
  {
   "cell_type": "markdown",
   "metadata": {},
   "source": [
    "First the imports.\n"
   ]
  },
  {
   "cell_type": "code",
   "execution_count": null,
   "metadata": {},
   "outputs": [],
   "source": [
    "import pickle\n",
    "from pprint import pprint\n",
    "from typing import Literal\n",
    "\n",
    "import numpy as np\n",
    "import pandas as pd\n",
    "\n",
    "from seqme import (\n",
    "    ModelCache,\n",
    "    barplot,\n",
    "    combine_metric_dataframes,\n",
    "    compute_metrics,\n",
    "    show_table,\n",
    ")\n",
    "from seqme.core import Metric, MetricResult\n",
    "from seqme.metrics import FBD, ID, HitRate, Novelty, Precision, Recall, Uniqueness\n",
    "from seqme.models import Gravy\n",
    "from seqme.utils import random_subset, read_fasta_file, write_to_fasta_file"
   ]
  },
  {
   "cell_type": "markdown",
   "metadata": {},
   "source": [
    "## Basics\n"
   ]
  },
  {
   "cell_type": "markdown",
   "metadata": {},
   "source": [
    "Let's define the sequences to use and the metrics to compute. Some sequences will be loaded from fasta files, others are hard-coded.\n"
   ]
  },
  {
   "cell_type": "markdown",
   "metadata": {},
   "source": [
    "First let's write a fasta file with random sequences to disk.\n"
   ]
  },
  {
   "cell_type": "code",
   "execution_count": null,
   "metadata": {},
   "outputs": [],
   "source": [
    "RANDOM_SEQUENCES_PATH = \"./data/random.fasta\""
   ]
  },
  {
   "cell_type": "code",
   "execution_count": null,
   "metadata": {},
   "outputs": [],
   "source": [
    "random_sequences = [\"KKKKK\", \"PLQ\", \"RKSPL\"]\n",
    "\n",
    "write_to_fasta_file(random_sequences, RANDOM_SEQUENCES_PATH)"
   ]
  },
  {
   "cell_type": "markdown",
   "metadata": {},
   "source": [
    "UniProt contains a lot of sequences. To speed-up the metric computations, we will only use a (random) subset of the UniProt sequences.\n"
   ]
  },
  {
   "cell_type": "code",
   "execution_count": null,
   "metadata": {},
   "outputs": [],
   "source": [
    "sequences = {\n",
    "    \"Random\": read_fasta_file(RANDOM_SEQUENCES_PATH),\n",
    "    \"UniProt\": random_subset([\"KKWQ\", \"RKSPL\", \"RASD\"], n_samples=2, seed=42),\n",
    "    \"HydrAMP\": [\"MMRK\", \"RKSPL\", \"RRLSK\", \"RRLSK\"],\n",
    "    \"hyformer\": [\"MKQW\", \"RKSPL\"],\n",
    "}\n",
    "\n",
    "\n",
    "def my_embedder(sequences: list[str]) -> np.ndarray:\n",
    "    lengths = [len(sequence) for sequence in sequences]\n",
    "    counts = [sequence.count(\"K\") for sequence in sequences]\n",
    "    return np.array([lengths, counts]).T"
   ]
  },
  {
   "cell_type": "markdown",
   "metadata": {},
   "source": [
    "Metrics may precompute some values upon metric object creation to speed up the overall process.\n"
   ]
  },
  {
   "cell_type": "code",
   "execution_count": null,
   "metadata": {},
   "outputs": [],
   "source": [
    "def hit_rate_condition_fn(sequences: list[str]) -> np.ndarray:\n",
    "    no_lysine = ~np.array([\"K\" in seq for seq in sequences])\n",
    "    return no_lysine\n",
    "\n",
    "\n",
    "metrics = [\n",
    "    Uniqueness(),\n",
    "    Novelty(reference=sequences[\"UniProt\"], reference_name=\"UniProt\"),\n",
    "    FBD(reference=sequences[\"Random\"], embedder=my_embedder),\n",
    "    ID(Gravy(), name=\"Gravy\", objective=\"minimize\"),\n",
    "    HitRate(condition_fn=hit_rate_condition_fn),\n",
    "]"
   ]
  },
  {
   "cell_type": "markdown",
   "metadata": {},
   "source": [
    "Let's compute the metrics.\n"
   ]
  },
  {
   "cell_type": "code",
   "execution_count": null,
   "metadata": {},
   "outputs": [
    {
     "name": "stderr",
     "output_type": "stream",
     "text": [
      " 35%|███▌      | 7/20 [00:00<00:00, 554.02it/s, data=UniProt, metric=FBD]              /Users/rasmus.larsen/work/hackathon-2025/pepme/src/pepme/metrics/fbd.py:101: LinAlgWarning: Matrix is singular. The result might be inaccurate or the array might not have a square root.\n",
      "  covmean, err = sqrtm(sigma1.dot(sigma2), disp=False)\n",
      "100%|██████████| 20/20 [00:00<00:00, 873.51it/s, data=hyformer, metric=Hit-rate]         \n"
     ]
    }
   ],
   "source": [
    "df = compute_metrics(sequences, metrics)"
   ]
  },
  {
   "cell_type": "markdown",
   "metadata": {},
   "source": [
    "Let's look at the results.\n"
   ]
  },
  {
   "cell_type": "code",
   "execution_count": null,
   "metadata": {},
   "outputs": [
    {
     "data": {
      "text/html": [
       "<div>\n",
       "<style scoped>\n",
       "    .dataframe tbody tr th:only-of-type {\n",
       "        vertical-align: middle;\n",
       "    }\n",
       "\n",
       "    .dataframe tbody tr th {\n",
       "        vertical-align: top;\n",
       "    }\n",
       "\n",
       "    .dataframe thead tr th {\n",
       "        text-align: left;\n",
       "    }\n",
       "</style>\n",
       "<table border=\"1\" class=\"dataframe\">\n",
       "  <thead>\n",
       "    <tr>\n",
       "      <th></th>\n",
       "      <th colspan=\"2\" halign=\"left\">Uniqueness</th>\n",
       "      <th colspan=\"2\" halign=\"left\">Novelty (UniProt)</th>\n",
       "      <th colspan=\"2\" halign=\"left\">FBD</th>\n",
       "      <th colspan=\"2\" halign=\"left\">Gravy</th>\n",
       "      <th colspan=\"2\" halign=\"left\">Hit-rate</th>\n",
       "    </tr>\n",
       "    <tr>\n",
       "      <th></th>\n",
       "      <th>value</th>\n",
       "      <th>deviation</th>\n",
       "      <th>value</th>\n",
       "      <th>deviation</th>\n",
       "      <th>value</th>\n",
       "      <th>deviation</th>\n",
       "      <th>value</th>\n",
       "      <th>deviation</th>\n",
       "      <th>value</th>\n",
       "      <th>deviation</th>\n",
       "    </tr>\n",
       "  </thead>\n",
       "  <tbody>\n",
       "    <tr>\n",
       "      <th>Random</th>\n",
       "      <td>1.00</td>\n",
       "      <td>NaN</td>\n",
       "      <td>1.0</td>\n",
       "      <td>NaN</td>\n",
       "      <td>0.000000</td>\n",
       "      <td>NaN</td>\n",
       "      <td>-1.911111</td>\n",
       "      <td>1.460678</td>\n",
       "      <td>0.333333</td>\n",
       "      <td>NaN</td>\n",
       "    </tr>\n",
       "    <tr>\n",
       "      <th>UniProt</th>\n",
       "      <td>1.00</td>\n",
       "      <td>NaN</td>\n",
       "      <td>0.0</td>\n",
       "      <td>NaN</td>\n",
       "      <td>3.961130</td>\n",
       "      <td>NaN</td>\n",
       "      <td>-2.400000</td>\n",
       "      <td>0.650000</td>\n",
       "      <td>0.500000</td>\n",
       "      <td>NaN</td>\n",
       "    </tr>\n",
       "    <tr>\n",
       "      <th>HydrAMP</th>\n",
       "      <td>0.75</td>\n",
       "      <td>NaN</td>\n",
       "      <td>1.0</td>\n",
       "      <td>NaN</td>\n",
       "      <td>8.602244</td>\n",
       "      <td>NaN</td>\n",
       "      <td>-1.627500</td>\n",
       "      <td>0.363413</td>\n",
       "      <td>0.000000</td>\n",
       "      <td>NaN</td>\n",
       "    </tr>\n",
       "    <tr>\n",
       "      <th>hyformer</th>\n",
       "      <td>1.00</td>\n",
       "      <td>NaN</td>\n",
       "      <td>1.0</td>\n",
       "      <td>NaN</td>\n",
       "      <td>8.228118</td>\n",
       "      <td>NaN</td>\n",
       "      <td>-1.500000</td>\n",
       "      <td>0.100000</td>\n",
       "      <td>0.000000</td>\n",
       "      <td>NaN</td>\n",
       "    </tr>\n",
       "  </tbody>\n",
       "</table>\n",
       "</div>"
      ],
      "text/plain": [
       "         Uniqueness           Novelty (UniProt)                 FBD            \\\n",
       "              value deviation             value deviation     value deviation   \n",
       "Random         1.00       NaN               1.0       NaN  0.000000       NaN   \n",
       "UniProt        1.00       NaN               0.0       NaN  3.961130       NaN   \n",
       "HydrAMP        0.75       NaN               1.0       NaN  8.602244       NaN   \n",
       "hyformer       1.00       NaN               1.0       NaN  8.228118       NaN   \n",
       "\n",
       "             Gravy            Hit-rate            \n",
       "             value deviation     value deviation  \n",
       "Random   -1.911111  1.460678  0.333333       NaN  \n",
       "UniProt  -2.400000  0.650000  0.500000       NaN  \n",
       "HydrAMP  -1.627500  0.363413  0.000000       NaN  \n",
       "hyformer -1.500000  0.100000  0.000000       NaN  "
      ]
     },
     "execution_count": null,
     "metadata": {},
     "output_type": "execute_result"
    }
   ],
   "source": [
    "df"
   ]
  },
  {
   "cell_type": "markdown",
   "metadata": {},
   "source": [
    "... let's make it nicer to look at.\n"
   ]
  },
  {
   "cell_type": "code",
   "execution_count": null,
   "metadata": {},
   "outputs": [
    {
     "data": {
      "text/html": [
       "<style type=\"text/css\">\n",
       "#T_5a4cd th.col_heading {\n",
       "  text-align: center;\n",
       "}\n",
       "#T_5a4cd td {\n",
       "  border-right: 1px solid #ccc;\n",
       "}\n",
       "#T_5a4cd th.row_heading {\n",
       "  border-right: 1px solid #ccc;\n",
       "}\n",
       "#T_5a4cd_row0_col0, #T_5a4cd_row0_col1, #T_5a4cd_row0_col2, #T_5a4cd_row1_col0, #T_5a4cd_row1_col3, #T_5a4cd_row1_col4, #T_5a4cd_row2_col1, #T_5a4cd_row3_col0, #T_5a4cd_row3_col1 {\n",
       "  background-color: #68d6bc;\n",
       "  font-weight: bold;\n",
       "}\n",
       "#T_5a4cd_row0_col3, #T_5a4cd_row0_col4, #T_5a4cd_row1_col2 {\n",
       "  text-decoration: underline;\n",
       "  font-weight: bold;\n",
       "}\n",
       "</style>\n",
       "<table id=\"T_5a4cd\">\n",
       "  <thead>\n",
       "    <tr>\n",
       "      <th class=\"blank level0\" >&nbsp;</th>\n",
       "      <th id=\"T_5a4cd_level0_col0\" class=\"col_heading level0 col0\" >Uniqueness↑</th>\n",
       "      <th id=\"T_5a4cd_level0_col1\" class=\"col_heading level0 col1\" >Novelty (UniProt)↑</th>\n",
       "      <th id=\"T_5a4cd_level0_col2\" class=\"col_heading level0 col2\" >FBD↓</th>\n",
       "      <th id=\"T_5a4cd_level0_col3\" class=\"col_heading level0 col3\" >Gravy↓</th>\n",
       "      <th id=\"T_5a4cd_level0_col4\" class=\"col_heading level0 col4\" >Hit-rate↑</th>\n",
       "    </tr>\n",
       "  </thead>\n",
       "  <tbody>\n",
       "    <tr>\n",
       "      <th id=\"T_5a4cd_level0_row0\" class=\"row_heading level0 row0\" >Random</th>\n",
       "      <td id=\"T_5a4cd_row0_col0\" class=\"data row0 col0\" >1.00</td>\n",
       "      <td id=\"T_5a4cd_row0_col1\" class=\"data row0 col1\" >1.00</td>\n",
       "      <td id=\"T_5a4cd_row0_col2\" class=\"data row0 col2\" >0.00</td>\n",
       "      <td id=\"T_5a4cd_row0_col3\" class=\"data row0 col3\" >-1.91±1.46</td>\n",
       "      <td id=\"T_5a4cd_row0_col4\" class=\"data row0 col4\" >0.33</td>\n",
       "    </tr>\n",
       "    <tr>\n",
       "      <th id=\"T_5a4cd_level0_row1\" class=\"row_heading level0 row1\" >UniProt</th>\n",
       "      <td id=\"T_5a4cd_row1_col0\" class=\"data row1 col0\" >1.00</td>\n",
       "      <td id=\"T_5a4cd_row1_col1\" class=\"data row1 col1\" >0.00</td>\n",
       "      <td id=\"T_5a4cd_row1_col2\" class=\"data row1 col2\" >3.96</td>\n",
       "      <td id=\"T_5a4cd_row1_col3\" class=\"data row1 col3\" >-2.40±0.65</td>\n",
       "      <td id=\"T_5a4cd_row1_col4\" class=\"data row1 col4\" >0.50</td>\n",
       "    </tr>\n",
       "    <tr>\n",
       "      <th id=\"T_5a4cd_level0_row2\" class=\"row_heading level0 row2\" >HydrAMP</th>\n",
       "      <td id=\"T_5a4cd_row2_col0\" class=\"data row2 col0\" >0.75</td>\n",
       "      <td id=\"T_5a4cd_row2_col1\" class=\"data row2 col1\" >1.00</td>\n",
       "      <td id=\"T_5a4cd_row2_col2\" class=\"data row2 col2\" >8.60</td>\n",
       "      <td id=\"T_5a4cd_row2_col3\" class=\"data row2 col3\" >-1.63±0.36</td>\n",
       "      <td id=\"T_5a4cd_row2_col4\" class=\"data row2 col4\" >0.00</td>\n",
       "    </tr>\n",
       "    <tr>\n",
       "      <th id=\"T_5a4cd_level0_row3\" class=\"row_heading level0 row3\" >hyformer</th>\n",
       "      <td id=\"T_5a4cd_row3_col0\" class=\"data row3 col0\" >1.00</td>\n",
       "      <td id=\"T_5a4cd_row3_col1\" class=\"data row3 col1\" >1.00</td>\n",
       "      <td id=\"T_5a4cd_row3_col2\" class=\"data row3 col2\" >8.23</td>\n",
       "      <td id=\"T_5a4cd_row3_col3\" class=\"data row3 col3\" >-1.50±0.10</td>\n",
       "      <td id=\"T_5a4cd_row3_col4\" class=\"data row3 col4\" >0.00</td>\n",
       "    </tr>\n",
       "  </tbody>\n",
       "</table>\n"
      ],
      "text/plain": [
       "<pandas.io.formats.style.Styler at 0x16b042810>"
      ]
     },
     "execution_count": null,
     "metadata": {},
     "output_type": "execute_result"
    }
   ],
   "source": [
    "show_table(df, decimals=2)"
   ]
  },
  {
   "cell_type": "markdown",
   "metadata": {},
   "source": [
    "We are particularly interested in the following metric.\n"
   ]
  },
  {
   "cell_type": "code",
   "execution_count": null,
   "metadata": {},
   "outputs": [
    {
     "data": {
      "image/png": "[encoded data removed]",
      "text/plain": [
       "<Figure size 400x300 with 1 Axes>"
      ]
     },
     "metadata": {},
     "output_type": "display_data"
    }
   ],
   "source": [
    "barplot(df, \"Gravy\")"
   ]
  },
  {
   "cell_type": "markdown",
   "metadata": {},
   "source": [
    "To write a metric dataframe to disk, encode the dataframe as a pickle object.\n"
   ]
  },
  {
   "cell_type": "code",
   "execution_count": null,
   "metadata": {},
   "outputs": [
    {
     "data": {
      "text/html": [
       "<style type=\"text/css\">\n",
       "#T_0ed60 th.col_heading {\n",
       "  text-align: center;\n",
       "}\n",
       "#T_0ed60 td {\n",
       "  border-right: 1px solid #ccc;\n",
       "}\n",
       "#T_0ed60 th.row_heading {\n",
       "  border-right: 1px solid #ccc;\n",
       "}\n",
       "#T_0ed60_row0_col0, #T_0ed60_row0_col1, #T_0ed60_row0_col2, #T_0ed60_row1_col0, #T_0ed60_row1_col3, #T_0ed60_row1_col4, #T_0ed60_row2_col1, #T_0ed60_row3_col0, #T_0ed60_row3_col1 {\n",
       "  background-color: #68d6bc;\n",
       "  font-weight: bold;\n",
       "}\n",
       "#T_0ed60_row0_col3, #T_0ed60_row0_col4, #T_0ed60_row1_col2 {\n",
       "  text-decoration: underline;\n",
       "  font-weight: bold;\n",
       "}\n",
       "</style>\n",
       "<table id=\"T_0ed60\">\n",
       "  <thead>\n",
       "    <tr>\n",
       "      <th class=\"blank level0\" >&nbsp;</th>\n",
       "      <th id=\"T_0ed60_level0_col0\" class=\"col_heading level0 col0\" >Uniqueness↑</th>\n",
       "      <th id=\"T_0ed60_level0_col1\" class=\"col_heading level0 col1\" >Novelty (UniProt)↑</th>\n",
       "      <th id=\"T_0ed60_level0_col2\" class=\"col_heading level0 col2\" >FBD↓</th>\n",
       "      <th id=\"T_0ed60_level0_col3\" class=\"col_heading level0 col3\" >Gravy↓</th>\n",
       "      <th id=\"T_0ed60_level0_col4\" class=\"col_heading level0 col4\" >Hit-rate↑</th>\n",
       "    </tr>\n",
       "  </thead>\n",
       "  <tbody>\n",
       "    <tr>\n",
       "      <th id=\"T_0ed60_level0_row0\" class=\"row_heading level0 row0\" >Random</th>\n",
       "      <td id=\"T_0ed60_row0_col0\" class=\"data row0 col0\" >1.00</td>\n",
       "      <td id=\"T_0ed60_row0_col1\" class=\"data row0 col1\" >1.00</td>\n",
       "      <td id=\"T_0ed60_row0_col2\" class=\"data row0 col2\" >0.00</td>\n",
       "      <td id=\"T_0ed60_row0_col3\" class=\"data row0 col3\" >-1.91±1.46</td>\n",
       "      <td id=\"T_0ed60_row0_col4\" class=\"data row0 col4\" >0.33</td>\n",
       "    </tr>\n",
       "    <tr>\n",
       "      <th id=\"T_0ed60_level0_row1\" class=\"row_heading level0 row1\" >UniProt</th>\n",
       "      <td id=\"T_0ed60_row1_col0\" class=\"data row1 col0\" >1.00</td>\n",
       "      <td id=\"T_0ed60_row1_col1\" class=\"data row1 col1\" >0.00</td>\n",
       "      <td id=\"T_0ed60_row1_col2\" class=\"data row1 col2\" >3.96</td>\n",
       "      <td id=\"T_0ed60_row1_col3\" class=\"data row1 col3\" >-2.40±0.65</td>\n",
       "      <td id=\"T_0ed60_row1_col4\" class=\"data row1 col4\" >0.50</td>\n",
       "    </tr>\n",
       "    <tr>\n",
       "      <th id=\"T_0ed60_level0_row2\" class=\"row_heading level0 row2\" >HydrAMP</th>\n",
       "      <td id=\"T_0ed60_row2_col0\" class=\"data row2 col0\" >0.75</td>\n",
       "      <td id=\"T_0ed60_row2_col1\" class=\"data row2 col1\" >1.00</td>\n",
       "      <td id=\"T_0ed60_row2_col2\" class=\"data row2 col2\" >8.60</td>\n",
       "      <td id=\"T_0ed60_row2_col3\" class=\"data row2 col3\" >-1.63±0.36</td>\n",
       "      <td id=\"T_0ed60_row2_col4\" class=\"data row2 col4\" >0.00</td>\n",
       "    </tr>\n",
       "    <tr>\n",
       "      <th id=\"T_0ed60_level0_row3\" class=\"row_heading level0 row3\" >hyformer</th>\n",
       "      <td id=\"T_0ed60_row3_col0\" class=\"data row3 col0\" >1.00</td>\n",
       "      <td id=\"T_0ed60_row3_col1\" class=\"data row3 col1\" >1.00</td>\n",
       "      <td id=\"T_0ed60_row3_col2\" class=\"data row3 col2\" >8.23</td>\n",
       "      <td id=\"T_0ed60_row3_col3\" class=\"data row3 col3\" >-1.50±0.10</td>\n",
       "      <td id=\"T_0ed60_row3_col4\" class=\"data row3 col4\" >0.00</td>\n",
       "    </tr>\n",
       "  </tbody>\n",
       "</table>\n"
      ],
      "text/plain": [
       "<pandas.io.formats.style.Styler at 0x16b0d4fd0>"
      ]
     },
     "execution_count": null,
     "metadata": {},
     "output_type": "execute_result"
    }
   ],
   "source": [
    "PATH = \"./metrics_dataframe.pkl\"\n",
    "\n",
    "df.to_pickle(PATH)\n",
    "show_table(pd.read_pickle(PATH))"
   ]
  },
  {
   "cell_type": "markdown",
   "metadata": {},
   "source": [
    "That it all for the basic usage of seqme. Let's look at some more advanced features!\n"
   ]
  },
  {
   "cell_type": "markdown",
   "metadata": {},
   "source": [
    "## Advanced\n"
   ]
  },
  {
   "cell_type": "markdown",
   "metadata": {},
   "source": [
    "In the advanced section, we show how to\n",
    "\n",
    "- Combine multiple metric dataframes into one.\n",
    "- Improve performance through caching.\n",
    "- Create your own metric.\n"
   ]
  },
  {
   "cell_type": "markdown",
   "metadata": {},
   "source": [
    "### Combining metric dataframes\n",
    "\n",
    "seqme's `combine_metric_dataframes` can combine metric dataframes with different sequences and/or metrics. This can be useful if you want to evaluate the sequences on an additional metric or add an additional set of sequences for evaluation - without needing to recompute the results.\n"
   ]
  },
  {
   "cell_type": "markdown",
   "metadata": {},
   "source": [
    "Let's create three metric dataframes.\n"
   ]
  },
  {
   "cell_type": "code",
   "execution_count": null,
   "metadata": {},
   "outputs": [],
   "source": [
    "df1 = compute_metrics(\n",
    "    sequences={\n",
    "        \"s1\": [\"KKKKK\", \"PLUQ\", \"RKSPL\"],\n",
    "        \"s2\": random_subset([\"KKWQ\", \"RKSPL\", \"RASD\"], n_samples=2, seed=42),\n",
    "        \"s3\": [\"MMRK\", \"RKSPL\", \"RRLSK\"],\n",
    "        \"s4\": [\"MKQW\", \"RKSPL\"],\n",
    "    },\n",
    "    metrics=[\n",
    "        Novelty(reference=[\"KKW\", \"RKSPL\"]),\n",
    "        Novelty(reference=[\"RASD\", \"KKKQ\", \"LPTUY\"], reference_name=\"Random\"),\n",
    "    ],\n",
    "    verbose=False,\n",
    ")\n",
    "\n",
    "df2 = compute_metrics(\n",
    "    sequences={\"s4\": [\"MKQW\", \"RKSPL\"], \"s5\": [\"MKQW\"]},\n",
    "    metrics=[ID(Gravy(), name=\"Gravy\", objective=\"minimize\")],\n",
    "    verbose=False,\n",
    ")\n",
    "\n",
    "df3 = compute_metrics(\n",
    "    sequences={\"s6\": [\"MKQW\", \"RKSPL\"]},\n",
    "    metrics=[\n",
    "        ID(Gravy(), name=\"Gravy\", objective=\"minimize\"),\n",
    "        Novelty(reference=[\"KKW\", \"RKSPL\"]),\n",
    "    ],\n",
    "    verbose=False,\n",
    ")"
   ]
  },
  {
   "cell_type": "markdown",
   "metadata": {},
   "source": [
    "Let's combine the dataframes.\n"
   ]
  },
  {
   "cell_type": "code",
   "execution_count": null,
   "metadata": {},
   "outputs": [],
   "source": [
    "df = combine_metric_dataframes([df1, df2, df3])"
   ]
  },
  {
   "cell_type": "code",
   "execution_count": null,
   "metadata": {},
   "outputs": [
    {
     "data": {
      "text/html": [
       "<div>\n",
       "<style scoped>\n",
       "    .dataframe tbody tr th:only-of-type {\n",
       "        vertical-align: middle;\n",
       "    }\n",
       "\n",
       "    .dataframe tbody tr th {\n",
       "        vertical-align: top;\n",
       "    }\n",
       "\n",
       "    .dataframe thead tr th {\n",
       "        text-align: left;\n",
       "    }\n",
       "</style>\n",
       "<table border=\"1\" class=\"dataframe\">\n",
       "  <thead>\n",
       "    <tr>\n",
       "      <th></th>\n",
       "      <th colspan=\"2\" halign=\"left\">Novelty</th>\n",
       "      <th colspan=\"2\" halign=\"left\">Novelty (Random)</th>\n",
       "      <th colspan=\"2\" halign=\"left\">Gravy</th>\n",
       "    </tr>\n",
       "    <tr>\n",
       "      <th></th>\n",
       "      <th>value</th>\n",
       "      <th>deviation</th>\n",
       "      <th>value</th>\n",
       "      <th>deviation</th>\n",
       "      <th>value</th>\n",
       "      <th>deviation</th>\n",
       "    </tr>\n",
       "  </thead>\n",
       "  <tbody>\n",
       "    <tr>\n",
       "      <th>s1</th>\n",
       "      <td>0.666667</td>\n",
       "      <td>NaN</td>\n",
       "      <td>1.0</td>\n",
       "      <td>NaN</td>\n",
       "      <td>NaN</td>\n",
       "      <td>NaN</td>\n",
       "    </tr>\n",
       "    <tr>\n",
       "      <th>s2</th>\n",
       "      <td>1.000000</td>\n",
       "      <td>NaN</td>\n",
       "      <td>0.5</td>\n",
       "      <td>NaN</td>\n",
       "      <td>NaN</td>\n",
       "      <td>NaN</td>\n",
       "    </tr>\n",
       "    <tr>\n",
       "      <th>s3</th>\n",
       "      <td>0.666667</td>\n",
       "      <td>NaN</td>\n",
       "      <td>1.0</td>\n",
       "      <td>NaN</td>\n",
       "      <td>NaN</td>\n",
       "      <td>NaN</td>\n",
       "    </tr>\n",
       "    <tr>\n",
       "      <th>s4</th>\n",
       "      <td>0.500000</td>\n",
       "      <td>NaN</td>\n",
       "      <td>1.0</td>\n",
       "      <td>NaN</td>\n",
       "      <td>-1.5</td>\n",
       "      <td>0.1</td>\n",
       "    </tr>\n",
       "    <tr>\n",
       "      <th>s5</th>\n",
       "      <td>NaN</td>\n",
       "      <td>NaN</td>\n",
       "      <td>NaN</td>\n",
       "      <td>NaN</td>\n",
       "      <td>-1.6</td>\n",
       "      <td>0.0</td>\n",
       "    </tr>\n",
       "    <tr>\n",
       "      <th>s6</th>\n",
       "      <td>0.500000</td>\n",
       "      <td>NaN</td>\n",
       "      <td>NaN</td>\n",
       "      <td>NaN</td>\n",
       "      <td>-1.5</td>\n",
       "      <td>0.1</td>\n",
       "    </tr>\n",
       "  </tbody>\n",
       "</table>\n",
       "</div>"
      ],
      "text/plain": [
       "     Novelty           Novelty (Random)           Gravy          \n",
       "       value deviation            value deviation value deviation\n",
       "s1  0.666667       NaN              1.0       NaN   NaN       NaN\n",
       "s2  1.000000       NaN              0.5       NaN   NaN       NaN\n",
       "s3  0.666667       NaN              1.0       NaN   NaN       NaN\n",
       "s4  0.500000       NaN              1.0       NaN  -1.5       0.1\n",
       "s5       NaN       NaN              NaN       NaN  -1.6       0.0\n",
       "s6  0.500000       NaN              NaN       NaN  -1.5       0.1"
      ]
     },
     "execution_count": null,
     "metadata": {},
     "output_type": "execute_result"
    }
   ],
   "source": [
    "df"
   ]
  },
  {
   "cell_type": "markdown",
   "metadata": {},
   "source": [
    "... let's make it nicer to look at.\n"
   ]
  },
  {
   "cell_type": "code",
   "execution_count": null,
   "metadata": {},
   "outputs": [
    {
     "data": {
      "text/html": [
       "<style type=\"text/css\">\n",
       "#T_7d0b6 th.col_heading {\n",
       "  text-align: center;\n",
       "}\n",
       "#T_7d0b6 td {\n",
       "  border-right: 1px solid #ccc;\n",
       "}\n",
       "#T_7d0b6 th.row_heading {\n",
       "  border-right: 1px solid #ccc;\n",
       "}\n",
       "#T_7d0b6_row0_col0, #T_7d0b6_row2_col0, #T_7d0b6_row3_col2, #T_7d0b6_row5_col2 {\n",
       "  text-decoration: underline;\n",
       "  font-weight: bold;\n",
       "}\n",
       "#T_7d0b6_row0_col1, #T_7d0b6_row1_col0, #T_7d0b6_row2_col1, #T_7d0b6_row3_col1, #T_7d0b6_row4_col2 {\n",
       "  background-color: #d66868;\n",
       "  font-weight: bold;\n",
       "}\n",
       "</style>\n",
       "<table id=\"T_7d0b6\">\n",
       "  <thead>\n",
       "    <tr>\n",
       "      <th class=\"blank level0\" >&nbsp;</th>\n",
       "      <th id=\"T_7d0b6_level0_col0\" class=\"col_heading level0 col0\" >Novelty↑</th>\n",
       "      <th id=\"T_7d0b6_level0_col1\" class=\"col_heading level0 col1\" >Novelty (Random)↑</th>\n",
       "      <th id=\"T_7d0b6_level0_col2\" class=\"col_heading level0 col2\" >Gravy↓</th>\n",
       "    </tr>\n",
       "  </thead>\n",
       "  <tbody>\n",
       "    <tr>\n",
       "      <th id=\"T_7d0b6_level0_row0\" class=\"row_heading level0 row0\" >s1</th>\n",
       "      <td id=\"T_7d0b6_row0_col0\" class=\"data row0 col0\" >0.667</td>\n",
       "      <td id=\"T_7d0b6_row0_col1\" class=\"data row0 col1\" >1.00</td>\n",
       "      <td id=\"T_7d0b6_row0_col2\" class=\"data row0 col2\" >-</td>\n",
       "    </tr>\n",
       "    <tr>\n",
       "      <th id=\"T_7d0b6_level0_row1\" class=\"row_heading level0 row1\" >s2</th>\n",
       "      <td id=\"T_7d0b6_row1_col0\" class=\"data row1 col0\" >1.000</td>\n",
       "      <td id=\"T_7d0b6_row1_col1\" class=\"data row1 col1\" >0.50</td>\n",
       "      <td id=\"T_7d0b6_row1_col2\" class=\"data row1 col2\" >-</td>\n",
       "    </tr>\n",
       "    <tr>\n",
       "      <th id=\"T_7d0b6_level0_row2\" class=\"row_heading level0 row2\" >s3</th>\n",
       "      <td id=\"T_7d0b6_row2_col0\" class=\"data row2 col0\" >0.667</td>\n",
       "      <td id=\"T_7d0b6_row2_col1\" class=\"data row2 col1\" >1.00</td>\n",
       "      <td id=\"T_7d0b6_row2_col2\" class=\"data row2 col2\" >-</td>\n",
       "    </tr>\n",
       "    <tr>\n",
       "      <th id=\"T_7d0b6_level0_row3\" class=\"row_heading level0 row3\" >s4</th>\n",
       "      <td id=\"T_7d0b6_row3_col0\" class=\"data row3 col0\" >0.500</td>\n",
       "      <td id=\"T_7d0b6_row3_col1\" class=\"data row3 col1\" >1.00</td>\n",
       "      <td id=\"T_7d0b6_row3_col2\" class=\"data row3 col2\" >-1.5±0.1</td>\n",
       "    </tr>\n",
       "    <tr>\n",
       "      <th id=\"T_7d0b6_level0_row4\" class=\"row_heading level0 row4\" >s5</th>\n",
       "      <td id=\"T_7d0b6_row4_col0\" class=\"data row4 col0\" >-</td>\n",
       "      <td id=\"T_7d0b6_row4_col1\" class=\"data row4 col1\" >-</td>\n",
       "      <td id=\"T_7d0b6_row4_col2\" class=\"data row4 col2\" >-1.6±0.0</td>\n",
       "    </tr>\n",
       "    <tr>\n",
       "      <th id=\"T_7d0b6_level0_row5\" class=\"row_heading level0 row5\" >s6</th>\n",
       "      <td id=\"T_7d0b6_row5_col0\" class=\"data row5 col0\" >0.500</td>\n",
       "      <td id=\"T_7d0b6_row5_col1\" class=\"data row5 col1\" >-</td>\n",
       "      <td id=\"T_7d0b6_row5_col2\" class=\"data row5 col2\" >-1.5±0.1</td>\n",
       "    </tr>\n",
       "  </tbody>\n",
       "</table>\n"
      ],
      "text/plain": [
       "<pandas.io.formats.style.Styler at 0x16b081d50>"
      ]
     },
     "execution_count": null,
     "metadata": {},
     "output_type": "execute_result"
    }
   ],
   "source": [
    "show_table(df, decimals=[3, 2, 1], color=\"#d66868\")"
   ]
  },
  {
   "cell_type": "code",
   "execution_count": null,
   "metadata": {},
   "outputs": [
    {
     "data": {
      "image/png": "[encoded data removed]",
      "text/plain": [
       "<Figure size 400x300 with 1 Axes>"
      ]
     },
     "metadata": {},
     "output_type": "display_data"
    }
   ],
   "source": [
    "barplot(df, \"Novelty\", color=\"#d66868\", ylim=(0.0, 1.1), x_ticks_label_rotation=0.0)"
   ]
  },
  {
   "cell_type": "markdown",
   "metadata": {},
   "source": [
    "Notice missing values (e.g., \"Novelty\" for \"s5\") are not shown in the barplot.\n"
   ]
  },
  {
   "cell_type": "markdown",
   "metadata": {},
   "source": [
    "### Caching\n",
    "\n",
    "Discriminators and embedders can be computational expensive to execute. To reduce the number of function evaluations for these models, we can cache the results of discriminators and embedders.\n",
    "\n",
    "The cache works like this: If a (sequence, embedding)-pair is already stored in the cache then retrieve the embedding. Otherwise compute the embedding, store the pair in the cache and retrieve the embedding.\n",
    "\n",
    "Let's create two toy models and the cache.\n"
   ]
  },
  {
   "cell_type": "code",
   "execution_count": null,
   "metadata": {},
   "outputs": [],
   "source": [
    "def my_embedder(sequences: list[str]) -> np.ndarray:\n",
    "    lengths = [len(sequence) for sequence in sequences]\n",
    "    counts = [sequence.count(\"K\") for sequence in sequences]\n",
    "    return np.array([lengths, counts]).T\n",
    "\n",
    "\n",
    "def my_discriminator(sequences: list[str]) -> np.ndarray:\n",
    "    return np.ones(len(sequences)) * 0.85\n",
    "\n",
    "\n",
    "cache = ModelCache(\n",
    "    models={\"embedder\": my_embedder, \"discriminator\": my_discriminator},\n",
    ")"
   ]
  },
  {
   "cell_type": "markdown",
   "metadata": {},
   "source": [
    "Optional: We can manually add model outputs to the cache. This is useful when e.g., (sequence, embedding)-pairs are already pre-computed and stored in a file.\n"
   ]
  },
  {
   "cell_type": "code",
   "execution_count": null,
   "metadata": {},
   "outputs": [],
   "source": [
    "seqs = [\"MKQW\", \"AA\", \"BB\"]\n",
    "reps = my_embedder(seqs)\n",
    "\n",
    "pairs = dict(zip(seqs, reps, strict=True))\n",
    "\n",
    "cache.add(model_name=\"embedder\", element=pairs)"
   ]
  },
  {
   "cell_type": "markdown",
   "metadata": {},
   "source": [
    "Let's compute the metrics. Since both the `Precision` and `Recall` metric use the same embedding model (`embedder`), the embedding is only computed once per sequence in `sequences` (instead of twice)!\n",
    "\n",
    "Notice, we now use `cache.model()` instead of the embedder reference (`my_embedder`) directly.\n"
   ]
  },
  {
   "cell_type": "code",
   "execution_count": null,
   "metadata": {},
   "outputs": [
    {
     "name": "stderr",
     "output_type": "stream",
     "text": [
      "100%|██████████| 6/6 [00:00<00:00, 509.77it/s, data=Random, metric=Recall]    \n"
     ]
    },
    {
     "data": {
      "text/html": [
       "<style type=\"text/css\">\n",
       "#T_9567e th.col_heading {\n",
       "  text-align: center;\n",
       "}\n",
       "#T_9567e td {\n",
       "  border-right: 1px solid #ccc;\n",
       "}\n",
       "#T_9567e th.row_heading {\n",
       "  border-right: 1px solid #ccc;\n",
       "}\n",
       "#T_9567e_row0_col0, #T_9567e_row1_col1 {\n",
       "  background-color: #69bce8;\n",
       "  font-weight: bold;\n",
       "}\n",
       "#T_9567e_row1_col0, #T_9567e_row2_col1 {\n",
       "  text-decoration: underline;\n",
       "  font-weight: bold;\n",
       "}\n",
       "</style>\n",
       "<table id=\"T_9567e\">\n",
       "  <thead>\n",
       "    <tr>\n",
       "      <th class=\"blank level0\" >&nbsp;</th>\n",
       "      <th id=\"T_9567e_level0_col0\" class=\"col_heading level0 col0\" >Precision↑</th>\n",
       "      <th id=\"T_9567e_level0_col1\" class=\"col_heading level0 col1\" >Recall↑</th>\n",
       "    </tr>\n",
       "  </thead>\n",
       "  <tbody>\n",
       "    <tr>\n",
       "      <th id=\"T_9567e_level0_row0\" class=\"row_heading level0 row0\" >hyformer</th>\n",
       "      <td id=\"T_9567e_row0_col0\" class=\"data row0 col0\" >0.67</td>\n",
       "      <td id=\"T_9567e_row0_col1\" class=\"data row0 col1\" >0.00</td>\n",
       "    </tr>\n",
       "    <tr>\n",
       "      <th id=\"T_9567e_level0_row1\" class=\"row_heading level0 row1\" >HydrAMP</th>\n",
       "      <td id=\"T_9567e_row1_col0\" class=\"data row1 col0\" >0.50</td>\n",
       "      <td id=\"T_9567e_row1_col1\" class=\"data row1 col1\" >0.67</td>\n",
       "    </tr>\n",
       "    <tr>\n",
       "      <th id=\"T_9567e_level0_row2\" class=\"row_heading level0 row2\" >Random</th>\n",
       "      <td id=\"T_9567e_row2_col0\" class=\"data row2 col0\" >0.00</td>\n",
       "      <td id=\"T_9567e_row2_col1\" class=\"data row2 col1\" >0.33</td>\n",
       "    </tr>\n",
       "  </tbody>\n",
       "</table>\n"
      ],
      "text/plain": [
       "<pandas.io.formats.style.Styler at 0x16b167a50>"
      ]
     },
     "execution_count": null,
     "metadata": {},
     "output_type": "execute_result"
    }
   ],
   "source": [
    "df = compute_metrics(\n",
    "    sequences={\n",
    "        \"hyformer\": [\"RMKQW\", \"RKSPL\", \"RRRASD\"],\n",
    "        \"HydrAMP\": [\"MKQW\", \"RKSPLP\"],\n",
    "        \"Random\": [\"AAA\", \"PPPPP\"],\n",
    "    },\n",
    "    metrics=[\n",
    "        Precision(\n",
    "            reference=[\"AKWR\", \"AKKR\", \"KKKK\"],\n",
    "            embedder=cache.model(\"embedder\"),\n",
    "            neighborhood_size=1,\n",
    "            strict=False,\n",
    "        ),\n",
    "        Recall(\n",
    "            reference=[\"AKWR\", \"AKKR\", \"KKKK\"],\n",
    "            embedder=cache.model(\"embedder\"),\n",
    "            neighborhood_size=1,\n",
    "            strict=False,\n",
    "        ),\n",
    "    ],\n",
    ")\n",
    "\n",
    "show_table(df, color=\"#69bce8\")"
   ]
  },
  {
   "cell_type": "markdown",
   "metadata": {},
   "source": [
    "Let's write the cached (sequence, embedding)-pairs for each model to a file and reinitialize the cache.\n"
   ]
  },
  {
   "cell_type": "code",
   "execution_count": null,
   "metadata": {},
   "outputs": [
    {
     "name": "stdout",
     "output_type": "stream",
     "text": [
      "{'discriminator': {},\n",
      " 'embedder': {'AA': array([2, 0]),\n",
      "              'AAA': array([3, 0]),\n",
      "              'AKKR': array([4, 2]),\n",
      "              'AKWR': array([4, 1]),\n",
      "              'BB': array([2, 0]),\n",
      "              'KKKK': array([4, 4]),\n",
      "              'MKQW': array([4, 1]),\n",
      "              'PPPPP': array([5, 0]),\n",
      "              'RKSPL': array([5, 1]),\n",
      "              'RKSPLP': array([6, 1]),\n",
      "              'RMKQW': array([5, 1]),\n",
      "              'RRRASD': array([6, 0])}}\n"
     ]
    }
   ],
   "source": [
    "PATH = \"precomputed.pkl\"\n",
    "\n",
    "with open(PATH, \"wb\") as f:\n",
    "    pickle.dump(cache.get(), f)\n",
    "\n",
    "with open(PATH, \"rb\") as f:\n",
    "    precomputed = pickle.load(f)\n",
    "\n",
    "cache = ModelCache(init_cache=precomputed)\n",
    "pprint(cache.get())"
   ]
  },
  {
   "cell_type": "markdown",
   "metadata": {},
   "source": [
    "### Creating a new metric\n"
   ]
  },
  {
   "cell_type": "markdown",
   "metadata": {},
   "source": [
    "You can also integrate your own metrics into seqme through the `Metric` interface as shown below.\n"
   ]
  },
  {
   "cell_type": "code",
   "execution_count": null,
   "metadata": {},
   "outputs": [],
   "source": [
    "class MyMetric(Metric):\n",
    "    def __init__(self, amino_acid: str, minimize: bool = True):\n",
    "        self.amino_acid = amino_acid\n",
    "        self.minimize = minimize\n",
    "\n",
    "    def __call__(self, sequences: list[str]) -> MetricResult:\n",
    "        aa_count = sum([seq.count(self.amino_acid) for seq in sequences])\n",
    "        aa_total = sum([len(sequence) for sequence in sequences])\n",
    "        return MetricResult(aa_count / aa_total)\n",
    "\n",
    "    @property\n",
    "    def name(self) -> str:\n",
    "        return f\"{self.amino_acid}-frequency\"\n",
    "\n",
    "    @property\n",
    "    def objective(self) -> Literal[\"minimize\", \"maximize\"]:\n",
    "        return \"minimize\" if self.minimize else \"maximize\""
   ]
  },
  {
   "cell_type": "markdown",
   "metadata": {},
   "source": [
    "Let's use our new metric.\n"
   ]
  },
  {
   "cell_type": "code",
   "execution_count": null,
   "metadata": {},
   "outputs": [
    {
     "name": "stderr",
     "output_type": "stream",
     "text": [
      "100%|██████████| 6/6 [00:00<00:00, 1430.61it/s, data=Random, metric=R-frequency]  \n"
     ]
    },
    {
     "data": {
      "text/html": [
       "<style type=\"text/css\">\n",
       "#T_119d6 th.col_heading {\n",
       "  text-align: center;\n",
       "}\n",
       "#T_119d6 td {\n",
       "  border-right: 1px solid #ccc;\n",
       "}\n",
       "#T_119d6 th.row_heading {\n",
       "  border-right: 1px solid #ccc;\n",
       "}\n",
       "#T_119d6_row0_col0, #T_119d6_row1_col1 {\n",
       "  text-decoration: underline;\n",
       "  font-weight: bold;\n",
       "}\n",
       "#T_119d6_row1_col0, #T_119d6_row2_col1 {\n",
       "  background-color: #e07fe1;\n",
       "  font-weight: bold;\n",
       "}\n",
       "</style>\n",
       "<table id=\"T_119d6\">\n",
       "  <thead>\n",
       "    <tr>\n",
       "      <th class=\"blank level0\" >&nbsp;</th>\n",
       "      <th id=\"T_119d6_level0_col0\" class=\"col_heading level0 col0\" >K-frequency↑</th>\n",
       "      <th id=\"T_119d6_level0_col1\" class=\"col_heading level0 col1\" >R-frequency↓</th>\n",
       "    </tr>\n",
       "  </thead>\n",
       "  <tbody>\n",
       "    <tr>\n",
       "      <th id=\"T_119d6_level0_row0\" class=\"row_heading level0 row0\" >hyformer</th>\n",
       "      <td id=\"T_119d6_row0_col0\" class=\"data row0 col0\" >0.15</td>\n",
       "      <td id=\"T_119d6_row0_col1\" class=\"data row0 col1\" >0.15</td>\n",
       "    </tr>\n",
       "    <tr>\n",
       "      <th id=\"T_119d6_level0_row1\" class=\"row_heading level0 row1\" >HydrAMP</th>\n",
       "      <td id=\"T_119d6_row1_col0\" class=\"data row1 col0\" >0.22</td>\n",
       "      <td id=\"T_119d6_row1_col1\" class=\"data row1 col1\" >0.11</td>\n",
       "    </tr>\n",
       "    <tr>\n",
       "      <th id=\"T_119d6_level0_row2\" class=\"row_heading level0 row2\" >Random</th>\n",
       "      <td id=\"T_119d6_row2_col0\" class=\"data row2 col0\" >0.00</td>\n",
       "      <td id=\"T_119d6_row2_col1\" class=\"data row2 col1\" >0.00</td>\n",
       "    </tr>\n",
       "  </tbody>\n",
       "</table>\n"
      ],
      "text/plain": [
       "<pandas.io.formats.style.Styler at 0x16b0bf550>"
      ]
     },
     "execution_count": null,
     "metadata": {},
     "output_type": "execute_result"
    }
   ],
   "source": [
    "df = compute_metrics(\n",
    "    sequences={\n",
    "        \"hyformer\": [\"MKQW\", \"RKSPL\", \"RASD\"],\n",
    "        \"HydrAMP\": [\"MKQW\", \"RKSPL\"],\n",
    "        \"Random\": [\"AAAA\", \"PPPPP\"],\n",
    "    },\n",
    "    metrics=[\n",
    "        MyMetric(amino_acid=\"K\", minimize=False),\n",
    "        MyMetric(amino_acid=\"R\", minimize=True),\n",
    "    ],\n",
    ")\n",
    "\n",
    "show_table(df, color=\"#e07fe1\")"
   ]
  },
  {
   "cell_type": "markdown",
   "metadata": {},
   "source": [
    "This is all there is to seqme! 🎉\n"
   ]
  }
 ],
 "metadata": {
  "kernelspec": {
   "display_name": "Python 3",
   "language": "python",
   "name": "python3"
  },
  "language_info": {
   "codemirror_mode": {
    "name": "ipython",
    "version": 3
   },
   "file_extension": ".py",
   "mimetype": "text/x-python",
   "name": "python",
   "nbconvert_exporter": "python",
   "pygments_lexer": "ipython3",
   "version": "3.11.13"
  }
 },
 "nbformat": 4,
 "nbformat_minor": 2
}
