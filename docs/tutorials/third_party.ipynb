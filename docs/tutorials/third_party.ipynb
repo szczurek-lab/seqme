{
 "cells": [
  {
   "cell_type": "markdown",
   "id": "0",
   "metadata": {},
   "source": [
    "# Third-party models\n"
   ]
  },
  {
   "cell_type": "markdown",
   "id": "1",
   "metadata": {},
   "source": [
    "In this notebook, we show how to integrate \"external\" models into pepme."
   ]
  },
  {
   "cell_type": "code",
   "execution_count": null,
   "id": "2",
   "metadata": {},
   "outputs": [],
   "source": [
    "from functools import partial\n",
    "\n",
    "import numpy as np\n",
    "\n",
    "from pepme import compute_metrics, show_table\n",
    "from pepme.metrics import FBD, ID\n",
    "from pepme.models import ThirdPartyModel"
   ]
  },
  {
   "cell_type": "markdown",
   "id": "3",
   "metadata": {},
   "source": [
    "Some models of interest are not available through e.g., PyPI or Huggingface - only the git repository may be available. Here we show how to run such models in pepme.\n"
   ]
  },
  {
   "cell_type": "markdown",
   "id": "4",
   "metadata": {},
   "source": [
    "An external model is compatible with pepme if it satisfies the following three requirements:\n",
    "\n",
    "- Repository is accessible using `git clone`, e.g. a public repository.\n",
    "- Repository dependencies are installable using `pip install .`, e.g., by setup.py or pyproject.toml.\n",
    "- Contains a function with signature `Callable[[list[str], ...], np.ndarray]` where the first parameter is called `sequences`.\n"
   ]
  },
  {
   "cell_type": "markdown",
   "id": "5",
   "metadata": {},
   "source": [
    "Let's use a toy model in a github repository satisfying all three requirements. To do so, we need to define the function entry point, repository url and save directory.\n"
   ]
  },
  {
   "cell_type": "code",
   "execution_count": null,
   "id": "6",
   "metadata": {},
   "outputs": [
    {
     "name": "stdout",
     "output_type": "stream",
     "text": [
      "Requirement already satisfied: pip in /Users/rasmus.larsen/work/hackathon-2025/pepme/docs/plugins/pepme-models/main/env/lib/python3.11/site-packages (24.0)\n",
      "Collecting pip\n",
      "  Using cached pip-25.1.1-py3-none-any.whl.metadata (3.6 kB)\n",
      "Using cached pip-25.1.1-py3-none-any.whl (1.8 MB)\n",
      "Installing collected packages: pip\n",
      "  Attempting uninstall: pip\n",
      "    Found existing installation: pip 24.0\n",
      "    Uninstalling pip-24.0:\n",
      "      Successfully uninstalled pip-24.0\n",
      "Successfully installed pip-25.1.1\n"
     ]
    },
    {
     "name": "stderr",
     "output_type": "stream",
     "text": [
      "Cloning into '../plugins/pepme-models/main/repo'...\n"
     ]
    },
    {
     "name": "stdout",
     "output_type": "stream",
     "text": [
      "Obtaining file:///Users/rasmus.larsen/work/hackathon-2025/pepme/docs/plugins/pepme-models/main/repo\n",
      "  Installing build dependencies: started\n",
      "  Installing build dependencies: finished with status 'done'\n",
      "  Checking if build backend supports build_editable: started\n",
      "  Checking if build backend supports build_editable: finished with status 'done'\n",
      "  Getting requirements to build editable: started\n",
      "  Getting requirements to build editable: finished with status 'done'\n",
      "  Preparing editable metadata (pyproject.toml): started\n",
      "  Preparing editable metadata (pyproject.toml): finished with status 'done'\n",
      "Collecting numpy (from pepmem==0.0.1)\n",
      "  Using cached numpy-2.3.1-cp311-cp311-macosx_14_0_arm64.whl.metadata (62 kB)\n",
      "Using cached numpy-2.3.1-cp311-cp311-macosx_14_0_arm64.whl (5.4 MB)\n",
      "Building wheels for collected packages: pepmem\n",
      "  Building editable for pepmem (pyproject.toml): started\n",
      "  Building editable for pepmem (pyproject.toml): finished with status 'done'\n",
      "  Created wheel for pepmem: filename=pepmem-0.0.1-0.editable-py3-none-any.whl size=1895 sha256=ee394ec26b65154465176222afdea0979cc73401fc617b8fbbfde61170e15fb3\n",
      "  Stored in directory: /private/var/folders/dj/lbjr_33912s45mqrggv2hz9m0000gn/T/pip-ephem-wheel-cache-02rsgp8e/wheels/38/ad/4c/80408632084aed4b4ed7187ff901068350796180b6873ea1ac\n",
      "Successfully built pepmem\n",
      "Installing collected packages: numpy, pepmem\n",
      "\u001b[2K   \u001b[90m━━━━━━━━━━━━━━━━━━━━━━━━━━━━━━━━━━━━━━━━\u001b[0m \u001b[32m2/2\u001b[0m [pepmem]\n",
      "\u001b[1A\u001b[2KSuccessfully installed numpy-2.3.1 pepmem-0.0.1\n"
     ]
    }
   ],
   "source": [
    "thirdparty_model = ThirdPartyModel(\n",
    "    entry_point=\"pepmem.model:embed\",\n",
    "    repo_url=\"https://github.com/RasmusML/pepme-models\",\n",
    "    save_dir=\"../plugins/pepme-models/main\",\n",
    "    # Path to an enviroments python executable.\n",
    "    # If none, a venv is created using the current python executable.\n",
    "    python_bin=None,\n",
    "    branch=\"main\",  # Defaults: whole repository\n",
    ")"
   ]
  },
  {
   "cell_type": "markdown",
   "id": "7",
   "metadata": {},
   "source": [
    "`ThirdPartyModel` clones the model repository, creates a virtual enviroment (venv) (if `python_bin=None`) and installs the dependencies using `pip install .`.\n",
    "\n",
    "Assuming everything went well, let's now compute a metric using this embedding model.\n"
   ]
  },
  {
   "cell_type": "code",
   "execution_count": null,
   "id": "8",
   "metadata": {},
   "outputs": [
    {
     "data": {
      "text/plain": [
       "array([[44.,  8., 52., 32.],\n",
       "       [55., 10., 65., 40.]])"
      ]
     },
     "execution_count": null,
     "metadata": {},
     "output_type": "execute_result"
    }
   ],
   "source": [
    "def embedder(seq: list[str]) -> np.ndarray:\n",
    "    return thirdparty_model(seq, batch_size=32)\n",
    "\n",
    "\n",
    "embedder([\"MKQW\", \"RKSPL\"])"
   ]
  },
  {
   "cell_type": "code",
   "execution_count": null,
   "id": "9",
   "metadata": {},
   "outputs": [
    {
     "name": "stderr",
     "output_type": "stream",
     "text": [
      "  0%|          | 0/3 [00:00<?, ?it/s, data=HydrAMP, metric=FBD]/Users/rasmus.larsen/work/hackathon-2025/pepme/src/pepme/metrics/fbd.py:101: LinAlgWarning: Matrix is singular. The result might be inaccurate or the array might not have a square root.\n",
      "  covmean, err = sqrtm(sigma1.dot(sigma2), disp=False)\n",
      "100%|██████████| 3/3 [00:00<00:00, 11.80it/s, data=Random, metric=FBD]  \n"
     ]
    },
    {
     "data": {
      "text/html": [
       "<style type=\"text/css\">\n",
       "#T_d99e6 th.col_heading {\n",
       "  text-align: center;\n",
       "}\n",
       "#T_d99e6 td {\n",
       "  border-right: 1px solid #ccc;\n",
       "}\n",
       "#T_d99e6 th.row_heading {\n",
       "  border-right: 1px solid #ccc;\n",
       "}\n",
       "#T_d99e6_row1_col0 {\n",
       "  text-decoration: underline;\n",
       "  font-weight: bold;\n",
       "}\n",
       "#T_d99e6_row2_col0 {\n",
       "  background-color: #68d6bc;\n",
       "  font-weight: bold;\n",
       "}\n",
       "</style>\n",
       "<table id=\"T_d99e6\">\n",
       "  <thead>\n",
       "    <tr>\n",
       "      <th class=\"blank level0\" >&nbsp;</th>\n",
       "      <th id=\"T_d99e6_level0_col0\" class=\"col_heading level0 col0\" >FBD↓</th>\n",
       "    </tr>\n",
       "  </thead>\n",
       "  <tbody>\n",
       "    <tr>\n",
       "      <th id=\"T_d99e6_level0_row0\" class=\"row_heading level0 row0\" >HydrAMP</th>\n",
       "      <td id=\"T_d99e6_row0_col0\" class=\"data row0 col0\" >215.60</td>\n",
       "    </tr>\n",
       "    <tr>\n",
       "      <th id=\"T_d99e6_level0_row1\" class=\"row_heading level0 row1\" >hyformer</th>\n",
       "      <td id=\"T_d99e6_row1_col0\" class=\"data row1 col0\" >81.67</td>\n",
       "    </tr>\n",
       "    <tr>\n",
       "      <th id=\"T_d99e6_level0_row2\" class=\"row_heading level0 row2\" >Random</th>\n",
       "      <td id=\"T_d99e6_row2_col0\" class=\"data row2 col0\" >0.00</td>\n",
       "    </tr>\n",
       "  </tbody>\n",
       "</table>\n"
      ],
      "text/plain": [
       "<pandas.io.formats.style.Styler at 0x151b013d0>"
      ]
     },
     "execution_count": null,
     "metadata": {},
     "output_type": "execute_result"
    }
   ],
   "source": [
    "sequences = {\n",
    "    \"HydrAMP\": [\"MMRK\", \"RKSPL\", \"RRLSK\", \"RRLSK\"],\n",
    "    \"hyformer\": [\"MKQW\", \"RKSPL\"],\n",
    "    \"Random\": [\"KKKKK\", \"PLQ\", \"RKSPL\"],\n",
    "}\n",
    "\n",
    "metrics = [FBD(reference=sequences[\"Random\"], embedder=embedder)]\n",
    "df = compute_metrics(sequences, metrics)\n",
    "\n",
    "show_table(df)"
   ]
  },
  {
   "cell_type": "markdown",
   "id": "10",
   "metadata": {},
   "source": [
    "## AMPlify\n"
   ]
  },
  {
   "cell_type": "markdown",
   "id": "11",
   "metadata": {},
   "source": [
    "Let's also use AMPlify which is an antimicrobial peptide (AMP) classifier, i.e., outputs the probability a peptide has antimicrobial properties.\n",
    "\n",
    "First you need an enviroment with python 3.9 (requirement of AMPlify), e.g., using conda:"
   ]
  },
  {
   "cell_type": "code",
   "execution_count": null,
   "id": "12",
   "metadata": {},
   "outputs": [],
   "source": [
    "# !conda create -n amplify_env python=3.9 -y"
   ]
  },
  {
   "cell_type": "markdown",
   "id": "13",
   "metadata": {},
   "source": [
    "Let's setup the model."
   ]
  },
  {
   "cell_type": "code",
   "execution_count": null,
   "id": "14",
   "metadata": {},
   "outputs": [
    {
     "name": "stderr",
     "output_type": "stream",
     "text": [
      "Cloning into '../plugins/pepme-models/amplify/repo'...\n"
     ]
    },
    {
     "name": "stdout",
     "output_type": "stream",
     "text": [
      "Obtaining file:///Users/rasmus.larsen/work/hackathon-2025/pepme/docs/plugins/pepme-models/amplify/repo\n",
      "  Installing build dependencies: started\n",
      "  Installing build dependencies: finished with status 'done'\n",
      "  Checking if build backend supports build_editable: started\n",
      "  Checking if build backend supports build_editable: finished with status 'done'\n",
      "  Getting requirements to build editable: started\n",
      "  Getting requirements to build editable: finished with status 'done'\n",
      "  Preparing editable metadata (pyproject.toml): started\n",
      "  Preparing editable metadata (pyproject.toml): finished with status 'done'\n",
      "Requirement already satisfied: absl-py==2.2.1 in /opt/anaconda3/envs/amplify_env/lib/python3.9/site-packages (from amplify==0.0.1) (2.2.1)\n",
      "Requirement already satisfied: astunparse==1.6.3 in /opt/anaconda3/envs/amplify_env/lib/python3.9/site-packages (from amplify==0.0.1) (1.6.3)\n",
      "Requirement already satisfied: biopython==1.85 in /opt/anaconda3/envs/amplify_env/lib/python3.9/site-packages (from amplify==0.0.1) (1.85)\n",
      "Requirement already satisfied: certifi==2025.1.31 in /opt/anaconda3/envs/amplify_env/lib/python3.9/site-packages (from amplify==0.0.1) (2025.1.31)\n",
      "Requirement already satisfied: charset-normalizer==3.4.1 in /opt/anaconda3/envs/amplify_env/lib/python3.9/site-packages (from amplify==0.0.1) (3.4.1)\n",
      "Requirement already satisfied: flatbuffers==25.2.10 in /opt/anaconda3/envs/amplify_env/lib/python3.9/site-packages (from amplify==0.0.1) (25.2.10)\n",
      "Requirement already satisfied: gast==0.6.0 in /opt/anaconda3/envs/amplify_env/lib/python3.9/site-packages (from amplify==0.0.1) (0.6.0)\n",
      "Requirement already satisfied: google-pasta==0.2.0 in /opt/anaconda3/envs/amplify_env/lib/python3.9/site-packages (from amplify==0.0.1) (0.2.0)\n",
      "Requirement already satisfied: grpcio==1.71.0 in /opt/anaconda3/envs/amplify_env/lib/python3.9/site-packages (from amplify==0.0.1) (1.71.0)\n",
      "Requirement already satisfied: h5py==3.13.0 in /opt/anaconda3/envs/amplify_env/lib/python3.9/site-packages (from amplify==0.0.1) (3.13.0)\n",
      "Requirement already satisfied: idna==3.10 in /opt/anaconda3/envs/amplify_env/lib/python3.9/site-packages (from amplify==0.0.1) (3.10)\n",
      "Requirement already satisfied: importlib_metadata==8.6.1 in /opt/anaconda3/envs/amplify_env/lib/python3.9/site-packages (from amplify==0.0.1) (8.6.1)\n",
      "Requirement already satisfied: joblib==1.4.2 in /opt/anaconda3/envs/amplify_env/lib/python3.9/site-packages (from amplify==0.0.1) (1.4.2)\n",
      "Requirement already satisfied: keras==3.9.0 in /opt/anaconda3/envs/amplify_env/lib/python3.9/site-packages (from amplify==0.0.1) (3.9.0)\n",
      "Requirement already satisfied: libclang==18.1.1 in /opt/anaconda3/envs/amplify_env/lib/python3.9/site-packages (from amplify==0.0.1) (18.1.1)\n",
      "Requirement already satisfied: Markdown==3.7 in /opt/anaconda3/envs/amplify_env/lib/python3.9/site-packages (from amplify==0.0.1) (3.7)\n",
      "Requirement already satisfied: markdown-it-py==3.0.0 in /opt/anaconda3/envs/amplify_env/lib/python3.9/site-packages (from amplify==0.0.1) (3.0.0)\n",
      "Requirement already satisfied: MarkupSafe==3.0.2 in /opt/anaconda3/envs/amplify_env/lib/python3.9/site-packages (from amplify==0.0.1) (3.0.2)\n",
      "Requirement already satisfied: mdurl==0.1.2 in /opt/anaconda3/envs/amplify_env/lib/python3.9/site-packages (from amplify==0.0.1) (0.1.2)\n",
      "Requirement already satisfied: ml-dtypes==0.3.2 in /opt/anaconda3/envs/amplify_env/lib/python3.9/site-packages (from amplify==0.0.1) (0.3.2)\n",
      "Requirement already satisfied: namex==0.0.8 in /opt/anaconda3/envs/amplify_env/lib/python3.9/site-packages (from amplify==0.0.1) (0.0.8)\n",
      "Requirement already satisfied: numpy==1.26.4 in /opt/anaconda3/envs/amplify_env/lib/python3.9/site-packages (from amplify==0.0.1) (1.26.4)\n",
      "Requirement already satisfied: opt_einsum==3.4.0 in /opt/anaconda3/envs/amplify_env/lib/python3.9/site-packages (from amplify==0.0.1) (3.4.0)\n",
      "Requirement already satisfied: optree==0.14.1 in /opt/anaconda3/envs/amplify_env/lib/python3.9/site-packages (from amplify==0.0.1) (0.14.1)\n",
      "Requirement already satisfied: packaging==24.2 in /opt/anaconda3/envs/amplify_env/lib/python3.9/site-packages (from amplify==0.0.1) (24.2)\n",
      "Requirement already satisfied: pandas==2.2.3 in /opt/anaconda3/envs/amplify_env/lib/python3.9/site-packages (from amplify==0.0.1) (2.2.3)\n",
      "Requirement already satisfied: protobuf==4.25.6 in /opt/anaconda3/envs/amplify_env/lib/python3.9/site-packages (from amplify==0.0.1) (4.25.6)\n",
      "Requirement already satisfied: Pygments==2.19.1 in /opt/anaconda3/envs/amplify_env/lib/python3.9/site-packages (from amplify==0.0.1) (2.19.1)\n",
      "Requirement already satisfied: python-dateutil==2.9.0.post0 in /opt/anaconda3/envs/amplify_env/lib/python3.9/site-packages (from amplify==0.0.1) (2.9.0.post0)\n",
      "Requirement already satisfied: pytz==2025.2 in /opt/anaconda3/envs/amplify_env/lib/python3.9/site-packages (from amplify==0.0.1) (2025.2)\n",
      "Requirement already satisfied: requests==2.32.3 in /opt/anaconda3/envs/amplify_env/lib/python3.9/site-packages (from amplify==0.0.1) (2.32.3)\n",
      "Requirement already satisfied: rich==13.9.4 in /opt/anaconda3/envs/amplify_env/lib/python3.9/site-packages (from amplify==0.0.1) (13.9.4)\n",
      "Requirement already satisfied: scikit-learn==1.6.1 in /opt/anaconda3/envs/amplify_env/lib/python3.9/site-packages (from amplify==0.0.1) (1.6.1)\n",
      "Requirement already satisfied: scipy==1.13.1 in /opt/anaconda3/envs/amplify_env/lib/python3.9/site-packages (from amplify==0.0.1) (1.13.1)\n",
      "Requirement already satisfied: six==1.17.0 in /opt/anaconda3/envs/amplify_env/lib/python3.9/site-packages (from amplify==0.0.1) (1.17.0)\n",
      "Requirement already satisfied: tensorboard==2.16.2 in /opt/anaconda3/envs/amplify_env/lib/python3.9/site-packages (from amplify==0.0.1) (2.16.2)\n",
      "Requirement already satisfied: tensorboard-data-server==0.7.2 in /opt/anaconda3/envs/amplify_env/lib/python3.9/site-packages (from amplify==0.0.1) (0.7.2)\n",
      "Requirement already satisfied: tensorflow==2.16.1 in /opt/anaconda3/envs/amplify_env/lib/python3.9/site-packages (from amplify==0.0.1) (2.16.1)\n",
      "Requirement already satisfied: tensorflow-io==0.37.1 in /opt/anaconda3/envs/amplify_env/lib/python3.9/site-packages (from amplify==0.0.1) (0.37.1)\n",
      "Requirement already satisfied: tensorflow-io-gcs-filesystem==0.37.1 in /opt/anaconda3/envs/amplify_env/lib/python3.9/site-packages (from amplify==0.0.1) (0.37.1)\n",
      "Requirement already satisfied: termcolor==2.5.0 in /opt/anaconda3/envs/amplify_env/lib/python3.9/site-packages (from amplify==0.0.1) (2.5.0)\n",
      "Requirement already satisfied: threadpoolctl==3.6.0 in /opt/anaconda3/envs/amplify_env/lib/python3.9/site-packages (from amplify==0.0.1) (3.6.0)\n",
      "Requirement already satisfied: typing_extensions==4.13.0 in /opt/anaconda3/envs/amplify_env/lib/python3.9/site-packages (from amplify==0.0.1) (4.13.0)\n",
      "Requirement already satisfied: tzdata==2025.2 in /opt/anaconda3/envs/amplify_env/lib/python3.9/site-packages (from amplify==0.0.1) (2025.2)\n",
      "Requirement already satisfied: urllib3==2.3.0 in /opt/anaconda3/envs/amplify_env/lib/python3.9/site-packages (from amplify==0.0.1) (2.3.0)\n",
      "Requirement already satisfied: Werkzeug==3.1.3 in /opt/anaconda3/envs/amplify_env/lib/python3.9/site-packages (from amplify==0.0.1) (3.1.3)\n",
      "Requirement already satisfied: wrapt==1.17.2 in /opt/anaconda3/envs/amplify_env/lib/python3.9/site-packages (from amplify==0.0.1) (1.17.2)\n",
      "Requirement already satisfied: zipp==3.21.0 in /opt/anaconda3/envs/amplify_env/lib/python3.9/site-packages (from amplify==0.0.1) (3.21.0)\n",
      "Requirement already satisfied: wheel<1.0,>=0.23.0 in /opt/anaconda3/envs/amplify_env/lib/python3.9/site-packages (from astunparse==1.6.3->amplify==0.0.1) (0.45.1)\n",
      "Requirement already satisfied: setuptools>=41.0.0 in /opt/anaconda3/envs/amplify_env/lib/python3.9/site-packages (from tensorboard==2.16.2->amplify==0.0.1) (78.1.1)\n",
      "Building wheels for collected packages: amplify\n",
      "  Building editable for amplify (pyproject.toml): started\n",
      "  Building editable for amplify (pyproject.toml): finished with status 'done'\n",
      "  Created wheel for amplify: filename=amplify-0.0.1-0.editable-py3-none-any.whl size=16947 sha256=7773082d0577eddc54b40e4ad1eb82872c137ed32872f220428d78d343fd0bf2\n",
      "  Stored in directory: /private/var/folders/dj/lbjr_33912s45mqrggv2hz9m0000gn/T/pip-ephem-wheel-cache-8j6dwzon/wheels/a3/aa/da/7177282cef2f1ae3db9c78798442950e6b944064cce7bf0671\n",
      "Successfully built amplify\n",
      "Installing collected packages: amplify\n",
      "  Attempting uninstall: amplify\n",
      "    Found existing installation: amplify 0.0.1\n",
      "    Uninstalling amplify-0.0.1:\n",
      "      Successfully uninstalled amplify-0.0.1\n",
      "Successfully installed amplify-0.0.1\n"
     ]
    }
   ],
   "source": [
    "thirdparty_model = ThirdPartyModel(\n",
    "    entry_point=\"predict:predict\",\n",
    "    repo_url=\"https://github.com/RasmusML/pepme-models\",\n",
    "    save_dir=\"../plugins/pepme-models/amplify\",\n",
    "    # Set path to the python3.9 executable. If your default python version is 3.9,\n",
    "    # then 'python_bin=None' will work out of the box.\n",
    "    python_bin=\"/opt/anaconda3/envs/amplify_env/bin/python\",\n",
    "    branch=\"amplify\",\n",
    ")"
   ]
  },
  {
   "cell_type": "markdown",
   "id": "15",
   "metadata": {},
   "source": [
    "Assuming everything went well, let's now compute a metric using this predictive model.\n"
   ]
  },
  {
   "cell_type": "code",
   "execution_count": null,
   "id": "16",
   "metadata": {},
   "outputs": [
    {
     "data": {
      "text/plain": [
       "array([0.00635906, 0.49806994], dtype=float32)"
      ]
     },
     "execution_count": null,
     "metadata": {},
     "output_type": "execute_result"
    }
   ],
   "source": [
    "thirdparty_model([\"MKQW\", \"RKSPL\"], model_type=\"imbalanced\", batch_size=128, n_ensembles=2)"
   ]
  },
  {
   "cell_type": "code",
   "execution_count": null,
   "id": "17",
   "metadata": {},
   "outputs": [
    {
     "name": "stderr",
     "output_type": "stream",
     "text": [
      "100%|██████████| 3/3 [00:15<00:00,  5.09s/it, data=Random, metric=p_AMP (AMPlify)]  \n"
     ]
    },
    {
     "data": {
      "text/html": [
       "<style type=\"text/css\">\n",
       "#T_ea565 th.col_heading {\n",
       "  text-align: center;\n",
       "}\n",
       "#T_ea565 td {\n",
       "  border-right: 1px solid #ccc;\n",
       "}\n",
       "#T_ea565 th.row_heading {\n",
       "  border-right: 1px solid #ccc;\n",
       "}\n",
       "#T_ea565_row0_col0 {\n",
       "  text-decoration: underline;\n",
       "  font-weight: bold;\n",
       "}\n",
       "#T_ea565_row2_col0 {\n",
       "  background-color: #68d6bc;\n",
       "  font-weight: bold;\n",
       "}\n",
       "</style>\n",
       "<table id=\"T_ea565\">\n",
       "  <thead>\n",
       "    <tr>\n",
       "      <th class=\"blank level0\" >&nbsp;</th>\n",
       "      <th id=\"T_ea565_level0_col0\" class=\"col_heading level0 col0\" >p_AMP (AMPlify)↑</th>\n",
       "    </tr>\n",
       "  </thead>\n",
       "  <tbody>\n",
       "    <tr>\n",
       "      <th id=\"T_ea565_level0_row0\" class=\"row_heading level0 row0\" >HydrAMP</th>\n",
       "      <td id=\"T_ea565_row0_col0\" class=\"data row0 col0\" >0.26±0.17</td>\n",
       "    </tr>\n",
       "    <tr>\n",
       "      <th id=\"T_ea565_level0_row1\" class=\"row_heading level0 row1\" >hyformer</th>\n",
       "      <td id=\"T_ea565_row1_col0\" class=\"data row1 col0\" >0.24±0.24</td>\n",
       "    </tr>\n",
       "    <tr>\n",
       "      <th id=\"T_ea565_level0_row2\" class=\"row_heading level0 row2\" >Random</th>\n",
       "      <td id=\"T_ea565_row2_col0\" class=\"data row2 col0\" >0.40±0.30</td>\n",
       "    </tr>\n",
       "  </tbody>\n",
       "</table>\n"
      ],
      "text/plain": [
       "<pandas.io.formats.style.Styler at 0x1519572d0>"
      ]
     },
     "execution_count": null,
     "metadata": {},
     "output_type": "execute_result"
    }
   ],
   "source": [
    "sequences = {\n",
    "    \"HydrAMP\": [\"MMRK\", \"RKSPL\", \"RRLSK\", \"RRLSK\"],\n",
    "    \"hyformer\": [\"MKQW\", \"RKSPL\"],\n",
    "    \"Random\": [\"KKKKK\", \"PLQ\", \"RKSPL\"],\n",
    "}\n",
    "\n",
    "discriminator = partial(thirdparty_model, model_type=\"balanced\", n_ensembles=5, batch_size=128)\n",
    "\n",
    "metrics = [ID(predictor=discriminator, name=\"p_AMP (AMPlify)\", objective=\"maximize\")]\n",
    "df = compute_metrics(sequences, metrics)\n",
    "\n",
    "show_table(df)"
   ]
  },
  {
   "cell_type": "markdown",
   "id": "18",
   "metadata": {},
   "source": [
    "## amPEPpy\n"
   ]
  },
  {
   "cell_type": "markdown",
   "id": "19",
   "metadata": {},
   "source": [
    "Let's also use amPEPpy which is an antimicrobial peptide (AMP) classifier, i.e., outputs the probability a peptide has antimicrobial properties.\n",
    "\n",
    "First you need an enviroment with python 3.8, e.g., using conda:"
   ]
  },
  {
   "cell_type": "code",
   "execution_count": null,
   "id": "20",
   "metadata": {},
   "outputs": [],
   "source": [
    "# !conda create -n ampep_env python=3.8 -y"
   ]
  },
  {
   "cell_type": "markdown",
   "id": "21",
   "metadata": {},
   "source": [
    "Let's setup the model."
   ]
  },
  {
   "cell_type": "code",
   "execution_count": null,
   "id": "22",
   "metadata": {},
   "outputs": [],
   "source": [
    "thirdparty_model = ThirdPartyModel(\n",
    "    entry_point=\"amPEPpy.predict:predict\",\n",
    "    repo_url=\"https://github.com/RasmusML/pepme-models\",\n",
    "    save_dir=\"../plugins/pepme-models/ampep\",\n",
    "    python_bin=\"/opt/anaconda3/envs/ampep_env/bin/python\",\n",
    "    branch=\"ampeppy\",\n",
    ")"
   ]
  },
  {
   "cell_type": "markdown",
   "id": "23",
   "metadata": {},
   "source": [
    "Assuming everything went well, let's now compute a metric using this predictive model.\n"
   ]
  },
  {
   "cell_type": "code",
   "execution_count": null,
   "id": "24",
   "metadata": {},
   "outputs": [
    {
     "data": {
      "text/plain": [
       "array([0.49427083, 0.28333333])"
      ]
     },
     "execution_count": null,
     "metadata": {},
     "output_type": "execute_result"
    }
   ],
   "source": [
    "thirdparty_model([\"MKQW\", \"RKSPL\"])"
   ]
  },
  {
   "cell_type": "code",
   "execution_count": null,
   "id": "25",
   "metadata": {},
   "outputs": [
    {
     "name": "stderr",
     "output_type": "stream",
     "text": [
      "100%|██████████| 3/3 [00:03<00:00,  1.27s/it, data=Random, metric=p_AMP (amPEPpy)]  \n"
     ]
    },
    {
     "data": {
      "text/html": [
       "<style type=\"text/css\">\n",
       "#T_3ba24 th.col_heading {\n",
       "  text-align: center;\n",
       "}\n",
       "#T_3ba24 td {\n",
       "  border-right: 1px solid #ccc;\n",
       "}\n",
       "#T_3ba24 th.row_heading {\n",
       "  border-right: 1px solid #ccc;\n",
       "}\n",
       "#T_3ba24_row0_col0 {\n",
       "  background-color: #68d6bc;\n",
       "  font-weight: bold;\n",
       "}\n",
       "#T_3ba24_row2_col0 {\n",
       "  text-decoration: underline;\n",
       "  font-weight: bold;\n",
       "}\n",
       "</style>\n",
       "<table id=\"T_3ba24\">\n",
       "  <thead>\n",
       "    <tr>\n",
       "      <th class=\"blank level0\" >&nbsp;</th>\n",
       "      <th id=\"T_3ba24_level0_col0\" class=\"col_heading level0 col0\" >p_AMP (amPEPpy)↑</th>\n",
       "    </tr>\n",
       "  </thead>\n",
       "  <tbody>\n",
       "    <tr>\n",
       "      <th id=\"T_3ba24_level0_row0\" class=\"row_heading level0 row0\" >HydrAMP</th>\n",
       "      <td id=\"T_3ba24_row0_col0\" class=\"data row0 col0\" >0.41±0.13</td>\n",
       "    </tr>\n",
       "    <tr>\n",
       "      <th id=\"T_3ba24_level0_row1\" class=\"row_heading level0 row1\" >hyformer</th>\n",
       "      <td id=\"T_3ba24_row1_col0\" class=\"data row1 col0\" >0.39±0.11</td>\n",
       "    </tr>\n",
       "    <tr>\n",
       "      <th id=\"T_3ba24_level0_row2\" class=\"row_heading level0 row2\" >Random</th>\n",
       "      <td id=\"T_3ba24_row2_col0\" class=\"data row2 col0\" >0.39±0.12</td>\n",
       "    </tr>\n",
       "  </tbody>\n",
       "</table>\n"
      ],
      "text/plain": [
       "<pandas.io.formats.style.Styler at 0x151b01cd0>"
      ]
     },
     "execution_count": null,
     "metadata": {},
     "output_type": "execute_result"
    }
   ],
   "source": [
    "sequences = {\n",
    "    \"HydrAMP\": [\"MMRK\", \"RKSPL\", \"RRLSK\", \"RRLSK\"],\n",
    "    \"hyformer\": [\"MKQW\", \"RKSPL\"],\n",
    "    \"Random\": [\"KKKKK\", \"PLQ\", \"RKSPL\"],\n",
    "}\n",
    "\n",
    "discriminator = thirdparty_model\n",
    "\n",
    "metrics = [ID(predictor=thirdparty_model, name=\"p_AMP (amPEPpy)\", objective=\"maximize\")]\n",
    "df = compute_metrics(sequences, metrics)\n",
    "\n",
    "show_table(df)"
   ]
  }
 ],
 "metadata": {
  "kernelspec": {
   "display_name": "Python 3",
   "language": "python",
   "name": "python3"
  },
  "language_info": {
   "codemirror_mode": {
    "name": "ipython",
    "version": 3
   },
   "file_extension": ".py",
   "mimetype": "text/x-python",
   "name": "python",
   "nbconvert_exporter": "python",
   "pygments_lexer": "ipython3",
   "version": "3.11.13"
  }
 },
 "nbformat": 4,
 "nbformat_minor": 5
}
