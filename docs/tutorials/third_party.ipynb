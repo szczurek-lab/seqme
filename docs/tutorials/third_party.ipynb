{
 "cells": [
  {
   "cell_type": "markdown",
   "id": "0",
   "metadata": {},
   "source": [
    "# Third-party models\n"
   ]
  },
  {
   "cell_type": "markdown",
   "id": "1",
   "metadata": {},
   "source": [
    "In this notebook, we show how to integrate \"external\" models into seqme."
   ]
  },
  {
   "cell_type": "code",
   "execution_count": null,
   "id": "2",
   "metadata": {},
   "outputs": [],
   "source": [
    "from functools import partial\n",
    "\n",
    "import numpy as np\n",
    "\n",
    "import seqme as sm"
   ]
  },
  {
   "cell_type": "markdown",
   "id": "3",
   "metadata": {},
   "source": [
    "Some models of interest are not available through e.g., PyPI or Huggingface - only the git repository may be available. Here we show how to run such models in seqme.\n"
   ]
  },
  {
   "cell_type": "markdown",
   "id": "4",
   "metadata": {},
   "source": [
    "An external model is compatible with seqme if it satisfies the following three requirements:\n",
    "\n",
    "- Repository is accessible using `git clone`, e.g. a public repository.\n",
    "- Repository dependencies are installable using `pip install .`, e.g., by setup.py or pyproject.toml.\n",
    "- Contains a function with signature `Callable[[list[str], ...], Any]` where the first parameter is called `sequences`.\n"
   ]
  },
  {
   "cell_type": "markdown",
   "id": "5",
   "metadata": {},
   "source": [
    "Let's use a toy model in a github repository satisfying all three requirements. To do so, we need to define the function entry point, repository url and save directory.\n"
   ]
  },
  {
   "cell_type": "code",
   "execution_count": null,
   "id": "6",
   "metadata": {},
   "outputs": [],
   "source": [
    "thirdparty_model = sm.models.ThirdPartyModel(\n",
    "    entry_point=\"seqmetp.model:embed\",\n",
    "    repo_path=\"../plugins/thirdparty/main\",\n",
    "    # Path to an enviroments python executable.\n",
    "    # If none, a venv is created using the current python executable.\n",
    "    python_bin=None,\n",
    "    repo_url=\"https://github.com/szczurek-lab/seqme-thirdparty\",\n",
    "    branch=\"main\",  # Defaults: whole repository\n",
    ")"
   ]
  },
  {
   "cell_type": "markdown",
   "id": "7",
   "metadata": {},
   "source": [
    "`ThirdPartyModel` clones the model repository, creates a virtual enviroment (venv) (if `python_bin=None`) and installs the dependencies using `pip install .`.\n",
    "\n",
    "Assuming everything went well, let's now compute a metric using this embedding model.\n"
   ]
  },
  {
   "cell_type": "code",
   "execution_count": null,
   "id": "8",
   "metadata": {},
   "outputs": [
    {
     "data": {
      "text/plain": [
       "array([[44.,  8., 52., 32.],\n",
       "       [55., 10., 65., 40.]])"
      ]
     },
     "execution_count": null,
     "metadata": {},
     "output_type": "execute_result"
    }
   ],
   "source": [
    "def embedder(seq: list[str]) -> np.ndarray:\n",
    "    return thirdparty_model(seq, batch_size=32)\n",
    "\n",
    "\n",
    "embedder([\"MKQW\", \"RKSPL\"])"
   ]
  },
  {
   "cell_type": "code",
   "execution_count": null,
   "id": "9",
   "metadata": {},
   "outputs": [
    {
     "name": "stderr",
     "output_type": "stream",
     "text": [
      "100%|██████████| 3/3 [00:00<00:00,  8.11it/s, data=Random, metric=FBD]  \n"
     ]
    },
    {
     "data": {
      "text/html": [
       "<style type=\"text/css\">\n",
       "#T_0144f th.col_heading {\n",
       "  text-align: center;\n",
       "}\n",
       "#T_0144f td {\n",
       "  border-right: 1px solid #ccc;\n",
       "}\n",
       "#T_0144f th.row_heading {\n",
       "  border-right: 1px solid #ccc;\n",
       "}\n",
       "#T_0144f_row1_col0 {\n",
       "  text-decoration: underline;\n",
       "}\n",
       "#T_0144f_row2_col0 {\n",
       "  background-color: #68d6bc;\n",
       "  font-weight: bold;\n",
       "}\n",
       "</style>\n",
       "<table id=\"T_0144f\">\n",
       "  <thead>\n",
       "    <tr>\n",
       "      <th class=\"blank level0\" >&nbsp;</th>\n",
       "      <th id=\"T_0144f_level0_col0\" class=\"col_heading level0 col0\" >FBD↓</th>\n",
       "    </tr>\n",
       "  </thead>\n",
       "  <tbody>\n",
       "    <tr>\n",
       "      <th id=\"T_0144f_level0_row0\" class=\"row_heading level0 row0\" >HydrAMP</th>\n",
       "      <td id=\"T_0144f_row0_col0\" class=\"data row0 col0\" >215.60</td>\n",
       "    </tr>\n",
       "    <tr>\n",
       "      <th id=\"T_0144f_level0_row1\" class=\"row_heading level0 row1\" >hyformer</th>\n",
       "      <td id=\"T_0144f_row1_col0\" class=\"data row1 col0\" >81.67</td>\n",
       "    </tr>\n",
       "    <tr>\n",
       "      <th id=\"T_0144f_level0_row2\" class=\"row_heading level0 row2\" >Random</th>\n",
       "      <td id=\"T_0144f_row2_col0\" class=\"data row2 col0\" >0.00</td>\n",
       "    </tr>\n",
       "  </tbody>\n",
       "</table>\n"
      ],
      "text/plain": [
       "<pandas.io.formats.style.Styler at 0x14f774c10>"
      ]
     },
     "execution_count": null,
     "metadata": {},
     "output_type": "execute_result"
    }
   ],
   "source": [
    "sequences = {\n",
    "    \"HydrAMP\": [\"MMRK\", \"RKSPL\", \"RRLSK\", \"RRLSK\"],\n",
    "    \"hyformer\": [\"MKQW\", \"RKSPL\"],\n",
    "    \"Random\": [\"KKKKK\", \"PLQ\", \"RKSPL\"],\n",
    "}\n",
    "\n",
    "metrics = [sm.metrics.FBD(reference=sequences[\"Random\"], embedder=embedder)]\n",
    "df = sm.score(sequences, metrics)\n",
    "\n",
    "sm.show_table(df)"
   ]
  },
  {
   "cell_type": "markdown",
   "id": "10",
   "metadata": {},
   "source": [
    "## AMPlify\n"
   ]
  },
  {
   "cell_type": "markdown",
   "id": "11",
   "metadata": {},
   "source": [
    "Let's also use AMPlify which is an antimicrobial peptide (AMP) classifier, i.e., outputs the probability a peptide has antimicrobial properties.\n",
    "\n",
    "First you need an enviroment with python 3.9 (requirement of AMPlify), e.g., using conda:"
   ]
  },
  {
   "cell_type": "code",
   "execution_count": null,
   "id": "12",
   "metadata": {},
   "outputs": [],
   "source": [
    "# !conda create -n amplify_env python=3.9 -y"
   ]
  },
  {
   "cell_type": "markdown",
   "id": "13",
   "metadata": {},
   "source": [
    "Let's setup the model."
   ]
  },
  {
   "cell_type": "code",
   "execution_count": null,
   "id": "14",
   "metadata": {},
   "outputs": [],
   "source": [
    "thirdparty_model = sm.models.ThirdPartyModel(\n",
    "    entry_point=\"predict:predict\",\n",
    "    repo_path=\"../plugins/thirdparty/amplify\",\n",
    "    # Set path to the python3.9 executable. If your default python version is 3.9,\n",
    "    # then 'python_bin=None' will work out of the box.\n",
    "    python_bin=\"/opt/anaconda3/envs/amplify_env/bin/python\",\n",
    "    repo_url=\"https://github.com/szczurek-lab/seqme-thirdparty\",\n",
    "    branch=\"amplify\",\n",
    ")"
   ]
  },
  {
   "cell_type": "markdown",
   "id": "15",
   "metadata": {},
   "source": [
    "Assuming everything went well, let's now compute a metric using this predictive model.\n"
   ]
  },
  {
   "cell_type": "code",
   "execution_count": null,
   "id": "16",
   "metadata": {},
   "outputs": [
    {
     "data": {
      "text/plain": [
       "array([0.00635906, 0.49806994], dtype=float32)"
      ]
     },
     "execution_count": null,
     "metadata": {},
     "output_type": "execute_result"
    }
   ],
   "source": [
    "thirdparty_model([\"MKQW\", \"RKSPL\"], model_type=\"imbalanced\", batch_size=128, n_ensembles=2)"
   ]
  },
  {
   "cell_type": "code",
   "execution_count": null,
   "id": "17",
   "metadata": {},
   "outputs": [
    {
     "name": "stderr",
     "output_type": "stream",
     "text": [
      "100%|██████████| 3/3 [00:23<00:00,  7.81s/it, data=Random, metric=p_AMP (AMPlify)]  \n"
     ]
    },
    {
     "data": {
      "text/html": [
       "<style type=\"text/css\">\n",
       "#T_b2918 th.col_heading {\n",
       "  text-align: center;\n",
       "}\n",
       "#T_b2918 td {\n",
       "  border-right: 1px solid #ccc;\n",
       "}\n",
       "#T_b2918 th.row_heading {\n",
       "  border-right: 1px solid #ccc;\n",
       "}\n",
       "#T_b2918_row0_col0 {\n",
       "  text-decoration: underline;\n",
       "}\n",
       "#T_b2918_row2_col0 {\n",
       "  background-color: #68d6bc;\n",
       "  font-weight: bold;\n",
       "}\n",
       "</style>\n",
       "<table id=\"T_b2918\">\n",
       "  <thead>\n",
       "    <tr>\n",
       "      <th class=\"blank level0\" >&nbsp;</th>\n",
       "      <th id=\"T_b2918_level0_col0\" class=\"col_heading level0 col0\" >p_AMP (AMPlify)↑</th>\n",
       "    </tr>\n",
       "  </thead>\n",
       "  <tbody>\n",
       "    <tr>\n",
       "      <th id=\"T_b2918_level0_row0\" class=\"row_heading level0 row0\" >HydrAMP</th>\n",
       "      <td id=\"T_b2918_row0_col0\" class=\"data row0 col0\" >0.26±0.17</td>\n",
       "    </tr>\n",
       "    <tr>\n",
       "      <th id=\"T_b2918_level0_row1\" class=\"row_heading level0 row1\" >hyformer</th>\n",
       "      <td id=\"T_b2918_row1_col0\" class=\"data row1 col0\" >0.24±0.24</td>\n",
       "    </tr>\n",
       "    <tr>\n",
       "      <th id=\"T_b2918_level0_row2\" class=\"row_heading level0 row2\" >Random</th>\n",
       "      <td id=\"T_b2918_row2_col0\" class=\"data row2 col0\" >0.40±0.30</td>\n",
       "    </tr>\n",
       "  </tbody>\n",
       "</table>\n"
      ],
      "text/plain": [
       "<pandas.io.formats.style.Styler at 0x14f742ce0>"
      ]
     },
     "execution_count": null,
     "metadata": {},
     "output_type": "execute_result"
    }
   ],
   "source": [
    "sequences = {\n",
    "    \"HydrAMP\": [\"MMRK\", \"RKSPL\", \"RRLSK\", \"RRLSK\"],\n",
    "    \"hyformer\": [\"MKQW\", \"RKSPL\"],\n",
    "    \"Random\": [\"KKKKK\", \"PLQ\", \"RKSPL\"],\n",
    "}\n",
    "\n",
    "discriminator = partial(thirdparty_model, model_type=\"balanced\", n_ensembles=5, batch_size=128)\n",
    "\n",
    "metrics = [sm.metrics.ID(predictor=discriminator, name=\"p_AMP (AMPlify)\", objective=\"maximize\")]\n",
    "df = sm.score(sequences, metrics)\n",
    "\n",
    "sm.show_table(df)"
   ]
  },
  {
   "cell_type": "markdown",
   "id": "18",
   "metadata": {},
   "source": [
    "## amPEPpy\n"
   ]
  },
  {
   "cell_type": "markdown",
   "id": "19",
   "metadata": {},
   "source": [
    "Let's also use amPEPpy which is an antimicrobial peptide (AMP) classifier, i.e., outputs the probability a peptide has antimicrobial properties.\n",
    "\n",
    "First you need an enviroment with python 3.8, e.g., using conda:"
   ]
  },
  {
   "cell_type": "code",
   "execution_count": null,
   "id": "20",
   "metadata": {},
   "outputs": [],
   "source": [
    "# !conda create -n ampeppy_env python=3.8 -y"
   ]
  },
  {
   "cell_type": "markdown",
   "id": "21",
   "metadata": {},
   "source": [
    "Let's setup the model."
   ]
  },
  {
   "cell_type": "code",
   "execution_count": null,
   "id": "22",
   "metadata": {},
   "outputs": [],
   "source": [
    "thirdparty_model = sm.models.ThirdPartyModel(\n",
    "    entry_point=\"amPEPpy.predict:predict\",\n",
    "    repo_path=\"./plugins/thirdparty/ampeppy\",\n",
    "    repo_url=\"https://github.com/szczurek-lab/seqme-thirdparty\",\n",
    "    branch=\"ampeppy\",\n",
    "    python_bin=\"/opt/anaconda3/envs/ampeppy_env/bin/python\",\n",
    ")"
   ]
  },
  {
   "cell_type": "markdown",
   "id": "23",
   "metadata": {},
   "source": [
    "Assuming everything went well, let's now compute a metric using this predictive model.\n"
   ]
  },
  {
   "cell_type": "code",
   "execution_count": null,
   "id": "24",
   "metadata": {},
   "outputs": [
    {
     "data": {
      "text/plain": [
       "array([0.49427083, 0.28333333])"
      ]
     },
     "execution_count": null,
     "metadata": {},
     "output_type": "execute_result"
    }
   ],
   "source": [
    "thirdparty_model([\"MKQW\", \"RKSPL\"])"
   ]
  },
  {
   "cell_type": "code",
   "execution_count": null,
   "id": "25",
   "metadata": {},
   "outputs": [
    {
     "name": "stderr",
     "output_type": "stream",
     "text": [
      "100%|██████████| 3/3 [00:04<00:00,  1.38s/it, data=Random, metric=p_AMP (amPEPpy)]  \n"
     ]
    },
    {
     "data": {
      "text/html": [
       "<style type=\"text/css\">\n",
       "#T_1a4c9 th.col_heading {\n",
       "  text-align: center;\n",
       "}\n",
       "#T_1a4c9 td {\n",
       "  border-right: 1px solid #ccc;\n",
       "}\n",
       "#T_1a4c9 th.row_heading {\n",
       "  border-right: 1px solid #ccc;\n",
       "}\n",
       "#T_1a4c9_row0_col0 {\n",
       "  background-color: #68d6bc;\n",
       "  font-weight: bold;\n",
       "}\n",
       "#T_1a4c9_row1_col0, #T_1a4c9_row2_col0 {\n",
       "  text-decoration: underline;\n",
       "}\n",
       "</style>\n",
       "<table id=\"T_1a4c9\">\n",
       "  <thead>\n",
       "    <tr>\n",
       "      <th class=\"blank level0\" >&nbsp;</th>\n",
       "      <th id=\"T_1a4c9_level0_col0\" class=\"col_heading level0 col0\" >p_AMP (amPEPpy)↑</th>\n",
       "    </tr>\n",
       "  </thead>\n",
       "  <tbody>\n",
       "    <tr>\n",
       "      <th id=\"T_1a4c9_level0_row0\" class=\"row_heading level0 row0\" >HydrAMP</th>\n",
       "      <td id=\"T_1a4c9_row0_col0\" class=\"data row0 col0\" >0.41±0.13</td>\n",
       "    </tr>\n",
       "    <tr>\n",
       "      <th id=\"T_1a4c9_level0_row1\" class=\"row_heading level0 row1\" >hyformer</th>\n",
       "      <td id=\"T_1a4c9_row1_col0\" class=\"data row1 col0\" >0.39±0.11</td>\n",
       "    </tr>\n",
       "    <tr>\n",
       "      <th id=\"T_1a4c9_level0_row2\" class=\"row_heading level0 row2\" >Random</th>\n",
       "      <td id=\"T_1a4c9_row2_col0\" class=\"data row2 col0\" >0.39±0.12</td>\n",
       "    </tr>\n",
       "  </tbody>\n",
       "</table>\n"
      ],
      "text/plain": [
       "<pandas.io.formats.style.Styler at 0x14f743ac0>"
      ]
     },
     "execution_count": null,
     "metadata": {},
     "output_type": "execute_result"
    }
   ],
   "source": [
    "sequences = {\n",
    "    \"HydrAMP\": [\"MMRK\", \"RKSPL\", \"RRLSK\", \"RRLSK\"],\n",
    "    \"hyformer\": [\"MKQW\", \"RKSPL\"],\n",
    "    \"Random\": [\"KKKKK\", \"PLQ\", \"RKSPL\"],\n",
    "}\n",
    "\n",
    "discriminator = thirdparty_model\n",
    "\n",
    "metrics = [sm.metrics.ID(predictor=thirdparty_model, name=\"p_AMP (amPEPpy)\", objective=\"maximize\")]\n",
    "df = sm.score(sequences, metrics)\n",
    "\n",
    "sm.show_table(df)"
   ]
  }
 ],
 "metadata": {
  "kernelspec": {
   "display_name": "Python 3",
   "language": "python",
   "name": "python3"
  },
  "language_info": {
   "codemirror_mode": {
    "name": "ipython",
    "version": 3
   },
   "file_extension": ".py",
   "mimetype": "text/x-python",
   "name": "python",
   "nbconvert_exporter": "python",
   "pygments_lexer": "ipython3",
   "version": "3.10.18"
  }
 },
 "nbformat": 4,
 "nbformat_minor": 5
}
